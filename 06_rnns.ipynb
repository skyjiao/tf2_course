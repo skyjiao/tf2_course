{
 "cells": [
  {
   "cell_type": "markdown",
   "metadata": {},
   "source": [
    "# RNNs"
   ]
  },
  {
   "cell_type": "markdown",
   "metadata": {},
   "source": [
    "In this notebook you will learn how to build Recurrent Neural Networks (RNNs) for time series forecasting and sequence classification."
   ]
  },
  {
   "cell_type": "markdown",
   "metadata": {},
   "source": [
    "## Imports"
   ]
  },
  {
   "cell_type": "code",
   "execution_count": 87,
   "metadata": {},
   "outputs": [],
   "source": [
    "%matplotlib inline"
   ]
  },
  {
   "cell_type": "code",
   "execution_count": 88,
   "metadata": {},
   "outputs": [],
   "source": [
    "import matplotlib as mpl\n",
    "import matplotlib.pyplot as plt\n",
    "import numpy as np\n",
    "import os\n",
    "import pandas as pd\n",
    "import sklearn\n",
    "import sys\n",
    "import tensorflow as tf\n",
    "from tensorflow import keras\n",
    "import time"
   ]
  },
  {
   "cell_type": "code",
   "execution_count": 89,
   "metadata": {},
   "outputs": [
    {
     "name": "stdout",
     "output_type": "stream",
     "text": [
      "python 3.7.3 (default, Apr  3 2019, 05:39:12) \n",
      "[GCC 8.3.0]\n",
      "matplotlib 3.1.0\n",
      "numpy 1.16.4\n",
      "pandas 0.24.2\n",
      "sklearn 0.21.2\n",
      "tensorflow 2.0.0-dev20190623\n",
      "tensorflow_core.keras 2.2.4-tf\n"
     ]
    }
   ],
   "source": [
    "print(\"python\", sys.version)\n",
    "for module in mpl, np, pd, sklearn, tf, keras:\n",
    "    print(module.__name__, module.__version__)"
   ]
  },
  {
   "cell_type": "code",
   "execution_count": 90,
   "metadata": {},
   "outputs": [],
   "source": [
    "assert sys.version_info >= (3, 5) # Python ≥3.5 required\n",
    "assert tf.__version__ >= \"2.0\"    # TensorFlow ≥2.0 required"
   ]
  },
  {
   "cell_type": "markdown",
   "metadata": {},
   "source": [
    "![Exercise](https://c1.staticflickr.com/9/8101/8553474140_c50cf08708_b.jpg)"
   ]
  },
  {
   "cell_type": "markdown",
   "metadata": {},
   "source": [
    "# Exercise 1 – Time series forecasting"
   ]
  },
  {
   "cell_type": "markdown",
   "metadata": {},
   "source": [
    "## 1.1) Load the data"
   ]
  },
  {
   "cell_type": "markdown",
   "metadata": {},
   "source": [
    "Let's start with a simple univariate time series: the daily temperatures in Melbourne from 1981 to 1990 ([source](https://datamarket.com/data/set/2324/daily-minimum-temperatures-in-melbourne-australia-1981-1990))."
   ]
  },
  {
   "cell_type": "code",
   "execution_count": 91,
   "metadata": {},
   "outputs": [],
   "source": [
    "temps = pd.read_csv(\"datasets/daily-minimum-temperatures-in-me.csv\",\n",
    "                    parse_dates=[0], index_col=0)"
   ]
  },
  {
   "cell_type": "code",
   "execution_count": 92,
   "metadata": {},
   "outputs": [
    {
     "name": "stdout",
     "output_type": "stream",
     "text": [
      "<class 'pandas.core.frame.DataFrame'>\n",
      "DatetimeIndex: 3650 entries, 1981-01-01 to 1990-12-31\n",
      "Data columns (total 1 columns):\n",
      "Temperature    3650 non-null float64\n",
      "dtypes: float64(1)\n",
      "memory usage: 57.0 KB\n"
     ]
    }
   ],
   "source": [
    "temps.info()"
   ]
  },
  {
   "cell_type": "code",
   "execution_count": 93,
   "metadata": {},
   "outputs": [
    {
     "data": {
      "text/html": [
       "<div>\n",
       "<style scoped>\n",
       "    .dataframe tbody tr th:only-of-type {\n",
       "        vertical-align: middle;\n",
       "    }\n",
       "\n",
       "    .dataframe tbody tr th {\n",
       "        vertical-align: top;\n",
       "    }\n",
       "\n",
       "    .dataframe thead th {\n",
       "        text-align: right;\n",
       "    }\n",
       "</style>\n",
       "<table border=\"1\" class=\"dataframe\">\n",
       "  <thead>\n",
       "    <tr style=\"text-align: right;\">\n",
       "      <th></th>\n",
       "      <th>Temperature</th>\n",
       "    </tr>\n",
       "    <tr>\n",
       "      <th>Date</th>\n",
       "      <th></th>\n",
       "    </tr>\n",
       "  </thead>\n",
       "  <tbody>\n",
       "    <tr>\n",
       "      <th>1981-01-01</th>\n",
       "      <td>20.7</td>\n",
       "    </tr>\n",
       "    <tr>\n",
       "      <th>1981-01-02</th>\n",
       "      <td>17.9</td>\n",
       "    </tr>\n",
       "    <tr>\n",
       "      <th>1981-01-03</th>\n",
       "      <td>18.8</td>\n",
       "    </tr>\n",
       "    <tr>\n",
       "      <th>1981-01-04</th>\n",
       "      <td>14.6</td>\n",
       "    </tr>\n",
       "    <tr>\n",
       "      <th>1981-01-05</th>\n",
       "      <td>15.8</td>\n",
       "    </tr>\n",
       "  </tbody>\n",
       "</table>\n",
       "</div>"
      ],
      "text/plain": [
       "            Temperature\n",
       "Date                   \n",
       "1981-01-01         20.7\n",
       "1981-01-02         17.9\n",
       "1981-01-03         18.8\n",
       "1981-01-04         14.6\n",
       "1981-01-05         15.8"
      ]
     },
     "execution_count": 93,
     "metadata": {},
     "output_type": "execute_result"
    }
   ],
   "source": [
    "temps.head()"
   ]
  },
  {
   "cell_type": "code",
   "execution_count": 94,
   "metadata": {},
   "outputs": [
    {
     "data": {
      "image/png": "[encoded data removed]",
      "text/plain": [
       "<Figure size 720x360 with 1 Axes>"
      ]
     },
     "metadata": {
      "needs_background": "light"
     },
     "output_type": "display_data"
    }
   ],
   "source": [
    "temps.plot(figsize=(10,5))\n",
    "plt.show()"
   ]
  },
  {
   "cell_type": "markdown",
   "metadata": {},
   "source": [
    "## 1.2) Prepare the data"
   ]
  },
  {
   "cell_type": "markdown",
   "metadata": {},
   "source": [
    "A few dates are missing, for example December 31st, 1984:"
   ]
  },
  {
   "cell_type": "code",
   "execution_count": 95,
   "metadata": {},
   "outputs": [
    {
     "data": {
      "text/html": [
       "<div>\n",
       "<style scoped>\n",
       "    .dataframe tbody tr th:only-of-type {\n",
       "        vertical-align: middle;\n",
       "    }\n",
       "\n",
       "    .dataframe tbody tr th {\n",
       "        vertical-align: top;\n",
       "    }\n",
       "\n",
       "    .dataframe thead th {\n",
       "        text-align: right;\n",
       "    }\n",
       "</style>\n",
       "<table border=\"1\" class=\"dataframe\">\n",
       "  <thead>\n",
       "    <tr style=\"text-align: right;\">\n",
       "      <th></th>\n",
       "      <th>Temperature</th>\n",
       "    </tr>\n",
       "    <tr>\n",
       "      <th>Date</th>\n",
       "      <th></th>\n",
       "    </tr>\n",
       "  </thead>\n",
       "  <tbody>\n",
       "    <tr>\n",
       "      <th>1984-12-29</th>\n",
       "      <td>16.0</td>\n",
       "    </tr>\n",
       "    <tr>\n",
       "      <th>1984-12-30</th>\n",
       "      <td>16.4</td>\n",
       "    </tr>\n",
       "    <tr>\n",
       "      <th>1985-01-01</th>\n",
       "      <td>13.3</td>\n",
       "    </tr>\n",
       "    <tr>\n",
       "      <th>1985-01-02</th>\n",
       "      <td>15.2</td>\n",
       "    </tr>\n",
       "  </tbody>\n",
       "</table>\n",
       "</div>"
      ],
      "text/plain": [
       "            Temperature\n",
       "Date                   \n",
       "1984-12-29         16.0\n",
       "1984-12-30         16.4\n",
       "1985-01-01         13.3\n",
       "1985-01-02         15.2"
      ]
     },
     "execution_count": 95,
     "metadata": {},
     "output_type": "execute_result"
    }
   ],
   "source": [
    "temps.loc[\"1984-12-29\":\"1985-01-02\"]"
   ]
  },
  {
   "cell_type": "markdown",
   "metadata": {},
   "source": [
    "Let's ensure there's one row per day, filling missing values with the previous valid value:"
   ]
  },
  {
   "cell_type": "code",
   "execution_count": 96,
   "metadata": {},
   "outputs": [
    {
     "data": {
      "text/html": [
       "<div>\n",
       "<style scoped>\n",
       "    .dataframe tbody tr th:only-of-type {\n",
       "        vertical-align: middle;\n",
       "    }\n",
       "\n",
       "    .dataframe tbody tr th {\n",
       "        vertical-align: top;\n",
       "    }\n",
       "\n",
       "    .dataframe thead th {\n",
       "        text-align: right;\n",
       "    }\n",
       "</style>\n",
       "<table border=\"1\" class=\"dataframe\">\n",
       "  <thead>\n",
       "    <tr style=\"text-align: right;\">\n",
       "      <th></th>\n",
       "      <th>Temperature</th>\n",
       "    </tr>\n",
       "    <tr>\n",
       "      <th>Date</th>\n",
       "      <th></th>\n",
       "    </tr>\n",
       "  </thead>\n",
       "  <tbody>\n",
       "    <tr>\n",
       "      <th>1984-12-29</th>\n",
       "      <td>16.0</td>\n",
       "    </tr>\n",
       "    <tr>\n",
       "      <th>1984-12-30</th>\n",
       "      <td>16.4</td>\n",
       "    </tr>\n",
       "    <tr>\n",
       "      <th>1984-12-31</th>\n",
       "      <td>16.4</td>\n",
       "    </tr>\n",
       "    <tr>\n",
       "      <th>1985-01-01</th>\n",
       "      <td>13.3</td>\n",
       "    </tr>\n",
       "    <tr>\n",
       "      <th>1985-01-02</th>\n",
       "      <td>15.2</td>\n",
       "    </tr>\n",
       "  </tbody>\n",
       "</table>\n",
       "</div>"
      ],
      "text/plain": [
       "            Temperature\n",
       "Date                   \n",
       "1984-12-29         16.0\n",
       "1984-12-30         16.4\n",
       "1984-12-31         16.4\n",
       "1985-01-01         13.3\n",
       "1985-01-02         15.2"
      ]
     },
     "execution_count": 96,
     "metadata": {},
     "output_type": "execute_result"
    }
   ],
   "source": [
    "temps = temps.asfreq(\"1D\", method=\"ffill\")\n",
    "temps.loc[\"1984-12-29\":\"1985-01-02\"]"
   ]
  },
  {
   "cell_type": "markdown",
   "metadata": {},
   "source": [
    "Alternatively, we could have interpolated using `temps.interpolate()`."
   ]
  },
  {
   "cell_type": "markdown",
   "metadata": {},
   "source": [
    "## 1.3) Add the shifted columns"
   ]
  },
  {
   "cell_type": "markdown",
   "metadata": {},
   "source": [
    "Next, let's create a function to add lag columns:"
   ]
  },
  {
   "cell_type": "code",
   "execution_count": 97,
   "metadata": {},
   "outputs": [],
   "source": [
    "def add_lags(series, times):\n",
    "    cols = []\n",
    "    column_index = []\n",
    "    for time in times:\n",
    "        cols.append(series.shift(-time))\n",
    "        lag_fmt = \"t+{time}\" if time > 0 else \"t{time}\" if time < 0 else \"t\"\n",
    "        column_index += [(lag_fmt.format(time=time), col_name)\n",
    "                        for col_name in series.columns]\n",
    "    df = pd.concat(cols, axis=1)\n",
    "    df.columns = pd.MultiIndex.from_tuples(column_index)\n",
    "    return df"
   ]
  },
  {
   "cell_type": "markdown",
   "metadata": {},
   "source": [
    "We will try to predict the temperature in 5 days (t+5) using the temperatures from the last 30 days (t-29 to t):"
   ]
  },
  {
   "cell_type": "code",
   "execution_count": 98,
   "metadata": {},
   "outputs": [],
   "source": [
    "X = add_lags(temps, times=range(-30+1,1)).iloc[30:-5]\n",
    "y = add_lags(temps, times=[5]).iloc[30:-5]"
   ]
  },
  {
   "cell_type": "code",
   "execution_count": 99,
   "metadata": {},
   "outputs": [
    {
     "data": {
      "text/html": [
       "<div>\n",
       "<style scoped>\n",
       "    .dataframe tbody tr th:only-of-type {\n",
       "        vertical-align: middle;\n",
       "    }\n",
       "\n",
       "    .dataframe tbody tr th {\n",
       "        vertical-align: top;\n",
       "    }\n",
       "\n",
       "    .dataframe thead tr th {\n",
       "        text-align: left;\n",
       "    }\n",
       "\n",
       "    .dataframe thead tr:last-of-type th {\n",
       "        text-align: right;\n",
       "    }\n",
       "</style>\n",
       "<table border=\"1\" class=\"dataframe\">\n",
       "  <thead>\n",
       "    <tr>\n",
       "      <th></th>\n",
       "      <th>t-29</th>\n",
       "      <th>t-28</th>\n",
       "      <th>t-27</th>\n",
       "      <th>t-26</th>\n",
       "      <th>t-25</th>\n",
       "      <th>t-24</th>\n",
       "      <th>t-23</th>\n",
       "      <th>t-22</th>\n",
       "      <th>t-21</th>\n",
       "      <th>t-20</th>\n",
       "      <th>...</th>\n",
       "      <th>t-9</th>\n",
       "      <th>t-8</th>\n",
       "      <th>t-7</th>\n",
       "      <th>t-6</th>\n",
       "      <th>t-5</th>\n",
       "      <th>t-4</th>\n",
       "      <th>t-3</th>\n",
       "      <th>t-2</th>\n",
       "      <th>t-1</th>\n",
       "      <th>t</th>\n",
       "    </tr>\n",
       "    <tr>\n",
       "      <th></th>\n",
       "      <th>Temperature</th>\n",
       "      <th>Temperature</th>\n",
       "      <th>Temperature</th>\n",
       "      <th>Temperature</th>\n",
       "      <th>Temperature</th>\n",
       "      <th>Temperature</th>\n",
       "      <th>Temperature</th>\n",
       "      <th>Temperature</th>\n",
       "      <th>Temperature</th>\n",
       "      <th>Temperature</th>\n",
       "      <th>...</th>\n",
       "      <th>Temperature</th>\n",
       "      <th>Temperature</th>\n",
       "      <th>Temperature</th>\n",
       "      <th>Temperature</th>\n",
       "      <th>Temperature</th>\n",
       "      <th>Temperature</th>\n",
       "      <th>Temperature</th>\n",
       "      <th>Temperature</th>\n",
       "      <th>Temperature</th>\n",
       "      <th>Temperature</th>\n",
       "    </tr>\n",
       "    <tr>\n",
       "      <th>Date</th>\n",
       "      <th></th>\n",
       "      <th></th>\n",
       "      <th></th>\n",
       "      <th></th>\n",
       "      <th></th>\n",
       "      <th></th>\n",
       "      <th></th>\n",
       "      <th></th>\n",
       "      <th></th>\n",
       "      <th></th>\n",
       "      <th></th>\n",
       "      <th></th>\n",
       "      <th></th>\n",
       "      <th></th>\n",
       "      <th></th>\n",
       "      <th></th>\n",
       "      <th></th>\n",
       "      <th></th>\n",
       "      <th></th>\n",
       "      <th></th>\n",
       "      <th></th>\n",
       "    </tr>\n",
       "  </thead>\n",
       "  <tbody>\n",
       "    <tr>\n",
       "      <th>1981-01-31</th>\n",
       "      <td>17.9</td>\n",
       "      <td>18.8</td>\n",
       "      <td>14.6</td>\n",
       "      <td>15.8</td>\n",
       "      <td>15.8</td>\n",
       "      <td>15.8</td>\n",
       "      <td>17.4</td>\n",
       "      <td>21.8</td>\n",
       "      <td>20.0</td>\n",
       "      <td>16.2</td>\n",
       "      <td>...</td>\n",
       "      <td>12.1</td>\n",
       "      <td>14.4</td>\n",
       "      <td>16.0</td>\n",
       "      <td>16.5</td>\n",
       "      <td>18.7</td>\n",
       "      <td>19.4</td>\n",
       "      <td>17.2</td>\n",
       "      <td>15.5</td>\n",
       "      <td>15.1</td>\n",
       "      <td>15.4</td>\n",
       "    </tr>\n",
       "    <tr>\n",
       "      <th>1981-02-01</th>\n",
       "      <td>18.8</td>\n",
       "      <td>14.6</td>\n",
       "      <td>15.8</td>\n",
       "      <td>15.8</td>\n",
       "      <td>15.8</td>\n",
       "      <td>17.4</td>\n",
       "      <td>21.8</td>\n",
       "      <td>20.0</td>\n",
       "      <td>16.2</td>\n",
       "      <td>13.3</td>\n",
       "      <td>...</td>\n",
       "      <td>14.4</td>\n",
       "      <td>16.0</td>\n",
       "      <td>16.5</td>\n",
       "      <td>18.7</td>\n",
       "      <td>19.4</td>\n",
       "      <td>17.2</td>\n",
       "      <td>15.5</td>\n",
       "      <td>15.1</td>\n",
       "      <td>15.4</td>\n",
       "      <td>15.3</td>\n",
       "    </tr>\n",
       "    <tr>\n",
       "      <th>1981-02-02</th>\n",
       "      <td>14.6</td>\n",
       "      <td>15.8</td>\n",
       "      <td>15.8</td>\n",
       "      <td>15.8</td>\n",
       "      <td>17.4</td>\n",
       "      <td>21.8</td>\n",
       "      <td>20.0</td>\n",
       "      <td>16.2</td>\n",
       "      <td>13.3</td>\n",
       "      <td>16.7</td>\n",
       "      <td>...</td>\n",
       "      <td>16.0</td>\n",
       "      <td>16.5</td>\n",
       "      <td>18.7</td>\n",
       "      <td>19.4</td>\n",
       "      <td>17.2</td>\n",
       "      <td>15.5</td>\n",
       "      <td>15.1</td>\n",
       "      <td>15.4</td>\n",
       "      <td>15.3</td>\n",
       "      <td>18.8</td>\n",
       "    </tr>\n",
       "    <tr>\n",
       "      <th>1981-02-03</th>\n",
       "      <td>15.8</td>\n",
       "      <td>15.8</td>\n",
       "      <td>15.8</td>\n",
       "      <td>17.4</td>\n",
       "      <td>21.8</td>\n",
       "      <td>20.0</td>\n",
       "      <td>16.2</td>\n",
       "      <td>13.3</td>\n",
       "      <td>16.7</td>\n",
       "      <td>21.5</td>\n",
       "      <td>...</td>\n",
       "      <td>16.5</td>\n",
       "      <td>18.7</td>\n",
       "      <td>19.4</td>\n",
       "      <td>17.2</td>\n",
       "      <td>15.5</td>\n",
       "      <td>15.1</td>\n",
       "      <td>15.4</td>\n",
       "      <td>15.3</td>\n",
       "      <td>18.8</td>\n",
       "      <td>21.9</td>\n",
       "    </tr>\n",
       "    <tr>\n",
       "      <th>1981-02-04</th>\n",
       "      <td>15.8</td>\n",
       "      <td>15.8</td>\n",
       "      <td>17.4</td>\n",
       "      <td>21.8</td>\n",
       "      <td>20.0</td>\n",
       "      <td>16.2</td>\n",
       "      <td>13.3</td>\n",
       "      <td>16.7</td>\n",
       "      <td>21.5</td>\n",
       "      <td>25.0</td>\n",
       "      <td>...</td>\n",
       "      <td>18.7</td>\n",
       "      <td>19.4</td>\n",
       "      <td>17.2</td>\n",
       "      <td>15.5</td>\n",
       "      <td>15.1</td>\n",
       "      <td>15.4</td>\n",
       "      <td>15.3</td>\n",
       "      <td>18.8</td>\n",
       "      <td>21.9</td>\n",
       "      <td>19.9</td>\n",
       "    </tr>\n",
       "  </tbody>\n",
       "</table>\n",
       "<p>5 rows × 30 columns</p>\n",
       "</div>"
      ],
      "text/plain": [
       "                  t-29        t-28        t-27        t-26        t-25  \\\n",
       "           Temperature Temperature Temperature Temperature Temperature   \n",
       "Date                                                                     \n",
       "1981-01-31        17.9        18.8        14.6        15.8        15.8   \n",
       "1981-02-01        18.8        14.6        15.8        15.8        15.8   \n",
       "1981-02-02        14.6        15.8        15.8        15.8        17.4   \n",
       "1981-02-03        15.8        15.8        15.8        17.4        21.8   \n",
       "1981-02-04        15.8        15.8        17.4        21.8        20.0   \n",
       "\n",
       "                  t-24        t-23        t-22        t-21        t-20  ...  \\\n",
       "           Temperature Temperature Temperature Temperature Temperature  ...   \n",
       "Date                                                                    ...   \n",
       "1981-01-31        15.8        17.4        21.8        20.0        16.2  ...   \n",
       "1981-02-01        17.4        21.8        20.0        16.2        13.3  ...   \n",
       "1981-02-02        21.8        20.0        16.2        13.3        16.7  ...   \n",
       "1981-02-03        20.0        16.2        13.3        16.7        21.5  ...   \n",
       "1981-02-04        16.2        13.3        16.7        21.5        25.0  ...   \n",
       "\n",
       "                   t-9         t-8         t-7         t-6         t-5  \\\n",
       "           Temperature Temperature Temperature Temperature Temperature   \n",
       "Date                                                                     \n",
       "1981-01-31        12.1        14.4        16.0        16.5        18.7   \n",
       "1981-02-01        14.4        16.0        16.5        18.7        19.4   \n",
       "1981-02-02        16.0        16.5        18.7        19.4        17.2   \n",
       "1981-02-03        16.5        18.7        19.4        17.2        15.5   \n",
       "1981-02-04        18.7        19.4        17.2        15.5        15.1   \n",
       "\n",
       "                   t-4         t-3         t-2         t-1           t  \n",
       "           Temperature Temperature Temperature Temperature Temperature  \n",
       "Date                                                                    \n",
       "1981-01-31        19.4        17.2        15.5        15.1        15.4  \n",
       "1981-02-01        17.2        15.5        15.1        15.4        15.3  \n",
       "1981-02-02        15.5        15.1        15.4        15.3        18.8  \n",
       "1981-02-03        15.1        15.4        15.3        18.8        21.9  \n",
       "1981-02-04        15.4        15.3        18.8        21.9        19.9  \n",
       "\n",
       "[5 rows x 30 columns]"
      ]
     },
     "execution_count": 99,
     "metadata": {},
     "output_type": "execute_result"
    }
   ],
   "source": [
    "X.head()"
   ]
  },
  {
   "cell_type": "code",
   "execution_count": 100,
   "metadata": {},
   "outputs": [
    {
     "data": {
      "text/html": [
       "<div>\n",
       "<style scoped>\n",
       "    .dataframe tbody tr th:only-of-type {\n",
       "        vertical-align: middle;\n",
       "    }\n",
       "\n",
       "    .dataframe tbody tr th {\n",
       "        vertical-align: top;\n",
       "    }\n",
       "\n",
       "    .dataframe thead tr th {\n",
       "        text-align: left;\n",
       "    }\n",
       "\n",
       "    .dataframe thead tr:last-of-type th {\n",
       "        text-align: right;\n",
       "    }\n",
       "</style>\n",
       "<table border=\"1\" class=\"dataframe\">\n",
       "  <thead>\n",
       "    <tr>\n",
       "      <th></th>\n",
       "      <th>t+5</th>\n",
       "    </tr>\n",
       "    <tr>\n",
       "      <th></th>\n",
       "      <th>Temperature</th>\n",
       "    </tr>\n",
       "    <tr>\n",
       "      <th>Date</th>\n",
       "      <th></th>\n",
       "    </tr>\n",
       "  </thead>\n",
       "  <tbody>\n",
       "    <tr>\n",
       "      <th>1981-01-31</th>\n",
       "      <td>16.6</td>\n",
       "    </tr>\n",
       "    <tr>\n",
       "      <th>1981-02-01</th>\n",
       "      <td>16.8</td>\n",
       "    </tr>\n",
       "    <tr>\n",
       "      <th>1981-02-02</th>\n",
       "      <td>14.6</td>\n",
       "    </tr>\n",
       "    <tr>\n",
       "      <th>1981-02-03</th>\n",
       "      <td>17.1</td>\n",
       "    </tr>\n",
       "    <tr>\n",
       "      <th>1981-02-04</th>\n",
       "      <td>25.0</td>\n",
       "    </tr>\n",
       "  </tbody>\n",
       "</table>\n",
       "</div>"
      ],
      "text/plain": [
       "                   t+5\n",
       "           Temperature\n",
       "Date                  \n",
       "1981-01-31        16.6\n",
       "1981-02-01        16.8\n",
       "1981-02-02        14.6\n",
       "1981-02-03        17.1\n",
       "1981-02-04        25.0"
      ]
     },
     "execution_count": 100,
     "metadata": {},
     "output_type": "execute_result"
    }
   ],
   "source": [
    "y.head()"
   ]
  },
  {
   "cell_type": "markdown",
   "metadata": {},
   "source": [
    "Note: you may want to use `keras.preprocessing.sequence.TimeseriesGenerator` or `tf.data.Dataset.window()` instead."
   ]
  },
  {
   "cell_type": "code",
   "execution_count": 101,
   "metadata": {},
   "outputs": [
    {
     "data": {
      "text/plain": [
       "'\\ndataset = tf.data.Dataset.range(10)\\ndataset = dataset.window(5, shift=1, drop_remainder=True)\\ndataset = dataset.flat_map(lambda window_dataset: window_dataset.batch(5))\\ndataset = dataset.shuffle(10)\\ndataset = dataset.map(lambda window: (window[:-1], window[-1]))\\ndataset = dataset.batch(2).prefetch(1) \\nfor X, y in dataset:\\n    print(X.numpy(), y.numpy(), end = \" \")\\n'"
      ]
     },
     "execution_count": 101,
     "metadata": {},
     "output_type": "execute_result"
    }
   ],
   "source": [
    "\"\"\"\n",
    "dataset = tf.data.Dataset.range(10)\n",
    "dataset = dataset.window(5, shift=1, drop_remainder=True)\n",
    "dataset = dataset.flat_map(lambda window_dataset: window_dataset.batch(5))\n",
    "dataset = dataset.shuffle(10)\n",
    "dataset = dataset.map(lambda window: (window[:-1], window[-1]))\n",
    "dataset = dataset.batch(2).prefetch(1) \n",
    "for X, y in dataset:\n",
    "    print(X.numpy(), y.numpy(), end = \" \")\n",
    "\"\"\""
   ]
  },
  {
   "cell_type": "markdown",
   "metadata": {},
   "source": [
    "## 1.4) Split the dataset"
   ]
  },
  {
   "cell_type": "markdown",
   "metadata": {},
   "source": [
    "Split this dataset into three periods: training (1981-1986), validation (1987-1988) and testing (1989-1990)."
   ]
  },
  {
   "cell_type": "code",
   "execution_count": 102,
   "metadata": {},
   "outputs": [],
   "source": [
    "from datetime import datetime\n",
    "train_index = (X.index >= datetime(1981, 1, 1)) & (X.index < datetime(1987, 1, 1))\n",
    "valid_index = (X.index >= datetime(1987, 1, 1)) & (X.index < datetime(1989, 1, 1))\n",
    "test_index = (X.index >= datetime(1989, 1, 1)) & (X.index < datetime(1991, 1, 1))\n",
    "X_train = X[train_index]\n",
    "y_train = y[train_index]\n",
    "X_valid = X[valid_index]\n",
    "y_valid = y[valid_index]\n",
    "X_test = X[test_index] \n",
    "y_test = y[test_index]"
   ]
  },
  {
   "cell_type": "code",
   "execution_count": null,
   "metadata": {},
   "outputs": [],
   "source": []
  },
  {
   "cell_type": "markdown",
   "metadata": {},
   "source": [
    "## 1.5) Reshape the inputs for the RNN"
   ]
  },
  {
   "cell_type": "markdown",
   "metadata": {},
   "source": [
    "Keras and TensorFlow expect a 3D NumPy array for any sequence. Its shape should be (number of instances, number of time steps, number of features per time step). Since this is a univariate time series, the last dimension is 1. Reshape the input features to get 3D arrays:"
   ]
  },
  {
   "cell_type": "code",
   "execution_count": 103,
   "metadata": {},
   "outputs": [],
   "source": [
    "#X_train_3D = ...\n",
    "#X_valid_3D = ...\n",
    "#X_test_3D = ..."
   ]
  },
  {
   "cell_type": "code",
   "execution_count": 104,
   "metadata": {},
   "outputs": [],
   "source": [
    "X_train_3D = X_train.values[..., np.newaxis]\n",
    "X_valid_3D = X_valid.values[..., np.newaxis]\n",
    "X_test_3D = X_test.values[..., np.newaxis]"
   ]
  },
  {
   "cell_type": "code",
   "execution_count": 140,
   "metadata": {},
   "outputs": [],
   "source": [
    "from sklearn.preprocessing import StandardScaler\n",
    "scaler = StandardScaler()\n",
    "X_train_scaled = scaler.fit_transform(X_train)\n",
    "X_valid_scaled = scaler.transform(X_valid)\n",
    "X_test_scaled = scaler.transform(X_test)"
   ]
  },
  {
   "cell_type": "code",
   "execution_count": 142,
   "metadata": {},
   "outputs": [],
   "source": [
    "X_train_3D_scaled = X_train_scaled[..., np.newaxis]\n",
    "X_valid_3D_scaled = X_valid_scaled[..., np.newaxis]\n",
    "X_test_3D_scaled = X_test_scaled[..., np.newaxis]"
   ]
  },
  {
   "cell_type": "code",
   "execution_count": 105,
   "metadata": {},
   "outputs": [
    {
     "data": {
      "text/plain": [
       "(2161, 30, 1)"
      ]
     },
     "execution_count": 105,
     "metadata": {},
     "output_type": "execute_result"
    }
   ],
   "source": [
    "X_train_3D.shape"
   ]
  },
  {
   "cell_type": "code",
   "execution_count": 106,
   "metadata": {},
   "outputs": [
    {
     "data": {
      "text/plain": [
       "(2161, 1)"
      ]
     },
     "execution_count": 106,
     "metadata": {},
     "output_type": "execute_result"
    }
   ],
   "source": [
    "y_train.shape"
   ]
  },
  {
   "cell_type": "markdown",
   "metadata": {},
   "source": [
    "## 1.6) Build some baseline models"
   ]
  },
  {
   "cell_type": "markdown",
   "metadata": {},
   "source": [
    "Build some baseline models (at least one) and evaluate them on the validation set, using the Mean Absolute Error (MAE). For example:\n",
    "\n",
    "* a naive model, that just predicts the last known value.\n",
    "* an EMA model that predicts an exponential moving average of the last 48 hours (you can try to find the best span).\n",
    "* a linear model.\n",
    "\n",
    "Optional: plot the predictions."
   ]
  },
  {
   "cell_type": "code",
   "execution_count": 62,
   "metadata": {},
   "outputs": [
    {
     "name": "stdout",
     "output_type": "stream",
     "text": [
      "2.978796169630643 2.8064827586206893\n"
     ]
    }
   ],
   "source": [
    "from sklearn.metrics import mean_absolute_error\n",
    "y_valid_pred_naive = X_valid.iloc[:, -1]\n",
    "y_test_pred_naive = X_test.iloc[:, -1]\n",
    "print(mean_absolute_error(y_valid, y_valid_pred_naive), mean_absolute_error(y_test, y_test_pred_naive))"
   ]
  },
  {
   "cell_type": "code",
   "execution_count": 107,
   "metadata": {},
   "outputs": [
    {
     "name": "stdout",
     "output_type": "stream",
     "text": [
      "2.2582011662546844 2.1123812948060214\n"
     ]
    },
    {
     "name": "stderr",
     "output_type": "stream",
     "text": [
      "/home/yang/Projects/perso/venv/lib/python3.7/site-packages/sklearn/linear_model/coordinate_descent.py:1100: DataConversionWarning: A column-vector y was passed when a 1d array was expected. Please change the shape of y to (n_samples, ), for example using ravel().\n",
      "  y = column_or_1d(y, warn=True)\n",
      "/home/yang/Projects/perso/venv/lib/python3.7/site-packages/sklearn/model_selection/_split.py:1978: FutureWarning: The default value of cv will change from 3 to 5 in version 0.22. Specify it explicitly to silence this warning.\n",
      "  warnings.warn(CV_WARNING, FutureWarning)\n"
     ]
    }
   ],
   "source": [
    "from sklearn.linear_model import LassoCV\n",
    "clf = LassoCV()\n",
    "clf.fit(X_train, y_train)\n",
    "y_valid_pred_lasso = clf.predict(X_valid)\n",
    "y_test_pred_lasso = clf.predict(X_test)\n",
    "print(mean_absolute_error(y_valid, y_valid_pred_lasso), mean_absolute_error(y_test, y_test_pred_lasso))"
   ]
  },
  {
   "cell_type": "code",
   "execution_count": 139,
   "metadata": {},
   "outputs": [
    {
     "name": "stderr",
     "output_type": "stream",
     "text": [
      "/home/yang/Projects/perso/venv/lib/python3.7/site-packages/ipykernel_launcher.py:3: DataConversionWarning: A column-vector y was passed when a 1d array was expected. Please change the shape of y to (n_samples,), for example using ravel().\n",
      "  This is separate from the ipykernel package so we can avoid doing imports until\n"
     ]
    },
    {
     "name": "stdout",
     "output_type": "stream",
     "text": [
      "2.216000359586706 2.1076757011937293\n"
     ]
    }
   ],
   "source": [
    "from sklearn.ensemble import RandomForestRegressor\n",
    "rf = RandomForestRegressor(n_estimators=200, max_depth=8, max_features=0.4, n_jobs=-1)\n",
    "rf.fit(X_train, y_train)\n",
    "y_valid_pred_rf = rf.predict(X_valid)\n",
    "y_test_pred_rf = rf.predict(X_test)\n",
    "print(mean_absolute_error(y_valid, y_valid_pred_rf), mean_absolute_error(y_test, y_test_pred_rf))"
   ]
  },
  {
   "cell_type": "code",
   "execution_count": 64,
   "metadata": {},
   "outputs": [
    {
     "data": {
      "text/plain": [
       "(725, 30, 1)"
      ]
     },
     "execution_count": 64,
     "metadata": {},
     "output_type": "execute_result"
    }
   ],
   "source": [
    "X_test_3D.shape"
   ]
  },
  {
   "cell_type": "markdown",
   "metadata": {},
   "source": [
    "## 1.7) Build a simple RNN"
   ]
  },
  {
   "cell_type": "markdown",
   "metadata": {},
   "source": [
    "Using Keras, build a simple 2-layer RNN with 100 neurons per layer, plus a dense layer with a single neuron. Train the model for 200 epochs with a batch size of 200, using Stochastic Gradient Descent with an learning rate of 0.005. Make sure to print the validation loss during training.\n",
    "\n",
    "Hints:\n",
    "\n",
    "* Create a `Sequential` model.\n",
    "* Add two `SimpleRNN` layers, with 100 units each. The first should return sequences but not the second. Indeed, in a Seq2Vec model, the last RNN layer should not return sequences. The first layer should specify the input shape (i.e., the shape of a single input sequence).\n",
    "* Use the MSE as the loss.\n",
    "* Call the model's `compile()` method, passing it an `SGD` instance with `lr=0.005`.\n",
    "* Call the model's `fit()` method, with the inputs and targets, number of epochs, batch size and validation data."
   ]
  },
  {
   "cell_type": "code",
   "execution_count": 110,
   "metadata": {},
   "outputs": [],
   "source": [
    "model1 = tf.keras.models.Sequential()\n",
    "model1.add(tf.keras.layers.SimpleRNN(units=100, return_sequences=True, input_shape = (30, 1)))\n",
    "model1.add(tf.keras.layers.SimpleRNN(units=100))\n",
    "model1.add(tf.keras.layers.Dense(1))"
   ]
  },
  {
   "cell_type": "code",
   "execution_count": 114,
   "metadata": {},
   "outputs": [
    {
     "name": "stdout",
     "output_type": "stream",
     "text": [
      "Train on 2161 samples, validate on 731 samples\n",
      "Epoch 1/200\n",
      "2161/2161 [==============================] - 2s 993us/sample - loss: 9.3912 - mae: 2.4219 - val_loss: 9.6285 - val_mae: 2.4003\n",
      "Epoch 2/200\n",
      "2161/2161 [==============================] - 1s 581us/sample - loss: 9.5073 - mae: 2.4097 - val_loss: 8.7901 - val_mae: 2.2929\n",
      "Epoch 3/200\n",
      "2161/2161 [==============================] - 1s 591us/sample - loss: 9.7109 - mae: 2.4349 - val_loss: 14.1243 - val_mae: 2.9410\n",
      "Epoch 4/200\n",
      "2161/2161 [==============================] - 1s 603us/sample - loss: 9.5476 - mae: 2.4269 - val_loss: 12.0006 - val_mae: 2.6942\n",
      "Epoch 5/200\n",
      "2161/2161 [==============================] - 1s 578us/sample - loss: 9.3256 - mae: 2.3846 - val_loss: 8.9447 - val_mae: 2.3431\n",
      "Epoch 6/200\n",
      "2161/2161 [==============================] - 1s 564us/sample - loss: 9.3881 - mae: 2.3970 - val_loss: 8.3970 - val_mae: 2.2774\n",
      "Epoch 7/200\n",
      "2161/2161 [==============================] - 1s 582us/sample - loss: 9.4693 - mae: 2.4113 - val_loss: 9.0174 - val_mae: 2.3969\n",
      "Epoch 8/200\n",
      "2161/2161 [==============================] - 1s 588us/sample - loss: 9.3351 - mae: 2.3847 - val_loss: 8.9802 - val_mae: 2.3743\n",
      "Epoch 9/200\n",
      "2161/2161 [==============================] - 1s 592us/sample - loss: 9.3207 - mae: 2.3999 - val_loss: 9.1416 - val_mae: 2.3494\n",
      "Epoch 10/200\n",
      "2161/2161 [==============================] - 1s 606us/sample - loss: 9.3002 - mae: 2.3964 - val_loss: 9.4119 - val_mae: 2.3766\n",
      "Epoch 11/200\n",
      "2161/2161 [==============================] - 1s 589us/sample - loss: 9.2819 - mae: 2.3728 - val_loss: 8.5782 - val_mae: 2.3121\n",
      "Epoch 12/200\n",
      "2161/2161 [==============================] - 1s 615us/sample - loss: 9.2178 - mae: 2.3635 - val_loss: 8.4837 - val_mae: 2.2964\n",
      "Epoch 13/200\n",
      "2161/2161 [==============================] - 1s 593us/sample - loss: 9.3329 - mae: 2.3933 - val_loss: 8.4432 - val_mae: 2.2832\n",
      "Epoch 14/200\n",
      "2161/2161 [==============================] - 1s 602us/sample - loss: 9.2274 - mae: 2.3818 - val_loss: 8.4866 - val_mae: 2.2975\n",
      "Epoch 15/200\n",
      "2161/2161 [==============================] - 1s 611us/sample - loss: 9.2450 - mae: 2.3753 - val_loss: 8.4140 - val_mae: 2.2654\n",
      "Epoch 16/200\n",
      "2161/2161 [==============================] - 1s 605us/sample - loss: 9.3982 - mae: 2.4114 - val_loss: 8.8644 - val_mae: 2.3425\n",
      "Epoch 17/200\n",
      "2161/2161 [==============================] - 1s 627us/sample - loss: 9.2834 - mae: 2.4057 - val_loss: 8.5625 - val_mae: 2.3233\n",
      "Epoch 18/200\n",
      "2161/2161 [==============================] - 1s 604us/sample - loss: 9.3257 - mae: 2.3836 - val_loss: 8.8464 - val_mae: 2.3003\n",
      "Epoch 19/200\n",
      "2161/2161 [==============================] - 1s 590us/sample - loss: 10.1449 - mae: 2.4929 - val_loss: 20.3161 - val_mae: 3.6238\n",
      "Epoch 20/200\n",
      "2161/2161 [==============================] - 1s 630us/sample - loss: 10.6770 - mae: 2.5400 - val_loss: 8.7893 - val_mae: 2.3154\n",
      "Epoch 21/200\n",
      "2161/2161 [==============================] - 1s 616us/sample - loss: 9.3255 - mae: 2.3738 - val_loss: 10.5161 - val_mae: 2.5883\n",
      "Epoch 22/200\n",
      "2161/2161 [==============================] - 1s 627us/sample - loss: 9.5958 - mae: 2.4125 - val_loss: 9.5866 - val_mae: 2.4662\n",
      "Epoch 23/200\n",
      "2161/2161 [==============================] - 1s 612us/sample - loss: 9.8919 - mae: 2.4589 - val_loss: 8.9214 - val_mae: 2.3811\n",
      "Epoch 24/200\n",
      "2161/2161 [==============================] - 1s 599us/sample - loss: 9.6385 - mae: 2.4368 - val_loss: 9.6136 - val_mae: 2.4685\n",
      "Epoch 25/200\n",
      "2161/2161 [==============================] - 1s 602us/sample - loss: 9.2437 - mae: 2.3934 - val_loss: 9.9219 - val_mae: 2.4911\n",
      "Epoch 26/200\n",
      "2161/2161 [==============================] - 1s 627us/sample - loss: 9.4056 - mae: 2.3943 - val_loss: 8.8538 - val_mae: 2.3110\n",
      "Epoch 27/200\n",
      "2161/2161 [==============================] - 1s 616us/sample - loss: 10.1976 - mae: 2.5006 - val_loss: 9.1458 - val_mae: 2.3436\n",
      "Epoch 28/200\n",
      "2161/2161 [==============================] - 1s 601us/sample - loss: 9.8852 - mae: 2.4707 - val_loss: 9.9012 - val_mae: 2.4793\n",
      "Epoch 29/200\n",
      "2161/2161 [==============================] - 1s 630us/sample - loss: 9.4562 - mae: 2.4053 - val_loss: 8.7534 - val_mae: 2.2943\n",
      "Epoch 30/200\n",
      "2161/2161 [==============================] - 1s 615us/sample - loss: 9.4830 - mae: 2.4003 - val_loss: 8.5795 - val_mae: 2.2626\n",
      "Epoch 31/200\n",
      "2161/2161 [==============================] - 1s 598us/sample - loss: 9.3066 - mae: 2.3854 - val_loss: 8.5558 - val_mae: 2.2959\n",
      "Epoch 32/200\n",
      "2161/2161 [==============================] - 1s 599us/sample - loss: 10.4158 - mae: 2.5447 - val_loss: 8.5556 - val_mae: 2.2738\n",
      "Epoch 33/200\n",
      "2161/2161 [==============================] - 1s 622us/sample - loss: 9.8881 - mae: 2.4425 - val_loss: 10.0727 - val_mae: 2.5180\n",
      "Epoch 34/200\n",
      "2161/2161 [==============================] - 1s 608us/sample - loss: 9.6931 - mae: 2.4460 - val_loss: 8.8947 - val_mae: 2.3633\n",
      "Epoch 35/200\n",
      "2161/2161 [==============================] - 1s 594us/sample - loss: 9.7827 - mae: 2.4554 - val_loss: 9.6233 - val_mae: 2.4186\n",
      "Epoch 36/200\n",
      "2161/2161 [==============================] - 1s 620us/sample - loss: 9.2248 - mae: 2.3790 - val_loss: 9.5525 - val_mae: 2.3975\n",
      "Epoch 37/200\n",
      "2161/2161 [==============================] - 1s 637us/sample - loss: 9.2875 - mae: 2.3860 - val_loss: 9.0696 - val_mae: 2.3293\n",
      "Epoch 38/200\n",
      "2161/2161 [==============================] - 1s 624us/sample - loss: 9.1411 - mae: 2.3732 - val_loss: 9.7045 - val_mae: 2.4119\n",
      "Epoch 39/200\n",
      "2161/2161 [==============================] - 1s 633us/sample - loss: 9.2918 - mae: 2.3932 - val_loss: 8.5051 - val_mae: 2.2763\n",
      "Epoch 40/200\n",
      "2161/2161 [==============================] - 1s 626us/sample - loss: 9.0508 - mae: 2.3539 - val_loss: 8.8390 - val_mae: 2.3067\n",
      "Epoch 41/200\n",
      "2161/2161 [==============================] - 1s 636us/sample - loss: 9.0278 - mae: 2.3717 - val_loss: 10.2771 - val_mae: 2.4746\n",
      "Epoch 42/200\n",
      "2161/2161 [==============================] - 1s 645us/sample - loss: 9.4719 - mae: 2.4309 - val_loss: 8.5684 - val_mae: 2.2959\n",
      "Epoch 43/200\n",
      "2161/2161 [==============================] - 1s 599us/sample - loss: 9.0638 - mae: 2.3590 - val_loss: 9.3131 - val_mae: 2.3631\n",
      "Epoch 44/200\n",
      "2161/2161 [==============================] - 1s 606us/sample - loss: 9.1365 - mae: 2.3681 - val_loss: 8.6157 - val_mae: 2.2852\n",
      "Epoch 45/200\n",
      "2161/2161 [==============================] - 1s 603us/sample - loss: 9.0522 - mae: 2.3372 - val_loss: 8.6688 - val_mae: 2.2897\n",
      "Epoch 46/200\n",
      "2161/2161 [==============================] - 1s 588us/sample - loss: 8.9799 - mae: 2.3425 - val_loss: 8.5635 - val_mae: 2.2970\n",
      "Epoch 47/200\n",
      "2161/2161 [==============================] - 1s 634us/sample - loss: 8.8969 - mae: 2.3409 - val_loss: 9.0087 - val_mae: 2.3126\n",
      "Epoch 48/200\n",
      "2161/2161 [==============================] - 1s 617us/sample - loss: 9.2082 - mae: 2.3713 - val_loss: 10.0768 - val_mae: 2.5369\n",
      "Epoch 49/200\n",
      "2161/2161 [==============================] - 1s 623us/sample - loss: 10.0349 - mae: 2.4777 - val_loss: 10.9469 - val_mae: 2.6477\n",
      "Epoch 50/200\n",
      "2161/2161 [==============================] - 1s 633us/sample - loss: 9.6952 - mae: 2.4408 - val_loss: 8.9909 - val_mae: 2.3624\n",
      "Epoch 51/200\n",
      "2161/2161 [==============================] - 1s 626us/sample - loss: 9.4242 - mae: 2.4129 - val_loss: 8.9576 - val_mae: 2.3112\n",
      "Epoch 52/200\n",
      "2161/2161 [==============================] - 1s 637us/sample - loss: 9.3616 - mae: 2.4108 - val_loss: 9.1090 - val_mae: 2.3523\n",
      "Epoch 53/200\n",
      "2161/2161 [==============================] - 1s 631us/sample - loss: 9.2373 - mae: 2.3898 - val_loss: 8.9025 - val_mae: 2.3459\n",
      "Epoch 54/200\n",
      "2161/2161 [==============================] - 1s 628us/sample - loss: 9.7877 - mae: 2.4499 - val_loss: 8.7031 - val_mae: 2.2915\n",
      "Epoch 55/200\n",
      "2161/2161 [==============================] - 1s 632us/sample - loss: 9.2601 - mae: 2.3808 - val_loss: 9.9312 - val_mae: 2.4039\n",
      "Epoch 56/200\n",
      "2161/2161 [==============================] - 1s 636us/sample - loss: 9.3623 - mae: 2.3835 - val_loss: 8.6219 - val_mae: 2.2994\n",
      "Epoch 57/200\n",
      "2161/2161 [==============================] - 1s 614us/sample - loss: 9.2430 - mae: 2.3807 - val_loss: 8.8039 - val_mae: 2.3541\n",
      "Epoch 58/200\n",
      "2161/2161 [==============================] - 1s 638us/sample - loss: 9.2147 - mae: 2.3813 - val_loss: 10.6893 - val_mae: 2.6108\n",
      "Epoch 59/200\n"
     ]
    },
    {
     "name": "stdout",
     "output_type": "stream",
     "text": [
      "2161/2161 [==============================] - 1s 592us/sample - loss: 9.4134 - mae: 2.4069 - val_loss: 9.4058 - val_mae: 2.4380\n",
      "Epoch 60/200\n",
      "2161/2161 [==============================] - 1s 607us/sample - loss: 9.3852 - mae: 2.4042 - val_loss: 9.0923 - val_mae: 2.3863\n",
      "Epoch 61/200\n",
      "2161/2161 [==============================] - 1s 600us/sample - loss: 9.1128 - mae: 2.3607 - val_loss: 8.5959 - val_mae: 2.2870\n",
      "Epoch 62/200\n",
      "2161/2161 [==============================] - 1s 594us/sample - loss: 9.1047 - mae: 2.3614 - val_loss: 8.8360 - val_mae: 2.3296\n",
      "Epoch 63/200\n",
      "2161/2161 [==============================] - 1s 593us/sample - loss: 9.1017 - mae: 2.3529 - val_loss: 8.4492 - val_mae: 2.2870\n",
      "Epoch 64/200\n",
      "2161/2161 [==============================] - 1s 596us/sample - loss: 9.0986 - mae: 2.3631 - val_loss: 9.5213 - val_mae: 2.4390\n",
      "Epoch 65/200\n",
      "2161/2161 [==============================] - 1s 594us/sample - loss: 9.1370 - mae: 2.3644 - val_loss: 9.4760 - val_mae: 2.4077\n",
      "Epoch 66/200\n",
      "2161/2161 [==============================] - 1s 589us/sample - loss: 9.0594 - mae: 2.3625 - val_loss: 8.6983 - val_mae: 2.2918\n",
      "Epoch 67/200\n",
      "2161/2161 [==============================] - 1s 623us/sample - loss: 9.0981 - mae: 2.3576 - val_loss: 8.9097 - val_mae: 2.3336\n",
      "Epoch 68/200\n",
      "2161/2161 [==============================] - 1s 634us/sample - loss: 9.1164 - mae: 2.3823 - val_loss: 9.2210 - val_mae: 2.4035\n",
      "Epoch 69/200\n",
      "2161/2161 [==============================] - 1s 623us/sample - loss: 11.2642 - mae: 2.6102 - val_loss: 11.2476 - val_mae: 2.6421\n",
      "Epoch 70/200\n",
      "2161/2161 [==============================] - 1s 616us/sample - loss: 10.9799 - mae: 2.6081 - val_loss: 9.4489 - val_mae: 2.4048\n",
      "Epoch 71/200\n",
      "2161/2161 [==============================] - 1s 588us/sample - loss: 11.6948 - mae: 2.6536 - val_loss: 12.0126 - val_mae: 2.7444\n",
      "Epoch 72/200\n",
      "2161/2161 [==============================] - 1s 597us/sample - loss: 10.9778 - mae: 2.6166 - val_loss: 13.2653 - val_mae: 2.9488\n",
      "Epoch 73/200\n",
      "2161/2161 [==============================] - 1s 608us/sample - loss: 10.4767 - mae: 2.5301 - val_loss: 11.5992 - val_mae: 2.7417\n",
      "Epoch 74/200\n",
      "2161/2161 [==============================] - 1s 627us/sample - loss: 10.1405 - mae: 2.4805 - val_loss: 11.5222 - val_mae: 2.6468\n",
      "Epoch 75/200\n",
      "2161/2161 [==============================] - 1s 614us/sample - loss: 9.8158 - mae: 2.4611 - val_loss: 11.6062 - val_mae: 2.6507\n",
      "Epoch 76/200\n",
      "2161/2161 [==============================] - 1s 624us/sample - loss: 9.9962 - mae: 2.4781 - val_loss: 10.7983 - val_mae: 2.6202\n",
      "Epoch 77/200\n",
      "2161/2161 [==============================] - 1s 609us/sample - loss: 10.5567 - mae: 2.5510 - val_loss: 11.4683 - val_mae: 2.7148\n",
      "Epoch 78/200\n",
      "2161/2161 [==============================] - 1s 624us/sample - loss: 9.9077 - mae: 2.4730 - val_loss: 18.2454 - val_mae: 3.5731\n",
      "Epoch 79/200\n",
      "2161/2161 [==============================] - 1s 613us/sample - loss: 10.0999 - mae: 2.5000 - val_loss: 9.5522 - val_mae: 2.4680\n",
      "Epoch 80/200\n",
      "2161/2161 [==============================] - 1s 619us/sample - loss: 10.4270 - mae: 2.5369 - val_loss: 10.8931 - val_mae: 2.6524\n",
      "Epoch 81/200\n",
      "2161/2161 [==============================] - 1s 605us/sample - loss: 9.5894 - mae: 2.4304 - val_loss: 8.7467 - val_mae: 2.3202\n",
      "Epoch 82/200\n",
      "2161/2161 [==============================] - 1s 624us/sample - loss: 9.8262 - mae: 2.4606 - val_loss: 11.5078 - val_mae: 2.6032\n",
      "Epoch 83/200\n",
      "2161/2161 [==============================] - 1s 624us/sample - loss: 9.5701 - mae: 2.4146 - val_loss: 11.4465 - val_mae: 2.7172\n",
      "Epoch 84/200\n",
      "2161/2161 [==============================] - 1s 614us/sample - loss: 9.9667 - mae: 2.4781 - val_loss: 8.8055 - val_mae: 2.3284\n",
      "Epoch 85/200\n",
      "2161/2161 [==============================] - 1s 605us/sample - loss: 9.7275 - mae: 2.4380 - val_loss: 8.9863 - val_mae: 2.3592\n",
      "Epoch 86/200\n",
      "2161/2161 [==============================] - 1s 631us/sample - loss: 9.6790 - mae: 2.4441 - val_loss: 9.7901 - val_mae: 2.4720\n",
      "Epoch 87/200\n",
      "2161/2161 [==============================] - 1s 654us/sample - loss: 9.5957 - mae: 2.4144 - val_loss: 8.9116 - val_mae: 2.3429\n",
      "Epoch 88/200\n",
      "2161/2161 [==============================] - 1s 632us/sample - loss: 9.6994 - mae: 2.4158 - val_loss: 8.7943 - val_mae: 2.3027\n",
      "Epoch 89/200\n",
      "2161/2161 [==============================] - 1s 607us/sample - loss: 15.7319 - mae: 3.1492 - val_loss: 10.6006 - val_mae: 2.5547\n",
      "Epoch 90/200\n",
      "2161/2161 [==============================] - 1s 597us/sample - loss: 13.4943 - mae: 2.8763 - val_loss: 9.8566 - val_mae: 2.4916\n",
      "Epoch 91/200\n",
      "2161/2161 [==============================] - 1s 657us/sample - loss: 11.9699 - mae: 2.6986 - val_loss: 15.7398 - val_mae: 3.2034\n",
      "Epoch 92/200\n",
      "2161/2161 [==============================] - 1s 631us/sample - loss: 11.1566 - mae: 2.5946 - val_loss: 11.3237 - val_mae: 2.6803\n",
      "Epoch 93/200\n",
      "2161/2161 [==============================] - 1s 650us/sample - loss: 10.7938 - mae: 2.5597 - val_loss: 23.6049 - val_mae: 3.9514\n",
      "Epoch 94/200\n",
      "2161/2161 [==============================] - 1s 650us/sample - loss: 10.7667 - mae: 2.5621 - val_loss: 12.0940 - val_mae: 2.7006\n",
      "Epoch 95/200\n",
      "2161/2161 [==============================] - 1s 645us/sample - loss: 10.3361 - mae: 2.5123 - val_loss: 9.2028 - val_mae: 2.3891\n",
      "Epoch 96/200\n",
      "2161/2161 [==============================] - 1s 667us/sample - loss: 10.2460 - mae: 2.4851 - val_loss: 9.1879 - val_mae: 2.3974\n",
      "Epoch 97/200\n",
      "2161/2161 [==============================] - 1s 636us/sample - loss: 10.0305 - mae: 2.4957 - val_loss: 13.6938 - val_mae: 2.8921\n",
      "Epoch 98/200\n",
      "2161/2161 [==============================] - 1s 616us/sample - loss: 10.3021 - mae: 2.5063 - val_loss: 10.5654 - val_mae: 2.5467\n",
      "Epoch 99/200\n",
      "2161/2161 [==============================] - 1s 618us/sample - loss: 10.6339 - mae: 2.5464 - val_loss: 14.4529 - val_mae: 3.1249\n",
      "Epoch 100/200\n",
      "2161/2161 [==============================] - 1s 638us/sample - loss: 9.9668 - mae: 2.4626 - val_loss: 10.1773 - val_mae: 2.5439\n",
      "Epoch 101/200\n",
      "2161/2161 [==============================] - 1s 638us/sample - loss: 10.0881 - mae: 2.4853 - val_loss: 9.2559 - val_mae: 2.4126\n",
      "Epoch 102/200\n",
      "2161/2161 [==============================] - 1s 640us/sample - loss: 9.8996 - mae: 2.4539 - val_loss: 8.8068 - val_mae: 2.2997\n",
      "Epoch 103/200\n",
      "2161/2161 [==============================] - 1s 678us/sample - loss: 9.6858 - mae: 2.4201 - val_loss: 9.6619 - val_mae: 2.4596\n",
      "Epoch 104/200\n",
      "2161/2161 [==============================] - 1s 660us/sample - loss: 10.2048 - mae: 2.5004 - val_loss: 10.7859 - val_mae: 2.5076\n",
      "Epoch 105/200\n",
      "2161/2161 [==============================] - 1s 645us/sample - loss: 11.5026 - mae: 2.6536 - val_loss: 12.6557 - val_mae: 2.8773\n",
      "Epoch 106/200\n",
      "2161/2161 [==============================] - 1s 660us/sample - loss: 10.6445 - mae: 2.5560 - val_loss: 17.4872 - val_mae: 3.3128\n",
      "Epoch 107/200\n",
      "2161/2161 [==============================] - 1s 636us/sample - loss: 12.3605 - mae: 2.7768 - val_loss: 10.9495 - val_mae: 2.5774\n",
      "Epoch 108/200\n",
      "2161/2161 [==============================] - 1s 614us/sample - loss: 10.3489 - mae: 2.4978 - val_loss: 9.1131 - val_mae: 2.3892\n",
      "Epoch 109/200\n",
      "2161/2161 [==============================] - 1s 615us/sample - loss: 10.1410 - mae: 2.5077 - val_loss: 11.1187 - val_mae: 2.5894\n",
      "Epoch 110/200\n",
      "2161/2161 [==============================] - 1s 618us/sample - loss: 10.7051 - mae: 2.5603 - val_loss: 9.5384 - val_mae: 2.4477\n",
      "Epoch 111/200\n",
      "2161/2161 [==============================] - 1s 624us/sample - loss: 10.3002 - mae: 2.4996 - val_loss: 10.0070 - val_mae: 2.4612\n",
      "Epoch 112/200\n",
      "2161/2161 [==============================] - 1s 615us/sample - loss: 10.3952 - mae: 2.5369 - val_loss: 12.5576 - val_mae: 2.8441\n",
      "Epoch 113/200\n",
      "2161/2161 [==============================] - 1s 622us/sample - loss: 9.9984 - mae: 2.4554 - val_loss: 8.7787 - val_mae: 2.3224\n",
      "Epoch 114/200\n",
      "2161/2161 [==============================] - 1s 609us/sample - loss: 10.7115 - mae: 2.5558 - val_loss: 11.1452 - val_mae: 2.6778\n",
      "Epoch 115/200\n",
      "2161/2161 [==============================] - 1s 624us/sample - loss: 10.0192 - mae: 2.4566 - val_loss: 9.0420 - val_mae: 2.3771\n",
      "Epoch 116/200\n",
      "2161/2161 [==============================] - 2s 700us/sample - loss: 9.8940 - mae: 2.4677 - val_loss: 8.9282 - val_mae: 2.3615\n",
      "Epoch 117/200\n"
     ]
    },
    {
     "name": "stdout",
     "output_type": "stream",
     "text": [
      "2161/2161 [==============================] - 1s 656us/sample - loss: 9.6843 - mae: 2.4384 - val_loss: 14.8800 - val_mae: 3.1224\n",
      "Epoch 118/200\n",
      "2161/2161 [==============================] - 1s 613us/sample - loss: 10.1525 - mae: 2.4818 - val_loss: 9.6527 - val_mae: 2.4583\n",
      "Epoch 119/200\n",
      "2161/2161 [==============================] - 1s 677us/sample - loss: 10.0452 - mae: 2.5036 - val_loss: 12.8014 - val_mae: 2.8150\n",
      "Epoch 120/200\n",
      "2161/2161 [==============================] - 1s 646us/sample - loss: 9.9039 - mae: 2.4680 - val_loss: 8.6754 - val_mae: 2.2992\n",
      "Epoch 121/200\n",
      "2161/2161 [==============================] - 1s 659us/sample - loss: 9.9407 - mae: 2.4734 - val_loss: 16.7837 - val_mae: 3.3915\n",
      "Epoch 122/200\n",
      "2161/2161 [==============================] - 1s 652us/sample - loss: 9.5064 - mae: 2.4114 - val_loss: 8.6175 - val_mae: 2.2708\n",
      "Epoch 123/200\n",
      "2161/2161 [==============================] - 1s 630us/sample - loss: 9.7516 - mae: 2.4391 - val_loss: 9.6399 - val_mae: 2.4340\n",
      "Epoch 124/200\n",
      "2161/2161 [==============================] - 1s 630us/sample - loss: 9.3574 - mae: 2.3800 - val_loss: 8.8225 - val_mae: 2.3487\n",
      "Epoch 125/200\n",
      "2161/2161 [==============================] - 1s 609us/sample - loss: 9.4359 - mae: 2.4028 - val_loss: 9.0523 - val_mae: 2.3340\n",
      "Epoch 126/200\n",
      "2161/2161 [==============================] - 1s 602us/sample - loss: 9.5630 - mae: 2.4158 - val_loss: 9.1446 - val_mae: 2.3795\n",
      "Epoch 127/200\n",
      "2161/2161 [==============================] - 1s 629us/sample - loss: 10.3816 - mae: 2.5407 - val_loss: 10.2146 - val_mae: 2.4801\n",
      "Epoch 128/200\n",
      "2161/2161 [==============================] - 1s 626us/sample - loss: 10.0720 - mae: 2.4877 - val_loss: 9.6915 - val_mae: 2.4122\n",
      "Epoch 129/200\n",
      "2161/2161 [==============================] - 1s 616us/sample - loss: 9.8110 - mae: 2.4568 - val_loss: 10.1548 - val_mae: 2.4361\n",
      "Epoch 130/200\n",
      "2161/2161 [==============================] - 1s 639us/sample - loss: 9.6160 - mae: 2.4155 - val_loss: 10.6397 - val_mae: 2.6038\n",
      "Epoch 131/200\n",
      "2161/2161 [==============================] - 1s 636us/sample - loss: 9.4256 - mae: 2.3920 - val_loss: 11.5598 - val_mae: 2.7140\n",
      "Epoch 132/200\n",
      "2161/2161 [==============================] - 1s 635us/sample - loss: 12.5301 - mae: 2.7606 - val_loss: 9.3026 - val_mae: 2.3884\n",
      "Epoch 133/200\n",
      "2161/2161 [==============================] - 1s 621us/sample - loss: 11.5724 - mae: 2.6478 - val_loss: 10.5777 - val_mae: 2.5723\n",
      "Epoch 134/200\n",
      "2161/2161 [==============================] - 1s 651us/sample - loss: 10.4886 - mae: 2.5366 - val_loss: 13.7788 - val_mae: 2.9997\n",
      "Epoch 135/200\n",
      "2161/2161 [==============================] - 1s 666us/sample - loss: 10.0392 - mae: 2.4688 - val_loss: 13.5055 - val_mae: 2.9777\n",
      "Epoch 136/200\n",
      "2161/2161 [==============================] - 1s 612us/sample - loss: 9.8549 - mae: 2.4657 - val_loss: 9.0559 - val_mae: 2.3866\n",
      "Epoch 137/200\n",
      "2161/2161 [==============================] - 1s 679us/sample - loss: 10.1328 - mae: 2.4834 - val_loss: 12.6601 - val_mae: 2.8654\n",
      "Epoch 138/200\n",
      "2161/2161 [==============================] - 1s 638us/sample - loss: 9.8956 - mae: 2.4740 - val_loss: 10.4457 - val_mae: 2.5031\n",
      "Epoch 139/200\n",
      "2161/2161 [==============================] - 1s 611us/sample - loss: 10.3344 - mae: 2.5234 - val_loss: 9.3113 - val_mae: 2.4133\n",
      "Epoch 140/200\n",
      "2161/2161 [==============================] - 1s 662us/sample - loss: 9.6488 - mae: 2.4330 - val_loss: 8.8392 - val_mae: 2.3215\n",
      "Epoch 141/200\n",
      "2161/2161 [==============================] - 1s 655us/sample - loss: 9.9441 - mae: 2.4632 - val_loss: 9.1680 - val_mae: 2.3892\n",
      "Epoch 142/200\n",
      "2161/2161 [==============================] - 1s 652us/sample - loss: 10.4349 - mae: 2.5303 - val_loss: 11.5959 - val_mae: 2.7212\n",
      "Epoch 143/200\n",
      "2161/2161 [==============================] - 1s 639us/sample - loss: 10.1118 - mae: 2.4874 - val_loss: 9.4499 - val_mae: 2.3740\n",
      "Epoch 144/200\n",
      "2161/2161 [==============================] - 1s 657us/sample - loss: 9.4330 - mae: 2.3991 - val_loss: 9.7781 - val_mae: 2.4379\n",
      "Epoch 145/200\n",
      "2161/2161 [==============================] - 1s 660us/sample - loss: 9.6577 - mae: 2.4368 - val_loss: 13.3202 - val_mae: 2.8489\n",
      "Epoch 146/200\n",
      "2161/2161 [==============================] - 1s 663us/sample - loss: 9.9897 - mae: 2.4685 - val_loss: 8.7086 - val_mae: 2.3241\n",
      "Epoch 147/200\n",
      "2161/2161 [==============================] - 1s 642us/sample - loss: 9.7770 - mae: 2.4452 - val_loss: 8.9565 - val_mae: 2.3581\n",
      "Epoch 148/200\n",
      "2161/2161 [==============================] - 1s 639us/sample - loss: 9.5615 - mae: 2.4264 - val_loss: 9.5118 - val_mae: 2.4119\n",
      "Epoch 149/200\n",
      "2161/2161 [==============================] - 1s 638us/sample - loss: 9.9800 - mae: 2.4798 - val_loss: 11.3846 - val_mae: 2.7079\n",
      "Epoch 150/200\n",
      "2161/2161 [==============================] - 1s 638us/sample - loss: 10.0746 - mae: 2.4868 - val_loss: 10.4471 - val_mae: 2.5205\n",
      "Epoch 151/200\n",
      "2161/2161 [==============================] - 1s 637us/sample - loss: 10.0164 - mae: 2.4849 - val_loss: 8.8480 - val_mae: 2.3422\n",
      "Epoch 152/200\n",
      "2161/2161 [==============================] - 1s 638us/sample - loss: 10.0251 - mae: 2.4630 - val_loss: 8.6913 - val_mae: 2.3123\n",
      "Epoch 153/200\n",
      "2161/2161 [==============================] - 1s 636us/sample - loss: 11.2287 - mae: 2.6223 - val_loss: 9.6801 - val_mae: 2.4509\n",
      "Epoch 154/200\n",
      "2161/2161 [==============================] - 1s 650us/sample - loss: 10.1027 - mae: 2.4929 - val_loss: 14.9459 - val_mae: 3.0303\n",
      "Epoch 155/200\n",
      "2161/2161 [==============================] - 1s 676us/sample - loss: 9.6904 - mae: 2.4517 - val_loss: 9.2696 - val_mae: 2.3504\n",
      "Epoch 156/200\n",
      "2161/2161 [==============================] - 1s 680us/sample - loss: 10.0480 - mae: 2.4856 - val_loss: 10.8541 - val_mae: 2.6257\n",
      "Epoch 157/200\n",
      "2161/2161 [==============================] - 1s 683us/sample - loss: 9.9771 - mae: 2.4604 - val_loss: 19.5159 - val_mae: 3.7073\n",
      "Epoch 158/200\n",
      "2161/2161 [==============================] - 2s 699us/sample - loss: 9.5838 - mae: 2.4217 - val_loss: 9.0805 - val_mae: 2.3401\n",
      "Epoch 159/200\n",
      "2161/2161 [==============================] - 1s 676us/sample - loss: 10.7816 - mae: 2.5639 - val_loss: 9.4238 - val_mae: 2.4204\n",
      "Epoch 160/200\n",
      "2161/2161 [==============================] - 2s 699us/sample - loss: 10.6206 - mae: 2.5620 - val_loss: 11.6916 - val_mae: 2.6733\n",
      "Epoch 161/200\n",
      "2161/2161 [==============================] - 1s 644us/sample - loss: 9.9810 - mae: 2.4555 - val_loss: 10.0972 - val_mae: 2.4753\n",
      "Epoch 162/200\n",
      "2161/2161 [==============================] - 1s 676us/sample - loss: 9.7960 - mae: 2.4395 - val_loss: 9.9114 - val_mae: 2.4581\n",
      "Epoch 163/200\n",
      "2161/2161 [==============================] - 1s 677us/sample - loss: 9.6055 - mae: 2.4405 - val_loss: 11.3746 - val_mae: 2.6342\n",
      "Epoch 164/200\n",
      "2161/2161 [==============================] - 1s 674us/sample - loss: 9.9912 - mae: 2.4790 - val_loss: 9.6386 - val_mae: 2.4219\n",
      "Epoch 165/200\n",
      "2161/2161 [==============================] - 1s 664us/sample - loss: 9.6800 - mae: 2.4472 - val_loss: 9.6747 - val_mae: 2.3962\n",
      "Epoch 166/200\n",
      "2161/2161 [==============================] - 1s 639us/sample - loss: 9.4955 - mae: 2.4208 - val_loss: 12.0184 - val_mae: 2.7749\n",
      "Epoch 167/200\n",
      "2161/2161 [==============================] - 1s 658us/sample - loss: 9.8245 - mae: 2.4455 - val_loss: 8.5809 - val_mae: 2.2782\n",
      "Epoch 168/200\n",
      "2161/2161 [==============================] - 1s 665us/sample - loss: 9.8329 - mae: 2.4607 - val_loss: 9.2319 - val_mae: 2.4145\n",
      "Epoch 169/200\n",
      "2161/2161 [==============================] - 1s 645us/sample - loss: 10.3038 - mae: 2.5138 - val_loss: 9.2300 - val_mae: 2.3989\n",
      "Epoch 170/200\n",
      "2161/2161 [==============================] - 1s 652us/sample - loss: 9.7201 - mae: 2.4541 - val_loss: 10.1957 - val_mae: 2.4866\n",
      "Epoch 171/200\n",
      "2161/2161 [==============================] - 1s 664us/sample - loss: 9.5654 - mae: 2.4311 - val_loss: 8.8574 - val_mae: 2.3637\n",
      "Epoch 172/200\n",
      "2161/2161 [==============================] - 1s 657us/sample - loss: 9.5222 - mae: 2.4202 - val_loss: 9.1705 - val_mae: 2.3422\n",
      "Epoch 173/200\n",
      "2161/2161 [==============================] - 1s 673us/sample - loss: 9.5800 - mae: 2.4238 - val_loss: 8.8834 - val_mae: 2.3317\n",
      "Epoch 174/200\n",
      "2161/2161 [==============================] - 1s 661us/sample - loss: 9.5992 - mae: 2.4232 - val_loss: 9.5520 - val_mae: 2.4577\n"
     ]
    },
    {
     "name": "stdout",
     "output_type": "stream",
     "text": [
      "Epoch 175/200\n",
      "2161/2161 [==============================] - 1s 622us/sample - loss: 9.3720 - mae: 2.3986 - val_loss: 8.7118 - val_mae: 2.3003\n",
      "Epoch 176/200\n",
      "2161/2161 [==============================] - 1s 649us/sample - loss: 9.5316 - mae: 2.4176 - val_loss: 8.4065 - val_mae: 2.2781\n",
      "Epoch 177/200\n",
      "2161/2161 [==============================] - 1s 661us/sample - loss: 9.2140 - mae: 2.3732 - val_loss: 8.7256 - val_mae: 2.2928\n",
      "Epoch 178/200\n",
      "2161/2161 [==============================] - 1s 686us/sample - loss: 9.3599 - mae: 2.4085 - val_loss: 9.0699 - val_mae: 2.3362\n",
      "Epoch 179/200\n",
      "2161/2161 [==============================] - 2s 715us/sample - loss: 9.1197 - mae: 2.3695 - val_loss: 13.7881 - val_mae: 2.8666\n",
      "Epoch 180/200\n",
      "2161/2161 [==============================] - 2s 715us/sample - loss: 9.8636 - mae: 2.4710 - val_loss: 9.2424 - val_mae: 2.3708\n",
      "Epoch 181/200\n",
      "2161/2161 [==============================] - 2s 736us/sample - loss: 9.4436 - mae: 2.4081 - val_loss: 8.7623 - val_mae: 2.3214\n",
      "Epoch 182/200\n",
      "2161/2161 [==============================] - 2s 694us/sample - loss: 9.6598 - mae: 2.4454 - val_loss: 9.9819 - val_mae: 2.4649\n",
      "Epoch 183/200\n",
      "2161/2161 [==============================] - 1s 655us/sample - loss: 9.6624 - mae: 2.4422 - val_loss: 8.8904 - val_mae: 2.3212\n",
      "Epoch 184/200\n",
      "2161/2161 [==============================] - 1s 633us/sample - loss: 10.7900 - mae: 2.5882 - val_loss: 8.6142 - val_mae: 2.2866\n",
      "Epoch 185/200\n",
      "2161/2161 [==============================] - 1s 637us/sample - loss: 10.7383 - mae: 2.5541 - val_loss: 11.2471 - val_mae: 2.6520\n",
      "Epoch 186/200\n",
      "2161/2161 [==============================] - 1s 638us/sample - loss: 12.2958 - mae: 2.7640 - val_loss: 9.8852 - val_mae: 2.4972\n",
      "Epoch 187/200\n",
      "2161/2161 [==============================] - 1s 652us/sample - loss: 10.3260 - mae: 2.5159 - val_loss: 11.1259 - val_mae: 2.5881\n",
      "Epoch 188/200\n",
      "2161/2161 [==============================] - 1s 692us/sample - loss: 12.0949 - mae: 2.7066 - val_loss: 9.1749 - val_mae: 2.4093\n",
      "Epoch 189/200\n",
      "2161/2161 [==============================] - 2s 695us/sample - loss: 10.8313 - mae: 2.5679 - val_loss: 9.8748 - val_mae: 2.4748\n",
      "Epoch 190/200\n",
      "2161/2161 [==============================] - 1s 679us/sample - loss: 10.3773 - mae: 2.5207 - val_loss: 11.0551 - val_mae: 2.5854\n",
      "Epoch 191/200\n",
      "2161/2161 [==============================] - 2s 700us/sample - loss: 9.8937 - mae: 2.4732 - val_loss: 19.7671 - val_mae: 3.5528\n",
      "Epoch 192/200\n",
      "2161/2161 [==============================] - 1s 660us/sample - loss: 10.1870 - mae: 2.5006 - val_loss: 9.2197 - val_mae: 2.3710\n",
      "Epoch 193/200\n",
      "2161/2161 [==============================] - 1s 642us/sample - loss: 9.7135 - mae: 2.4529 - val_loss: 9.2180 - val_mae: 2.3570\n",
      "Epoch 194/200\n",
      "2161/2161 [==============================] - 1s 660us/sample - loss: 9.9073 - mae: 2.4579 - val_loss: 9.6846 - val_mae: 2.4268\n",
      "Epoch 195/200\n",
      "2161/2161 [==============================] - 1s 663us/sample - loss: 10.0829 - mae: 2.4859 - val_loss: 8.9078 - val_mae: 2.3658\n",
      "Epoch 196/200\n",
      "2161/2161 [==============================] - 1s 647us/sample - loss: 9.6449 - mae: 2.4481 - val_loss: 9.7010 - val_mae: 2.4223\n",
      "Epoch 197/200\n",
      "2161/2161 [==============================] - 1s 635us/sample - loss: 9.5883 - mae: 2.4199 - val_loss: 11.6636 - val_mae: 2.7479\n",
      "Epoch 198/200\n",
      "2161/2161 [==============================] - 1s 640us/sample - loss: 9.9379 - mae: 2.4633 - val_loss: 9.4967 - val_mae: 2.4604\n",
      "Epoch 199/200\n",
      "2161/2161 [==============================] - 1s 634us/sample - loss: 9.7456 - mae: 2.4268 - val_loss: 9.1837 - val_mae: 2.3484\n",
      "Epoch 200/200\n",
      "2161/2161 [==============================] - 1s 642us/sample - loss: 9.6233 - mae: 2.4256 - val_loss: 12.1622 - val_mae: 2.7470\n"
     ]
    },
    {
     "data": {
      "text/plain": [
       "<tensorflow.python.keras.callbacks.History at 0x7f7be7e1d6a0>"
      ]
     },
     "execution_count": 114,
     "metadata": {},
     "output_type": "execute_result"
    }
   ],
   "source": [
    "model1.compile(loss=\"mse\", optimizer = tf.keras.optimizers.SGD(lr=0.005), metrics = ['mae'])\n",
    "model1.fit(X_train_3D, y_train, epochs=200, validation_data=(X_valid_3D, y_valid))"
   ]
  },
  {
   "cell_type": "code",
   "execution_count": null,
   "metadata": {},
   "outputs": [],
   "source": []
  },
  {
   "cell_type": "code",
   "execution_count": null,
   "metadata": {},
   "outputs": [],
   "source": []
  },
  {
   "cell_type": "markdown",
   "metadata": {},
   "source": [
    "## 1.8) Plot the history"
   ]
  },
  {
   "cell_type": "markdown",
   "metadata": {},
   "source": [
    "Recall that you can simply use `pd.DataFrame(history.history).plot()`."
   ]
  },
  {
   "cell_type": "code",
   "execution_count": 117,
   "metadata": {},
   "outputs": [
    {
     "data": {
      "text/plain": [
       "<matplotlib.axes._subplots.AxesSubplot at 0x7f7be764f9b0>"
      ]
     },
     "execution_count": 117,
     "metadata": {},
     "output_type": "execute_result"
    },
    {
     "data": {
      "image/png": "[encoded data removed]",
      "text/plain": [
       "<Figure size 432x288 with 1 Axes>"
      ]
     },
     "metadata": {
      "needs_background": "light"
     },
     "output_type": "display_data"
    }
   ],
   "source": [
    "pd.DataFrame(Out[114].history)['val_mae'].plot()"
   ]
  },
  {
   "cell_type": "code",
   "execution_count": null,
   "metadata": {},
   "outputs": [],
   "source": []
  },
  {
   "cell_type": "code",
   "execution_count": null,
   "metadata": {},
   "outputs": [],
   "source": []
  },
  {
   "cell_type": "markdown",
   "metadata": {},
   "source": [
    "## 1.9) Evaluate the model"
   ]
  },
  {
   "cell_type": "markdown",
   "metadata": {},
   "source": [
    "Evaluate your RNN on the validation set, using the MAE. Try training your model again using the Huber loss and see if you get better performance."
   ]
  },
  {
   "cell_type": "code",
   "execution_count": 118,
   "metadata": {
    "scrolled": false
   },
   "outputs": [
    {
     "name": "stdout",
     "output_type": "stream",
     "text": [
      "Train on 2161 samples, validate on 731 samples\n",
      "Epoch 1/50\n",
      "2161/2161 [==============================] - 2s 719us/sample - loss: 3.4372 - mae: 3.9073 - val_loss: 2.2555 - val_mae: 2.7148\n",
      "Epoch 2/50\n",
      "2161/2161 [==============================] - 1s 366us/sample - loss: 2.1932 - mae: 2.6525 - val_loss: 1.8883 - val_mae: 2.3453\n",
      "Epoch 3/50\n",
      "2161/2161 [==============================] - 1s 368us/sample - loss: 2.0369 - mae: 2.4891 - val_loss: 1.8721 - val_mae: 2.3319\n",
      "Epoch 4/50\n",
      "2161/2161 [==============================] - 1s 374us/sample - loss: 1.9788 - mae: 2.4367 - val_loss: 1.8559 - val_mae: 2.3107\n",
      "Epoch 5/50\n",
      "2161/2161 [==============================] - 1s 377us/sample - loss: 1.9651 - mae: 2.4204 - val_loss: 1.8402 - val_mae: 2.2956\n",
      "Epoch 6/50\n",
      "2161/2161 [==============================] - 1s 357us/sample - loss: 1.9693 - mae: 2.4267 - val_loss: 1.8812 - val_mae: 2.3374\n",
      "Epoch 7/50\n",
      "2161/2161 [==============================] - 1s 354us/sample - loss: 1.9238 - mae: 2.3806 - val_loss: 1.8400 - val_mae: 2.2989\n",
      "Epoch 8/50\n",
      "2161/2161 [==============================] - 1s 358us/sample - loss: 1.9236 - mae: 2.3777 - val_loss: 1.8546 - val_mae: 2.3106\n",
      "Epoch 9/50\n",
      "2161/2161 [==============================] - 1s 388us/sample - loss: 1.9333 - mae: 2.3893 - val_loss: 1.9628 - val_mae: 2.4190\n",
      "Epoch 10/50\n",
      "2161/2161 [==============================] - 1s 372us/sample - loss: 1.9040 - mae: 2.3586 - val_loss: 1.8112 - val_mae: 2.2705\n",
      "Epoch 11/50\n",
      "2161/2161 [==============================] - 1s 364us/sample - loss: 1.9387 - mae: 2.3925 - val_loss: 1.8403 - val_mae: 2.2959\n",
      "Epoch 12/50\n",
      "2161/2161 [==============================] - 1s 402us/sample - loss: 1.9133 - mae: 2.3662 - val_loss: 2.0388 - val_mae: 2.4993\n",
      "Epoch 13/50\n",
      "2161/2161 [==============================] - 1s 376us/sample - loss: 1.8989 - mae: 2.3492 - val_loss: 1.8158 - val_mae: 2.2753\n",
      "Epoch 14/50\n",
      "2161/2161 [==============================] - 1s 375us/sample - loss: 1.9205 - mae: 2.3726 - val_loss: 1.8347 - val_mae: 2.2931\n",
      "Epoch 15/50\n",
      "2161/2161 [==============================] - 1s 391us/sample - loss: 1.8908 - mae: 2.3458 - val_loss: 1.8488 - val_mae: 2.3036\n",
      "Epoch 16/50\n",
      "2161/2161 [==============================] - 1s 409us/sample - loss: 1.8939 - mae: 2.3476 - val_loss: 1.8296 - val_mae: 2.2853\n",
      "Epoch 17/50\n",
      "2161/2161 [==============================] - 1s 393us/sample - loss: 1.8929 - mae: 2.3469 - val_loss: 1.7975 - val_mae: 2.2552\n",
      "Epoch 18/50\n",
      "2161/2161 [==============================] - 1s 391us/sample - loss: 1.9023 - mae: 2.3523 - val_loss: 1.8222 - val_mae: 2.2821\n",
      "Epoch 19/50\n",
      "2161/2161 [==============================] - 1s 384us/sample - loss: 1.9008 - mae: 2.3539 - val_loss: 1.9837 - val_mae: 2.4331\n",
      "Epoch 20/50\n",
      "2161/2161 [==============================] - 1s 395us/sample - loss: 1.8939 - mae: 2.3442 - val_loss: 1.8148 - val_mae: 2.2698\n",
      "Epoch 21/50\n",
      "2161/2161 [==============================] - 1s 387us/sample - loss: 1.8744 - mae: 2.3285 - val_loss: 1.8301 - val_mae: 2.2862\n",
      "Epoch 22/50\n",
      "2161/2161 [==============================] - 1s 435us/sample - loss: 1.8780 - mae: 2.3299 - val_loss: 1.8641 - val_mae: 2.3178\n",
      "Epoch 23/50\n",
      "2161/2161 [==============================] - 1s 401us/sample - loss: 1.8961 - mae: 2.3506 - val_loss: 1.8126 - val_mae: 2.2713\n",
      "Epoch 24/50\n",
      "2161/2161 [==============================] - 1s 403us/sample - loss: 1.8827 - mae: 2.3352 - val_loss: 1.8769 - val_mae: 2.3323\n",
      "Epoch 25/50\n",
      "2161/2161 [==============================] - 1s 411us/sample - loss: 1.8787 - mae: 2.3330 - val_loss: 1.7962 - val_mae: 2.2533\n",
      "Epoch 26/50\n",
      "2161/2161 [==============================] - 1s 426us/sample - loss: 1.8836 - mae: 2.3356 - val_loss: 1.7818 - val_mae: 2.2404\n",
      "Epoch 27/50\n",
      "2161/2161 [==============================] - 1s 415us/sample - loss: 1.8710 - mae: 2.3207 - val_loss: 1.8226 - val_mae: 2.2795\n",
      "Epoch 28/50\n",
      "2161/2161 [==============================] - 1s 413us/sample - loss: 1.8770 - mae: 2.3283 - val_loss: 1.8423 - val_mae: 2.2989\n",
      "Epoch 29/50\n",
      "2161/2161 [==============================] - 1s 380us/sample - loss: 1.8912 - mae: 2.3432 - val_loss: 1.8071 - val_mae: 2.2608\n",
      "Epoch 30/50\n",
      "2161/2161 [==============================] - 1s 387us/sample - loss: 1.9068 - mae: 2.3603 - val_loss: 2.0403 - val_mae: 2.4922\n",
      "Epoch 31/50\n",
      "2161/2161 [==============================] - 1s 376us/sample - loss: 1.8873 - mae: 2.3411 - val_loss: 1.8550 - val_mae: 2.3100\n",
      "Epoch 32/50\n",
      "2161/2161 [==============================] - 1s 414us/sample - loss: 1.8743 - mae: 2.3292 - val_loss: 1.8852 - val_mae: 2.3381\n",
      "Epoch 33/50\n",
      "2161/2161 [==============================] - 1s 412us/sample - loss: 1.8941 - mae: 2.3495 - val_loss: 1.9829 - val_mae: 2.4417\n",
      "Epoch 34/50\n",
      "2161/2161 [==============================] - 1s 402us/sample - loss: 1.8783 - mae: 2.3313 - val_loss: 1.9463 - val_mae: 2.4044\n",
      "Epoch 35/50\n",
      "2161/2161 [==============================] - 1s 385us/sample - loss: 1.8766 - mae: 2.3293 - val_loss: 2.2398 - val_mae: 2.6996\n",
      "Epoch 36/50\n",
      "2161/2161 [==============================] - 1s 395us/sample - loss: 1.8850 - mae: 2.3406 - val_loss: 1.7880 - val_mae: 2.2471\n",
      "Epoch 37/50\n",
      "2161/2161 [==============================] - 1s 393us/sample - loss: 1.8796 - mae: 2.3342 - val_loss: 1.8443 - val_mae: 2.2998\n",
      "Epoch 38/50\n",
      "2161/2161 [==============================] - 1s 401us/sample - loss: 1.8684 - mae: 2.3206 - val_loss: 1.9206 - val_mae: 2.3805\n",
      "Epoch 39/50\n",
      "2161/2161 [==============================] - 1s 395us/sample - loss: 1.8764 - mae: 2.3307 - val_loss: 1.8206 - val_mae: 2.2774\n",
      "Epoch 40/50\n",
      "2161/2161 [==============================] - 1s 405us/sample - loss: 1.8747 - mae: 2.3246 - val_loss: 1.8456 - val_mae: 2.3034\n",
      "Epoch 41/50\n",
      "2161/2161 [==============================] - 1s 392us/sample - loss: 1.8741 - mae: 2.3253 - val_loss: 1.8054 - val_mae: 2.2654\n",
      "Epoch 42/50\n",
      "2161/2161 [==============================] - 1s 390us/sample - loss: 1.8649 - mae: 2.3184 - val_loss: 1.8328 - val_mae: 2.2912\n",
      "Epoch 43/50\n",
      "2161/2161 [==============================] - 1s 384us/sample - loss: 1.8715 - mae: 2.3268 - val_loss: 1.7840 - val_mae: 2.2443\n",
      "Epoch 44/50\n",
      "2161/2161 [==============================] - 1s 384us/sample - loss: 1.8707 - mae: 2.3218 - val_loss: 1.7856 - val_mae: 2.2403\n",
      "Epoch 45/50\n",
      "2161/2161 [==============================] - 1s 426us/sample - loss: 1.8562 - mae: 2.3101 - val_loss: 1.8110 - val_mae: 2.2687\n",
      "Epoch 46/50\n",
      "2161/2161 [==============================] - 1s 408us/sample - loss: 1.8900 - mae: 2.3440 - val_loss: 1.8028 - val_mae: 2.2577\n",
      "Epoch 47/50\n",
      "2161/2161 [==============================] - 1s 413us/sample - loss: 1.8663 - mae: 2.3203 - val_loss: 1.8264 - val_mae: 2.2838\n",
      "Epoch 48/50\n",
      "2161/2161 [==============================] - 1s 404us/sample - loss: 1.8684 - mae: 2.3187 - val_loss: 1.7794 - val_mae: 2.2365\n",
      "Epoch 49/50\n",
      "2161/2161 [==============================] - 1s 395us/sample - loss: 1.8692 - mae: 2.3228 - val_loss: 1.8393 - val_mae: 2.2981\n",
      "Epoch 50/50\n",
      "2161/2161 [==============================] - 1s 419us/sample - loss: 1.8561 - mae: 2.3083 - val_loss: 1.7818 - val_mae: 2.2389\n",
      "2.0992385302576526\n"
     ]
    }
   ],
   "source": [
    "def huber_loss(y_true, y_pred, max_grad=1.):\n",
    "    err = tf.abs(y_true - y_pred, name='abs')\n",
    "    mg = tf.constant(max_grad, name='max_grad')\n",
    "    lin = mg * (err - 0.5 * mg)\n",
    "    quad = 0.5 * err * err\n",
    "    return tf.where(err < mg, quad, lin)\n",
    "\n",
    "model2 = tf.keras.models.Sequential()\n",
    "model2.add(tf.keras.layers.SimpleRNN(units=100, return_sequences=True, input_shape = (30, 1)))\n",
    "model2.add(tf.keras.layers.SimpleRNN(units=100))\n",
    "model2.add(tf.keras.layers.Dense(1))\n",
    "\n",
    "model2.compile(loss=huber_loss,\n",
    "               optimizer = tf.keras.optimizers.SGD(lr=0.005), \n",
    "               metrics = ['mae'])\n",
    "model2.fit(X_train_3D, y_train, epochs=50, validation_data=(X_valid_3D, y_valid))\n",
    "\n",
    "y_valid_test_rnn_model2 = model2.predict(X_test_3D)\n",
    "print(mean_absolute_error(y_test, y_valid_test_rnn_model2))"
   ]
  },
  {
   "cell_type": "code",
   "execution_count": 143,
   "metadata": {},
   "outputs": [
    {
     "name": "stdout",
     "output_type": "stream",
     "text": [
      "Train on 2161 samples, validate on 731 samples\n",
      "Epoch 1/50\n",
      "2161/2161 [==============================] - 2s 718us/sample - loss: 3.7626 - mae: 4.2334 - val_loss: 2.2794 - val_mae: 2.7403\n",
      "Epoch 2/50\n",
      "2161/2161 [==============================] - 1s 360us/sample - loss: 2.1506 - mae: 2.6116 - val_loss: 1.8416 - val_mae: 2.3002\n",
      "Epoch 3/50\n",
      "2161/2161 [==============================] - 1s 362us/sample - loss: 1.9292 - mae: 2.3805 - val_loss: 1.9868 - val_mae: 2.4383\n",
      "Epoch 4/50\n",
      "2161/2161 [==============================] - 1s 356us/sample - loss: 1.9284 - mae: 2.3787 - val_loss: 1.8468 - val_mae: 2.3033\n",
      "Epoch 5/50\n",
      "2161/2161 [==============================] - 1s 364us/sample - loss: 1.9173 - mae: 2.3719 - val_loss: 1.8228 - val_mae: 2.2774\n",
      "Epoch 6/50\n",
      "2161/2161 [==============================] - 1s 366us/sample - loss: 1.9278 - mae: 2.3828 - val_loss: 1.8373 - val_mae: 2.2933\n",
      "Epoch 7/50\n",
      "2161/2161 [==============================] - 1s 365us/sample - loss: 1.9146 - mae: 2.3680 - val_loss: 1.7986 - val_mae: 2.2564\n",
      "Epoch 8/50\n",
      "2161/2161 [==============================] - 1s 365us/sample - loss: 1.8885 - mae: 2.3415 - val_loss: 1.8118 - val_mae: 2.2626\n",
      "Epoch 9/50\n",
      "2161/2161 [==============================] - 1s 368us/sample - loss: 1.8996 - mae: 2.3528 - val_loss: 1.8418 - val_mae: 2.2959\n",
      "Epoch 10/50\n",
      "2161/2161 [==============================] - 1s 375us/sample - loss: 1.8874 - mae: 2.3410 - val_loss: 1.8437 - val_mae: 2.2955\n",
      "Epoch 11/50\n",
      "2161/2161 [==============================] - 1s 387us/sample - loss: 1.8822 - mae: 2.3344 - val_loss: 1.7905 - val_mae: 2.2464\n",
      "Epoch 12/50\n",
      "2161/2161 [==============================] - 1s 357us/sample - loss: 1.8631 - mae: 2.3159 - val_loss: 2.5340 - val_mae: 3.0010\n",
      "Epoch 13/50\n",
      "2161/2161 [==============================] - 1s 357us/sample - loss: 1.8804 - mae: 2.3333 - val_loss: 1.8757 - val_mae: 2.3243\n",
      "Epoch 14/50\n",
      "2161/2161 [==============================] - 1s 358us/sample - loss: 1.8854 - mae: 2.3372 - val_loss: 1.9158 - val_mae: 2.3700\n",
      "Epoch 15/50\n",
      "2161/2161 [==============================] - 1s 357us/sample - loss: 1.8658 - mae: 2.3177 - val_loss: 1.7971 - val_mae: 2.2525\n",
      "Epoch 16/50\n",
      "2161/2161 [==============================] - 1s 358us/sample - loss: 1.8640 - mae: 2.3131 - val_loss: 1.7830 - val_mae: 2.2400\n",
      "Epoch 17/50\n",
      "2161/2161 [==============================] - 1s 358us/sample - loss: 1.8622 - mae: 2.3151 - val_loss: 1.8029 - val_mae: 2.2514\n",
      "Epoch 18/50\n",
      "2161/2161 [==============================] - 1s 359us/sample - loss: 1.8436 - mae: 2.2957 - val_loss: 1.8367 - val_mae: 2.2895\n",
      "Epoch 19/50\n",
      "2161/2161 [==============================] - 1s 361us/sample - loss: 1.8619 - mae: 2.3123 - val_loss: 1.7805 - val_mae: 2.2359\n",
      "Epoch 20/50\n",
      "2161/2161 [==============================] - 1s 359us/sample - loss: 1.8534 - mae: 2.3041 - val_loss: 1.7897 - val_mae: 2.2454\n",
      "Epoch 21/50\n",
      "2161/2161 [==============================] - 1s 363us/sample - loss: 1.8664 - mae: 2.3178 - val_loss: 1.8100 - val_mae: 2.2643\n",
      "Epoch 22/50\n",
      "2161/2161 [==============================] - 1s 363us/sample - loss: 1.8510 - mae: 2.3026 - val_loss: 1.7805 - val_mae: 2.2350\n",
      "Epoch 23/50\n",
      "2161/2161 [==============================] - 1s 364us/sample - loss: 1.8549 - mae: 2.3063 - val_loss: 1.7922 - val_mae: 2.2494\n",
      "Epoch 24/50\n",
      "2161/2161 [==============================] - 1s 361us/sample - loss: 1.8508 - mae: 2.3016 - val_loss: 1.7757 - val_mae: 2.2314\n",
      "Epoch 25/50\n",
      "2161/2161 [==============================] - 1s 363us/sample - loss: 1.8568 - mae: 2.3077 - val_loss: 1.9459 - val_mae: 2.3983\n",
      "Epoch 26/50\n",
      "2161/2161 [==============================] - 1s 367us/sample - loss: 1.8437 - mae: 2.2958 - val_loss: 1.8119 - val_mae: 2.2647\n",
      "Epoch 27/50\n",
      "2161/2161 [==============================] - 1s 371us/sample - loss: 1.8514 - mae: 2.3036 - val_loss: 1.7920 - val_mae: 2.2478\n",
      "Epoch 28/50\n",
      "2161/2161 [==============================] - 1s 365us/sample - loss: 1.8447 - mae: 2.2954 - val_loss: 1.8192 - val_mae: 2.2720\n",
      "Epoch 29/50\n",
      "2161/2161 [==============================] - 1s 362us/sample - loss: 1.8450 - mae: 2.2971 - val_loss: 1.8018 - val_mae: 2.2546\n",
      "Epoch 30/50\n",
      "2161/2161 [==============================] - 1s 361us/sample - loss: 1.8437 - mae: 2.2935 - val_loss: 1.7730 - val_mae: 2.2295\n",
      "Epoch 31/50\n",
      "2161/2161 [==============================] - 1s 365us/sample - loss: 1.8431 - mae: 2.2928 - val_loss: 1.8043 - val_mae: 2.2552\n",
      "Epoch 32/50\n",
      "2161/2161 [==============================] - 1s 363us/sample - loss: 1.8463 - mae: 2.2963 - val_loss: 1.8310 - val_mae: 2.2823\n",
      "Epoch 33/50\n",
      "2161/2161 [==============================] - 1s 367us/sample - loss: 1.8433 - mae: 2.2931 - val_loss: 1.7807 - val_mae: 2.2371\n",
      "Epoch 34/50\n",
      "2161/2161 [==============================] - 1s 365us/sample - loss: 1.8352 - mae: 2.2877 - val_loss: 1.7858 - val_mae: 2.2421\n",
      "Epoch 35/50\n",
      "2161/2161 [==============================] - 1s 377us/sample - loss: 1.8390 - mae: 2.2904 - val_loss: 1.7840 - val_mae: 2.2394\n",
      "Epoch 36/50\n",
      "2161/2161 [==============================] - 1s 383us/sample - loss: 1.8290 - mae: 2.2792 - val_loss: 1.8473 - val_mae: 2.3023\n",
      "Epoch 37/50\n",
      "2161/2161 [==============================] - 1s 386us/sample - loss: 1.8238 - mae: 2.2722 - val_loss: 1.8529 - val_mae: 2.3078\n",
      "Epoch 38/50\n",
      "2161/2161 [==============================] - 1s 382us/sample - loss: 1.8293 - mae: 2.2801 - val_loss: 1.8152 - val_mae: 2.2655\n",
      "Epoch 39/50\n",
      "2161/2161 [==============================] - 1s 374us/sample - loss: 1.8343 - mae: 2.2850 - val_loss: 1.7802 - val_mae: 2.2362\n",
      "Epoch 40/50\n",
      "2161/2161 [==============================] - 1s 380us/sample - loss: 1.8258 - mae: 2.2760 - val_loss: 1.7829 - val_mae: 2.2385\n",
      "Epoch 41/50\n",
      "2161/2161 [==============================] - 1s 379us/sample - loss: 1.8310 - mae: 2.2807 - val_loss: 1.7833 - val_mae: 2.2379\n",
      "Epoch 42/50\n",
      "2161/2161 [==============================] - 1s 374us/sample - loss: 1.8275 - mae: 2.2785 - val_loss: 1.7953 - val_mae: 2.2456\n",
      "Epoch 43/50\n",
      "2161/2161 [==============================] - 1s 383us/sample - loss: 1.8246 - mae: 2.2728 - val_loss: 1.8294 - val_mae: 2.2825\n",
      "Epoch 44/50\n",
      "2161/2161 [==============================] - 1s 375us/sample - loss: 1.8162 - mae: 2.2627 - val_loss: 1.7808 - val_mae: 2.2365\n",
      "Epoch 45/50\n",
      "2161/2161 [==============================] - 1s 373us/sample - loss: 1.8099 - mae: 2.2613 - val_loss: 1.8748 - val_mae: 2.3289\n",
      "Epoch 46/50\n",
      "2161/2161 [==============================] - 1s 378us/sample - loss: 1.8194 - mae: 2.2662 - val_loss: 1.7921 - val_mae: 2.2499\n",
      "Epoch 47/50\n",
      "2161/2161 [==============================] - 1s 369us/sample - loss: 1.8134 - mae: 2.2603 - val_loss: 1.7821 - val_mae: 2.2357\n",
      "Epoch 48/50\n",
      "2161/2161 [==============================] - 1s 377us/sample - loss: 1.8056 - mae: 2.2513 - val_loss: 1.7873 - val_mae: 2.2417\n",
      "Epoch 49/50\n",
      "2161/2161 [==============================] - 1s 396us/sample - loss: 1.8049 - mae: 2.2526 - val_loss: 1.7974 - val_mae: 2.2542\n",
      "Epoch 50/50\n",
      "2161/2161 [==============================] - 1s 385us/sample - loss: 1.8057 - mae: 2.2545 - val_loss: 1.8074 - val_mae: 2.2556\n",
      "2.1155171175989613\n"
     ]
    }
   ],
   "source": [
    "def huber_loss(y_true, y_pred, max_grad=1.):\n",
    "    err = tf.abs(y_true - y_pred, name='abs')\n",
    "    mg = tf.constant(max_grad, name='max_grad')\n",
    "    lin = mg * (err - 0.5 * mg)\n",
    "    quad = 0.5 * err * err\n",
    "    return tf.where(err < mg, quad, lin)\n",
    "\n",
    "model3 = tf.keras.models.Sequential()\n",
    "model3.add(tf.keras.layers.SimpleRNN(units=100, return_sequences=True, input_shape = (30, 1)))\n",
    "model3.add(tf.keras.layers.SimpleRNN(units=100))\n",
    "model3.add(tf.keras.layers.Dense(1))\n",
    "\n",
    "model3.compile(loss=huber_loss,\n",
    "               optimizer = tf.keras.optimizers.SGD(lr=0.005), \n",
    "               metrics = ['mae'])\n",
    "model3.fit(X_train_3D_scaled, y_train, epochs=50, validation_data=(X_valid_3D_scaled, y_valid))\n",
    "\n",
    "y_valid_test_rnn_model3 = model3.predict(X_test_3D_scaled)\n",
    "print(mean_absolute_error(y_test, y_valid_test_rnn_model3))"
   ]
  },
  {
   "cell_type": "code",
   "execution_count": 133,
   "metadata": {},
   "outputs": [
    {
     "data": {
      "text/plain": [
       "<matplotlib.legend.Legend at 0x7f7be4433048>"
      ]
     },
     "execution_count": 133,
     "metadata": {},
     "output_type": "execute_result"
    },
    {
     "data": {
      "image/png": "[encoded data removed]",
      "text/plain": [
       "<Figure size 1152x648 with 1 Axes>"
      ]
     },
     "metadata": {
      "needs_background": "light"
     },
     "output_type": "display_data"
    }
   ],
   "source": [
    "plt.figure(figsize=(16,9))\n",
    "plt.plot(y_valid_test_rnn_model2.squeeze(), label = \"RNN prediction\")\n",
    "plt.plot(y_test.values.squeeze(), label = \"True\")\n",
    "plt.plot(y_test_pred_lasso, label = \"Lasso\")\n",
    "\n",
    "plt.legend()"
   ]
  },
  {
   "cell_type": "code",
   "execution_count": null,
   "metadata": {},
   "outputs": [],
   "source": []
  },
  {
   "cell_type": "code",
   "execution_count": null,
   "metadata": {},
   "outputs": [],
   "source": []
  },
  {
   "cell_type": "markdown",
   "metadata": {},
   "source": [
    "## 1.10) Plot the predictions"
   ]
  },
  {
   "cell_type": "markdown",
   "metadata": {},
   "source": [
    "Make predictions on the validation set and plot them. Compare them to the targets and the baseline predictions."
   ]
  },
  {
   "cell_type": "code",
   "execution_count": null,
   "metadata": {},
   "outputs": [],
   "source": []
  },
  {
   "cell_type": "code",
   "execution_count": null,
   "metadata": {},
   "outputs": [],
   "source": []
  },
  {
   "cell_type": "code",
   "execution_count": null,
   "metadata": {},
   "outputs": [],
   "source": []
  },
  {
   "cell_type": "markdown",
   "metadata": {},
   "source": [
    "![Exercise solution](https://camo.githubusercontent.com/250388fde3fac9135ead9471733ee28e049f7a37/68747470733a2f2f75706c6f61642e77696b696d656469612e6f72672f77696b6970656469612f636f6d6d6f6e732f302f30362f46696c6f735f736567756e646f5f6c6f676f5f253238666c69707065642532392e6a7067)"
   ]
  },
  {
   "cell_type": "markdown",
   "metadata": {},
   "source": [
    "# Exercise 1 – Solution"
   ]
  },
  {
   "cell_type": "markdown",
   "metadata": {},
   "source": [
    "## 1.1) Load the data"
   ]
  },
  {
   "cell_type": "markdown",
   "metadata": {},
   "source": [
    "Let's start with a simple univariate time series: the daily temperatures in Melbourne from 1981 to 1990 ([source](https://datamarket.com/data/set/2324/daily-minimum-temperatures-in-melbourne-australia-1981-1990))."
   ]
  },
  {
   "cell_type": "code",
   "execution_count": 147,
   "metadata": {},
   "outputs": [],
   "source": [
    "temps = pd.read_csv(\"datasets/daily-minimum-temperatures-in-me.csv\",\n",
    "                    parse_dates=[0], index_col=0)"
   ]
  },
  {
   "cell_type": "code",
   "execution_count": 148,
   "metadata": {},
   "outputs": [
    {
     "name": "stdout",
     "output_type": "stream",
     "text": [
      "<class 'pandas.core.frame.DataFrame'>\n",
      "DatetimeIndex: 3650 entries, 1981-01-01 to 1990-12-31\n",
      "Data columns (total 1 columns):\n",
      "Temperature    3650 non-null float64\n",
      "dtypes: float64(1)\n",
      "memory usage: 57.0 KB\n"
     ]
    }
   ],
   "source": [
    "temps.info()"
   ]
  },
  {
   "cell_type": "code",
   "execution_count": 149,
   "metadata": {},
   "outputs": [
    {
     "data": {
      "text/html": [
       "<div>\n",
       "<style scoped>\n",
       "    .dataframe tbody tr th:only-of-type {\n",
       "        vertical-align: middle;\n",
       "    }\n",
       "\n",
       "    .dataframe tbody tr th {\n",
       "        vertical-align: top;\n",
       "    }\n",
       "\n",
       "    .dataframe thead th {\n",
       "        text-align: right;\n",
       "    }\n",
       "</style>\n",
       "<table border=\"1\" class=\"dataframe\">\n",
       "  <thead>\n",
       "    <tr style=\"text-align: right;\">\n",
       "      <th></th>\n",
       "      <th>Temperature</th>\n",
       "    </tr>\n",
       "    <tr>\n",
       "      <th>Date</th>\n",
       "      <th></th>\n",
       "    </tr>\n",
       "  </thead>\n",
       "  <tbody>\n",
       "    <tr>\n",
       "      <th>1981-01-01</th>\n",
       "      <td>20.7</td>\n",
       "    </tr>\n",
       "    <tr>\n",
       "      <th>1981-01-02</th>\n",
       "      <td>17.9</td>\n",
       "    </tr>\n",
       "    <tr>\n",
       "      <th>1981-01-03</th>\n",
       "      <td>18.8</td>\n",
       "    </tr>\n",
       "    <tr>\n",
       "      <th>1981-01-04</th>\n",
       "      <td>14.6</td>\n",
       "    </tr>\n",
       "    <tr>\n",
       "      <th>1981-01-05</th>\n",
       "      <td>15.8</td>\n",
       "    </tr>\n",
       "  </tbody>\n",
       "</table>\n",
       "</div>"
      ],
      "text/plain": [
       "            Temperature\n",
       "Date                   \n",
       "1981-01-01         20.7\n",
       "1981-01-02         17.9\n",
       "1981-01-03         18.8\n",
       "1981-01-04         14.6\n",
       "1981-01-05         15.8"
      ]
     },
     "execution_count": 149,
     "metadata": {},
     "output_type": "execute_result"
    }
   ],
   "source": [
    "temps.head()"
   ]
  },
  {
   "cell_type": "code",
   "execution_count": 150,
   "metadata": {},
   "outputs": [
    {
     "data": {
      "image/png": "[encoded data removed]",
      "text/plain": [
       "<Figure size 720x360 with 1 Axes>"
      ]
     },
     "metadata": {
      "needs_background": "light"
     },
     "output_type": "display_data"
    }
   ],
   "source": [
    "temps.plot(figsize=(10,5))\n",
    "plt.show()"
   ]
  },
  {
   "cell_type": "markdown",
   "metadata": {},
   "source": [
    "## 1.2) Prepare the data"
   ]
  },
  {
   "cell_type": "markdown",
   "metadata": {},
   "source": [
    "A few dates are missing, for example December 31st, 1984:"
   ]
  },
  {
   "cell_type": "code",
   "execution_count": 151,
   "metadata": {},
   "outputs": [
    {
     "data": {
      "text/html": [
       "<div>\n",
       "<style scoped>\n",
       "    .dataframe tbody tr th:only-of-type {\n",
       "        vertical-align: middle;\n",
       "    }\n",
       "\n",
       "    .dataframe tbody tr th {\n",
       "        vertical-align: top;\n",
       "    }\n",
       "\n",
       "    .dataframe thead th {\n",
       "        text-align: right;\n",
       "    }\n",
       "</style>\n",
       "<table border=\"1\" class=\"dataframe\">\n",
       "  <thead>\n",
       "    <tr style=\"text-align: right;\">\n",
       "      <th></th>\n",
       "      <th>Temperature</th>\n",
       "    </tr>\n",
       "    <tr>\n",
       "      <th>Date</th>\n",
       "      <th></th>\n",
       "    </tr>\n",
       "  </thead>\n",
       "  <tbody>\n",
       "    <tr>\n",
       "      <th>1984-12-29</th>\n",
       "      <td>16.0</td>\n",
       "    </tr>\n",
       "    <tr>\n",
       "      <th>1984-12-30</th>\n",
       "      <td>16.4</td>\n",
       "    </tr>\n",
       "    <tr>\n",
       "      <th>1985-01-01</th>\n",
       "      <td>13.3</td>\n",
       "    </tr>\n",
       "    <tr>\n",
       "      <th>1985-01-02</th>\n",
       "      <td>15.2</td>\n",
       "    </tr>\n",
       "  </tbody>\n",
       "</table>\n",
       "</div>"
      ],
      "text/plain": [
       "            Temperature\n",
       "Date                   \n",
       "1984-12-29         16.0\n",
       "1984-12-30         16.4\n",
       "1985-01-01         13.3\n",
       "1985-01-02         15.2"
      ]
     },
     "execution_count": 151,
     "metadata": {},
     "output_type": "execute_result"
    }
   ],
   "source": [
    "temps.loc[\"1984-12-29\":\"1985-01-02\"]"
   ]
  },
  {
   "cell_type": "markdown",
   "metadata": {},
   "source": [
    "Let's ensure there's one row per day, filling missing values with the previous valid value:"
   ]
  },
  {
   "cell_type": "code",
   "execution_count": 152,
   "metadata": {},
   "outputs": [
    {
     "data": {
      "text/html": [
       "<div>\n",
       "<style scoped>\n",
       "    .dataframe tbody tr th:only-of-type {\n",
       "        vertical-align: middle;\n",
       "    }\n",
       "\n",
       "    .dataframe tbody tr th {\n",
       "        vertical-align: top;\n",
       "    }\n",
       "\n",
       "    .dataframe thead th {\n",
       "        text-align: right;\n",
       "    }\n",
       "</style>\n",
       "<table border=\"1\" class=\"dataframe\">\n",
       "  <thead>\n",
       "    <tr style=\"text-align: right;\">\n",
       "      <th></th>\n",
       "      <th>Temperature</th>\n",
       "    </tr>\n",
       "    <tr>\n",
       "      <th>Date</th>\n",
       "      <th></th>\n",
       "    </tr>\n",
       "  </thead>\n",
       "  <tbody>\n",
       "    <tr>\n",
       "      <th>1984-12-29</th>\n",
       "      <td>16.0</td>\n",
       "    </tr>\n",
       "    <tr>\n",
       "      <th>1984-12-30</th>\n",
       "      <td>16.4</td>\n",
       "    </tr>\n",
       "    <tr>\n",
       "      <th>1984-12-31</th>\n",
       "      <td>16.4</td>\n",
       "    </tr>\n",
       "    <tr>\n",
       "      <th>1985-01-01</th>\n",
       "      <td>13.3</td>\n",
       "    </tr>\n",
       "    <tr>\n",
       "      <th>1985-01-02</th>\n",
       "      <td>15.2</td>\n",
       "    </tr>\n",
       "  </tbody>\n",
       "</table>\n",
       "</div>"
      ],
      "text/plain": [
       "            Temperature\n",
       "Date                   \n",
       "1984-12-29         16.0\n",
       "1984-12-30         16.4\n",
       "1984-12-31         16.4\n",
       "1985-01-01         13.3\n",
       "1985-01-02         15.2"
      ]
     },
     "execution_count": 152,
     "metadata": {},
     "output_type": "execute_result"
    }
   ],
   "source": [
    "temps = temps.asfreq(\"1D\", method=\"ffill\")\n",
    "temps.loc[\"1984-12-29\":\"1985-01-02\"]"
   ]
  },
  {
   "cell_type": "markdown",
   "metadata": {},
   "source": [
    "Alternatively, we could have interpolated using `temps.interpolate()`."
   ]
  },
  {
   "cell_type": "markdown",
   "metadata": {},
   "source": [
    "## 1.3) Add the shifted columns"
   ]
  },
  {
   "cell_type": "markdown",
   "metadata": {},
   "source": [
    "Next, let's create a function to add lag columns:"
   ]
  },
  {
   "cell_type": "code",
   "execution_count": 153,
   "metadata": {},
   "outputs": [],
   "source": [
    "def add_lags(series, times):\n",
    "    cols = []\n",
    "    column_index = []\n",
    "    for time in times:\n",
    "        cols.append(series.shift(-time))\n",
    "        lag_fmt = \"t+{time}\" if time > 0 else \"t{time}\" if time < 0 else \"t\"\n",
    "        column_index += [(lag_fmt.format(time=time), col_name)\n",
    "                        for col_name in series.columns]\n",
    "    df = pd.concat(cols, axis=1)\n",
    "    df.columns = pd.MultiIndex.from_tuples(column_index)\n",
    "    return df"
   ]
  },
  {
   "cell_type": "code",
   "execution_count": 154,
   "metadata": {},
   "outputs": [
    {
     "data": {
      "text/html": [
       "<div>\n",
       "<style scoped>\n",
       "    .dataframe tbody tr th:only-of-type {\n",
       "        vertical-align: middle;\n",
       "    }\n",
       "\n",
       "    .dataframe tbody tr th {\n",
       "        vertical-align: top;\n",
       "    }\n",
       "\n",
       "    .dataframe thead tr th {\n",
       "        text-align: left;\n",
       "    }\n",
       "\n",
       "    .dataframe thead tr:last-of-type th {\n",
       "        text-align: right;\n",
       "    }\n",
       "</style>\n",
       "<table border=\"1\" class=\"dataframe\">\n",
       "  <thead>\n",
       "    <tr>\n",
       "      <th></th>\n",
       "      <th>t-2</th>\n",
       "      <th>t-1</th>\n",
       "      <th>t</th>\n",
       "      <th>t+2</th>\n",
       "    </tr>\n",
       "    <tr>\n",
       "      <th></th>\n",
       "      <th>Temperature</th>\n",
       "      <th>Temperature</th>\n",
       "      <th>Temperature</th>\n",
       "      <th>Temperature</th>\n",
       "    </tr>\n",
       "    <tr>\n",
       "      <th>Date</th>\n",
       "      <th></th>\n",
       "      <th></th>\n",
       "      <th></th>\n",
       "      <th></th>\n",
       "    </tr>\n",
       "  </thead>\n",
       "  <tbody>\n",
       "    <tr>\n",
       "      <th>1981-01-01</th>\n",
       "      <td>NaN</td>\n",
       "      <td>NaN</td>\n",
       "      <td>20.7</td>\n",
       "      <td>18.8</td>\n",
       "    </tr>\n",
       "    <tr>\n",
       "      <th>1981-01-02</th>\n",
       "      <td>NaN</td>\n",
       "      <td>20.7</td>\n",
       "      <td>17.9</td>\n",
       "      <td>14.6</td>\n",
       "    </tr>\n",
       "    <tr>\n",
       "      <th>1981-01-03</th>\n",
       "      <td>20.7</td>\n",
       "      <td>17.9</td>\n",
       "      <td>18.8</td>\n",
       "      <td>15.8</td>\n",
       "    </tr>\n",
       "    <tr>\n",
       "      <th>1981-01-04</th>\n",
       "      <td>17.9</td>\n",
       "      <td>18.8</td>\n",
       "      <td>14.6</td>\n",
       "      <td>15.8</td>\n",
       "    </tr>\n",
       "    <tr>\n",
       "      <th>1981-01-05</th>\n",
       "      <td>18.8</td>\n",
       "      <td>14.6</td>\n",
       "      <td>15.8</td>\n",
       "      <td>15.8</td>\n",
       "    </tr>\n",
       "    <tr>\n",
       "      <th>1981-01-06</th>\n",
       "      <td>14.6</td>\n",
       "      <td>15.8</td>\n",
       "      <td>15.8</td>\n",
       "      <td>17.4</td>\n",
       "    </tr>\n",
       "    <tr>\n",
       "      <th>1981-01-07</th>\n",
       "      <td>15.8</td>\n",
       "      <td>15.8</td>\n",
       "      <td>15.8</td>\n",
       "      <td>21.8</td>\n",
       "    </tr>\n",
       "    <tr>\n",
       "      <th>1981-01-08</th>\n",
       "      <td>15.8</td>\n",
       "      <td>15.8</td>\n",
       "      <td>17.4</td>\n",
       "      <td>20.0</td>\n",
       "    </tr>\n",
       "    <tr>\n",
       "      <th>1981-01-09</th>\n",
       "      <td>15.8</td>\n",
       "      <td>17.4</td>\n",
       "      <td>21.8</td>\n",
       "      <td>16.2</td>\n",
       "    </tr>\n",
       "    <tr>\n",
       "      <th>1981-01-10</th>\n",
       "      <td>17.4</td>\n",
       "      <td>21.8</td>\n",
       "      <td>20.0</td>\n",
       "      <td>13.3</td>\n",
       "    </tr>\n",
       "  </tbody>\n",
       "</table>\n",
       "</div>"
      ],
      "text/plain": [
       "                   t-2         t-1           t         t+2\n",
       "           Temperature Temperature Temperature Temperature\n",
       "Date                                                      \n",
       "1981-01-01         NaN         NaN        20.7        18.8\n",
       "1981-01-02         NaN        20.7        17.9        14.6\n",
       "1981-01-03        20.7        17.9        18.8        15.8\n",
       "1981-01-04        17.9        18.8        14.6        15.8\n",
       "1981-01-05        18.8        14.6        15.8        15.8\n",
       "1981-01-06        14.6        15.8        15.8        17.4\n",
       "1981-01-07        15.8        15.8        15.8        21.8\n",
       "1981-01-08        15.8        15.8        17.4        20.0\n",
       "1981-01-09        15.8        17.4        21.8        16.2\n",
       "1981-01-10        17.4        21.8        20.0        13.3"
      ]
     },
     "execution_count": 154,
     "metadata": {},
     "output_type": "execute_result"
    }
   ],
   "source": [
    "add_lags(temps, times=(-2, -1, 0, +2)).head(10)"
   ]
  },
  {
   "cell_type": "markdown",
   "metadata": {},
   "source": [
    "We will try to predict the temperature in 5 days (t+5) using the temperatures from the last 30 days (t-29 to t):"
   ]
  },
  {
   "cell_type": "code",
   "execution_count": 155,
   "metadata": {},
   "outputs": [],
   "source": [
    "X = add_lags(temps, times=range(-30+1,1)).iloc[30:-5]\n",
    "y = add_lags(temps, times=[5]).iloc[30:-5]"
   ]
  },
  {
   "cell_type": "code",
   "execution_count": 156,
   "metadata": {},
   "outputs": [
    {
     "data": {
      "text/html": [
       "<div>\n",
       "<style scoped>\n",
       "    .dataframe tbody tr th:only-of-type {\n",
       "        vertical-align: middle;\n",
       "    }\n",
       "\n",
       "    .dataframe tbody tr th {\n",
       "        vertical-align: top;\n",
       "    }\n",
       "\n",
       "    .dataframe thead tr th {\n",
       "        text-align: left;\n",
       "    }\n",
       "\n",
       "    .dataframe thead tr:last-of-type th {\n",
       "        text-align: right;\n",
       "    }\n",
       "</style>\n",
       "<table border=\"1\" class=\"dataframe\">\n",
       "  <thead>\n",
       "    <tr>\n",
       "      <th></th>\n",
       "      <th>t-29</th>\n",
       "      <th>t-28</th>\n",
       "      <th>t-27</th>\n",
       "      <th>t-26</th>\n",
       "      <th>t-25</th>\n",
       "      <th>t-24</th>\n",
       "      <th>t-23</th>\n",
       "      <th>t-22</th>\n",
       "      <th>t-21</th>\n",
       "      <th>t-20</th>\n",
       "      <th>...</th>\n",
       "      <th>t-9</th>\n",
       "      <th>t-8</th>\n",
       "      <th>t-7</th>\n",
       "      <th>t-6</th>\n",
       "      <th>t-5</th>\n",
       "      <th>t-4</th>\n",
       "      <th>t-3</th>\n",
       "      <th>t-2</th>\n",
       "      <th>t-1</th>\n",
       "      <th>t</th>\n",
       "    </tr>\n",
       "    <tr>\n",
       "      <th></th>\n",
       "      <th>Temperature</th>\n",
       "      <th>Temperature</th>\n",
       "      <th>Temperature</th>\n",
       "      <th>Temperature</th>\n",
       "      <th>Temperature</th>\n",
       "      <th>Temperature</th>\n",
       "      <th>Temperature</th>\n",
       "      <th>Temperature</th>\n",
       "      <th>Temperature</th>\n",
       "      <th>Temperature</th>\n",
       "      <th>...</th>\n",
       "      <th>Temperature</th>\n",
       "      <th>Temperature</th>\n",
       "      <th>Temperature</th>\n",
       "      <th>Temperature</th>\n",
       "      <th>Temperature</th>\n",
       "      <th>Temperature</th>\n",
       "      <th>Temperature</th>\n",
       "      <th>Temperature</th>\n",
       "      <th>Temperature</th>\n",
       "      <th>Temperature</th>\n",
       "    </tr>\n",
       "    <tr>\n",
       "      <th>Date</th>\n",
       "      <th></th>\n",
       "      <th></th>\n",
       "      <th></th>\n",
       "      <th></th>\n",
       "      <th></th>\n",
       "      <th></th>\n",
       "      <th></th>\n",
       "      <th></th>\n",
       "      <th></th>\n",
       "      <th></th>\n",
       "      <th></th>\n",
       "      <th></th>\n",
       "      <th></th>\n",
       "      <th></th>\n",
       "      <th></th>\n",
       "      <th></th>\n",
       "      <th></th>\n",
       "      <th></th>\n",
       "      <th></th>\n",
       "      <th></th>\n",
       "      <th></th>\n",
       "    </tr>\n",
       "  </thead>\n",
       "  <tbody>\n",
       "    <tr>\n",
       "      <th>1981-01-31</th>\n",
       "      <td>17.9</td>\n",
       "      <td>18.8</td>\n",
       "      <td>14.6</td>\n",
       "      <td>15.8</td>\n",
       "      <td>15.8</td>\n",
       "      <td>15.8</td>\n",
       "      <td>17.4</td>\n",
       "      <td>21.8</td>\n",
       "      <td>20.0</td>\n",
       "      <td>16.2</td>\n",
       "      <td>...</td>\n",
       "      <td>12.1</td>\n",
       "      <td>14.4</td>\n",
       "      <td>16.0</td>\n",
       "      <td>16.5</td>\n",
       "      <td>18.7</td>\n",
       "      <td>19.4</td>\n",
       "      <td>17.2</td>\n",
       "      <td>15.5</td>\n",
       "      <td>15.1</td>\n",
       "      <td>15.4</td>\n",
       "    </tr>\n",
       "    <tr>\n",
       "      <th>1981-02-01</th>\n",
       "      <td>18.8</td>\n",
       "      <td>14.6</td>\n",
       "      <td>15.8</td>\n",
       "      <td>15.8</td>\n",
       "      <td>15.8</td>\n",
       "      <td>17.4</td>\n",
       "      <td>21.8</td>\n",
       "      <td>20.0</td>\n",
       "      <td>16.2</td>\n",
       "      <td>13.3</td>\n",
       "      <td>...</td>\n",
       "      <td>14.4</td>\n",
       "      <td>16.0</td>\n",
       "      <td>16.5</td>\n",
       "      <td>18.7</td>\n",
       "      <td>19.4</td>\n",
       "      <td>17.2</td>\n",
       "      <td>15.5</td>\n",
       "      <td>15.1</td>\n",
       "      <td>15.4</td>\n",
       "      <td>15.3</td>\n",
       "    </tr>\n",
       "    <tr>\n",
       "      <th>1981-02-02</th>\n",
       "      <td>14.6</td>\n",
       "      <td>15.8</td>\n",
       "      <td>15.8</td>\n",
       "      <td>15.8</td>\n",
       "      <td>17.4</td>\n",
       "      <td>21.8</td>\n",
       "      <td>20.0</td>\n",
       "      <td>16.2</td>\n",
       "      <td>13.3</td>\n",
       "      <td>16.7</td>\n",
       "      <td>...</td>\n",
       "      <td>16.0</td>\n",
       "      <td>16.5</td>\n",
       "      <td>18.7</td>\n",
       "      <td>19.4</td>\n",
       "      <td>17.2</td>\n",
       "      <td>15.5</td>\n",
       "      <td>15.1</td>\n",
       "      <td>15.4</td>\n",
       "      <td>15.3</td>\n",
       "      <td>18.8</td>\n",
       "    </tr>\n",
       "    <tr>\n",
       "      <th>1981-02-03</th>\n",
       "      <td>15.8</td>\n",
       "      <td>15.8</td>\n",
       "      <td>15.8</td>\n",
       "      <td>17.4</td>\n",
       "      <td>21.8</td>\n",
       "      <td>20.0</td>\n",
       "      <td>16.2</td>\n",
       "      <td>13.3</td>\n",
       "      <td>16.7</td>\n",
       "      <td>21.5</td>\n",
       "      <td>...</td>\n",
       "      <td>16.5</td>\n",
       "      <td>18.7</td>\n",
       "      <td>19.4</td>\n",
       "      <td>17.2</td>\n",
       "      <td>15.5</td>\n",
       "      <td>15.1</td>\n",
       "      <td>15.4</td>\n",
       "      <td>15.3</td>\n",
       "      <td>18.8</td>\n",
       "      <td>21.9</td>\n",
       "    </tr>\n",
       "    <tr>\n",
       "      <th>1981-02-04</th>\n",
       "      <td>15.8</td>\n",
       "      <td>15.8</td>\n",
       "      <td>17.4</td>\n",
       "      <td>21.8</td>\n",
       "      <td>20.0</td>\n",
       "      <td>16.2</td>\n",
       "      <td>13.3</td>\n",
       "      <td>16.7</td>\n",
       "      <td>21.5</td>\n",
       "      <td>25.0</td>\n",
       "      <td>...</td>\n",
       "      <td>18.7</td>\n",
       "      <td>19.4</td>\n",
       "      <td>17.2</td>\n",
       "      <td>15.5</td>\n",
       "      <td>15.1</td>\n",
       "      <td>15.4</td>\n",
       "      <td>15.3</td>\n",
       "      <td>18.8</td>\n",
       "      <td>21.9</td>\n",
       "      <td>19.9</td>\n",
       "    </tr>\n",
       "  </tbody>\n",
       "</table>\n",
       "<p>5 rows × 30 columns</p>\n",
       "</div>"
      ],
      "text/plain": [
       "                  t-29        t-28        t-27        t-26        t-25  \\\n",
       "           Temperature Temperature Temperature Temperature Temperature   \n",
       "Date                                                                     \n",
       "1981-01-31        17.9        18.8        14.6        15.8        15.8   \n",
       "1981-02-01        18.8        14.6        15.8        15.8        15.8   \n",
       "1981-02-02        14.6        15.8        15.8        15.8        17.4   \n",
       "1981-02-03        15.8        15.8        15.8        17.4        21.8   \n",
       "1981-02-04        15.8        15.8        17.4        21.8        20.0   \n",
       "\n",
       "                  t-24        t-23        t-22        t-21        t-20  ...  \\\n",
       "           Temperature Temperature Temperature Temperature Temperature  ...   \n",
       "Date                                                                    ...   \n",
       "1981-01-31        15.8        17.4        21.8        20.0        16.2  ...   \n",
       "1981-02-01        17.4        21.8        20.0        16.2        13.3  ...   \n",
       "1981-02-02        21.8        20.0        16.2        13.3        16.7  ...   \n",
       "1981-02-03        20.0        16.2        13.3        16.7        21.5  ...   \n",
       "1981-02-04        16.2        13.3        16.7        21.5        25.0  ...   \n",
       "\n",
       "                   t-9         t-8         t-7         t-6         t-5  \\\n",
       "           Temperature Temperature Temperature Temperature Temperature   \n",
       "Date                                                                     \n",
       "1981-01-31        12.1        14.4        16.0        16.5        18.7   \n",
       "1981-02-01        14.4        16.0        16.5        18.7        19.4   \n",
       "1981-02-02        16.0        16.5        18.7        19.4        17.2   \n",
       "1981-02-03        16.5        18.7        19.4        17.2        15.5   \n",
       "1981-02-04        18.7        19.4        17.2        15.5        15.1   \n",
       "\n",
       "                   t-4         t-3         t-2         t-1           t  \n",
       "           Temperature Temperature Temperature Temperature Temperature  \n",
       "Date                                                                    \n",
       "1981-01-31        19.4        17.2        15.5        15.1        15.4  \n",
       "1981-02-01        17.2        15.5        15.1        15.4        15.3  \n",
       "1981-02-02        15.5        15.1        15.4        15.3        18.8  \n",
       "1981-02-03        15.1        15.4        15.3        18.8        21.9  \n",
       "1981-02-04        15.4        15.3        18.8        21.9        19.9  \n",
       "\n",
       "[5 rows x 30 columns]"
      ]
     },
     "execution_count": 156,
     "metadata": {},
     "output_type": "execute_result"
    }
   ],
   "source": [
    "X.head()"
   ]
  },
  {
   "cell_type": "code",
   "execution_count": 157,
   "metadata": {},
   "outputs": [
    {
     "data": {
      "text/html": [
       "<div>\n",
       "<style scoped>\n",
       "    .dataframe tbody tr th:only-of-type {\n",
       "        vertical-align: middle;\n",
       "    }\n",
       "\n",
       "    .dataframe tbody tr th {\n",
       "        vertical-align: top;\n",
       "    }\n",
       "\n",
       "    .dataframe thead tr th {\n",
       "        text-align: left;\n",
       "    }\n",
       "\n",
       "    .dataframe thead tr:last-of-type th {\n",
       "        text-align: right;\n",
       "    }\n",
       "</style>\n",
       "<table border=\"1\" class=\"dataframe\">\n",
       "  <thead>\n",
       "    <tr>\n",
       "      <th></th>\n",
       "      <th>t+5</th>\n",
       "    </tr>\n",
       "    <tr>\n",
       "      <th></th>\n",
       "      <th>Temperature</th>\n",
       "    </tr>\n",
       "    <tr>\n",
       "      <th>Date</th>\n",
       "      <th></th>\n",
       "    </tr>\n",
       "  </thead>\n",
       "  <tbody>\n",
       "    <tr>\n",
       "      <th>1981-01-31</th>\n",
       "      <td>16.6</td>\n",
       "    </tr>\n",
       "    <tr>\n",
       "      <th>1981-02-01</th>\n",
       "      <td>16.8</td>\n",
       "    </tr>\n",
       "    <tr>\n",
       "      <th>1981-02-02</th>\n",
       "      <td>14.6</td>\n",
       "    </tr>\n",
       "    <tr>\n",
       "      <th>1981-02-03</th>\n",
       "      <td>17.1</td>\n",
       "    </tr>\n",
       "    <tr>\n",
       "      <th>1981-02-04</th>\n",
       "      <td>25.0</td>\n",
       "    </tr>\n",
       "  </tbody>\n",
       "</table>\n",
       "</div>"
      ],
      "text/plain": [
       "                   t+5\n",
       "           Temperature\n",
       "Date                  \n",
       "1981-01-31        16.6\n",
       "1981-02-01        16.8\n",
       "1981-02-02        14.6\n",
       "1981-02-03        17.1\n",
       "1981-02-04        25.0"
      ]
     },
     "execution_count": 157,
     "metadata": {},
     "output_type": "execute_result"
    }
   ],
   "source": [
    "y.head()"
   ]
  },
  {
   "cell_type": "markdown",
   "metadata": {},
   "source": [
    "## 1.4) Split the dataset"
   ]
  },
  {
   "cell_type": "markdown",
   "metadata": {},
   "source": [
    "Let's split this dataset into three periods: training, validation and testing:"
   ]
  },
  {
   "cell_type": "code",
   "execution_count": 158,
   "metadata": {},
   "outputs": [],
   "source": [
    "train_slice = slice(None, \"1986-12-25\")\n",
    "valid_slice = slice(\"1987-01-01\", \"1988-12-25\")\n",
    "test_slice = slice(\"1989-01-01\", None)"
   ]
  },
  {
   "cell_type": "code",
   "execution_count": 159,
   "metadata": {},
   "outputs": [],
   "source": [
    "X_train, y_train = X.loc[train_slice], y.loc[train_slice]\n",
    "X_valid, y_valid = X.loc[valid_slice], y.loc[valid_slice]\n",
    "X_test, y_test = X.loc[test_slice], y.loc[test_slice]"
   ]
  },
  {
   "cell_type": "markdown",
   "metadata": {},
   "source": [
    "## 1.5) Reshape the inputs for the RNN"
   ]
  },
  {
   "cell_type": "markdown",
   "metadata": {},
   "source": [
    "Now let's create a function to reshape the multilevel DataFrames to 3D numpy arrays to feed to an RNN:"
   ]
  },
  {
   "cell_type": "code",
   "execution_count": 160,
   "metadata": {},
   "outputs": [],
   "source": [
    "def multilevel_df_to_ndarray(df):\n",
    "    shape = [-1] + [len(level) for level in df.columns.remove_unused_levels().levels]\n",
    "    return df.values.reshape(shape)"
   ]
  },
  {
   "cell_type": "code",
   "execution_count": 161,
   "metadata": {},
   "outputs": [],
   "source": [
    "X_train_3D = multilevel_df_to_ndarray(X_train)\n",
    "X_valid_3D = multilevel_df_to_ndarray(X_valid)\n",
    "X_test_3D = multilevel_df_to_ndarray(X_test)"
   ]
  },
  {
   "cell_type": "code",
   "execution_count": 162,
   "metadata": {},
   "outputs": [
    {
     "data": {
      "text/plain": [
       "(2155, 30)"
      ]
     },
     "execution_count": 162,
     "metadata": {},
     "output_type": "execute_result"
    }
   ],
   "source": [
    "X_train.shape"
   ]
  },
  {
   "cell_type": "code",
   "execution_count": 163,
   "metadata": {},
   "outputs": [
    {
     "data": {
      "text/plain": [
       "(2155, 30, 1)"
      ]
     },
     "execution_count": 163,
     "metadata": {},
     "output_type": "execute_result"
    }
   ],
   "source": [
    "X_train_3D.shape"
   ]
  },
  {
   "cell_type": "markdown",
   "metadata": {},
   "source": [
    "## 1.6) Build some baseline models"
   ]
  },
  {
   "cell_type": "markdown",
   "metadata": {},
   "source": [
    "Now let's evaluate some basic strategies, to get some baselines:"
   ]
  },
  {
   "cell_type": "code",
   "execution_count": 164,
   "metadata": {},
   "outputs": [],
   "source": [
    "from sklearn.metrics import mean_absolute_error"
   ]
  },
  {
   "cell_type": "code",
   "execution_count": 165,
   "metadata": {},
   "outputs": [],
   "source": [
    "def naive(X):\n",
    "    return X.iloc[:, -1]"
   ]
  },
  {
   "cell_type": "code",
   "execution_count": 166,
   "metadata": {},
   "outputs": [],
   "source": [
    "y_pred_naive = naive(X_valid)"
   ]
  },
  {
   "cell_type": "code",
   "execution_count": 167,
   "metadata": {},
   "outputs": [
    {
     "data": {
      "text/plain": [
       "2.976551724137931"
      ]
     },
     "execution_count": 167,
     "metadata": {},
     "output_type": "execute_result"
    }
   ],
   "source": [
    "mean_absolute_error(y_valid, y_pred_naive)"
   ]
  },
  {
   "cell_type": "code",
   "execution_count": 168,
   "metadata": {},
   "outputs": [],
   "source": [
    "def ema(X, span):\n",
    "    return X.T.ewm(span=span).mean().T.iloc[:, -1]"
   ]
  },
  {
   "cell_type": "code",
   "execution_count": 169,
   "metadata": {},
   "outputs": [],
   "source": [
    "y_pred_ema = ema(X_valid, span=10)"
   ]
  },
  {
   "cell_type": "code",
   "execution_count": 170,
   "metadata": {},
   "outputs": [
    {
     "data": {
      "text/plain": [
       "2.3581754113889133"
      ]
     },
     "execution_count": 170,
     "metadata": {},
     "output_type": "execute_result"
    }
   ],
   "source": [
    "mean_absolute_error(y_valid, y_pred_ema)"
   ]
  },
  {
   "cell_type": "code",
   "execution_count": 171,
   "metadata": {},
   "outputs": [],
   "source": [
    "from sklearn.linear_model import LinearRegression"
   ]
  },
  {
   "cell_type": "code",
   "execution_count": 172,
   "metadata": {},
   "outputs": [
    {
     "data": {
      "text/plain": [
       "LinearRegression(copy_X=True, fit_intercept=True, n_jobs=None, normalize=False)"
      ]
     },
     "execution_count": 172,
     "metadata": {},
     "output_type": "execute_result"
    }
   ],
   "source": [
    "lin_reg = LinearRegression()\n",
    "lin_reg.fit(X_train, y_train)"
   ]
  },
  {
   "cell_type": "code",
   "execution_count": 173,
   "metadata": {},
   "outputs": [],
   "source": [
    "y_pred_linear = lin_reg.predict(X_valid)"
   ]
  },
  {
   "cell_type": "code",
   "execution_count": 174,
   "metadata": {},
   "outputs": [
    {
     "data": {
      "text/plain": [
       "2.2606549856754157"
      ]
     },
     "execution_count": 174,
     "metadata": {},
     "output_type": "execute_result"
    }
   ],
   "source": [
    "mean_absolute_error(y_valid, y_pred_linear)"
   ]
  },
  {
   "cell_type": "markdown",
   "metadata": {},
   "source": [
    "Let's plot these predictions:"
   ]
  },
  {
   "cell_type": "code",
   "execution_count": 175,
   "metadata": {},
   "outputs": [],
   "source": [
    "def plot_predictions(*named_predictions, start=None, end=None, **kwargs):\n",
    "    day_range = slice(start, end)\n",
    "    plt.figure(figsize=(10,5))\n",
    "    for name, y_pred in named_predictions:\n",
    "        if hasattr(y_pred, \"values\"):\n",
    "            y_pred = y_pred.values\n",
    "        plt.plot(y_pred[day_range], label=name, **kwargs)\n",
    "    plt.legend()\n",
    "    plt.show()"
   ]
  },
  {
   "cell_type": "code",
   "execution_count": 176,
   "metadata": {},
   "outputs": [
    {
     "data": {
      "image/png": "[encoded data removed]",
      "text/plain": [
       "<Figure size 720x360 with 1 Axes>"
      ]
     },
     "metadata": {
      "needs_background": "light"
     },
     "output_type": "display_data"
    }
   ],
   "source": [
    "plot_predictions((\"Target\", y_valid),\n",
    "                 (\"Naive\", y_pred_naive),\n",
    "                 (\"EMA\", y_pred_ema),\n",
    "                 (\"Linear\", y_pred_linear),\n",
    "                 end=365)"
   ]
  },
  {
   "cell_type": "markdown",
   "metadata": {},
   "source": [
    "## 1.7) Build a simple RNN"
   ]
  },
  {
   "cell_type": "markdown",
   "metadata": {},
   "source": [
    "Let's create a simple 2-layer RNN with 100 neurons per layer, plus a dense layer with a single neuron:"
   ]
  },
  {
   "cell_type": "code",
   "execution_count": 203,
   "metadata": {},
   "outputs": [
    {
     "data": {
      "text/plain": [
       "(30, 1)"
      ]
     },
     "execution_count": 203,
     "metadata": {},
     "output_type": "execute_result"
    }
   ],
   "source": [
    "input_shape = X_train_3D.shape[1:]\n",
    "input_shape"
   ]
  },
  {
   "cell_type": "code",
   "execution_count": 178,
   "metadata": {},
   "outputs": [],
   "source": [
    "model1 = keras.models.Sequential()\n",
    "model1.add(keras.layers.SimpleRNN(100, return_sequences=True, input_shape=input_shape))\n",
    "model1.add(keras.layers.SimpleRNN(50))\n",
    "model1.add(keras.layers.Dense(1))\n",
    "model1.compile(loss=\"mse\", optimizer=keras.optimizers.SGD(lr=0.005), metrics=[\"mae\"])"
   ]
  },
  {
   "cell_type": "code",
   "execution_count": null,
   "metadata": {},
   "outputs": [],
   "source": [
    "history1 = model1.fit(X_train_3D, y_train, epochs=200, batch_size=200,\n",
    "                      validation_data=(X_valid_3D, y_valid))"
   ]
  },
  {
   "cell_type": "markdown",
   "metadata": {},
   "source": [
    "## 1.8) Plot the history"
   ]
  },
  {
   "cell_type": "code",
   "execution_count": 179,
   "metadata": {},
   "outputs": [],
   "source": [
    "def plot_history(history, loss=\"loss\"):\n",
    "    train_losses = history.history[loss]\n",
    "    valid_losses = history.history[\"val_\" + loss]\n",
    "    n_epochs = len(history.epoch)\n",
    "    minloss = np.min(valid_losses)\n",
    "    \n",
    "    plt.plot(train_losses, color=\"b\", label=\"Train\")\n",
    "    plt.plot(valid_losses, color=\"r\", label=\"Validation\")\n",
    "    plt.plot([0, n_epochs], [minloss, minloss], \"k--\",\n",
    "             label=\"Min val: {:.2f}\".format(minloss))\n",
    "    plt.axis([0, n_epochs, 0, 20])\n",
    "    plt.legend()\n",
    "    plt.show()"
   ]
  },
  {
   "cell_type": "code",
   "execution_count": 180,
   "metadata": {},
   "outputs": [
    {
     "ename": "NameError",
     "evalue": "name 'history1' is not defined",
     "output_type": "error",
     "traceback": [
      "\u001b[0;31m---------------------------------------------------------------------------\u001b[0m",
      "\u001b[0;31mNameError\u001b[0m                                 Traceback (most recent call last)",
      "\u001b[0;32m<ipython-input-180-a65cd4a45835>\u001b[0m in \u001b[0;36m<module>\u001b[0;34m\u001b[0m\n\u001b[0;32m----> 1\u001b[0;31m \u001b[0mplot_history\u001b[0m\u001b[0;34m(\u001b[0m\u001b[0mhistory1\u001b[0m\u001b[0;34m)\u001b[0m\u001b[0;34m\u001b[0m\u001b[0;34m\u001b[0m\u001b[0m\n\u001b[0m",
      "\u001b[0;31mNameError\u001b[0m: name 'history1' is not defined"
     ]
    }
   ],
   "source": [
    "plot_history(history1)"
   ]
  },
  {
   "cell_type": "markdown",
   "metadata": {},
   "source": [
    "## 1.9) Evaluate the model"
   ]
  },
  {
   "cell_type": "code",
   "execution_count": null,
   "metadata": {},
   "outputs": [],
   "source": [
    "model1.evaluate(X_valid_3D, y_valid)"
   ]
  },
  {
   "cell_type": "code",
   "execution_count": 181,
   "metadata": {},
   "outputs": [],
   "source": [
    "def huber_loss(y_true, y_pred, max_grad=1.):\n",
    "    err = tf.abs(y_true - y_pred, name='abs')\n",
    "    mg = tf.constant(max_grad, name='max_grad')\n",
    "    lin = mg * (err - 0.5 * mg)\n",
    "    quad = 0.5 * err * err\n",
    "    return tf.where(err < mg, quad, lin)"
   ]
  },
  {
   "cell_type": "code",
   "execution_count": null,
   "metadata": {},
   "outputs": [],
   "source": [
    "model1 = keras.models.Sequential()\n",
    "model1.add(keras.layers.SimpleRNN(100, return_sequences=True, input_shape=input_shape))\n",
    "model1.add(keras.layers.SimpleRNN(100))\n",
    "model1.add(keras.layers.Dense(1))\n",
    "model1.compile(loss=huber_loss, optimizer=keras.optimizers.SGD(lr=0.005), metrics=[\"mae\"])"
   ]
  },
  {
   "cell_type": "code",
   "execution_count": null,
   "metadata": {},
   "outputs": [],
   "source": [
    "history1 = model1.fit(X_train_3D, y_train, epochs=200, batch_size=200,\n",
    "                      validation_data=(X_valid_3D, y_valid))"
   ]
  },
  {
   "cell_type": "code",
   "execution_count": null,
   "metadata": {},
   "outputs": [],
   "source": [
    "model1.evaluate(X_valid_3D, y_valid)"
   ]
  },
  {
   "cell_type": "markdown",
   "metadata": {},
   "source": [
    "## 1.10) Plot the predictions"
   ]
  },
  {
   "cell_type": "code",
   "execution_count": 182,
   "metadata": {},
   "outputs": [],
   "source": [
    "y_pred_rnn1 = model1.predict(X_valid_3D)"
   ]
  },
  {
   "cell_type": "code",
   "execution_count": 183,
   "metadata": {
    "scrolled": true
   },
   "outputs": [
    {
     "data": {
      "image/png": "[encoded data removed]",
      "text/plain": [
       "<Figure size 720x360 with 1 Axes>"
      ]
     },
     "metadata": {
      "needs_background": "light"
     },
     "output_type": "display_data"
    }
   ],
   "source": [
    "plot_predictions((\"Target\", y_valid),\n",
    "                 (\"Linear\", y_pred_linear),\n",
    "                 (\"RNN\", y_pred_rnn1),\n",
    "                 end=365)"
   ]
  },
  {
   "cell_type": "markdown",
   "metadata": {},
   "source": [
    "![Exercise](https://c1.staticflickr.com/9/8101/8553474140_c50cf08708_b.jpg)"
   ]
  },
  {
   "cell_type": "markdown",
   "metadata": {},
   "source": [
    "# Exercise 2 – Forecasting the shifted sequence (Seq2Seq)"
   ]
  },
  {
   "cell_type": "markdown",
   "metadata": {},
   "source": [
    "Now let's predict temperatures for 30 days (from t-24 to t+5) instead of just one."
   ]
  },
  {
   "cell_type": "markdown",
   "metadata": {},
   "source": [
    "## 2.1) Define the 3D targets for training, validation and testing"
   ]
  },
  {
   "cell_type": "code",
   "execution_count": null,
   "metadata": {},
   "outputs": [],
   "source": [
    "#Y_train_3D = ...\n",
    "#Y_valid_3D = ...\n",
    "#Y_test_3D = ..."
   ]
  },
  {
   "cell_type": "code",
   "execution_count": null,
   "metadata": {},
   "outputs": [],
   "source": []
  },
  {
   "cell_type": "code",
   "execution_count": null,
   "metadata": {},
   "outputs": [],
   "source": []
  },
  {
   "cell_type": "code",
   "execution_count": null,
   "metadata": {},
   "outputs": [],
   "source": []
  },
  {
   "cell_type": "markdown",
   "metadata": {},
   "source": [
    "## 2.2) Define an `mae_last_step()` function"
   ]
  },
  {
   "cell_type": "markdown",
   "metadata": {},
   "source": [
    "For the final evaluation, we only want to look at the final time step (t+5). Create an `mae_last_step()` function that computes the MAE based on the final time step."
   ]
  },
  {
   "cell_type": "code",
   "execution_count": null,
   "metadata": {},
   "outputs": [],
   "source": []
  },
  {
   "cell_type": "code",
   "execution_count": null,
   "metadata": {},
   "outputs": [],
   "source": []
  },
  {
   "cell_type": "code",
   "execution_count": null,
   "metadata": {},
   "outputs": [],
   "source": []
  },
  {
   "cell_type": "markdown",
   "metadata": {},
   "source": [
    "## 2.3) Build a Seq2Seq model"
   ]
  },
  {
   "cell_type": "markdown",
   "metadata": {},
   "source": [
    "Build a Seq2Seq model and compile it, using the Huber Loss, and using the last step MAE as the metric. Use SGD with a learning rate of 0.01. Hint: the layers are the same as earlier, except that the last RNN layer has `return_sequences=False`, and the `Dense` layer must be wrapped in a `keras.layers.TimeDistributed` layer."
   ]
  },
  {
   "cell_type": "code",
   "execution_count": null,
   "metadata": {},
   "outputs": [],
   "source": []
  },
  {
   "cell_type": "code",
   "execution_count": null,
   "metadata": {},
   "outputs": [],
   "source": []
  },
  {
   "cell_type": "code",
   "execution_count": null,
   "metadata": {},
   "outputs": [],
   "source": []
  },
  {
   "cell_type": "markdown",
   "metadata": {},
   "source": [
    "## 2.4) Train the model"
   ]
  },
  {
   "cell_type": "markdown",
   "metadata": {},
   "source": [
    "Fit the model as earlier (but with the 3D targets). Again, evaluate the model and plot the predictions."
   ]
  },
  {
   "cell_type": "code",
   "execution_count": null,
   "metadata": {},
   "outputs": [],
   "source": []
  },
  {
   "cell_type": "code",
   "execution_count": null,
   "metadata": {},
   "outputs": [],
   "source": []
  },
  {
   "cell_type": "code",
   "execution_count": null,
   "metadata": {},
   "outputs": [],
   "source": []
  },
  {
   "cell_type": "markdown",
   "metadata": {},
   "source": [
    "![Exercise solution](https://camo.githubusercontent.com/250388fde3fac9135ead9471733ee28e049f7a37/68747470733a2f2f75706c6f61642e77696b696d656469612e6f72672f77696b6970656469612f636f6d6d6f6e732f302f30362f46696c6f735f736567756e646f5f6c6f676f5f253238666c69707065642532392e6a7067)"
   ]
  },
  {
   "cell_type": "markdown",
   "metadata": {},
   "source": [
    "# Exercise 2 – Solution"
   ]
  },
  {
   "cell_type": "markdown",
   "metadata": {},
   "source": [
    "## 2.1) Define the 3D targets for training, validation and testing"
   ]
  },
  {
   "cell_type": "code",
   "execution_count": 189,
   "metadata": {},
   "outputs": [],
   "source": [
    "Y = add_lags(temps, times=range(-24, 5+1)).iloc[30:-5]\n",
    "Y_train = Y.loc[train_slice]\n",
    "Y_valid = Y.loc[valid_slice]\n",
    "Y_test = Y.loc[test_slice]\n",
    "Y_train_3D = multilevel_df_to_ndarray(Y_train)\n",
    "Y_valid_3D = multilevel_df_to_ndarray(Y_valid)\n",
    "Y_test_3D = multilevel_df_to_ndarray(Y_test)"
   ]
  },
  {
   "cell_type": "markdown",
   "metadata": {},
   "source": [
    "## 2.2) Define an `mae_last_step()` function"
   ]
  },
  {
   "cell_type": "markdown",
   "metadata": {},
   "source": [
    "For the final evaluation, we only want to look at the final time step (t+5):"
   ]
  },
  {
   "cell_type": "code",
   "execution_count": 185,
   "metadata": {},
   "outputs": [],
   "source": [
    "K = keras.backend\n",
    "\n",
    "def mae_last_step(Y_true, Y_pred):\n",
    "    return K.mean(K.abs(Y_pred[:, -1] - Y_true[:, -1]))"
   ]
  },
  {
   "cell_type": "markdown",
   "metadata": {},
   "source": [
    "## 2.3) Build a Seq2Seq model"
   ]
  },
  {
   "cell_type": "code",
   "execution_count": null,
   "metadata": {},
   "outputs": [],
   "source": [
    "model2 = keras.models.Sequential()\n",
    "model2.add(keras.layers.SimpleRNN(100, return_sequences=True, input_shape=input_shape))\n",
    "model2.add(keras.layers.SimpleRNN(100, return_sequences=True))\n",
    "model2.add(keras.layers.TimeDistributed(keras.layers.Dense(1)))\n",
    "model2.compile(loss=huber_loss, optimizer=keras.optimizers.SGD(lr=0.01),\n",
    "               metrics=[mae_last_step])"
   ]
  },
  {
   "cell_type": "markdown",
   "metadata": {},
   "source": [
    "## 2.4) Train the model"
   ]
  },
  {
   "cell_type": "code",
   "execution_count": null,
   "metadata": {},
   "outputs": [],
   "source": [
    "history2 = model2.fit(X_train_3D, Y_train_3D, epochs=200, batch_size=200,\n",
    "                      validation_data=(X_valid_3D, Y_valid_3D))"
   ]
  },
  {
   "cell_type": "code",
   "execution_count": null,
   "metadata": {},
   "outputs": [],
   "source": [
    "plot_history(history2, loss=\"mae_last_step\")"
   ]
  },
  {
   "cell_type": "code",
   "execution_count": null,
   "metadata": {},
   "outputs": [],
   "source": [
    "model2.evaluate(X_valid_3D, Y_valid_3D)"
   ]
  },
  {
   "cell_type": "code",
   "execution_count": null,
   "metadata": {},
   "outputs": [],
   "source": [
    "y_pred_rnn2 = model2.predict(X_valid_3D)[:, -1]"
   ]
  },
  {
   "cell_type": "code",
   "execution_count": null,
   "metadata": {},
   "outputs": [],
   "source": [
    "plot_predictions((\"Target\", y_valid),\n",
    "                 (\"Linear\", y_pred_linear),\n",
    "                 (\"RNN\", y_pred_rnn2),\n",
    "                 end=365)"
   ]
  },
  {
   "cell_type": "markdown",
   "metadata": {},
   "source": [
    "![Exercise](https://c1.staticflickr.com/9/8101/8553474140_c50cf08708_b.jpg)"
   ]
  },
  {
   "cell_type": "markdown",
   "metadata": {},
   "source": [
    "# Exercise 3 – LSTM and GRU"
   ]
  },
  {
   "cell_type": "markdown",
   "metadata": {},
   "source": [
    "## 3.1) Build, train and evaluate a Seq2Seq LSTM"
   ]
  },
  {
   "cell_type": "markdown",
   "metadata": {},
   "source": [
    "Train the same model as earlier but using `LSTM` or `GRU` instead of `SimpleRNN`. You can also try reducing the learning rate when the validation loss reaches a plateau, using the `ReduceLROnPlateau` callback."
   ]
  },
  {
   "cell_type": "code",
   "execution_count": null,
   "metadata": {},
   "outputs": [],
   "source": []
  },
  {
   "cell_type": "code",
   "execution_count": null,
   "metadata": {},
   "outputs": [],
   "source": []
  },
  {
   "cell_type": "code",
   "execution_count": null,
   "metadata": {},
   "outputs": [],
   "source": []
  },
  {
   "cell_type": "markdown",
   "metadata": {},
   "source": [
    "## 3.2) Add $\\ell_2$ regularization"
   ]
  },
  {
   "cell_type": "markdown",
   "metadata": {},
   "source": [
    "Add $\\ell_2$ regularization to your RNN, using the layers' `kernel_regularizer` and `recurrent_regularizer` arguments, and the `l2()` function in `keras.regularizers`. Tip: use the `partial()` function in the `functools` package to avoid repeating the same arguments again and again."
   ]
  },
  {
   "cell_type": "code",
   "execution_count": null,
   "metadata": {},
   "outputs": [],
   "source": []
  },
  {
   "cell_type": "code",
   "execution_count": null,
   "metadata": {},
   "outputs": [],
   "source": []
  },
  {
   "cell_type": "code",
   "execution_count": null,
   "metadata": {},
   "outputs": [],
   "source": []
  },
  {
   "cell_type": "markdown",
   "metadata": {},
   "source": [
    "![Exercise solution](https://camo.githubusercontent.com/250388fde3fac9135ead9471733ee28e049f7a37/68747470733a2f2f75706c6f61642e77696b696d656469612e6f72672f77696b6970656469612f636f6d6d6f6e732f302f30362f46696c6f735f736567756e646f5f6c6f676f5f253238666c69707065642532392e6a7067)"
   ]
  },
  {
   "cell_type": "markdown",
   "metadata": {},
   "source": [
    "# Exercise 3 – Solution"
   ]
  },
  {
   "cell_type": "markdown",
   "metadata": {},
   "source": [
    "## 3.1) Build, train and evaluate a Seq2Seq LSTM"
   ]
  },
  {
   "cell_type": "markdown",
   "metadata": {},
   "source": [
    "You can try replacing `LSTM` with `GRU`."
   ]
  },
  {
   "cell_type": "code",
   "execution_count": 191,
   "metadata": {},
   "outputs": [],
   "source": [
    "model3 = keras.models.Sequential()\n",
    "model3.add(keras.layers.LSTM(100, return_sequences=True, input_shape=input_shape))\n",
    "model3.add(keras.layers.LSTM(100, return_sequences=True))\n",
    "model3.add(keras.layers.TimeDistributed(keras.layers.Dense(1)))\n",
    "model3.compile(loss=huber_loss, optimizer=keras.optimizers.SGD(lr=0.01),\n",
    "               metrics=[mae_last_step])"
   ]
  },
  {
   "cell_type": "code",
   "execution_count": 192,
   "metadata": {},
   "outputs": [
    {
     "name": "stdout",
     "output_type": "stream",
     "text": [
      "Train on 2155 samples, validate on 725 samples\n",
      "Epoch 1/200\n",
      "2155/2155 [==============================] - 3s 1ms/sample - loss: 8.9364 - mae_last_step: 9.1110 - val_loss: 7.8589 - val_mae_last_step: 7.9052\n",
      "Epoch 2/200\n",
      "2155/2155 [==============================] - 1s 384us/sample - loss: 6.4774 - mae_last_step: 6.3408 - val_loss: 5.4323 - val_mae_last_step: 5.3068\n",
      "Epoch 3/200\n",
      "2155/2155 [==============================] - 1s 397us/sample - loss: 4.4789 - mae_last_step: 4.2518 - val_loss: 3.7446 - val_mae_last_step: 3.5261\n",
      "Epoch 4/200\n",
      "2155/2155 [==============================] - 1s 390us/sample - loss: 3.4455 - mae_last_step: 3.3276 - val_loss: 3.0492 - val_mae_last_step: 3.0097\n",
      "Epoch 5/200\n",
      "2155/2155 [==============================] - 1s 387us/sample - loss: 3.1301 - mae_last_step: 3.1079 - val_loss: 2.8651 - val_mae_last_step: 2.8879\n",
      "Epoch 6/200\n",
      "2155/2155 [==============================] - 1s 386us/sample - loss: 3.0540 - mae_last_step: 3.0988 - val_loss: 2.8058 - val_mae_last_step: 2.8228\n",
      "Epoch 7/200\n",
      "2155/2155 [==============================] - 1s 391us/sample - loss: 3.0182 - mae_last_step: 3.1041 - val_loss: 2.7690 - val_mae_last_step: 2.8099\n",
      "Epoch 8/200\n",
      "2155/2155 [==============================] - 1s 416us/sample - loss: 2.9724 - mae_last_step: 3.0482 - val_loss: 2.7264 - val_mae_last_step: 2.7984\n",
      "Epoch 9/200\n",
      "2155/2155 [==============================] - 1s 401us/sample - loss: 2.9167 - mae_last_step: 2.9811 - val_loss: 2.6713 - val_mae_last_step: 2.7421\n",
      "Epoch 10/200\n",
      "2155/2155 [==============================] - 1s 409us/sample - loss: 2.8535 - mae_last_step: 2.9218 - val_loss: 2.6022 - val_mae_last_step: 2.6356\n",
      "Epoch 11/200\n",
      " 600/2155 [=======>......................] - ETA: 0s - loss: 2.7961 - mae_last_step: 2.8635"
     ]
    },
    {
     "ename": "KeyboardInterrupt",
     "evalue": "",
     "output_type": "error",
     "traceback": [
      "\u001b[0;31m---------------------------------------------------------------------------\u001b[0m",
      "\u001b[0;31mKeyboardInterrupt\u001b[0m                         Traceback (most recent call last)",
      "\u001b[0;32m<ipython-input-192-453ee900506c>\u001b[0m in \u001b[0;36m<module>\u001b[0;34m\u001b[0m\n\u001b[1;32m      1\u001b[0m history3 = model3.fit(X_train_3D, Y_train_3D, epochs=200, batch_size=200,\n\u001b[1;32m      2\u001b[0m                       \u001b[0mvalidation_data\u001b[0m\u001b[0;34m=\u001b[0m\u001b[0;34m(\u001b[0m\u001b[0mX_valid_3D\u001b[0m\u001b[0;34m,\u001b[0m \u001b[0mY_valid_3D\u001b[0m\u001b[0;34m)\u001b[0m\u001b[0;34m,\u001b[0m\u001b[0;34m\u001b[0m\u001b[0;34m\u001b[0m\u001b[0m\n\u001b[0;32m----> 3\u001b[0;31m                       callbacks=[keras.callbacks.ReduceLROnPlateau(verbose=1)])\n\u001b[0m",
      "\u001b[0;32m~/Projects/perso/venv/lib/python3.7/site-packages/tensorflow_core/python/keras/engine/training.py\u001b[0m in \u001b[0;36mfit\u001b[0;34m(self, x, y, batch_size, epochs, verbose, callbacks, validation_split, validation_data, shuffle, class_weight, sample_weight, initial_epoch, steps_per_epoch, validation_steps, validation_freq, max_queue_size, workers, use_multiprocessing, **kwargs)\u001b[0m\n\u001b[1;32m    667\u001b[0m         \u001b[0mmax_queue_size\u001b[0m\u001b[0;34m=\u001b[0m\u001b[0mmax_queue_size\u001b[0m\u001b[0;34m,\u001b[0m\u001b[0;34m\u001b[0m\u001b[0;34m\u001b[0m\u001b[0m\n\u001b[1;32m    668\u001b[0m         \u001b[0mworkers\u001b[0m\u001b[0;34m=\u001b[0m\u001b[0mworkers\u001b[0m\u001b[0;34m,\u001b[0m\u001b[0;34m\u001b[0m\u001b[0;34m\u001b[0m\u001b[0m\n\u001b[0;32m--> 669\u001b[0;31m         use_multiprocessing=use_multiprocessing)\n\u001b[0m\u001b[1;32m    670\u001b[0m \u001b[0;34m\u001b[0m\u001b[0m\n\u001b[1;32m    671\u001b[0m   def evaluate(self,\n",
      "\u001b[0;32m~/Projects/perso/venv/lib/python3.7/site-packages/tensorflow_core/python/keras/engine/training_arrays.py\u001b[0m in \u001b[0;36mfit\u001b[0;34m(self, model, x, y, batch_size, epochs, verbose, callbacks, validation_split, validation_data, shuffle, class_weight, sample_weight, initial_epoch, steps_per_epoch, validation_steps, validation_freq, **kwargs)\u001b[0m\n\u001b[1;32m    667\u001b[0m         \u001b[0mvalidation_steps\u001b[0m\u001b[0;34m=\u001b[0m\u001b[0mvalidation_steps\u001b[0m\u001b[0;34m,\u001b[0m\u001b[0;34m\u001b[0m\u001b[0;34m\u001b[0m\u001b[0m\n\u001b[1;32m    668\u001b[0m         \u001b[0mvalidation_freq\u001b[0m\u001b[0;34m=\u001b[0m\u001b[0mvalidation_freq\u001b[0m\u001b[0;34m,\u001b[0m\u001b[0;34m\u001b[0m\u001b[0;34m\u001b[0m\u001b[0m\n\u001b[0;32m--> 669\u001b[0;31m         steps_name='steps_per_epoch')\n\u001b[0m\u001b[1;32m    670\u001b[0m \u001b[0;34m\u001b[0m\u001b[0m\n\u001b[1;32m    671\u001b[0m   def evaluate(self,\n",
      "\u001b[0;32m~/Projects/perso/venv/lib/python3.7/site-packages/tensorflow_core/python/keras/engine/training_arrays.py\u001b[0m in \u001b[0;36mmodel_iteration\u001b[0;34m(model, inputs, targets, sample_weights, batch_size, epochs, verbose, callbacks, val_inputs, val_targets, val_sample_weights, shuffle, initial_epoch, steps_per_epoch, validation_steps, validation_freq, mode, validation_in_fit, prepared_feed_values_from_dataset, steps_name, **kwargs)\u001b[0m\n\u001b[1;32m    396\u001b[0m \u001b[0;34m\u001b[0m\u001b[0m\n\u001b[1;32m    397\u001b[0m         \u001b[0;31m# Callbacks batch end.\u001b[0m\u001b[0;34m\u001b[0m\u001b[0;34m\u001b[0m\u001b[0;34m\u001b[0m\u001b[0m\n\u001b[0;32m--> 398\u001b[0;31m         \u001b[0mbatch_logs\u001b[0m \u001b[0;34m=\u001b[0m \u001b[0mcbks\u001b[0m\u001b[0;34m.\u001b[0m\u001b[0mmake_logs\u001b[0m\u001b[0;34m(\u001b[0m\u001b[0mmodel\u001b[0m\u001b[0;34m,\u001b[0m \u001b[0mbatch_logs\u001b[0m\u001b[0;34m,\u001b[0m \u001b[0mbatch_outs\u001b[0m\u001b[0;34m,\u001b[0m \u001b[0mmode\u001b[0m\u001b[0;34m)\u001b[0m\u001b[0;34m\u001b[0m\u001b[0;34m\u001b[0m\u001b[0m\n\u001b[0m\u001b[1;32m    399\u001b[0m         \u001b[0mcallbacks\u001b[0m\u001b[0;34m.\u001b[0m\u001b[0m_call_batch_hook\u001b[0m\u001b[0;34m(\u001b[0m\u001b[0mmode\u001b[0m\u001b[0;34m,\u001b[0m \u001b[0;34m'end'\u001b[0m\u001b[0;34m,\u001b[0m \u001b[0mbatch_index\u001b[0m\u001b[0;34m,\u001b[0m \u001b[0mbatch_logs\u001b[0m\u001b[0;34m)\u001b[0m\u001b[0;34m\u001b[0m\u001b[0;34m\u001b[0m\u001b[0m\n\u001b[1;32m    400\u001b[0m         \u001b[0mprogbar\u001b[0m\u001b[0;34m.\u001b[0m\u001b[0mon_batch_end\u001b[0m\u001b[0;34m(\u001b[0m\u001b[0mbatch_index\u001b[0m\u001b[0;34m,\u001b[0m \u001b[0mbatch_logs\u001b[0m\u001b[0;34m)\u001b[0m\u001b[0;34m\u001b[0m\u001b[0;34m\u001b[0m\u001b[0m\n",
      "\u001b[0;32m~/Projects/perso/venv/lib/python3.7/site-packages/tensorflow_core/python/keras/callbacks.py\u001b[0m in \u001b[0;36mmake_logs\u001b[0;34m(model, logs, outputs, mode, prefix)\u001b[0m\n\u001b[1;32m    173\u001b[0m   \u001b[0;34m\"\"\"Computes logs for sending to `on_batch_end` methods.\"\"\"\u001b[0m\u001b[0;34m\u001b[0m\u001b[0;34m\u001b[0m\u001b[0m\n\u001b[1;32m    174\u001b[0m   \u001b[0;32mif\u001b[0m \u001b[0mmode\u001b[0m \u001b[0;32min\u001b[0m \u001b[0;34m{\u001b[0m\u001b[0mModeKeys\u001b[0m\u001b[0;34m.\u001b[0m\u001b[0mTRAIN\u001b[0m\u001b[0;34m,\u001b[0m \u001b[0mModeKeys\u001b[0m\u001b[0;34m.\u001b[0m\u001b[0mTEST\u001b[0m\u001b[0;34m}\u001b[0m\u001b[0;34m:\u001b[0m\u001b[0;34m\u001b[0m\u001b[0;34m\u001b[0m\u001b[0m\n\u001b[0;32m--> 175\u001b[0;31m     \u001b[0;32mif\u001b[0m \u001b[0mhasattr\u001b[0m\u001b[0;34m(\u001b[0m\u001b[0mmodel\u001b[0m\u001b[0;34m,\u001b[0m \u001b[0;34m'metrics_names'\u001b[0m\u001b[0;34m)\u001b[0m\u001b[0;34m:\u001b[0m\u001b[0;34m\u001b[0m\u001b[0;34m\u001b[0m\u001b[0m\n\u001b[0m\u001b[1;32m    176\u001b[0m       \u001b[0;32mfor\u001b[0m \u001b[0mlabel\u001b[0m\u001b[0;34m,\u001b[0m \u001b[0moutput\u001b[0m \u001b[0;32min\u001b[0m \u001b[0mzip\u001b[0m\u001b[0;34m(\u001b[0m\u001b[0mmodel\u001b[0m\u001b[0;34m.\u001b[0m\u001b[0mmetrics_names\u001b[0m\u001b[0;34m,\u001b[0m \u001b[0moutputs\u001b[0m\u001b[0;34m)\u001b[0m\u001b[0;34m:\u001b[0m\u001b[0;34m\u001b[0m\u001b[0;34m\u001b[0m\u001b[0m\n\u001b[1;32m    177\u001b[0m         \u001b[0mlogs\u001b[0m\u001b[0;34m[\u001b[0m\u001b[0mprefix\u001b[0m \u001b[0;34m+\u001b[0m \u001b[0mlabel\u001b[0m\u001b[0;34m]\u001b[0m \u001b[0;34m=\u001b[0m \u001b[0moutput\u001b[0m\u001b[0;34m\u001b[0m\u001b[0;34m\u001b[0m\u001b[0m\n",
      "\u001b[0;32m~/Projects/perso/venv/lib/python3.7/site-packages/tensorflow_core/python/keras/engine/training.py\u001b[0m in \u001b[0;36mmetrics_names\u001b[0;34m(self)\u001b[0m\n\u001b[1;32m    401\u001b[0m \u001b[0;34m\u001b[0m\u001b[0m\n\u001b[1;32m    402\u001b[0m       \u001b[0;31m# Add compile metrics/weighted metrics' names to the metric names list.\u001b[0m\u001b[0;34m\u001b[0m\u001b[0;34m\u001b[0m\u001b[0;34m\u001b[0m\u001b[0m\n\u001b[0;32m--> 403\u001b[0;31m       \u001b[0mmetrics_names\u001b[0m\u001b[0;34m.\u001b[0m\u001b[0mextend\u001b[0m\u001b[0;34m(\u001b[0m\u001b[0;34m[\u001b[0m\u001b[0mm\u001b[0m\u001b[0;34m.\u001b[0m\u001b[0mname\u001b[0m \u001b[0;32mfor\u001b[0m \u001b[0mm\u001b[0m \u001b[0;32min\u001b[0m \u001b[0mself\u001b[0m\u001b[0;34m.\u001b[0m\u001b[0m_compile_metric_functions\u001b[0m\u001b[0;34m]\u001b[0m\u001b[0;34m)\u001b[0m\u001b[0;34m\u001b[0m\u001b[0;34m\u001b[0m\u001b[0m\n\u001b[0m\u001b[1;32m    404\u001b[0m \u001b[0;34m\u001b[0m\u001b[0m\n\u001b[1;32m    405\u001b[0m     \u001b[0;31m# Add metric names from layers.\u001b[0m\u001b[0;34m\u001b[0m\u001b[0;34m\u001b[0m\u001b[0;34m\u001b[0m\u001b[0m\n",
      "\u001b[0;31mKeyboardInterrupt\u001b[0m: "
     ]
    }
   ],
   "source": [
    "history3 = model3.fit(X_train_3D, Y_train_3D, epochs=200, batch_size=200,\n",
    "                      validation_data=(X_valid_3D, Y_valid_3D),\n",
    "                      callbacks=[keras.callbacks.ReduceLROnPlateau(verbose=1)])"
   ]
  },
  {
   "cell_type": "code",
   "execution_count": null,
   "metadata": {},
   "outputs": [],
   "source": [
    "model3.evaluate(X_valid_3D, Y_valid_3D)"
   ]
  },
  {
   "cell_type": "code",
   "execution_count": null,
   "metadata": {
    "scrolled": true
   },
   "outputs": [],
   "source": [
    "plot_history(history3, loss=\"mae_last_step\")"
   ]
  },
  {
   "cell_type": "code",
   "execution_count": null,
   "metadata": {},
   "outputs": [],
   "source": [
    "y_pred_rnn3 = model3.predict(X_valid_3D)[:, -1]"
   ]
  },
  {
   "cell_type": "code",
   "execution_count": null,
   "metadata": {},
   "outputs": [],
   "source": [
    "plot_predictions((\"Target\", y_valid),\n",
    "                 (\"Linear\", y_pred_linear),\n",
    "                 (\"RNN\", y_pred_rnn3),\n",
    "                 end=365)"
   ]
  },
  {
   "cell_type": "markdown",
   "metadata": {},
   "source": [
    "## 3.2) Add $\\ell_2$ regularization"
   ]
  },
  {
   "cell_type": "code",
   "execution_count": 187,
   "metadata": {},
   "outputs": [],
   "source": [
    "from functools import partial"
   ]
  },
  {
   "cell_type": "code",
   "execution_count": null,
   "metadata": {},
   "outputs": [],
   "source": [
    "RegularizedLSTM = partial(keras.layers.LSTM,\n",
    "                          return_sequences=True,\n",
    "                          kernel_regularizer=keras.regularizers.l2(1e-4),\n",
    "                          recurrent_regularizer=keras.regularizers.l2(1e-4))"
   ]
  },
  {
   "cell_type": "code",
   "execution_count": null,
   "metadata": {},
   "outputs": [],
   "source": [
    "model3 = keras.models.Sequential()\n",
    "model3.add(RegularizedLSTM(100, input_shape=input_shape))\n",
    "model3.add(RegularizedLSTM(100))\n",
    "model3.add(keras.layers.Dense(1))\n",
    "model3.compile(loss=huber_loss, optimizer=keras.optimizers.SGD(lr=0.01),\n",
    "               metrics=[mae_last_step])"
   ]
  },
  {
   "cell_type": "code",
   "execution_count": null,
   "metadata": {},
   "outputs": [],
   "source": [
    "history3 = model3.fit(X_train_3D, Y_train_3D, epochs=200, batch_size=100,\n",
    "                      validation_data=(X_valid_3D, Y_valid_3D))"
   ]
  },
  {
   "cell_type": "code",
   "execution_count": null,
   "metadata": {},
   "outputs": [],
   "source": [
    "model3.evaluate(X_valid_3D, Y_valid_3D)"
   ]
  },
  {
   "cell_type": "code",
   "execution_count": null,
   "metadata": {},
   "outputs": [],
   "source": [
    "plot_history(history3)"
   ]
  },
  {
   "cell_type": "code",
   "execution_count": null,
   "metadata": {},
   "outputs": [],
   "source": [
    "y_pred_rnn3 = model3.predict(X_valid_3D)[:, -1]"
   ]
  },
  {
   "cell_type": "code",
   "execution_count": null,
   "metadata": {},
   "outputs": [],
   "source": [
    "plot_predictions((\"Target\", y_valid),\n",
    "                 (\"Linear\", y_pred_linear),\n",
    "                 (\"RNN\", y_pred_rnn3),\n",
    "                 end=365)"
   ]
  },
  {
   "cell_type": "markdown",
   "metadata": {},
   "source": [
    "![Exercise](https://c1.staticflickr.com/9/8101/8553474140_c50cf08708_b.jpg)"
   ]
  },
  {
   "cell_type": "markdown",
   "metadata": {},
   "source": [
    "# Exercise 4 – Preprocessing with 1D-ConvNets"
   ]
  },
  {
   "cell_type": "markdown",
   "metadata": {},
   "source": [
    "At the beginning of your sequential model, add a `Conv1D` layer with 32 kernels of size 5, a `MaxPool1D` layer with pool size 5 and strides 2. Train and evaluate the model."
   ]
  },
  {
   "cell_type": "code",
   "execution_count": 194,
   "metadata": {},
   "outputs": [
    {
     "data": {
      "text/plain": [
       "(30, 1)"
      ]
     },
     "execution_count": 194,
     "metadata": {},
     "output_type": "execute_result"
    }
   ],
   "source": [
    "input_shape"
   ]
  },
  {
   "cell_type": "code",
   "execution_count": 204,
   "metadata": {},
   "outputs": [
    {
     "name": "stdout",
     "output_type": "stream",
     "text": [
      "Train on 2155 samples, validate on 725 samples\n",
      "Epoch 1/200\n"
     ]
    },
    {
     "ename": "InvalidArgumentError",
     "evalue": " Incompatible shapes: [100,30,1] vs. [100,11,1]\n\t [[node loss_22/time_distributed_10_loss/sub (defined at /home/yang/Projects/perso/venv/lib/python3.7/site-packages/tensorflow_core/python/framework/ops.py:1694) ]] [Op:__inference_keras_scratch_graph_228825]\n\nFunction call stack:\nkeras_scratch_graph\n",
     "output_type": "error",
     "traceback": [
      "\u001b[0;31m---------------------------------------------------------------------------\u001b[0m",
      "\u001b[0;31mInvalidArgumentError\u001b[0m                      Traceback (most recent call last)",
      "\u001b[0;32m<ipython-input-204-388a0a340a34>\u001b[0m in \u001b[0;36m<module>\u001b[0;34m\u001b[0m\n\u001b[1;32m      8\u001b[0m                metrics=[mae_last_step])\n\u001b[1;32m      9\u001b[0m history4 = model4.fit(X_train_3D, Y_train_3D, epochs=200, batch_size=100,\n\u001b[0;32m---> 10\u001b[0;31m                       validation_data=(X_valid_3D, Y_valid_3D))\n\u001b[0m",
      "\u001b[0;32m~/Projects/perso/venv/lib/python3.7/site-packages/tensorflow_core/python/keras/engine/training.py\u001b[0m in \u001b[0;36mfit\u001b[0;34m(self, x, y, batch_size, epochs, verbose, callbacks, validation_split, validation_data, shuffle, class_weight, sample_weight, initial_epoch, steps_per_epoch, validation_steps, validation_freq, max_queue_size, workers, use_multiprocessing, **kwargs)\u001b[0m\n\u001b[1;32m    667\u001b[0m         \u001b[0mmax_queue_size\u001b[0m\u001b[0;34m=\u001b[0m\u001b[0mmax_queue_size\u001b[0m\u001b[0;34m,\u001b[0m\u001b[0;34m\u001b[0m\u001b[0;34m\u001b[0m\u001b[0m\n\u001b[1;32m    668\u001b[0m         \u001b[0mworkers\u001b[0m\u001b[0;34m=\u001b[0m\u001b[0mworkers\u001b[0m\u001b[0;34m,\u001b[0m\u001b[0;34m\u001b[0m\u001b[0;34m\u001b[0m\u001b[0m\n\u001b[0;32m--> 669\u001b[0;31m         use_multiprocessing=use_multiprocessing)\n\u001b[0m\u001b[1;32m    670\u001b[0m \u001b[0;34m\u001b[0m\u001b[0m\n\u001b[1;32m    671\u001b[0m   def evaluate(self,\n",
      "\u001b[0;32m~/Projects/perso/venv/lib/python3.7/site-packages/tensorflow_core/python/keras/engine/training_arrays.py\u001b[0m in \u001b[0;36mfit\u001b[0;34m(self, model, x, y, batch_size, epochs, verbose, callbacks, validation_split, validation_data, shuffle, class_weight, sample_weight, initial_epoch, steps_per_epoch, validation_steps, validation_freq, **kwargs)\u001b[0m\n\u001b[1;32m    667\u001b[0m         \u001b[0mvalidation_steps\u001b[0m\u001b[0;34m=\u001b[0m\u001b[0mvalidation_steps\u001b[0m\u001b[0;34m,\u001b[0m\u001b[0;34m\u001b[0m\u001b[0;34m\u001b[0m\u001b[0m\n\u001b[1;32m    668\u001b[0m         \u001b[0mvalidation_freq\u001b[0m\u001b[0;34m=\u001b[0m\u001b[0mvalidation_freq\u001b[0m\u001b[0;34m,\u001b[0m\u001b[0;34m\u001b[0m\u001b[0;34m\u001b[0m\u001b[0m\n\u001b[0;32m--> 669\u001b[0;31m         steps_name='steps_per_epoch')\n\u001b[0m\u001b[1;32m    670\u001b[0m \u001b[0;34m\u001b[0m\u001b[0m\n\u001b[1;32m    671\u001b[0m   def evaluate(self,\n",
      "\u001b[0;32m~/Projects/perso/venv/lib/python3.7/site-packages/tensorflow_core/python/keras/engine/training_arrays.py\u001b[0m in \u001b[0;36mmodel_iteration\u001b[0;34m(model, inputs, targets, sample_weights, batch_size, epochs, verbose, callbacks, val_inputs, val_targets, val_sample_weights, shuffle, initial_epoch, steps_per_epoch, validation_steps, validation_freq, mode, validation_in_fit, prepared_feed_values_from_dataset, steps_name, **kwargs)\u001b[0m\n\u001b[1;32m    386\u001b[0m \u001b[0;34m\u001b[0m\u001b[0m\n\u001b[1;32m    387\u001b[0m         \u001b[0;31m# Get outputs.\u001b[0m\u001b[0;34m\u001b[0m\u001b[0;34m\u001b[0m\u001b[0;34m\u001b[0m\u001b[0m\n\u001b[0;32m--> 388\u001b[0;31m         \u001b[0mbatch_outs\u001b[0m \u001b[0;34m=\u001b[0m \u001b[0mf\u001b[0m\u001b[0;34m(\u001b[0m\u001b[0mins_batch\u001b[0m\u001b[0;34m)\u001b[0m\u001b[0;34m\u001b[0m\u001b[0;34m\u001b[0m\u001b[0m\n\u001b[0m\u001b[1;32m    389\u001b[0m         \u001b[0;32mif\u001b[0m \u001b[0;32mnot\u001b[0m \u001b[0misinstance\u001b[0m\u001b[0;34m(\u001b[0m\u001b[0mbatch_outs\u001b[0m\u001b[0;34m,\u001b[0m \u001b[0mlist\u001b[0m\u001b[0;34m)\u001b[0m\u001b[0;34m:\u001b[0m\u001b[0;34m\u001b[0m\u001b[0;34m\u001b[0m\u001b[0m\n\u001b[1;32m    390\u001b[0m           \u001b[0mbatch_outs\u001b[0m \u001b[0;34m=\u001b[0m \u001b[0;34m[\u001b[0m\u001b[0mbatch_outs\u001b[0m\u001b[0;34m]\u001b[0m\u001b[0;34m\u001b[0m\u001b[0;34m\u001b[0m\u001b[0m\n",
      "\u001b[0;32m~/Projects/perso/venv/lib/python3.7/site-packages/tensorflow_core/python/keras/backend.py\u001b[0m in \u001b[0;36m__call__\u001b[0;34m(self, inputs)\u001b[0m\n\u001b[1;32m   3481\u001b[0m         \u001b[0mvalue\u001b[0m \u001b[0;34m=\u001b[0m \u001b[0mmath_ops\u001b[0m\u001b[0;34m.\u001b[0m\u001b[0mcast\u001b[0m\u001b[0;34m(\u001b[0m\u001b[0mvalue\u001b[0m\u001b[0;34m,\u001b[0m \u001b[0mtensor\u001b[0m\u001b[0;34m.\u001b[0m\u001b[0mdtype\u001b[0m\u001b[0;34m)\u001b[0m\u001b[0;34m\u001b[0m\u001b[0;34m\u001b[0m\u001b[0m\n\u001b[1;32m   3482\u001b[0m       \u001b[0mconverted_inputs\u001b[0m\u001b[0;34m.\u001b[0m\u001b[0mappend\u001b[0m\u001b[0;34m(\u001b[0m\u001b[0mvalue\u001b[0m\u001b[0;34m)\u001b[0m\u001b[0;34m\u001b[0m\u001b[0;34m\u001b[0m\u001b[0m\n\u001b[0;32m-> 3483\u001b[0;31m     \u001b[0moutputs\u001b[0m \u001b[0;34m=\u001b[0m \u001b[0mself\u001b[0m\u001b[0;34m.\u001b[0m\u001b[0m_graph_fn\u001b[0m\u001b[0;34m(\u001b[0m\u001b[0;34m*\u001b[0m\u001b[0mconverted_inputs\u001b[0m\u001b[0;34m)\u001b[0m\u001b[0;34m\u001b[0m\u001b[0;34m\u001b[0m\u001b[0m\n\u001b[0m\u001b[1;32m   3484\u001b[0m \u001b[0;34m\u001b[0m\u001b[0m\n\u001b[1;32m   3485\u001b[0m     \u001b[0;31m# EagerTensor.numpy() will often make a copy to ensure memory safety.\u001b[0m\u001b[0;34m\u001b[0m\u001b[0;34m\u001b[0m\u001b[0;34m\u001b[0m\u001b[0m\n",
      "\u001b[0;32m~/Projects/perso/venv/lib/python3.7/site-packages/tensorflow_core/python/eager/function.py\u001b[0m in \u001b[0;36m__call__\u001b[0;34m(self, *args, **kwargs)\u001b[0m\n\u001b[1;32m    581\u001b[0m       raise TypeError(\"Keyword arguments {} unknown. Expected {}.\".format(\n\u001b[1;32m    582\u001b[0m           list(kwargs.keys()), list(self._arg_keywords)))\n\u001b[0;32m--> 583\u001b[0;31m     \u001b[0;32mreturn\u001b[0m \u001b[0mself\u001b[0m\u001b[0;34m.\u001b[0m\u001b[0m_call_flat\u001b[0m\u001b[0;34m(\u001b[0m\u001b[0margs\u001b[0m\u001b[0;34m,\u001b[0m \u001b[0mself\u001b[0m\u001b[0;34m.\u001b[0m\u001b[0mcaptured_inputs\u001b[0m\u001b[0;34m)\u001b[0m\u001b[0;34m\u001b[0m\u001b[0;34m\u001b[0m\u001b[0m\n\u001b[0m\u001b[1;32m    584\u001b[0m \u001b[0;34m\u001b[0m\u001b[0m\n\u001b[1;32m    585\u001b[0m   \u001b[0;32mdef\u001b[0m \u001b[0m_filtered_call\u001b[0m\u001b[0;34m(\u001b[0m\u001b[0mself\u001b[0m\u001b[0;34m,\u001b[0m \u001b[0margs\u001b[0m\u001b[0;34m,\u001b[0m \u001b[0mkwargs\u001b[0m\u001b[0;34m)\u001b[0m\u001b[0;34m:\u001b[0m\u001b[0;34m\u001b[0m\u001b[0;34m\u001b[0m\u001b[0m\n",
      "\u001b[0;32m~/Projects/perso/venv/lib/python3.7/site-packages/tensorflow_core/python/eager/function.py\u001b[0m in \u001b[0;36m_call_flat\u001b[0;34m(self, args, captured_inputs)\u001b[0m\n\u001b[1;32m    683\u001b[0m     \u001b[0;31m# Only need to override the gradient in graph mode and when we have outputs.\u001b[0m\u001b[0;34m\u001b[0m\u001b[0;34m\u001b[0m\u001b[0;34m\u001b[0m\u001b[0m\n\u001b[1;32m    684\u001b[0m     \u001b[0;32mif\u001b[0m \u001b[0mcontext\u001b[0m\u001b[0;34m.\u001b[0m\u001b[0mexecuting_eagerly\u001b[0m\u001b[0;34m(\u001b[0m\u001b[0;34m)\u001b[0m \u001b[0;32mor\u001b[0m \u001b[0;32mnot\u001b[0m \u001b[0mself\u001b[0m\u001b[0;34m.\u001b[0m\u001b[0moutputs\u001b[0m\u001b[0;34m:\u001b[0m\u001b[0;34m\u001b[0m\u001b[0;34m\u001b[0m\u001b[0m\n\u001b[0;32m--> 685\u001b[0;31m       \u001b[0moutputs\u001b[0m \u001b[0;34m=\u001b[0m \u001b[0mself\u001b[0m\u001b[0;34m.\u001b[0m\u001b[0m_inference_function\u001b[0m\u001b[0;34m.\u001b[0m\u001b[0mcall\u001b[0m\u001b[0;34m(\u001b[0m\u001b[0mctx\u001b[0m\u001b[0;34m,\u001b[0m \u001b[0margs\u001b[0m\u001b[0;34m)\u001b[0m\u001b[0;34m\u001b[0m\u001b[0;34m\u001b[0m\u001b[0m\n\u001b[0m\u001b[1;32m    686\u001b[0m     \u001b[0;32melse\u001b[0m\u001b[0;34m:\u001b[0m\u001b[0;34m\u001b[0m\u001b[0;34m\u001b[0m\u001b[0m\n\u001b[1;32m    687\u001b[0m       \u001b[0mself\u001b[0m\u001b[0;34m.\u001b[0m\u001b[0m_register_gradient\u001b[0m\u001b[0;34m(\u001b[0m\u001b[0;34m)\u001b[0m\u001b[0;34m\u001b[0m\u001b[0;34m\u001b[0m\u001b[0m\n",
      "\u001b[0;32m~/Projects/perso/venv/lib/python3.7/site-packages/tensorflow_core/python/eager/function.py\u001b[0m in \u001b[0;36mcall\u001b[0;34m(self, ctx, args)\u001b[0m\n\u001b[1;32m    452\u001b[0m             attrs=(\"executor_type\", executor_type,\n\u001b[1;32m    453\u001b[0m                    \"config_proto\", config),\n\u001b[0;32m--> 454\u001b[0;31m             ctx=ctx)\n\u001b[0m\u001b[1;32m    455\u001b[0m       \u001b[0;31m# Replace empty list with None\u001b[0m\u001b[0;34m\u001b[0m\u001b[0;34m\u001b[0m\u001b[0;34m\u001b[0m\u001b[0m\n\u001b[1;32m    456\u001b[0m       \u001b[0moutputs\u001b[0m \u001b[0;34m=\u001b[0m \u001b[0moutputs\u001b[0m \u001b[0;32mor\u001b[0m \u001b[0;32mNone\u001b[0m\u001b[0;34m\u001b[0m\u001b[0;34m\u001b[0m\u001b[0m\n",
      "\u001b[0;32m~/Projects/perso/venv/lib/python3.7/site-packages/tensorflow_core/python/eager/execute.py\u001b[0m in \u001b[0;36mquick_execute\u001b[0;34m(op_name, num_outputs, inputs, attrs, ctx, name)\u001b[0m\n\u001b[1;32m     65\u001b[0m     \u001b[0;32melse\u001b[0m\u001b[0;34m:\u001b[0m\u001b[0;34m\u001b[0m\u001b[0;34m\u001b[0m\u001b[0m\n\u001b[1;32m     66\u001b[0m       \u001b[0mmessage\u001b[0m \u001b[0;34m=\u001b[0m \u001b[0me\u001b[0m\u001b[0;34m.\u001b[0m\u001b[0mmessage\u001b[0m\u001b[0;34m\u001b[0m\u001b[0;34m\u001b[0m\u001b[0m\n\u001b[0;32m---> 67\u001b[0;31m     \u001b[0msix\u001b[0m\u001b[0;34m.\u001b[0m\u001b[0mraise_from\u001b[0m\u001b[0;34m(\u001b[0m\u001b[0mcore\u001b[0m\u001b[0;34m.\u001b[0m\u001b[0m_status_to_exception\u001b[0m\u001b[0;34m(\u001b[0m\u001b[0me\u001b[0m\u001b[0;34m.\u001b[0m\u001b[0mcode\u001b[0m\u001b[0;34m,\u001b[0m \u001b[0mmessage\u001b[0m\u001b[0;34m)\u001b[0m\u001b[0;34m,\u001b[0m \u001b[0;32mNone\u001b[0m\u001b[0;34m)\u001b[0m\u001b[0;34m\u001b[0m\u001b[0;34m\u001b[0m\u001b[0m\n\u001b[0m\u001b[1;32m     68\u001b[0m   \u001b[0;32mexcept\u001b[0m \u001b[0mTypeError\u001b[0m \u001b[0;32mas\u001b[0m \u001b[0me\u001b[0m\u001b[0;34m:\u001b[0m\u001b[0;34m\u001b[0m\u001b[0;34m\u001b[0m\u001b[0m\n\u001b[1;32m     69\u001b[0m     \u001b[0;32mif\u001b[0m \u001b[0many\u001b[0m\u001b[0;34m(\u001b[0m\u001b[0mops\u001b[0m\u001b[0;34m.\u001b[0m\u001b[0m_is_keras_symbolic_tensor\u001b[0m\u001b[0;34m(\u001b[0m\u001b[0mx\u001b[0m\u001b[0;34m)\u001b[0m \u001b[0;32mfor\u001b[0m \u001b[0mx\u001b[0m \u001b[0;32min\u001b[0m \u001b[0minputs\u001b[0m\u001b[0;34m)\u001b[0m\u001b[0;34m:\u001b[0m\u001b[0;34m\u001b[0m\u001b[0;34m\u001b[0m\u001b[0m\n",
      "\u001b[0;32m~/Projects/perso/venv/lib/python3.7/site-packages/six.py\u001b[0m in \u001b[0;36mraise_from\u001b[0;34m(value, from_value)\u001b[0m\n",
      "\u001b[0;31mInvalidArgumentError\u001b[0m:  Incompatible shapes: [100,30,1] vs. [100,11,1]\n\t [[node loss_22/time_distributed_10_loss/sub (defined at /home/yang/Projects/perso/venv/lib/python3.7/site-packages/tensorflow_core/python/framework/ops.py:1694) ]] [Op:__inference_keras_scratch_graph_228825]\n\nFunction call stack:\nkeras_scratch_graph\n"
     ]
    }
   ],
   "source": [
    "model4 = keras.models.Sequential()\n",
    "model4.add(keras.layers.Conv1D(kernel_size=5, filters=32, input_shape=input_shape))\n",
    "model4.add(keras.layers.MaxPool1D(pool_size=5, strides=2))\n",
    "model4.add(keras.layers.LSTM(100, return_sequences=True))\n",
    "model4.add(keras.layers.LSTM(100, return_sequences=True))\n",
    "model4.add(keras.layers.TimeDistributed(keras.layers.Dense(1)))\n",
    "model4.compile(loss=huber_loss, optimizer=keras.optimizers.SGD(lr=0.01),\n",
    "               metrics=[mae_last_step])\n",
    "history4 = model4.fit(X_train_3D, Y_train_3D, epochs=200, batch_size=100,\n",
    "                      validation_data=(X_valid_3D, Y_valid_3D))\n",
    "\n",
    "\"\"\"\n",
    "model4 = keras.models.Sequential()\n",
    "model4.add(keras.layers.Conv1D(32, kernel_size=5, input_shape=input_shape))\n",
    "model4.add(keras.layers.MaxPool1D(pool_size=5, strides=2))\n",
    "model4.add(keras.layers.LSTM(32, return_sequences=True))\n",
    "model4.add(keras.layers.LSTM(32))\n",
    "model4.add(keras.layers.Dense(1))\n",
    "model4.compile(loss=huber_loss, optimizer=keras.optimizers.SGD(lr=0.005))\n",
    "\"\"\""
   ]
  },
  {
   "cell_type": "code",
   "execution_count": null,
   "metadata": {},
   "outputs": [],
   "source": []
  },
  {
   "cell_type": "code",
   "execution_count": null,
   "metadata": {},
   "outputs": [],
   "source": []
  },
  {
   "cell_type": "markdown",
   "metadata": {},
   "source": [
    "![Exercise solution](https://camo.githubusercontent.com/250388fde3fac9135ead9471733ee28e049f7a37/68747470733a2f2f75706c6f61642e77696b696d656469612e6f72672f77696b6970656469612f636f6d6d6f6e732f302f30362f46696c6f735f736567756e646f5f6c6f676f5f253238666c69707065642532392e6a7067)"
   ]
  },
  {
   "cell_type": "markdown",
   "metadata": {},
   "source": [
    "# Exercise 4 – Solution"
   ]
  },
  {
   "cell_type": "code",
   "execution_count": 205,
   "metadata": {},
   "outputs": [],
   "source": [
    "model4 = keras.models.Sequential()\n",
    "model4.add(keras.layers.Conv1D(32, kernel_size=5, input_shape=input_shape)) \n",
    "# we could also use padding=\"causal\" to fill initial na\n",
    "model4.add(keras.layers.MaxPool1D(pool_size=5, strides=2))\n",
    "model4.add(keras.layers.LSTM(32, return_sequences=True))\n",
    "model4.add(keras.layers.LSTM(32))\n",
    "model4.add(keras.layers.Dense(1))\n",
    "model4.compile(loss=huber_loss, optimizer=keras.optimizers.SGD(lr=0.005))"
   ]
  },
  {
   "cell_type": "code",
   "execution_count": null,
   "metadata": {},
   "outputs": [],
   "source": [
    "model4.summary()"
   ]
  },
  {
   "cell_type": "code",
   "execution_count": 206,
   "metadata": {
    "scrolled": true
   },
   "outputs": [
    {
     "name": "stdout",
     "output_type": "stream",
     "text": [
      "Train on 2155 samples, validate on 725 samples\n",
      "Epoch 1/200\n",
      "2155/2155 [==============================] - 2s 1ms/sample - loss: 9.2591 - val_loss: 8.9638\n",
      "Epoch 2/200\n",
      "2155/2155 [==============================] - 0s 117us/sample - loss: 7.9226 - val_loss: 7.6954\n",
      "Epoch 3/200\n",
      "2155/2155 [==============================] - 0s 114us/sample - loss: 6.6937 - val_loss: 6.3991\n",
      "Epoch 4/200\n",
      "2155/2155 [==============================] - 0s 115us/sample - loss: 5.4595 - val_loss: 5.1001\n",
      "Epoch 5/200\n",
      "2155/2155 [==============================] - 0s 114us/sample - loss: 4.3418 - val_loss: 4.0179\n",
      "Epoch 6/200\n",
      "2155/2155 [==============================] - 0s 113us/sample - loss: 3.5482 - val_loss: 3.2926\n",
      "Epoch 7/200\n",
      "2155/2155 [==============================] - 0s 116us/sample - loss: 3.1080 - val_loss: 2.8836\n",
      "Epoch 8/200\n",
      "2155/2155 [==============================] - 0s 130us/sample - loss: 2.8928 - val_loss: 2.6851\n",
      "Epoch 9/200\n",
      "2155/2155 [==============================] - 0s 120us/sample - loss: 2.7991 - val_loss: 2.5869\n",
      "Epoch 10/200\n",
      "2155/2155 [==============================] - 0s 121us/sample - loss: 2.7556 - val_loss: 2.5358\n",
      "Epoch 11/200\n",
      "2155/2155 [==============================] - 0s 114us/sample - loss: 2.7298 - val_loss: 2.5007\n",
      "Epoch 12/200\n",
      "2155/2155 [==============================] - 0s 114us/sample - loss: 2.6938 - val_loss: 2.4653\n",
      "Epoch 13/200\n",
      "2155/2155 [==============================] - 0s 115us/sample - loss: 2.6533 - val_loss: 2.3900\n",
      "Epoch 14/200\n",
      "2155/2155 [==============================] - 0s 122us/sample - loss: 2.6271 - val_loss: 2.4099\n",
      "Epoch 15/200\n",
      "2155/2155 [==============================] - 0s 124us/sample - loss: 2.5381 - val_loss: 2.2990\n",
      "Epoch 16/200\n",
      "2155/2155 [==============================] - 0s 132us/sample - loss: 2.4991 - val_loss: 2.2487\n",
      "Epoch 17/200\n",
      "2155/2155 [==============================] - 0s 126us/sample - loss: 2.3406 - val_loss: 2.1946\n",
      "Epoch 18/200\n",
      "2155/2155 [==============================] - 0s 122us/sample - loss: 2.2438 - val_loss: 2.0174\n",
      "Epoch 19/200\n",
      "2155/2155 [==============================] - 0s 129us/sample - loss: 2.1993 - val_loss: 1.9845\n",
      "Epoch 20/200\n",
      "2155/2155 [==============================] - 0s 113us/sample - loss: 2.1520 - val_loss: 1.9622\n",
      "Epoch 21/200\n",
      "2155/2155 [==============================] - 0s 124us/sample - loss: 2.0826 - val_loss: 1.9844\n",
      "Epoch 22/200\n",
      "2155/2155 [==============================] - 0s 115us/sample - loss: 2.1049 - val_loss: 1.8578\n",
      "Epoch 23/200\n",
      "2155/2155 [==============================] - 0s 121us/sample - loss: 2.0303 - val_loss: 1.8469\n",
      "Epoch 24/200\n",
      "2155/2155 [==============================] - 0s 119us/sample - loss: 2.0112 - val_loss: 2.2770\n",
      "Epoch 25/200\n",
      "2155/2155 [==============================] - 0s 117us/sample - loss: 2.0395 - val_loss: 1.8735\n",
      "Epoch 26/200\n",
      "2155/2155 [==============================] - 0s 117us/sample - loss: 2.0179 - val_loss: 1.8886\n",
      "Epoch 27/200\n",
      "2155/2155 [==============================] - 0s 121us/sample - loss: 2.0578 - val_loss: 1.8378\n",
      "Epoch 28/200\n",
      "2155/2155 [==============================] - 0s 121us/sample - loss: 1.9579 - val_loss: 1.9749\n",
      "Epoch 29/200\n",
      "2155/2155 [==============================] - 0s 125us/sample - loss: 2.0292 - val_loss: 1.8292\n",
      "Epoch 30/200\n",
      "2155/2155 [==============================] - 0s 120us/sample - loss: 2.0125 - val_loss: 1.9110\n",
      "Epoch 31/200\n",
      "2155/2155 [==============================] - 0s 116us/sample - loss: 2.0259 - val_loss: 1.8193\n",
      "Epoch 32/200\n",
      "2155/2155 [==============================] - 0s 125us/sample - loss: 1.9372 - val_loss: 2.1912\n",
      "Epoch 33/200\n",
      "2155/2155 [==============================] - 0s 121us/sample - loss: 1.9723 - val_loss: 2.0597\n",
      "Epoch 34/200\n",
      "2155/2155 [==============================] - 0s 125us/sample - loss: 1.9860 - val_loss: 2.0810\n",
      "Epoch 35/200\n",
      "2155/2155 [==============================] - 0s 124us/sample - loss: 1.9818 - val_loss: 1.8385\n",
      "Epoch 36/200\n",
      "2155/2155 [==============================] - 0s 125us/sample - loss: 1.9569 - val_loss: 1.8339\n",
      "Epoch 37/200\n",
      "2155/2155 [==============================] - 0s 132us/sample - loss: 1.9543 - val_loss: 2.1084\n",
      "Epoch 38/200\n",
      "2155/2155 [==============================] - 0s 129us/sample - loss: 1.9457 - val_loss: 2.2551\n",
      "Epoch 39/200\n",
      "2155/2155 [==============================] - 0s 127us/sample - loss: 1.9383 - val_loss: 1.8233\n",
      "Epoch 40/200\n",
      "2155/2155 [==============================] - 0s 129us/sample - loss: 1.9734 - val_loss: 1.8302\n",
      "Epoch 41/200\n",
      "2155/2155 [==============================] - 0s 125us/sample - loss: 1.9750 - val_loss: 1.8138\n",
      "Epoch 42/200\n",
      "2155/2155 [==============================] - 0s 126us/sample - loss: 1.9493 - val_loss: 1.9183\n",
      "Epoch 43/200\n",
      "2155/2155 [==============================] - 0s 129us/sample - loss: 1.9249 - val_loss: 1.8907\n",
      "Epoch 44/200\n",
      "2155/2155 [==============================] - 0s 118us/sample - loss: 1.9641 - val_loss: 1.8163\n",
      "Epoch 45/200\n",
      "2155/2155 [==============================] - 0s 119us/sample - loss: 1.9241 - val_loss: 1.8559\n",
      "Epoch 46/200\n",
      "2155/2155 [==============================] - 0s 116us/sample - loss: 1.9283 - val_loss: 1.8634\n",
      "Epoch 47/200\n",
      "2155/2155 [==============================] - 0s 119us/sample - loss: 1.9224 - val_loss: 1.9058\n",
      "Epoch 48/200\n",
      "2155/2155 [==============================] - 0s 119us/sample - loss: 1.9455 - val_loss: 1.8500\n",
      "Epoch 49/200\n",
      "2155/2155 [==============================] - 0s 120us/sample - loss: 1.9411 - val_loss: 1.8331\n",
      "Epoch 50/200\n",
      "2155/2155 [==============================] - 0s 119us/sample - loss: 1.9303 - val_loss: 1.8614\n",
      "Epoch 51/200\n",
      "2155/2155 [==============================] - 0s 137us/sample - loss: 1.9395 - val_loss: 1.7894\n",
      "Epoch 52/200\n",
      "2155/2155 [==============================] - 0s 118us/sample - loss: 1.9217 - val_loss: 1.8375\n",
      "Epoch 53/200\n",
      "2155/2155 [==============================] - 0s 117us/sample - loss: 1.9386 - val_loss: 1.7846\n",
      "Epoch 54/200\n",
      "2155/2155 [==============================] - 0s 114us/sample - loss: 1.9201 - val_loss: 1.7756\n",
      "Epoch 55/200\n",
      "2155/2155 [==============================] - 0s 117us/sample - loss: 1.9129 - val_loss: 1.8917\n",
      "Epoch 56/200\n",
      "2155/2155 [==============================] - 0s 121us/sample - loss: 1.9097 - val_loss: 1.7884\n",
      "Epoch 57/200\n",
      "2155/2155 [==============================] - 0s 116us/sample - loss: 1.9514 - val_loss: 1.8988\n",
      "Epoch 58/200\n",
      "2155/2155 [==============================] - 0s 114us/sample - loss: 1.9066 - val_loss: 1.7722\n",
      "Epoch 59/200\n",
      "2155/2155 [==============================] - 0s 118us/sample - loss: 1.9127 - val_loss: 1.7693\n",
      "Epoch 60/200\n",
      "2155/2155 [==============================] - 0s 119us/sample - loss: 1.9349 - val_loss: 1.7715\n",
      "Epoch 61/200\n",
      "2155/2155 [==============================] - 0s 122us/sample - loss: 1.9000 - val_loss: 1.8359\n",
      "Epoch 62/200\n",
      "2155/2155 [==============================] - 0s 118us/sample - loss: 1.9299 - val_loss: 1.7820\n",
      "Epoch 63/200\n",
      "2155/2155 [==============================] - 0s 118us/sample - loss: 1.9150 - val_loss: 1.7746\n",
      "Epoch 64/200\n",
      "2155/2155 [==============================] - 0s 119us/sample - loss: 1.9099 - val_loss: 1.7994\n",
      "Epoch 65/200\n",
      "2155/2155 [==============================] - 0s 124us/sample - loss: 1.9280 - val_loss: 1.7746\n",
      "Epoch 66/200\n",
      "2155/2155 [==============================] - 0s 126us/sample - loss: 1.9112 - val_loss: 1.7839\n",
      "Epoch 67/200\n",
      "2155/2155 [==============================] - 0s 122us/sample - loss: 1.9049 - val_loss: 1.7728\n",
      "Epoch 68/200\n",
      "2155/2155 [==============================] - 0s 120us/sample - loss: 1.9209 - val_loss: 1.7640\n",
      "Epoch 69/200\n",
      "2155/2155 [==============================] - 0s 123us/sample - loss: 1.9172 - val_loss: 1.7790\n",
      "Epoch 70/200\n",
      "2155/2155 [==============================] - 0s 120us/sample - loss: 1.9070 - val_loss: 1.7604\n",
      "Epoch 71/200\n",
      "2155/2155 [==============================] - 0s 116us/sample - loss: 1.8827 - val_loss: 2.0884\n",
      "Epoch 72/200\n",
      "2155/2155 [==============================] - 0s 119us/sample - loss: 1.9375 - val_loss: 1.8938\n",
      "Epoch 73/200\n",
      "2155/2155 [==============================] - 0s 120us/sample - loss: 1.9132 - val_loss: 1.8124\n",
      "Epoch 74/200\n",
      "2155/2155 [==============================] - 0s 128us/sample - loss: 1.8977 - val_loss: 1.7702\n",
      "Epoch 75/200\n",
      "2155/2155 [==============================] - 0s 124us/sample - loss: 1.8818 - val_loss: 1.7569\n",
      "Epoch 76/200\n"
     ]
    },
    {
     "name": "stdout",
     "output_type": "stream",
     "text": [
      "2155/2155 [==============================] - 0s 131us/sample - loss: 1.9170 - val_loss: 1.7809\n",
      "Epoch 77/200\n",
      "2155/2155 [==============================] - 0s 118us/sample - loss: 1.8965 - val_loss: 1.7966\n",
      "Epoch 78/200\n",
      "2155/2155 [==============================] - 0s 130us/sample - loss: 1.9102 - val_loss: 1.8273\n",
      "Epoch 79/200\n",
      "2155/2155 [==============================] - 0s 127us/sample - loss: 1.9098 - val_loss: 1.7694\n",
      "Epoch 80/200\n",
      "2155/2155 [==============================] - 0s 134us/sample - loss: 1.9073 - val_loss: 1.8459\n",
      "Epoch 81/200\n",
      "2155/2155 [==============================] - 0s 118us/sample - loss: 1.8910 - val_loss: 1.8285\n",
      "Epoch 82/200\n",
      "2155/2155 [==============================] - 0s 124us/sample - loss: 1.8988 - val_loss: 1.9284\n",
      "Epoch 83/200\n",
      "2155/2155 [==============================] - 0s 131us/sample - loss: 1.8842 - val_loss: 1.8615\n",
      "Epoch 84/200\n",
      "2155/2155 [==============================] - 0s 120us/sample - loss: 1.8955 - val_loss: 1.8344\n",
      "Epoch 85/200\n",
      "2155/2155 [==============================] - 0s 117us/sample - loss: 1.9086 - val_loss: 1.7767\n",
      "Epoch 86/200\n",
      "2155/2155 [==============================] - 0s 118us/sample - loss: 1.8916 - val_loss: 1.8216\n",
      "Epoch 87/200\n",
      "2155/2155 [==============================] - 0s 117us/sample - loss: 1.9255 - val_loss: 2.1618\n",
      "Epoch 88/200\n",
      "2155/2155 [==============================] - 0s 117us/sample - loss: 1.9061 - val_loss: 1.7688\n",
      "Epoch 89/200\n",
      "2155/2155 [==============================] - 0s 118us/sample - loss: 1.8906 - val_loss: 1.8773\n",
      "Epoch 90/200\n",
      "2155/2155 [==============================] - 0s 125us/sample - loss: 1.9467 - val_loss: 1.7750\n",
      "Epoch 91/200\n",
      "2155/2155 [==============================] - 0s 128us/sample - loss: 1.8814 - val_loss: 1.7664\n",
      "Epoch 92/200\n",
      "2155/2155 [==============================] - 0s 126us/sample - loss: 1.9120 - val_loss: 1.7650\n",
      "Epoch 93/200\n",
      "2155/2155 [==============================] - 0s 124us/sample - loss: 1.8787 - val_loss: 1.8369\n",
      "Epoch 94/200\n",
      "2155/2155 [==============================] - 0s 130us/sample - loss: 1.8871 - val_loss: 1.7722\n",
      "Epoch 95/200\n",
      "2155/2155 [==============================] - 0s 125us/sample - loss: 1.8823 - val_loss: 1.9440\n",
      "Epoch 96/200\n",
      "2155/2155 [==============================] - 0s 130us/sample - loss: 1.9109 - val_loss: 1.7765\n",
      "Epoch 97/200\n",
      "2155/2155 [==============================] - 0s 131us/sample - loss: 1.8743 - val_loss: 1.7552\n",
      "Epoch 98/200\n",
      "2155/2155 [==============================] - 0s 116us/sample - loss: 1.8737 - val_loss: 1.9175\n",
      "Epoch 99/200\n",
      "2155/2155 [==============================] - 0s 116us/sample - loss: 1.8819 - val_loss: 1.7676\n",
      "Epoch 100/200\n",
      "2155/2155 [==============================] - 0s 116us/sample - loss: 1.8702 - val_loss: 1.8164\n",
      "Epoch 101/200\n",
      "2155/2155 [==============================] - 0s 114us/sample - loss: 1.8991 - val_loss: 1.8050\n",
      "Epoch 102/200\n",
      "2155/2155 [==============================] - 0s 115us/sample - loss: 1.8803 - val_loss: 1.7524\n",
      "Epoch 103/200\n",
      "2155/2155 [==============================] - 0s 117us/sample - loss: 1.8944 - val_loss: 1.7812\n",
      "Epoch 104/200\n",
      "2155/2155 [==============================] - 0s 120us/sample - loss: 1.8829 - val_loss: 1.7878\n",
      "Epoch 105/200\n",
      "2155/2155 [==============================] - 0s 115us/sample - loss: 1.9079 - val_loss: 1.7923\n",
      "Epoch 106/200\n",
      "2155/2155 [==============================] - 0s 117us/sample - loss: 1.9165 - val_loss: 1.7501\n",
      "Epoch 107/200\n",
      "2155/2155 [==============================] - 0s 115us/sample - loss: 1.8681 - val_loss: 1.7453\n",
      "Epoch 108/200\n",
      "2155/2155 [==============================] - 0s 113us/sample - loss: 1.8907 - val_loss: 1.7469\n",
      "Epoch 109/200\n",
      "2155/2155 [==============================] - 0s 116us/sample - loss: 1.8946 - val_loss: 1.7469\n",
      "Epoch 110/200\n",
      "2155/2155 [==============================] - 0s 118us/sample - loss: 1.8567 - val_loss: 1.7733\n",
      "Epoch 111/200\n",
      "2155/2155 [==============================] - 0s 117us/sample - loss: 1.8917 - val_loss: 1.7486\n",
      "Epoch 112/200\n",
      "2155/2155 [==============================] - 0s 116us/sample - loss: 1.8656 - val_loss: 1.8076\n",
      "Epoch 113/200\n",
      "2155/2155 [==============================] - 0s 116us/sample - loss: 1.8497 - val_loss: 1.7462\n",
      "Epoch 114/200\n",
      "2155/2155 [==============================] - 0s 117us/sample - loss: 1.8872 - val_loss: 1.7873\n",
      "Epoch 115/200\n",
      "2155/2155 [==============================] - 0s 116us/sample - loss: 1.8812 - val_loss: 1.7459\n",
      "Epoch 116/200\n",
      "2155/2155 [==============================] - 0s 116us/sample - loss: 1.8723 - val_loss: 1.7510\n",
      "Epoch 117/200\n",
      "2155/2155 [==============================] - 0s 115us/sample - loss: 1.8900 - val_loss: 1.7760\n",
      "Epoch 118/200\n",
      "2155/2155 [==============================] - 0s 117us/sample - loss: 1.8948 - val_loss: 2.1355\n",
      "Epoch 119/200\n",
      "2155/2155 [==============================] - 0s 128us/sample - loss: 1.8877 - val_loss: 1.8389\n",
      "Epoch 120/200\n",
      "2155/2155 [==============================] - 0s 125us/sample - loss: 1.8488 - val_loss: 1.8531\n",
      "Epoch 121/200\n",
      "2155/2155 [==============================] - 0s 118us/sample - loss: 1.8703 - val_loss: 1.7419\n",
      "Epoch 122/200\n",
      "2155/2155 [==============================] - 0s 115us/sample - loss: 1.8576 - val_loss: 1.8298\n",
      "Epoch 123/200\n",
      "2155/2155 [==============================] - 0s 117us/sample - loss: 1.8509 - val_loss: 1.7417\n",
      "Epoch 124/200\n",
      "2155/2155 [==============================] - 0s 123us/sample - loss: 1.8555 - val_loss: 1.8619\n",
      "Epoch 125/200\n",
      "2155/2155 [==============================] - 0s 120us/sample - loss: 1.8896 - val_loss: 1.9409\n",
      "Epoch 126/200\n",
      "2155/2155 [==============================] - 0s 131us/sample - loss: 1.8782 - val_loss: 1.7413\n",
      "Epoch 127/200\n",
      "2155/2155 [==============================] - 0s 128us/sample - loss: 1.9156 - val_loss: 1.7624\n",
      "Epoch 128/200\n",
      "2155/2155 [==============================] - 0s 121us/sample - loss: 1.8441 - val_loss: 1.7556\n",
      "Epoch 129/200\n",
      "2155/2155 [==============================] - 0s 126us/sample - loss: 1.9198 - val_loss: 1.7445\n",
      "Epoch 130/200\n",
      "2155/2155 [==============================] - 0s 131us/sample - loss: 1.8515 - val_loss: 1.7750\n",
      "Epoch 131/200\n",
      "2155/2155 [==============================] - 0s 124us/sample - loss: 1.8588 - val_loss: 1.9354\n",
      "Epoch 132/200\n",
      "2155/2155 [==============================] - 0s 119us/sample - loss: 1.8861 - val_loss: 1.8068\n",
      "Epoch 133/200\n",
      "2155/2155 [==============================] - 0s 119us/sample - loss: 1.8827 - val_loss: 1.7453\n",
      "Epoch 134/200\n",
      "2155/2155 [==============================] - 0s 120us/sample - loss: 1.8651 - val_loss: 1.7491\n",
      "Epoch 135/200\n",
      "2155/2155 [==============================] - 0s 128us/sample - loss: 1.8751 - val_loss: 1.8086\n",
      "Epoch 136/200\n",
      "2155/2155 [==============================] - 0s 130us/sample - loss: 1.8591 - val_loss: 1.7831\n",
      "Epoch 137/200\n",
      "2155/2155 [==============================] - 0s 132us/sample - loss: 1.8707 - val_loss: 1.7784\n",
      "Epoch 138/200\n",
      "2155/2155 [==============================] - 0s 129us/sample - loss: 1.8863 - val_loss: 1.9392\n",
      "Epoch 139/200\n",
      "2155/2155 [==============================] - 0s 136us/sample - loss: 1.8674 - val_loss: 1.7447\n",
      "Epoch 140/200\n",
      "2155/2155 [==============================] - 0s 135us/sample - loss: 1.8536 - val_loss: 1.7943\n",
      "Epoch 141/200\n",
      "2155/2155 [==============================] - 0s 131us/sample - loss: 1.8600 - val_loss: 1.7581\n",
      "Epoch 142/200\n",
      "2155/2155 [==============================] - 0s 121us/sample - loss: 1.8631 - val_loss: 1.8133\n",
      "Epoch 143/200\n",
      "2155/2155 [==============================] - 0s 124us/sample - loss: 1.8462 - val_loss: 1.7909\n",
      "Epoch 144/200\n",
      "2155/2155 [==============================] - 0s 120us/sample - loss: 1.8800 - val_loss: 1.7596\n",
      "Epoch 145/200\n",
      "2155/2155 [==============================] - 0s 120us/sample - loss: 1.8835 - val_loss: 1.7441\n",
      "Epoch 146/200\n",
      "2155/2155 [==============================] - 0s 120us/sample - loss: 1.8612 - val_loss: 2.4223\n",
      "Epoch 147/200\n",
      "2155/2155 [==============================] - 0s 122us/sample - loss: 1.8762 - val_loss: 1.8831\n",
      "Epoch 148/200\n",
      "2155/2155 [==============================] - 0s 120us/sample - loss: 1.8592 - val_loss: 1.7464\n",
      "Epoch 149/200\n",
      "2155/2155 [==============================] - 0s 121us/sample - loss: 1.8515 - val_loss: 1.7473\n",
      "Epoch 150/200\n",
      "2155/2155 [==============================] - 0s 116us/sample - loss: 1.8502 - val_loss: 1.7671\n",
      "Epoch 151/200\n"
     ]
    },
    {
     "name": "stdout",
     "output_type": "stream",
     "text": [
      "2155/2155 [==============================] - 0s 120us/sample - loss: 1.8291 - val_loss: 1.7782\n",
      "Epoch 152/200\n",
      "2155/2155 [==============================] - 0s 119us/sample - loss: 1.8787 - val_loss: 1.7638\n",
      "Epoch 153/200\n",
      "2155/2155 [==============================] - 0s 115us/sample - loss: 1.8506 - val_loss: 1.8223\n",
      "Epoch 154/200\n",
      "2155/2155 [==============================] - 0s 118us/sample - loss: 1.8536 - val_loss: 1.7428\n",
      "Epoch 155/200\n",
      "2155/2155 [==============================] - 0s 125us/sample - loss: 1.8564 - val_loss: 1.7480\n",
      "Epoch 156/200\n",
      "2155/2155 [==============================] - 0s 115us/sample - loss: 1.8486 - val_loss: 1.7904\n",
      "Epoch 157/200\n",
      "2155/2155 [==============================] - 0s 117us/sample - loss: 1.8569 - val_loss: 1.7589\n",
      "Epoch 158/200\n",
      "2155/2155 [==============================] - 0s 115us/sample - loss: 1.8365 - val_loss: 1.8303\n",
      "Epoch 159/200\n",
      "2155/2155 [==============================] - 0s 116us/sample - loss: 1.8624 - val_loss: 1.7940\n",
      "Epoch 160/200\n",
      "2155/2155 [==============================] - 0s 115us/sample - loss: 1.8465 - val_loss: 1.9647\n",
      "Epoch 161/200\n",
      "2155/2155 [==============================] - 0s 117us/sample - loss: 1.8310 - val_loss: 1.7502\n",
      "Epoch 162/200\n",
      "2155/2155 [==============================] - 0s 113us/sample - loss: 1.8672 - val_loss: 1.7717\n",
      "Epoch 163/200\n",
      "2155/2155 [==============================] - 0s 114us/sample - loss: 1.8532 - val_loss: 1.7657\n",
      "Epoch 164/200\n",
      "2155/2155 [==============================] - 0s 116us/sample - loss: 1.8308 - val_loss: 1.8477\n",
      "Epoch 165/200\n",
      "2155/2155 [==============================] - 0s 115us/sample - loss: 1.8539 - val_loss: 1.8633\n",
      "Epoch 166/200\n",
      "2155/2155 [==============================] - 0s 114us/sample - loss: 1.8359 - val_loss: 1.9597\n",
      "Epoch 167/200\n",
      "2155/2155 [==============================] - 0s 121us/sample - loss: 1.8445 - val_loss: 1.7561\n",
      "Epoch 168/200\n",
      "2155/2155 [==============================] - 0s 127us/sample - loss: 1.8346 - val_loss: 1.7485\n",
      "Epoch 169/200\n",
      "2155/2155 [==============================] - 0s 115us/sample - loss: 1.8301 - val_loss: 1.8261\n",
      "Epoch 170/200\n",
      "2155/2155 [==============================] - 0s 121us/sample - loss: 1.8834 - val_loss: 1.7791\n",
      "Epoch 171/200\n",
      "2155/2155 [==============================] - 0s 121us/sample - loss: 1.8254 - val_loss: 1.9346\n",
      "Epoch 172/200\n",
      "2155/2155 [==============================] - 0s 116us/sample - loss: 1.8355 - val_loss: 1.8257\n",
      "Epoch 173/200\n",
      "2155/2155 [==============================] - 0s 114us/sample - loss: 1.8252 - val_loss: 1.8879\n",
      "Epoch 174/200\n",
      "2155/2155 [==============================] - 0s 113us/sample - loss: 1.8522 - val_loss: 1.7459\n",
      "Epoch 175/200\n",
      "2155/2155 [==============================] - 0s 118us/sample - loss: 1.8666 - val_loss: 1.7645\n",
      "Epoch 176/200\n",
      "2155/2155 [==============================] - 0s 118us/sample - loss: 1.8313 - val_loss: 1.7608\n",
      "Epoch 177/200\n",
      "2155/2155 [==============================] - 0s 116us/sample - loss: 1.8263 - val_loss: 1.7947\n",
      "Epoch 178/200\n",
      "2155/2155 [==============================] - 0s 114us/sample - loss: 1.8174 - val_loss: 1.7527\n",
      "Epoch 179/200\n",
      "2155/2155 [==============================] - 0s 117us/sample - loss: 1.8388 - val_loss: 1.7422\n",
      "Epoch 180/200\n",
      "2155/2155 [==============================] - 0s 114us/sample - loss: 1.8263 - val_loss: 1.8642\n",
      "Epoch 181/200\n",
      "2155/2155 [==============================] - 0s 115us/sample - loss: 1.8476 - val_loss: 1.7423\n",
      "Epoch 182/200\n",
      "2155/2155 [==============================] - 0s 114us/sample - loss: 1.8123 - val_loss: 1.7866\n",
      "Epoch 183/200\n",
      "2155/2155 [==============================] - 0s 114us/sample - loss: 1.8263 - val_loss: 1.9628\n",
      "Epoch 184/200\n",
      "2155/2155 [==============================] - 0s 115us/sample - loss: 1.8474 - val_loss: 1.8346\n",
      "Epoch 185/200\n",
      "2155/2155 [==============================] - 0s 115us/sample - loss: 1.8188 - val_loss: 1.7382\n",
      "Epoch 186/200\n",
      "2155/2155 [==============================] - 0s 115us/sample - loss: 1.8119 - val_loss: 1.7590\n",
      "Epoch 187/200\n",
      "2155/2155 [==============================] - 0s 118us/sample - loss: 1.8249 - val_loss: 1.7862\n",
      "Epoch 188/200\n",
      "2155/2155 [==============================] - 0s 115us/sample - loss: 1.8430 - val_loss: 1.8090\n",
      "Epoch 189/200\n",
      "2155/2155 [==============================] - 0s 118us/sample - loss: 1.8082 - val_loss: 1.7679\n",
      "Epoch 190/200\n",
      "2155/2155 [==============================] - 0s 118us/sample - loss: 1.8260 - val_loss: 1.7744\n",
      "Epoch 191/200\n",
      "2155/2155 [==============================] - 0s 122us/sample - loss: 1.8421 - val_loss: 1.8711\n",
      "Epoch 192/200\n",
      "2155/2155 [==============================] - 0s 119us/sample - loss: 1.8494 - val_loss: 1.7455\n",
      "Epoch 193/200\n",
      "2155/2155 [==============================] - 0s 120us/sample - loss: 1.8020 - val_loss: 1.8002\n",
      "Epoch 194/200\n",
      "2155/2155 [==============================] - 0s 119us/sample - loss: 1.8879 - val_loss: 1.9506\n",
      "Epoch 195/200\n",
      "2155/2155 [==============================] - 0s 122us/sample - loss: 1.8794 - val_loss: 1.7471\n",
      "Epoch 196/200\n",
      "2155/2155 [==============================] - 0s 120us/sample - loss: 1.8228 - val_loss: 1.7626\n",
      "Epoch 197/200\n",
      "2155/2155 [==============================] - 0s 119us/sample - loss: 1.8164 - val_loss: 1.7620\n",
      "Epoch 198/200\n",
      "2155/2155 [==============================] - 0s 118us/sample - loss: 1.8346 - val_loss: 1.7456\n",
      "Epoch 199/200\n",
      "2155/2155 [==============================] - 0s 121us/sample - loss: 1.8579 - val_loss: 1.7556\n",
      "Epoch 200/200\n",
      "2155/2155 [==============================] - 0s 119us/sample - loss: 1.8207 - val_loss: 1.7406\n"
     ]
    }
   ],
   "source": [
    "history4 = model4.fit(X_train_3D, y_train, epochs=200, batch_size=100,\n",
    "                      validation_data=(X_valid_3D, y_valid))"
   ]
  },
  {
   "cell_type": "code",
   "execution_count": 207,
   "metadata": {},
   "outputs": [
    {
     "name": "stdout",
     "output_type": "stream",
     "text": [
      "725/725 [==============================] - 1s 1ms/sample - loss: 1.7406\n"
     ]
    },
    {
     "data": {
      "text/plain": [
       "1.7406053730537152"
      ]
     },
     "execution_count": 207,
     "metadata": {},
     "output_type": "execute_result"
    }
   ],
   "source": [
    "model4.evaluate(X_valid_3D, y_valid)"
   ]
  },
  {
   "cell_type": "code",
   "execution_count": 208,
   "metadata": {},
   "outputs": [
    {
     "data": {
      "text/plain": [
       "2.1859648219141468"
      ]
     },
     "execution_count": 208,
     "metadata": {},
     "output_type": "execute_result"
    }
   ],
   "source": [
    "mean_absolute_error(y_valid, model4.predict(X_valid_3D))"
   ]
  },
  {
   "cell_type": "markdown",
   "metadata": {},
   "source": [
    "![Exercise](https://c1.staticflickr.com/9/8101/8553474140_c50cf08708_b.jpg)"
   ]
  },
  {
   "cell_type": "markdown",
   "metadata": {},
   "source": [
    "# Exercice 5 – Sequence classification"
   ]
  },
  {
   "cell_type": "markdown",
   "metadata": {},
   "source": [
    "Let's load the IMDB movie reviews, for binary sentiment analysis (positive review or negative review):"
   ]
  },
  {
   "cell_type": "markdown",
   "metadata": {},
   "source": [
    "We only want the 10,000 most common words:"
   ]
  },
  {
   "cell_type": "code",
   "execution_count": 209,
   "metadata": {},
   "outputs": [
    {
     "name": "stdout",
     "output_type": "stream",
     "text": [
      "Downloading data from https://storage.googleapis.com/tensorflow/tf-keras-datasets/imdb.npz\n",
      "17465344/17464789 [==============================] - 8s 0us/step\n"
     ]
    }
   ],
   "source": [
    "num_words = 10000\n",
    "(X_train, y_train), (X_test, y_test) = keras.datasets.imdb.load_data(num_words=num_words)"
   ]
  },
  {
   "cell_type": "markdown",
   "metadata": {},
   "source": [
    "Let's also get the word index (word to word id):"
   ]
  },
  {
   "cell_type": "code",
   "execution_count": 210,
   "metadata": {},
   "outputs": [
    {
     "name": "stdout",
     "output_type": "stream",
     "text": [
      "Downloading data from https://storage.googleapis.com/tensorflow/tf-keras-datasets/imdb_word_index.json\n",
      "1646592/1641221 [==============================] - 1s 0us/step\n"
     ]
    }
   ],
   "source": [
    "word_index = keras.datasets.imdb.get_word_index()"
   ]
  },
  {
   "cell_type": "markdown",
   "metadata": {},
   "source": [
    "And let's create a reverse index (word id to word). Three special word ids are added:"
   ]
  },
  {
   "cell_type": "code",
   "execution_count": 211,
   "metadata": {},
   "outputs": [],
   "source": [
    "reverse_index = {word_id + 3: word for word, word_id in word_index.items()}\n",
    "reverse_index[0] = \"<pad>\" # padding\n",
    "reverse_index[1] = \"<sos>\" # start of sequence\n",
    "reverse_index[2] = \"<oov>\" # out-of-vocabulary\n",
    "reverse_index[3] = \"<unk>\" # unknown"
   ]
  },
  {
   "cell_type": "markdown",
   "metadata": {},
   "source": [
    "Let's write a little function to decode reviews:"
   ]
  },
  {
   "cell_type": "code",
   "execution_count": 212,
   "metadata": {},
   "outputs": [],
   "source": [
    "def decode_review(word_ids):\n",
    "    return \" \".join([reverse_index.get(word_id, \"<err>\") for word_id in word_ids])"
   ]
  },
  {
   "cell_type": "markdown",
   "metadata": {},
   "source": [
    "Let's look at a review:"
   ]
  },
  {
   "cell_type": "code",
   "execution_count": 213,
   "metadata": {},
   "outputs": [
    {
     "data": {
      "text/plain": [
       "\"<sos> this film was just brilliant casting location scenery story direction everyone's really suited the part they played and you could just imagine being there robert <oov> is an amazing actor and now the same being director <oov> father came from the same scottish island as myself so i loved the fact there was a real connection with this film the witty remarks throughout the film were great it was just brilliant so much that i bought the film as soon as it was released for <oov> and would recommend it to everyone to watch and the fly fishing was amazing really cried at the end it was so sad and you know what they say if you cry at a film it must have been good and this definitely was also <oov> to the two little boy's that played the <oov> of norman and paul they were just brilliant children are often left out of the <oov> list i think because the stars that play them all grown up are such a big profile for the whole film but these children are amazing and should be praised for what they have done don't you think the whole story was so lovely because it was true and was someone's life after all that was shared with us all\""
      ]
     },
     "execution_count": 213,
     "metadata": {},
     "output_type": "execute_result"
    }
   ],
   "source": [
    "decode_review(X_train[0])"
   ]
  },
  {
   "cell_type": "markdown",
   "metadata": {},
   "source": [
    "It seems very positive, let's look at the target (0=negative review, 1=positive review):"
   ]
  },
  {
   "cell_type": "code",
   "execution_count": 214,
   "metadata": {},
   "outputs": [
    {
     "data": {
      "text/plain": [
       "1"
      ]
     },
     "execution_count": 214,
     "metadata": {},
     "output_type": "execute_result"
    }
   ],
   "source": [
    "y_train[0]"
   ]
  },
  {
   "cell_type": "markdown",
   "metadata": {},
   "source": [
    "And another review:"
   ]
  },
  {
   "cell_type": "code",
   "execution_count": 215,
   "metadata": {},
   "outputs": [
    {
     "data": {
      "text/plain": [
       "\"<sos> big hair big boobs bad music and a giant safety pin these are the words to best describe this terrible movie i love cheesy horror movies and i've seen hundreds but this had got to be on of the worst ever made the plot is paper thin and ridiculous the acting is an abomination the script is completely laughable the best is the end showdown with the cop and how he worked out who the killer is it's just so damn terribly written the clothes are sickening and funny in equal <oov> the hair is big lots of boobs <oov> men wear those cut <oov> shirts that show off their <oov> sickening that men actually wore them and the music is just <oov> trash that plays over and over again in almost every scene there is trashy music boobs and <oov> taking away bodies and the gym still doesn't close for <oov> all joking aside this is a truly bad film whose only charm is to look back on the disaster that was the 80's and have a good old laugh at how bad everything was back then\""
      ]
     },
     "execution_count": 215,
     "metadata": {},
     "output_type": "execute_result"
    }
   ],
   "source": [
    "decode_review(X_train[1])"
   ]
  },
  {
   "cell_type": "markdown",
   "metadata": {},
   "source": [
    "Very negative! Let's check the target:"
   ]
  },
  {
   "cell_type": "code",
   "execution_count": 216,
   "metadata": {},
   "outputs": [
    {
     "data": {
      "text/plain": [
       "0"
      ]
     },
     "execution_count": 216,
     "metadata": {},
     "output_type": "execute_result"
    }
   ],
   "source": [
    "y_train[1]"
   ]
  },
  {
   "cell_type": "markdown",
   "metadata": {},
   "source": [
    "## 5.1) Train a baseline model"
   ]
  },
  {
   "cell_type": "markdown",
   "metadata": {},
   "source": [
    "Train and evaluate a baseline model using ScikitLearn. You will need to create a pipeline with a `CountVectorizer`, a `TfidfTransformer` and an `SGDClassifier`. The `CountVectorizer` transformer expects text as input, so let's create a text version of the training set and test set:"
   ]
  },
  {
   "cell_type": "code",
   "execution_count": 217,
   "metadata": {},
   "outputs": [],
   "source": [
    "X_train_text = [decode_review(words_ids) for words_ids in X_train]\n",
    "X_test_text = [decode_review(words_ids) for words_ids in X_test]"
   ]
  },
  {
   "cell_type": "code",
   "execution_count": 218,
   "metadata": {},
   "outputs": [],
   "source": [
    "from sklearn.feature_extraction.text import CountVectorizer, TfidfTransformer\n",
    "from sklearn.pipeline import Pipeline\n",
    "from sklearn.linear_model import SGDClassifier"
   ]
  },
  {
   "cell_type": "code",
   "execution_count": 230,
   "metadata": {},
   "outputs": [],
   "source": [
    "clf = Pipeline([('count', CountVectorizer(ngram_range = (1, 3))), ('tfidf', TfidfTransformer()), ('SGDC', SGDClassifier())])"
   ]
  },
  {
   "cell_type": "code",
   "execution_count": 231,
   "metadata": {},
   "outputs": [],
   "source": [
    "clf.fit(X_train_text, y_train)\n",
    "y_pred = clf.predict(X_test_text)"
   ]
  },
  {
   "cell_type": "code",
   "execution_count": 232,
   "metadata": {},
   "outputs": [
    {
     "data": {
      "text/plain": [
       "0.88856"
      ]
     },
     "execution_count": 232,
     "metadata": {},
     "output_type": "execute_result"
    }
   ],
   "source": [
    "from sklearn.metrics import accuracy_score\n",
    "accuracy_score(y_test, y_pred)"
   ]
  },
  {
   "cell_type": "markdown",
   "metadata": {},
   "source": [
    "## 5.2) Create a sequence classifier"
   ]
  },
  {
   "cell_type": "markdown",
   "metadata": {},
   "source": [
    "Create a sequence classifier using Keras:\n",
    "* Use `keras.preprocessing.sequence.pad_sequences()` to preprocess `X_train`: this will create a 2D array of 25,000 rows (one per review) and `maxlen=500` columns. Reviews longer than 500 words will be cropped, while reviews shorter \n",
    "than 500 words will be padded with zeros.\n",
    "* The first layer in your model should be an `Embedding` layer, with `input_dim=num_words` and `output_dim=10`. The model will gradually learn to represent each of the 10,000 words as a 10-dimensional vector. So the next layer will receive 3D batchs of shape (batch size, 500, 10).\n",
    "* Add one or more LSTM layers with 32 neurons each.\n",
    "* The output layer should be a Dense layer with a sigmoid activation function, since this is a binary classification problem.\n",
    "* When compiling the model, you should use the `binary_crossentropy` loss.\n",
    "* Fit the model for 10 epochs, using a batch size of 128 and `validation_split=0.2`."
   ]
  },
  {
   "cell_type": "code",
   "execution_count": 235,
   "metadata": {},
   "outputs": [],
   "source": [
    "X_train_padded = keras.preprocessing.sequence.pad_sequences(X_train, maxlen=500)"
   ]
  },
  {
   "cell_type": "code",
   "execution_count": 236,
   "metadata": {},
   "outputs": [
    {
     "data": {
      "text/plain": [
       "(25000, 500)"
      ]
     },
     "execution_count": 236,
     "metadata": {},
     "output_type": "execute_result"
    }
   ],
   "source": [
    "X_train_padded.shape"
   ]
  },
  {
   "cell_type": "code",
   "execution_count": 239,
   "metadata": {},
   "outputs": [],
   "source": [
    "num_words=10000\n",
    "model = keras.models.Sequential()\n",
    "model.add(keras.layers.Embedding(input_dim=num_words, output_dim=10))\n",
    "model.add(keras.layers.LSTM(units=32))\n",
    "model.add(keras.layers.Dense(1, activation=\"sigmoid\"))"
   ]
  },
  {
   "cell_type": "code",
   "execution_count": 240,
   "metadata": {},
   "outputs": [
    {
     "name": "stdout",
     "output_type": "stream",
     "text": [
      "Train on 20000 samples, validate on 5000 samples\n",
      "Epoch 1/10\n",
      "20000/20000 [==============================] - 30s 1ms/sample - loss: 0.6929 - acc: 0.5221 - val_loss: 0.6924 - val_acc: 0.5652\n",
      "Epoch 2/10\n",
      "20000/20000 [==============================] - 30s 2ms/sample - loss: 0.6901 - acc: 0.6205 - val_loss: 0.6824 - val_acc: 0.6342\n",
      "Epoch 3/10\n",
      "20000/20000 [==============================] - 31s 2ms/sample - loss: 0.6183 - acc: 0.7221 - val_loss: 0.5915 - val_acc: 0.7584\n",
      "Epoch 4/10\n",
      "20000/20000 [==============================] - 31s 2ms/sample - loss: 0.5460 - acc: 0.8074 - val_loss: 0.5113 - val_acc: 0.8158\n",
      "Epoch 5/10\n",
      "20000/20000 [==============================] - 31s 2ms/sample - loss: 0.4749 - acc: 0.8313 - val_loss: 0.4588 - val_acc: 0.8194\n",
      "Epoch 6/10\n",
      "20000/20000 [==============================] - 32s 2ms/sample - loss: 0.3999 - acc: 0.8564 - val_loss: 0.3991 - val_acc: 0.8504\n",
      "Epoch 7/10\n",
      "20000/20000 [==============================] - 32s 2ms/sample - loss: 0.3577 - acc: 0.8738 - val_loss: 0.4088 - val_acc: 0.8544\n",
      "Epoch 8/10\n",
      "20000/20000 [==============================] - 33s 2ms/sample - loss: 0.3254 - acc: 0.8880 - val_loss: 0.3695 - val_acc: 0.8652\n",
      "Epoch 9/10\n",
      "20000/20000 [==============================] - 32s 2ms/sample - loss: 0.3000 - acc: 0.8971 - val_loss: 0.3377 - val_acc: 0.8704\n",
      "Epoch 10/10\n",
      "20000/20000 [==============================] - 32s 2ms/sample - loss: 0.2792 - acc: 0.9046 - val_loss: 0.3337 - val_acc: 0.8716\n"
     ]
    },
    {
     "data": {
      "text/plain": [
       "<tensorflow.python.keras.callbacks.History at 0x7f7b266278d0>"
      ]
     },
     "execution_count": 240,
     "metadata": {},
     "output_type": "execute_result"
    }
   ],
   "source": [
    "model.compile(loss=\"binary_crossentropy\", optimizer=keras.optimizers.Adam(lr=0.0001), metrics=[\"acc\"])\n",
    "model.fit(X_train_padded, y_train, batch_size=128, validation_split=0.2, epochs=10)"
   ]
  },
  {
   "cell_type": "code",
   "execution_count": 244,
   "metadata": {},
   "outputs": [
    {
     "name": "stdout",
     "output_type": "stream",
     "text": [
      "Train on 20000 samples, validate on 5000 samples\n",
      "Epoch 1/10\n",
      "20000/20000 [==============================] - 28s 1ms/sample - loss: 0.2607 - acc: 0.9111 - val_loss: 0.3378 - val_acc: 0.8668\n",
      "Epoch 2/10\n",
      "20000/20000 [==============================] - 30s 1ms/sample - loss: 0.2427 - acc: 0.9184 - val_loss: 0.3214 - val_acc: 0.8716\n",
      "Epoch 3/10\n",
      "20000/20000 [==============================] - 31s 2ms/sample - loss: 0.2293 - acc: 0.9240 - val_loss: 0.3149 - val_acc: 0.8788\n",
      "Epoch 4/10\n",
      "20000/20000 [==============================] - 31s 2ms/sample - loss: 0.2141 - acc: 0.9305 - val_loss: 0.3124 - val_acc: 0.8774\n",
      "Epoch 5/10\n",
      "20000/20000 [==============================] - 31s 2ms/sample - loss: 0.2036 - acc: 0.9343 - val_loss: 0.3321 - val_acc: 0.8770\n",
      "Epoch 6/10\n",
      "20000/20000 [==============================] - 32s 2ms/sample - loss: 0.1918 - acc: 0.9390 - val_loss: 0.3137 - val_acc: 0.8820\n",
      "Epoch 7/10\n",
      "20000/20000 [==============================] - 32s 2ms/sample - loss: 0.1843 - acc: 0.9415 - val_loss: 0.3059 - val_acc: 0.8804\n",
      "Epoch 8/10\n",
      "20000/20000 [==============================] - 32s 2ms/sample - loss: 0.1758 - acc: 0.9444 - val_loss: 0.3489 - val_acc: 0.8778\n",
      "Epoch 9/10\n",
      "20000/20000 [==============================] - 32s 2ms/sample - loss: 0.1665 - acc: 0.9488 - val_loss: 0.3852 - val_acc: 0.8690\n",
      "Epoch 10/10\n",
      "20000/20000 [==============================] - 32s 2ms/sample - loss: 0.1617 - acc: 0.9507 - val_loss: 0.3192 - val_acc: 0.8756\n"
     ]
    },
    {
     "data": {
      "text/plain": [
       "<tensorflow.python.keras.callbacks.History at 0x7f7b8ce1d048>"
      ]
     },
     "execution_count": 244,
     "metadata": {},
     "output_type": "execute_result"
    }
   ],
   "source": [
    "model.fit(X_train_padded, y_train, batch_size=128, validation_split=0.2, epochs=10)"
   ]
  },
  {
   "cell_type": "code",
   "execution_count": 245,
   "metadata": {},
   "outputs": [],
   "source": [
    "tb=keras.callbacks.TensorBoard(embeddings_freq=1)"
   ]
  },
  {
   "cell_type": "code",
   "execution_count": 246,
   "metadata": {},
   "outputs": [],
   "source": [
    "X_test_padded = keras.preprocessing.sequence.pad_sequences(X_test, maxlen=500)\n",
    "y_pred = model.predict(X_test_padded)\n",
    "# accuracy_score(y_test, y_pred)"
   ]
  },
  {
   "cell_type": "code",
   "execution_count": 247,
   "metadata": {},
   "outputs": [
    {
     "data": {
      "text/plain": [
       "0.8648"
      ]
     },
     "execution_count": 247,
     "metadata": {},
     "output_type": "execute_result"
    }
   ],
   "source": [
    "accuracy_score(y_test, y_pred>0.5)"
   ]
  },
  {
   "cell_type": "markdown",
   "metadata": {},
   "source": [
    "![Exercise solution](https://camo.githubusercontent.com/250388fde3fac9135ead9471733ee28e049f7a37/68747470733a2f2f75706c6f61642e77696b696d656469612e6f72672f77696b6970656469612f636f6d6d6f6e732f302f30362f46696c6f735f736567756e646f5f6c6f676f5f253238666c69707065642532392e6a7067)"
   ]
  },
  {
   "cell_type": "markdown",
   "metadata": {},
   "source": [
    "# Exercice 5 – Solution"
   ]
  },
  {
   "cell_type": "markdown",
   "metadata": {},
   "source": [
    "## 5.1) Train a baseline model"
   ]
  },
  {
   "cell_type": "code",
   "execution_count": null,
   "metadata": {},
   "outputs": [],
   "source": [
    "X_train_text = [decode_review(words_ids) for words_ids in X_train]\n",
    "X_test_text = [decode_review(words_ids) for words_ids in X_test]"
   ]
  },
  {
   "cell_type": "code",
   "execution_count": null,
   "metadata": {},
   "outputs": [],
   "source": [
    "from sklearn.feature_extraction.text import CountVectorizer, TfidfTransformer\n",
    "from sklearn.pipeline import Pipeline\n",
    "from sklearn.linear_model import SGDClassifier"
   ]
  },
  {
   "cell_type": "code",
   "execution_count": null,
   "metadata": {},
   "outputs": [],
   "source": [
    "pipeline = Pipeline([\n",
    "    ('vect', CountVectorizer()),\n",
    "    ('tfidf', TfidfTransformer()),\n",
    "    ('clf', SGDClassifier(max_iter=50)),\n",
    "])"
   ]
  },
  {
   "cell_type": "code",
   "execution_count": null,
   "metadata": {},
   "outputs": [],
   "source": [
    "pipeline.fit(X_train_text, y_train)"
   ]
  },
  {
   "cell_type": "code",
   "execution_count": null,
   "metadata": {},
   "outputs": [],
   "source": [
    "pipeline.score(X_test_text, y_test)"
   ]
  },
  {
   "cell_type": "markdown",
   "metadata": {},
   "source": [
    "We get 88.5% accuracy, that's not too bad. But don't forget to check the ratio of positive reviews:"
   ]
  },
  {
   "cell_type": "code",
   "execution_count": null,
   "metadata": {},
   "outputs": [],
   "source": [
    "y_test.mean()"
   ]
  },
  {
   "cell_type": "markdown",
   "metadata": {},
   "source": [
    "Let's try our model:"
   ]
  },
  {
   "cell_type": "code",
   "execution_count": null,
   "metadata": {},
   "outputs": [],
   "source": [
    "pipeline.predict([\"this movie was really awesome\"])"
   ]
  },
  {
   "cell_type": "markdown",
   "metadata": {},
   "source": [
    "## 5.2) Create a sequence classifier"
   ]
  },
  {
   "cell_type": "code",
   "execution_count": null,
   "metadata": {},
   "outputs": [],
   "source": [
    "maxlen = 500\n",
    "X_train_trim = keras.preprocessing.sequence.pad_sequences(X_train, maxlen=maxlen)\n",
    "X_test_trim = keras.preprocessing.sequence.pad_sequences(X_test, maxlen=maxlen)"
   ]
  },
  {
   "cell_type": "code",
   "execution_count": null,
   "metadata": {},
   "outputs": [],
   "source": [
    "model = keras.models.Sequential()\n",
    "model.add(keras.layers.Embedding(input_dim=num_words, output_dim=10))\n",
    "model.add(keras.layers.LSTM(32))\n",
    "model.add(keras.layers.Dense(1, activation=\"sigmoid\"))"
   ]
  },
  {
   "cell_type": "code",
   "execution_count": null,
   "metadata": {},
   "outputs": [],
   "source": [
    "model.compile(loss=\"binary_crossentropy\", optimizer=\"rmsprop\", metrics=[\"accuracy\"])"
   ]
  },
  {
   "cell_type": "code",
   "execution_count": null,
   "metadata": {},
   "outputs": [],
   "source": [
    "model.summary()"
   ]
  },
  {
   "cell_type": "code",
   "execution_count": null,
   "metadata": {},
   "outputs": [],
   "source": [
    "history = model.fit(X_train_trim, y_train,\n",
    "                    epochs=10, batch_size=128, validation_split=0.2)"
   ]
  },
  {
   "cell_type": "code",
   "execution_count": null,
   "metadata": {},
   "outputs": [],
   "source": [
    "model.evaluate(X_test_trim, y_test)"
   ]
  },
  {
   "cell_type": "markdown",
   "metadata": {},
   "source": [
    "![Exercise](https://c1.staticflickr.com/9/8101/8553474140_c50cf08708_b.jpg)"
   ]
  },
  {
   "cell_type": "markdown",
   "metadata": {},
   "source": [
    "# Exercise 6 – Bidirectional RNN"
   ]
  },
  {
   "cell_type": "markdown",
   "metadata": {},
   "source": [
    "Update the previous sequence classification model to use a bidirectional LSTM. For this, you just need to wrap the LSTM layer in a `Bidirectional` layer. If the model overfits, try adding a dropout layer."
   ]
  },
  {
   "cell_type": "code",
   "execution_count": null,
   "metadata": {},
   "outputs": [],
   "source": []
  },
  {
   "cell_type": "code",
   "execution_count": null,
   "metadata": {},
   "outputs": [],
   "source": []
  },
  {
   "cell_type": "code",
   "execution_count": null,
   "metadata": {},
   "outputs": [],
   "source": []
  },
  {
   "cell_type": "markdown",
   "metadata": {},
   "source": [
    "![Exercise solution](https://camo.githubusercontent.com/250388fde3fac9135ead9471733ee28e049f7a37/68747470733a2f2f75706c6f61642e77696b696d656469612e6f72672f77696b6970656469612f636f6d6d6f6e732f302f30362f46696c6f735f736567756e646f5f6c6f676f5f253238666c69707065642532392e6a7067)"
   ]
  },
  {
   "cell_type": "markdown",
   "metadata": {},
   "source": [
    "# Exercise 6 – Solution"
   ]
  },
  {
   "cell_type": "code",
   "execution_count": null,
   "metadata": {},
   "outputs": [],
   "source": [
    "model = keras.models.Sequential()\n",
    "model.add(keras.layers.Embedding(input_dim=num_words, output_dim=10))\n",
    "model.add(keras.layers.Dropout(0.5))\n",
    "model.add(keras.layers.Bidirectional(keras.layers.LSTM(32)))\n",
    "model.add(keras.layers.Dense(1, activation=\"sigmoid\"))"
   ]
  },
  {
   "cell_type": "code",
   "execution_count": null,
   "metadata": {},
   "outputs": [],
   "source": [
    "model.compile(loss=\"binary_crossentropy\", optimizer=\"rmsprop\", metrics=[\"accuracy\"])"
   ]
  },
  {
   "cell_type": "code",
   "execution_count": null,
   "metadata": {},
   "outputs": [],
   "source": [
    "history = model.fit(X_train_trim, y_train,\n",
    "                    epochs=10, batch_size=128, validation_split=0.2)"
   ]
  },
  {
   "cell_type": "code",
   "execution_count": null,
   "metadata": {
    "scrolled": true
   },
   "outputs": [],
   "source": [
    "model.evaluate(X_test_trim, y_test)"
   ]
  }
 ],
 "metadata": {
  "kernelspec": {
   "display_name": "Python 3",
   "language": "python",
   "name": "python3"
  },
  "language_info": {
   "codemirror_mode": {
    "name": "ipython",
    "version": 3
   },
   "file_extension": ".py",
   "mimetype": "text/x-python",
   "name": "python",
   "nbconvert_exporter": "python",
   "pygments_lexer": "ipython3",
   "version": "3.7.3"
  }
 },
 "nbformat": 4,
 "nbformat_minor": 2
}
