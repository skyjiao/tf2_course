{
 "cells": [
  {
   "cell_type": "markdown",
   "metadata": {
    "collapsed": true
   },
   "source": [
    "# Neural Nets with Keras"
   ]
  },
  {
   "cell_type": "markdown",
   "metadata": {},
   "source": [
    "In this notebook you will learn how to implement neural networks using the Keras API. We will use TensorFlow's own implementation, *tf.keras*, which comes bundled with TensorFlow."
   ]
  },
  {
   "cell_type": "markdown",
   "metadata": {},
   "source": [
    "Don't hesitate to look at the documentation at [keras.io](https://keras.io/). All the code examples should work fine with tf.keras, the only difference is how to import Keras:\n",
    "\n",
    "```python\n",
    "# keras.io code:\n",
    "from keras.layers import Dense\n",
    "output_layer = Dense(10)\n",
    "\n",
    "# corresponding tf.keras code:\n",
    "from tensorflow.keras.layers import Dense\n",
    "output_layer = Dense(10)\n",
    "\n",
    "# or:\n",
    "from tensorflow import keras\n",
    "output_layer = keras.layers.Dense(10)\n",
    "```\n",
    "\n",
    "In this notebook, we will not use any TensorFlow-specific code, so everything you see would run just the same way on [keras-team](https://github.com/keras-team/keras) or any other Python implementation of the Keras API (except for the imports)."
   ]
  },
  {
   "cell_type": "markdown",
   "metadata": {},
   "source": [
    "## Imports"
   ]
  },
  {
   "cell_type": "code",
   "execution_count": 1,
   "metadata": {},
   "outputs": [],
   "source": [
    "%matplotlib inline\n",
    "%load_ext tensorboard"
   ]
  },
  {
   "cell_type": "code",
   "execution_count": 2,
   "metadata": {},
   "outputs": [
    {
     "ename": "ModuleNotFoundError",
     "evalue": "No module named 'tensorflow'",
     "output_type": "error",
     "traceback": [
      "\u001b[0;31m---------------------------------------------------------------------------\u001b[0m",
      "\u001b[0;31mModuleNotFoundError\u001b[0m                       Traceback (most recent call last)",
      "\u001b[0;32m<ipython-input-2-63b9238e65be>\u001b[0m in \u001b[0;36m<module>\u001b[0;34m\u001b[0m\n\u001b[1;32m      6\u001b[0m \u001b[0;32mimport\u001b[0m \u001b[0msklearn\u001b[0m\u001b[0;34m\u001b[0m\u001b[0;34m\u001b[0m\u001b[0m\n\u001b[1;32m      7\u001b[0m \u001b[0;32mimport\u001b[0m \u001b[0msys\u001b[0m\u001b[0;34m\u001b[0m\u001b[0;34m\u001b[0m\u001b[0m\n\u001b[0;32m----> 8\u001b[0;31m \u001b[0;32mimport\u001b[0m \u001b[0mtensorflow\u001b[0m \u001b[0;32mas\u001b[0m \u001b[0mtf\u001b[0m\u001b[0;34m\u001b[0m\u001b[0;34m\u001b[0m\u001b[0m\n\u001b[0m\u001b[1;32m      9\u001b[0m \u001b[0;32mfrom\u001b[0m \u001b[0mtensorflow\u001b[0m \u001b[0;32mimport\u001b[0m \u001b[0mkeras\u001b[0m  \u001b[0;31m# tf.keras\u001b[0m\u001b[0;34m\u001b[0m\u001b[0;34m\u001b[0m\u001b[0m\n\u001b[1;32m     10\u001b[0m \u001b[0;32mimport\u001b[0m \u001b[0mtime\u001b[0m\u001b[0;34m\u001b[0m\u001b[0;34m\u001b[0m\u001b[0m\n",
      "\u001b[0;31mModuleNotFoundError\u001b[0m: No module named 'tensorflow'"
     ]
    }
   ],
   "source": [
    "import matplotlib as mpl\n",
    "import matplotlib.pyplot as plt\n",
    "import numpy as np\n",
    "import os\n",
    "import pandas as pd\n",
    "import sklearn\n",
    "import sys\n",
    "import tensorflow as tf\n",
    "from tensorflow import keras  # tf.keras\n",
    "import time"
   ]
  },
  {
   "cell_type": "code",
   "execution_count": null,
   "metadata": {},
   "outputs": [],
   "source": [
    "print(\"python\", sys.version)\n",
    "for module in mpl, np, pd, sklearn, tf, keras:\n",
    "    print(module.__name__, module.__version__)"
   ]
  },
  {
   "cell_type": "code",
   "execution_count": null,
   "metadata": {},
   "outputs": [],
   "source": [
    "assert sys.version_info >= (3, 5) # Python ≥3.5 required\n",
    "assert tf.__version__ >= \"2.0\"    # TensorFlow ≥2.0 required"
   ]
  },
  {
   "cell_type": "code",
   "execution_count": null,
   "metadata": {},
   "outputs": [],
   "source": [
    "print('GPU (optional):', tf.test.is_gpu_available())"
   ]
  },
  {
   "cell_type": "markdown",
   "metadata": {},
   "source": [
    "![Exercise](https://c1.staticflickr.com/9/8101/8553474140_c50cf08708_b.jpg)"
   ]
  },
  {
   "cell_type": "markdown",
   "metadata": {},
   "source": [
    "## Exercise 1 – TensorFlow Playground"
   ]
  },
  {
   "cell_type": "markdown",
   "metadata": {},
   "source": [
    "Visit the [TensorFlow Playground](http://playground.tensorflow.org).\n",
    "* **Layers and patterns**: try training the default neural network by clicking the \"Run\" button (top left). Notice how it quickly finds a good solution for the classification task. Notice that the neurons in the first hidden layer have learned simple patterns, while the neurons in the second hidden layer have learned to combine the simple patterns of the first hidden layer into more complex patterns). In general, the more layers, the more complex the patterns can be.\n",
    "* **Activation function**: try replacing the Tanh activation function with the ReLU activation function, and train the network again. Notice that it finds a solution even faster, but this time the boundaries are linear. This is due to the shape of the ReLU function.\n",
    "* **Local minima**: modify the network architecture to have just one hidden layer with three neurons. Train it multiple times (to reset the network weights, just add and remove a neuron). Notice that the training time varies a lot, and sometimes it even gets stuck in a local minimum.\n",
    "* **Too small**: now remove one neuron to keep just 2. Notice that the neural network is now incapable of finding a good solution, even if you try multiple times. The model has too few parameters and it systematically underfits the training set.\n",
    "* **Large enough**: next, set the number of neurons to 8 and train the network several times. Notice that it is now consistently fast and never gets stuck. This highlights an important finding in neural network theory: large neural networks almost never get stuck in local minima, and even when they do these local optima are almost as good as the global optimum. However, they can still get stuck on long plateaus for a long time.\n",
    "* **Deep net and vanishing gradients**: now change the dataset to be the spiral (bottom right dataset under \"DATA\"). Change the network architecture to have 4 hidden layers with 8 neurons each. Notice that training takes much longer, and often gets stuck on plateaus for long periods of time. Also notice that the neurons in the highest layers (i.e. on the right) tend to evolve faster than the neurons in the lowest layers (i.e. on the left). This problem, called the \"vanishing gradients\" problem, can be alleviated using better weight initialization and other techniques, better optimizers (such as AdaGrad or Adam), or using Batch Normalization.\n",
    "* **More**: go ahead and play with the other parameters to get a feel of what they do. In fact, after this course you should definitely play with this UI for at least one hour, it will grow your intuitions about neural networks significantly."
   ]
  },
  {
   "cell_type": "markdown",
   "metadata": {},
   "source": [
    "![Exercise](https://c1.staticflickr.com/9/8101/8553474140_c50cf08708_b.jpg)"
   ]
  },
  {
   "cell_type": "markdown",
   "metadata": {},
   "source": [
    "## Exercise 2 – Image classification with tf.keras"
   ]
  },
  {
   "cell_type": "markdown",
   "metadata": {},
   "source": [
    "### Load the Fashion MNIST dataset"
   ]
  },
  {
   "cell_type": "markdown",
   "metadata": {},
   "source": [
    "Let's start by loading the fashion MNIST dataset. Keras has a number of functions to load popular datasets in `keras.datasets`. The dataset is already split for you between a training set and a test set, but it can be useful to split the training set further to have a validation set:"
   ]
  },
  {
   "cell_type": "code",
   "execution_count": 5,
   "metadata": {},
   "outputs": [
    {
     "name": "stdout",
     "output_type": "stream",
     "text": [
      "Downloading data from https://storage.googleapis.com/tensorflow/tf-keras-datasets/train-labels-idx1-ubyte.gz\n",
      "32768/29515 [=================================] - 0s 1us/step\n",
      "Downloading data from https://storage.googleapis.com/tensorflow/tf-keras-datasets/train-images-idx3-ubyte.gz\n",
      "26427392/26421880 [==============================] - 14s 1us/step\n",
      "Downloading data from https://storage.googleapis.com/tensorflow/tf-keras-datasets/t10k-labels-idx1-ubyte.gz\n",
      "8192/5148 [===============================================] - 0s 0us/step\n",
      "Downloading data from https://storage.googleapis.com/tensorflow/tf-keras-datasets/t10k-images-idx3-ubyte.gz\n",
      "4423680/4422102 [==============================] - 2s 1us/step\n"
     ]
    }
   ],
   "source": [
    "fashion_mnist = keras.datasets.fashion_mnist\n",
    "(X_train_full, y_train_full), (X_test, y_test) = (\n",
    "    fashion_mnist.load_data())\n",
    "X_valid, X_train = X_train_full[:5000], X_train_full[5000:]\n",
    "y_valid, y_train = y_train_full[:5000], y_train_full[5000:]"
   ]
  },
  {
   "cell_type": "markdown",
   "metadata": {},
   "source": [
    "The training set contains 55,000 grayscale images, each 28x28 pixels:"
   ]
  },
  {
   "cell_type": "code",
   "execution_count": 6,
   "metadata": {},
   "outputs": [
    {
     "data": {
      "text/plain": [
       "(55000, 28, 28)"
      ]
     },
     "execution_count": 6,
     "metadata": {},
     "output_type": "execute_result"
    }
   ],
   "source": [
    "X_train.shape"
   ]
  },
  {
   "cell_type": "markdown",
   "metadata": {},
   "source": [
    "Each pixel intensity is represented by a uint8 (byte) from 0 to 255:"
   ]
  },
  {
   "cell_type": "code",
   "execution_count": 7,
   "metadata": {},
   "outputs": [
    {
     "data": {
      "text/plain": [
       "array([[  0,   0,   0,   0,   0,   0,   0,   0,   0,   0,   0,   0,   0,\n",
       "          0,   0,   0,   0,   0,   0,   1,   0,   0,   0,   0,   0,   0,\n",
       "          0,   0],\n",
       "       [  0,   0,   0,   0,   0,   0,   0,   0,   0,   0,   0,  44, 127,\n",
       "        182, 185, 161, 120,  55,   0,   0,   0,   0,   0,   0,   0,   0,\n",
       "          0,   0],\n",
       "       [  0,   0,   0,   0,   0,   0,   0,   0,   0,  42, 198, 251, 255,\n",
       "        251, 249, 247, 255, 252, 214, 100,   0,   0,   0,   0,   0,   0,\n",
       "          0,   0],\n",
       "       [  0,   0,   0,   0,   0,   0,   2,   0,   0, 233, 252, 237, 239,\n",
       "        234, 237, 235, 237, 237, 254, 227,   0,   0,   0,   0,   1,   0,\n",
       "          0,   0],\n",
       "       [  0,   0,   0,   0,   0,   2,   0,   0,  16, 210, 225, 215, 175,\n",
       "        217, 216, 193, 196, 226, 221, 209,  50,   0,   0,   2,   0,   0,\n",
       "          0,   0],\n",
       "       [  0,   0,   0,   0,   2,   0,   0, 199, 229, 232, 230, 245, 204,\n",
       "        219, 253, 245, 207, 194, 223, 231, 236, 235,   0,   0,   3,   0,\n",
       "          0,   0],\n",
       "       [  0,   0,   0,   0,   1,   0, 137, 235, 204, 209, 201, 209, 234,\n",
       "        190, 234, 218, 215, 238, 239, 204, 189, 224, 154,   0,   0,   0,\n",
       "          0,   0],\n",
       "       [  0,   0,   0,   0,   0,   0, 194, 201, 200, 209, 202, 193, 205,\n",
       "        194, 183, 218, 231, 197, 172, 181, 193, 205, 199,   0,   0,   0,\n",
       "          0,   0],\n",
       "       [  0,   0,   0,   0,   0,   3, 212, 203, 188, 189, 196, 198, 198,\n",
       "        201, 196, 217, 179, 167, 183, 217, 197, 202, 219,  30,   0,   0,\n",
       "          0,   0],\n",
       "       [  0,   0,   0,   0,   0,  34, 225, 200, 194, 190, 188, 192, 196,\n",
       "        192, 170, 202, 190, 201, 195, 200, 201, 209, 227,  50,   0,   0,\n",
       "          0,   0],\n",
       "       [  0,   0,   0,   0,   0,  68, 225, 210, 211, 198, 192, 196, 204,\n",
       "        196, 181, 212, 197, 195, 192, 206, 220, 210, 229,  93,   0,   0,\n",
       "          0,   0],\n",
       "       [  0,   0,   0,   0,   0, 111, 223, 227, 253, 209, 196, 204, 211,\n",
       "        206, 183, 216, 206, 210, 203, 215, 244, 224, 227, 150,   0,   0,\n",
       "          0,   0],\n",
       "       [  0,   0,   0,   0,   0, 139, 225, 224, 255, 202, 206, 212, 209,\n",
       "        211, 190, 213, 202, 207, 206, 222, 255, 230, 220, 190,   0,   0,\n",
       "          0,   0],\n",
       "       [  0,   0,   0,   0,   0, 180, 226, 224, 255, 199, 204, 207, 214,\n",
       "        214, 190, 216, 206, 203, 205, 219, 243, 224, 214, 234,   0,   0,\n",
       "          0,   0],\n",
       "       [  0,   0,   0,   0,   0, 225, 223, 228, 254, 209, 206, 208, 213,\n",
       "        210, 191, 215, 207, 204, 208, 211, 249, 226, 214, 255,  38,   0,\n",
       "          0,   0],\n",
       "       [  0,   0,   0,   0,   0, 250, 232, 240, 239, 211, 203, 209, 205,\n",
       "        211, 197, 215, 208, 208, 214, 213, 239, 231, 219, 255,  81,   0,\n",
       "          0,   0],\n",
       "       [  0,   0,   0,   0,   0, 248, 236, 247, 240, 203, 200, 208, 206,\n",
       "        214, 193, 213, 212, 208, 212, 211, 243, 242, 225, 254,  66,   0,\n",
       "          0,   0],\n",
       "       [  0,   0,   0,   0,   0, 247, 230, 252, 226, 199, 211, 202, 211,\n",
       "        213, 182, 213, 212, 206, 202, 219, 207, 247, 222, 237, 104,   0,\n",
       "          0,   0],\n",
       "       [  0,   0,   0,   0,  10, 244, 219, 250, 205, 199, 209, 202, 209,\n",
       "        211, 189, 214, 206, 210, 200, 212, 154, 240, 208, 219, 140,   0,\n",
       "          0,   0],\n",
       "       [  0,   0,   0,   0,  21, 255, 222, 238, 184, 210, 192, 206, 209,\n",
       "        210, 189, 213, 211, 209, 192, 228, 155, 226, 238, 241, 166,   0,\n",
       "          0,   0],\n",
       "       [  0,   0,   0,   0,  37, 245, 226, 241, 150, 197, 189, 204, 209,\n",
       "        210, 183, 213, 213, 201, 184, 215, 146, 216, 236, 225, 154,   0,\n",
       "          0,   0],\n",
       "       [  0,   0,   0,   0,  58, 239, 227, 255, 158, 193, 195, 204, 209,\n",
       "        213, 180, 207, 217, 199, 194, 211, 158, 219, 236, 216, 151,   0,\n",
       "          0,   0],\n",
       "       [  0,   0,   0,   0,  68, 233, 226, 243, 139, 200, 193, 205, 210,\n",
       "        208, 180, 205, 212, 203, 196, 216, 157, 179, 255, 216, 155,   0,\n",
       "          0,   0],\n",
       "       [  0,   0,   0,   0,  81, 225, 224, 211, 138, 219, 185, 201, 213,\n",
       "        207, 197, 226, 212, 200, 190, 215, 183,  90, 255, 211, 147,   0,\n",
       "          0,   0],\n",
       "       [  0,   0,   0,   0,  91, 210, 230, 158, 114, 205, 187, 208, 209,\n",
       "        206, 193, 210, 211, 204, 195, 204, 181,  23, 255, 213, 158,   0,\n",
       "          0,   0],\n",
       "       [  0,   0,   0,   0,  87, 205, 232, 109, 164, 255, 214, 224, 222,\n",
       "        210, 197, 214, 225, 222, 211, 220, 217,   0, 234, 216, 169,   0,\n",
       "          0,   0],\n",
       "       [  0,   0,   0,   0,  92, 213, 232, 146,   5, 134, 151, 162, 170,\n",
       "        183, 182, 164, 166, 178, 162, 156,  98,   0, 240, 225, 210,   0,\n",
       "          0,   0],\n",
       "       [  0,   0,   0,   0,  43, 164, 206, 141,   0,   0,   0,   0,   0,\n",
       "          0,   0,   0,   0,   0,   0,   0,   0,   0, 127, 125,  76,   0,\n",
       "          0,   0]], dtype=uint8)"
      ]
     },
     "execution_count": 7,
     "metadata": {},
     "output_type": "execute_result"
    }
   ],
   "source": [
    "X_train[0]"
   ]
  },
  {
   "cell_type": "markdown",
   "metadata": {},
   "source": [
    "You can plot an image using Matplotlib's `imshow()` function, with a `'binary'`\n",
    " color map:"
   ]
  },
  {
   "cell_type": "code",
   "execution_count": 8,
   "metadata": {},
   "outputs": [
    {
     "data": {
      "image/png": "[encoded data removed]",
      "text/plain": [
       "<Figure size 432x288 with 1 Axes>"
      ]
     },
     "metadata": {
      "needs_background": "light"
     },
     "output_type": "display_data"
    }
   ],
   "source": [
    "plt.imshow(X_train[0], cmap=\"binary\")\n",
    "plt.show()"
   ]
  },
  {
   "cell_type": "markdown",
   "metadata": {},
   "source": [
    "The labels are the class IDs (represented as uint8), from 0 to 9:"
   ]
  },
  {
   "cell_type": "code",
   "execution_count": 9,
   "metadata": {},
   "outputs": [
    {
     "data": {
      "text/plain": [
       "array([4, 0, 7, ..., 3, 0, 5], dtype=uint8)"
      ]
     },
     "execution_count": 9,
     "metadata": {},
     "output_type": "execute_result"
    }
   ],
   "source": [
    "y_train"
   ]
  },
  {
   "cell_type": "markdown",
   "metadata": {},
   "source": [
    "Here are the corresponding class names:"
   ]
  },
  {
   "cell_type": "code",
   "execution_count": 10,
   "metadata": {},
   "outputs": [],
   "source": [
    "class_names = [\"T-shirt/top\", \"Trouser\", \"Pullover\", \"Dress\", \"Coat\",\n",
    "               \"Sandal\", \"Shirt\", \"Sneaker\", \"Bag\", \"Ankle boot\"]"
   ]
  },
  {
   "cell_type": "markdown",
   "metadata": {},
   "source": [
    "So the first image in the training set is a coat:"
   ]
  },
  {
   "cell_type": "code",
   "execution_count": 11,
   "metadata": {},
   "outputs": [
    {
     "data": {
      "text/plain": [
       "'Coat'"
      ]
     },
     "execution_count": 11,
     "metadata": {},
     "output_type": "execute_result"
    }
   ],
   "source": [
    "class_names[y_train[0]]"
   ]
  },
  {
   "cell_type": "markdown",
   "metadata": {},
   "source": [
    "The validation set contains 5,000 images, and the test set contains 10,000 images:"
   ]
  },
  {
   "cell_type": "code",
   "execution_count": 12,
   "metadata": {},
   "outputs": [
    {
     "data": {
      "text/plain": [
       "(5000, 28, 28)"
      ]
     },
     "execution_count": 12,
     "metadata": {},
     "output_type": "execute_result"
    }
   ],
   "source": [
    "X_valid.shape"
   ]
  },
  {
   "cell_type": "code",
   "execution_count": 13,
   "metadata": {},
   "outputs": [
    {
     "data": {
      "text/plain": [
       "(10000, 28, 28)"
      ]
     },
     "execution_count": 13,
     "metadata": {},
     "output_type": "execute_result"
    }
   ],
   "source": [
    "X_test.shape"
   ]
  },
  {
   "cell_type": "markdown",
   "metadata": {},
   "source": [
    "Let's take a look at a sample of the images in the dataset:"
   ]
  },
  {
   "cell_type": "code",
   "execution_count": 16,
   "metadata": {},
   "outputs": [
    {
     "data": {
      "image/png": "[encoded data removed]",
      "text/plain": [
       "<Figure size 1008x576 with 50 Axes>"
      ]
     },
     "metadata": {
      "needs_background": "light"
     },
     "output_type": "display_data"
    }
   ],
   "source": [
    "n_rows = 5\n",
    "n_cols = 10\n",
    "plt.figure(figsize=(n_cols*1.4, n_rows * 1.6))\n",
    "for row in range(n_rows):\n",
    "    for col in range(n_cols):\n",
    "        index = n_cols * row + col\n",
    "        plt.subplot(n_rows, n_cols, index + 1)\n",
    "        plt.imshow(X_train[index], cmap=\"binary\", interpolation=\"nearest\")\n",
    "        plt.axis('off')\n",
    "        plt.title(class_names[y_train[index]])\n",
    "plt.show()"
   ]
  },
  {
   "cell_type": "markdown",
   "metadata": {},
   "source": [
    "This dataset has the same structure as the famous MNIST dataset (which you can load using `keras.datasets.mnist.load_data()`), except the images represent fashion items rather than handwritten digits, and it is much more challenging. A simple linear model can reach 92% accuracy on MNIST, but only 83% on fashion MNIST."
   ]
  },
  {
   "cell_type": "markdown",
   "metadata": {},
   "source": [
    "### Build a classification neural network with Keras"
   ]
  },
  {
   "cell_type": "markdown",
   "metadata": {},
   "source": [
    "### 2.1)\n",
    "Build a `Sequential` model (`keras.models.Sequential`), without any argument, then and add four layers to it by calling its `add()` method:\n",
    "  * a `Flatten` layer (`keras.layers.Flatten`) to convert each 28x28 image to a single row of 784 pixel values. Since it is the first layer in your model, you should specify the `input_shape` argument, leaving out the batch size: `[28, 28]`.\n",
    "  * a `Dense` layer  (`keras.layers.Dense`) with 300 neurons (aka units), and the `\"relu\"` activation function.\n",
    "  * Another `Dense` layer with 100 neurons, also with the `\"relu\"` activation function.\n",
    "  * A final `Dense` layer with 10 neurons (one per class), and with the `\"softmax\"` activation function to ensure that the sum of all the estimated class probabilities for each image is equal to 1."
   ]
  },
  {
   "cell_type": "code",
   "execution_count": 74,
   "metadata": {},
   "outputs": [],
   "source": [
    "model = keras.models.Sequential(name=\"mymodel\")\n",
    "model.add(keras.layers.Flatten(input_shape=[28,28], name=\"flatten_layer\"))\n",
    "model.add(keras.layers.Dense(300, activation=\"relu\", name=\"dense_layer_1\"))\n",
    "model.add(keras.layers.Dense(100, activation=\"relu\", name=\"dense_layer_2\"))\n",
    "model.add(keras.layers.Dense(10, activation=\"softmax\", name=\"output_layer\"))\n"
   ]
  },
  {
   "cell_type": "code",
   "execution_count": null,
   "metadata": {},
   "outputs": [],
   "source": []
  },
  {
   "cell_type": "markdown",
   "metadata": {},
   "source": [
    "### 2.2)\n",
    "Alternatively, you can pass a list containing the 4 layers to the constructor of the `Sequential` model. The model's `layers` attribute holds the list of layers."
   ]
  },
  {
   "cell_type": "code",
   "execution_count": 22,
   "metadata": {},
   "outputs": [],
   "source": [
    "model2 = keras.models.Sequential(\n",
    "    layers = [\n",
    "    keras.layers.Flatten(input_shape=(28, 28)), \n",
    "    keras.layers.Dense(300, activation=\"relu\"),\n",
    "    keras.layers.Dense(100, activation=\"relu\"),\n",
    "    keras.layers.Dense(10, activation=\"softmax\")\n",
    "], name = \"mymodel2\")"
   ]
  },
  {
   "cell_type": "code",
   "execution_count": null,
   "metadata": {},
   "outputs": [],
   "source": []
  },
  {
   "cell_type": "markdown",
   "metadata": {},
   "source": [
    "### 2.3)\n",
    "Call the model's `summary()` method and examine the output. Also, try using `keras.utils.plot_model()` to save an image of your model's architecture. Alternatively, you can uncomment the following code to display the image within Jupyter."
   ]
  },
  {
   "cell_type": "markdown",
   "metadata": {},
   "source": [
    "**Warning**: you will need `pydot` and `graphviz` to use `plot_model()`."
   ]
  },
  {
   "cell_type": "code",
   "execution_count": 33,
   "metadata": {},
   "outputs": [
    {
     "name": "stdout",
     "output_type": "stream",
     "text": [
      "Model: \"mymodel\"\n",
      "_________________________________________________________________\n",
      "Layer (type)                 Output Shape              Param #   \n",
      "=================================================================\n",
      "flatten_layer (Flatten)      (None, 784)               0         \n",
      "_________________________________________________________________\n",
      "dense_layer_1 (Dense)        (None, 300)               235500    \n",
      "_________________________________________________________________\n",
      "dense_layer_2 (Dense)        (None, 100)               30100     \n",
      "_________________________________________________________________\n",
      "output_layer (Dense)         (None, 10)                1010      \n",
      "=================================================================\n",
      "Total params: 266,610\n",
      "Trainable params: 266,610\n",
      "Non-trainable params: 0\n",
      "_________________________________________________________________\n"
     ]
    }
   ],
   "source": [
    "model.summary()"
   ]
  },
  {
   "cell_type": "code",
   "execution_count": 71,
   "metadata": {},
   "outputs": [
    {
     "data": {
      "image/png": "[encoded data removed]",
      "text/plain": [
       "<IPython.core.display.Image object>"
      ]
     },
     "execution_count": 71,
     "metadata": {},
     "output_type": "execute_result"
    }
   ],
   "source": [
    "keras.utils.plot_model(model=model)"
   ]
  },
  {
   "cell_type": "markdown",
   "metadata": {},
   "source": [
    "### 2.4)\n",
    "After a model is created, you must call its `compile()` method to specify the `loss` function and the `optimizer` to use. In this case, you want to use the `\"sparse_categorical_crossentropy\"` loss, and the `keras.optimizers.SGD(lr=1e-3)` optimizer (stochastic gradient descent with a learning rate of 1e-3). Moreover, you can optionally specify a list of additional metrics that should be measured during training. In this case you should specify `metrics=[\"accuracy\"]`. **Note**: you can find more loss functions in `keras.losses`, more metrics in `keras.metrics` and more optimizers in `keras.optimizers`."
   ]
  },
  {
   "cell_type": "code",
   "execution_count": 75,
   "metadata": {},
   "outputs": [],
   "source": [
    "model.compile(optimizer=keras.optimizers.SGD(lr=1e-4), \n",
    "              loss=\"sparse_categorical_crossentropy\", \n",
    "              metrics=[\"accuracy\"])"
   ]
  },
  {
   "cell_type": "markdown",
   "metadata": {},
   "source": [
    "### 2.5)\n",
    "Now your model is ready to be trained. Call its `fit()` method, passing it the input features (`X_train`) and the target classes (`y_train`). Set `epochs=10` (or else it will just run for a single epoch). You can also (optionally) pass the validation data by setting `validation_data=(X_valid, y_valid)`. If you do, Keras will compute the loss and the additional metrics (the accuracy in this case) on the validation set at the end of each epoch. If the performance on the training set is much better than on the validation set, your model is probably overfitting the training set (or there is a bug, such as a mismatch between the training set and the validation set).\n",
    "**Note**: the `fit()` method will return a `History` object containing training stats. Make sure to preserve it (`history = model.fit(...)`)."
   ]
  },
  {
   "cell_type": "code",
   "execution_count": 76,
   "metadata": {},
   "outputs": [
    {
     "name": "stdout",
     "output_type": "stream",
     "text": [
      "Train on 55000 samples, validate on 5000 samples\n",
      "Epoch 1/40\n",
      "55000/55000 [==============================] - 3s 57us/sample - loss: 9.7403 - accuracy: 0.3839 - val_loss: 9.1716 - val_accuracy: 0.4224\n",
      "Epoch 2/40\n",
      "55000/55000 [==============================] - 3s 54us/sample - loss: 9.0730 - accuracy: 0.4298 - val_loss: 9.0617 - val_accuracy: 0.4304\n",
      "Epoch 3/40\n",
      "55000/55000 [==============================] - 3s 54us/sample - loss: 8.9678 - accuracy: 0.4372 - val_loss: 9.0211 - val_accuracy: 0.4314\n",
      "Epoch 4/40\n",
      "55000/55000 [==============================] - 3s 55us/sample - loss: 8.8959 - accuracy: 0.4415 - val_loss: 8.9629 - val_accuracy: 0.4346\n",
      "Epoch 5/40\n",
      "55000/55000 [==============================] - 3s 56us/sample - loss: 8.8466 - accuracy: 0.4450 - val_loss: 8.9356 - val_accuracy: 0.4392\n",
      "Epoch 6/40\n",
      "55000/55000 [==============================] - 3s 54us/sample - loss: 8.7998 - accuracy: 0.4479 - val_loss: 9.0041 - val_accuracy: 0.4342\n",
      "Epoch 7/40\n",
      "55000/55000 [==============================] - 3s 54us/sample - loss: 8.7881 - accuracy: 0.4488 - val_loss: 8.8594 - val_accuracy: 0.4428\n",
      "Epoch 8/40\n",
      "55000/55000 [==============================] - 3s 55us/sample - loss: 8.7576 - accuracy: 0.4503 - val_loss: 8.9929 - val_accuracy: 0.4342\n",
      "Epoch 9/40\n",
      "55000/55000 [==============================] - 3s 55us/sample - loss: 8.7128 - accuracy: 0.4524 - val_loss: 8.7942 - val_accuracy: 0.4472\n",
      "Epoch 10/40\n",
      "55000/55000 [==============================] - 3s 56us/sample - loss: 8.6860 - accuracy: 0.4541 - val_loss: 8.8285 - val_accuracy: 0.4414\n",
      "Epoch 11/40\n",
      "55000/55000 [==============================] - 3s 56us/sample - loss: 8.6428 - accuracy: 0.4556 - val_loss: 8.7926 - val_accuracy: 0.4458\n",
      "Epoch 12/40\n",
      "55000/55000 [==============================] - 3s 55us/sample - loss: 7.2200 - accuracy: 0.5374 - val_loss: 5.9316 - val_accuracy: 0.6126\n",
      "Epoch 13/40\n",
      "55000/55000 [==============================] - 3s 55us/sample - loss: 5.8017 - accuracy: 0.6225 - val_loss: 5.7265 - val_accuracy: 0.6238\n",
      "Epoch 14/40\n",
      "55000/55000 [==============================] - 3s 55us/sample - loss: 4.8984 - accuracy: 0.6705 - val_loss: 4.9905 - val_accuracy: 0.6588\n",
      "Epoch 15/40\n",
      "55000/55000 [==============================] - 3s 56us/sample - loss: 4.5138 - accuracy: 0.6945 - val_loss: 4.7164 - val_accuracy: 0.6798\n",
      "Epoch 16/40\n",
      "55000/55000 [==============================] - 3s 56us/sample - loss: 4.4383 - accuracy: 0.6979 - val_loss: 4.7550 - val_accuracy: 0.6662\n",
      "Epoch 17/40\n",
      "55000/55000 [==============================] - 3s 55us/sample - loss: 4.3322 - accuracy: 0.7031 - val_loss: 4.5739 - val_accuracy: 0.6800\n",
      "Epoch 18/40\n",
      "55000/55000 [==============================] - 3s 55us/sample - loss: 4.2495 - accuracy: 0.7049 - val_loss: 4.5182 - val_accuracy: 0.6840\n",
      "Epoch 19/40\n",
      "55000/55000 [==============================] - 3s 55us/sample - loss: 4.1498 - accuracy: 0.7071 - val_loss: 4.4701 - val_accuracy: 0.6860\n",
      "Epoch 20/40\n",
      "55000/55000 [==============================] - 3s 56us/sample - loss: 4.0673 - accuracy: 0.7086 - val_loss: 4.3368 - val_accuracy: 0.6826\n",
      "Epoch 21/40\n",
      "55000/55000 [==============================] - 3s 55us/sample - loss: 3.9750 - accuracy: 0.7112 - val_loss: 4.2363 - val_accuracy: 0.6876\n",
      "Epoch 22/40\n",
      "55000/55000 [==============================] - 3s 55us/sample - loss: 3.8362 - accuracy: 0.7108 - val_loss: 3.8717 - val_accuracy: 0.6848\n",
      "Epoch 23/40\n",
      "55000/55000 [==============================] - 3s 55us/sample - loss: 2.2227 - accuracy: 0.7635 - val_loss: 1.1823 - val_accuracy: 0.8212\n",
      "Epoch 24/40\n",
      "55000/55000 [==============================] - 3s 55us/sample - loss: 0.9572 - accuracy: 0.8240 - val_loss: 0.9329 - val_accuracy: 0.8050\n",
      "Epoch 25/40\n",
      "55000/55000 [==============================] - 3s 55us/sample - loss: 0.7448 - accuracy: 0.8291 - val_loss: 0.7833 - val_accuracy: 0.8224\n",
      "Epoch 26/40\n",
      "55000/55000 [==============================] - 3s 55us/sample - loss: 0.6416 - accuracy: 0.8339 - val_loss: 0.7010 - val_accuracy: 0.8268\n",
      "Epoch 27/40\n",
      "55000/55000 [==============================] - 3s 57us/sample - loss: 0.5796 - accuracy: 0.8384 - val_loss: 0.6578 - val_accuracy: 0.8244\n",
      "Epoch 28/40\n",
      "55000/55000 [==============================] - 3s 55us/sample - loss: 0.5387 - accuracy: 0.8438 - val_loss: 0.6441 - val_accuracy: 0.8302\n",
      "Epoch 29/40\n",
      "55000/55000 [==============================] - 3s 54us/sample - loss: 0.5096 - accuracy: 0.8509 - val_loss: 0.6064 - val_accuracy: 0.8360\n",
      "Epoch 30/40\n",
      "55000/55000 [==============================] - 3s 55us/sample - loss: 0.4887 - accuracy: 0.8533 - val_loss: 0.5972 - val_accuracy: 0.8364\n",
      "Epoch 31/40\n",
      "55000/55000 [==============================] - 3s 55us/sample - loss: 0.4705 - accuracy: 0.8573 - val_loss: 0.5858 - val_accuracy: 0.8394\n",
      "Epoch 32/40\n",
      "55000/55000 [==============================] - 3s 55us/sample - loss: 0.4559 - accuracy: 0.8607 - val_loss: 0.5717 - val_accuracy: 0.8404\n",
      "Epoch 33/40\n",
      "55000/55000 [==============================] - 3s 55us/sample - loss: 0.4438 - accuracy: 0.8631 - val_loss: 0.5701 - val_accuracy: 0.8428\n",
      "Epoch 34/40\n",
      "55000/55000 [==============================] - 3s 56us/sample - loss: 0.4326 - accuracy: 0.8652 - val_loss: 0.5540 - val_accuracy: 0.8478\n",
      "Epoch 35/40\n",
      "55000/55000 [==============================] - 3s 55us/sample - loss: 0.4234 - accuracy: 0.8671 - val_loss: 0.5515 - val_accuracy: 0.8452\n",
      "Epoch 36/40\n",
      "55000/55000 [==============================] - 3s 56us/sample - loss: 0.4145 - accuracy: 0.8700 - val_loss: 0.5436 - val_accuracy: 0.8486\n",
      "Epoch 37/40\n",
      "55000/55000 [==============================] - 3s 58us/sample - loss: 0.4067 - accuracy: 0.8718 - val_loss: 0.5414 - val_accuracy: 0.8492\n",
      "Epoch 38/40\n",
      "55000/55000 [==============================] - 3s 57us/sample - loss: 0.4005 - accuracy: 0.8736 - val_loss: 0.5358 - val_accuracy: 0.8518\n",
      "Epoch 39/40\n",
      "55000/55000 [==============================] - 3s 56us/sample - loss: 0.3943 - accuracy: 0.8753 - val_loss: 0.5350 - val_accuracy: 0.8512\n",
      "Epoch 40/40\n",
      "55000/55000 [==============================] - 3s 56us/sample - loss: 0.3888 - accuracy: 0.8773 - val_loss: 0.5374 - val_accuracy: 0.8522\n"
     ]
    }
   ],
   "source": [
    "history = model.fit(X_train, y_train, epochs=40, validation_data=(X_valid, y_valid))"
   ]
  },
  {
   "cell_type": "code",
   "execution_count": null,
   "metadata": {},
   "outputs": [],
   "source": []
  },
  {
   "cell_type": "code",
   "execution_count": null,
   "metadata": {},
   "outputs": [],
   "source": []
  },
  {
   "cell_type": "markdown",
   "metadata": {},
   "source": [
    "### 2.6)\n",
    "Try running `pd.DataFrame(history.history).plot()` to plot the learning curves. To make the graph more readable, you can also set `figsize=(8, 5)`, call `plt.grid(True)` and `plt.gca().set_ylim(0, 1)`."
   ]
  },
  {
   "cell_type": "code",
   "execution_count": 77,
   "metadata": {},
   "outputs": [
    {
     "data": {
      "text/plain": [
       "(0, 1)"
      ]
     },
     "execution_count": 77,
     "metadata": {},
     "output_type": "execute_result"
    },
    {
     "data": {
      "image/png": "[encoded data removed]",
      "text/plain": [
       "<Figure size 576x360 with 1 Axes>"
      ]
     },
     "metadata": {
      "needs_background": "light"
     },
     "output_type": "display_data"
    }
   ],
   "source": [
    "pd.DataFrame(history.history).plot(figsize=(8, 5))\n",
    "plt.grid(True)\n",
    "plt.gca().set_ylim(0, 1)"
   ]
  },
  {
   "cell_type": "code",
   "execution_count": null,
   "metadata": {},
   "outputs": [],
   "source": []
  },
  {
   "cell_type": "code",
   "execution_count": null,
   "metadata": {},
   "outputs": [],
   "source": []
  },
  {
   "cell_type": "markdown",
   "metadata": {},
   "source": [
    "### 2.7)\n",
    "Try running `model.fit()` again, and notice that training continues where it left off."
   ]
  },
  {
   "cell_type": "code",
   "execution_count": 78,
   "metadata": {},
   "outputs": [
    {
     "name": "stdout",
     "output_type": "stream",
     "text": [
      "Train on 55000 samples, validate on 5000 samples\n",
      "Epoch 1/10\n",
      "55000/55000 [==============================] - 3s 55us/sample - loss: 0.3827 - accuracy: 0.8790 - val_loss: 0.5249 - val_accuracy: 0.8526\n",
      "Epoch 2/10\n",
      "55000/55000 [==============================] - 3s 55us/sample - loss: 0.3777 - accuracy: 0.8789 - val_loss: 0.5254 - val_accuracy: 0.8536\n",
      "Epoch 3/10\n",
      "55000/55000 [==============================] - 3s 55us/sample - loss: 0.3733 - accuracy: 0.8798 - val_loss: 0.5246 - val_accuracy: 0.8578\n",
      "Epoch 4/10\n",
      "55000/55000 [==============================] - 3s 55us/sample - loss: 0.3686 - accuracy: 0.8828 - val_loss: 0.5219 - val_accuracy: 0.8552\n",
      "Epoch 5/10\n",
      "55000/55000 [==============================] - 3s 55us/sample - loss: 0.3646 - accuracy: 0.8840 - val_loss: 0.5232 - val_accuracy: 0.8534\n",
      "Epoch 6/10\n",
      "55000/55000 [==============================] - 3s 56us/sample - loss: 0.3612 - accuracy: 0.8848 - val_loss: 0.5224 - val_accuracy: 0.8566\n",
      "Epoch 7/10\n",
      "55000/55000 [==============================] - 3s 57us/sample - loss: 0.3576 - accuracy: 0.8856 - val_loss: 0.5194 - val_accuracy: 0.8560\n",
      "Epoch 8/10\n",
      "55000/55000 [==============================] - 3s 55us/sample - loss: 0.3537 - accuracy: 0.8866 - val_loss: 0.5161 - val_accuracy: 0.8588\n",
      "Epoch 9/10\n",
      "55000/55000 [==============================] - 3s 55us/sample - loss: 0.3509 - accuracy: 0.8873 - val_loss: 0.5182 - val_accuracy: 0.8548\n",
      "Epoch 10/10\n",
      "55000/55000 [==============================] - 3s 56us/sample - loss: 0.3479 - accuracy: 0.8879 - val_loss: 0.5155 - val_accuracy: 0.8556\n"
     ]
    },
    {
     "data": {
      "text/plain": [
       "<tensorflow.python.keras.callbacks.History at 0x7f42b97a6710>"
      ]
     },
     "execution_count": 78,
     "metadata": {},
     "output_type": "execute_result"
    }
   ],
   "source": [
    "model.fit(X_train, y_train, epochs=10, validation_data=(X_valid, y_valid))"
   ]
  },
  {
   "cell_type": "code",
   "execution_count": null,
   "metadata": {},
   "outputs": [],
   "source": []
  },
  {
   "cell_type": "code",
   "execution_count": null,
   "metadata": {},
   "outputs": [],
   "source": []
  },
  {
   "cell_type": "markdown",
   "metadata": {},
   "source": [
    "### 2.8)\n",
    "call the model's `evaluate()` method, passing it the test set (`X_test` and `y_test`). This will compute the loss (cross-entropy) on the test set, as well as all the additional metrics (in this case, the accuracy). Your model should achieve over 80% accuracy on the test set."
   ]
  },
  {
   "cell_type": "code",
   "execution_count": 79,
   "metadata": {},
   "outputs": [
    {
     "name": "stdout",
     "output_type": "stream",
     "text": [
      "10000/10000 [==============================] - 0s 30us/sample - loss: 0.5697 - accuracy: 0.8447\n"
     ]
    },
    {
     "data": {
      "text/plain": [
       "[0.569737444281578, 0.8447]"
      ]
     },
     "execution_count": 79,
     "metadata": {},
     "output_type": "execute_result"
    }
   ],
   "source": [
    "model.evaluate(X_test, y_test)"
   ]
  },
  {
   "cell_type": "code",
   "execution_count": null,
   "metadata": {},
   "outputs": [],
   "source": []
  },
  {
   "cell_type": "code",
   "execution_count": null,
   "metadata": {},
   "outputs": [],
   "source": []
  },
  {
   "cell_type": "markdown",
   "metadata": {},
   "source": [
    "### 2.9)\n",
    "Define `X_new` as the first 10 instances of the test set. Call the model's `predict()` method to estimate the probability of each class for each instance (for better readability, you may use the output array's `round()` method):"
   ]
  },
  {
   "cell_type": "code",
   "execution_count": 82,
   "metadata": {},
   "outputs": [],
   "source": [
    "X_new = X_test[:5, :]\n",
    "y_pred_proba_new = model.predict(X_new).round(3)"
   ]
  },
  {
   "cell_type": "code",
   "execution_count": 83,
   "metadata": {},
   "outputs": [
    {
     "data": {
      "text/plain": [
       "array([[0.   , 0.   , 0.   , 0.   , 0.   , 0.   , 0.   , 0.005, 0.   ,\n",
       "        0.995],\n",
       "       [0.001, 0.   , 0.947, 0.   , 0.001, 0.   , 0.052, 0.   , 0.   ,\n",
       "        0.   ],\n",
       "       [0.   , 1.   , 0.   , 0.   , 0.   , 0.   , 0.   , 0.   , 0.   ,\n",
       "        0.   ],\n",
       "       [0.   , 1.   , 0.   , 0.   , 0.   , 0.   , 0.   , 0.   , 0.   ,\n",
       "        0.   ],\n",
       "       [0.061, 0.   , 0.039, 0.003, 0.025, 0.   , 0.871, 0.   , 0.   ,\n",
       "        0.   ]], dtype=float32)"
      ]
     },
     "execution_count": 83,
     "metadata": {},
     "output_type": "execute_result"
    }
   ],
   "source": [
    "y_pred_proba_new"
   ]
  },
  {
   "cell_type": "code",
   "execution_count": null,
   "metadata": {},
   "outputs": [],
   "source": []
  },
  {
   "cell_type": "markdown",
   "metadata": {},
   "source": [
    "### 2.10)\n",
    "Often, you may only be interested in the most likely class. Use `np.argmax()` to get the class ID of the most likely class for each instance. **Tip**: you want to set `axis=1`."
   ]
  },
  {
   "cell_type": "code",
   "execution_count": 84,
   "metadata": {},
   "outputs": [
    {
     "data": {
      "text/plain": [
       "array([9, 2, 1, 1, 6])"
      ]
     },
     "execution_count": 84,
     "metadata": {},
     "output_type": "execute_result"
    }
   ],
   "source": [
    "np.argmax(y_pred_proba_new, axis = 1)"
   ]
  },
  {
   "cell_type": "code",
   "execution_count": null,
   "metadata": {},
   "outputs": [],
   "source": []
  },
  {
   "cell_type": "code",
   "execution_count": null,
   "metadata": {},
   "outputs": [],
   "source": []
  },
  {
   "cell_type": "markdown",
   "metadata": {},
   "source": [
    "### 2.11)\n",
    "Call the model's `predict_classes()` method for `X_new`. You should get the same result as above."
   ]
  },
  {
   "cell_type": "code",
   "execution_count": 85,
   "metadata": {},
   "outputs": [
    {
     "data": {
      "text/plain": [
       "array([9, 2, 1, 1, 6])"
      ]
     },
     "execution_count": 85,
     "metadata": {},
     "output_type": "execute_result"
    }
   ],
   "source": [
    "model.predict_classes(X_new)"
   ]
  },
  {
   "cell_type": "code",
   "execution_count": null,
   "metadata": {},
   "outputs": [],
   "source": []
  },
  {
   "cell_type": "code",
   "execution_count": null,
   "metadata": {},
   "outputs": [],
   "source": []
  },
  {
   "cell_type": "markdown",
   "metadata": {},
   "source": [
    "### 2.12)\n",
    "(Optional) It is often useful to know how confident the model is for each prediction. Try finding the estimated probability for each predicted class using `np.max()`."
   ]
  },
  {
   "cell_type": "code",
   "execution_count": 86,
   "metadata": {},
   "outputs": [
    {
     "data": {
      "text/plain": [
       "array([0.995, 0.947, 1.   , 1.   , 0.871], dtype=float32)"
      ]
     },
     "execution_count": 86,
     "metadata": {},
     "output_type": "execute_result"
    }
   ],
   "source": [
    "np.max(y_pred_proba_new, axis = 1)"
   ]
  },
  {
   "cell_type": "code",
   "execution_count": null,
   "metadata": {},
   "outputs": [],
   "source": []
  },
  {
   "cell_type": "code",
   "execution_count": null,
   "metadata": {},
   "outputs": [],
   "source": []
  },
  {
   "cell_type": "markdown",
   "metadata": {},
   "source": [
    "### 2.13)\n",
    "(Optional) It is frequent to want the top k classes and their estimated probabilities rather just the most likely class. You can use `np.argsort()` for this."
   ]
  },
  {
   "cell_type": "code",
   "execution_count": 99,
   "metadata": {},
   "outputs": [
    {
     "data": {
      "text/plain": [
       "array([[9, 7, 0],\n",
       "       [2, 6, 0],\n",
       "       [1, 0, 2],\n",
       "       [1, 0, 2],\n",
       "       [6, 0, 2]])"
      ]
     },
     "execution_count": 99,
     "metadata": {},
     "output_type": "execute_result"
    }
   ],
   "source": [
    "k = 3\n",
    "topk = np.argsort(-y_pred_proba_new, axis = 1)[:, :k]\n",
    "topk"
   ]
  },
  {
   "cell_type": "code",
   "execution_count": 98,
   "metadata": {},
   "outputs": [
    {
     "data": {
      "text/plain": [
       "array([[1.  , 0.  , 0.  ],\n",
       "       [0.95, 0.05, 0.  ],\n",
       "       [1.  , 0.  , 0.  ],\n",
       "       [1.  , 0.  , 0.  ],\n",
       "       [0.87, 0.06, 0.04]], dtype=float32)"
      ]
     },
     "execution_count": 98,
     "metadata": {},
     "output_type": "execute_result"
    }
   ],
   "source": [
    "row_indices = np.tile(np.arange(len(topk)), [k, 1]).T\n",
    "y_pred_proba_new[row_indices, topk].round(2)"
   ]
  },
  {
   "cell_type": "code",
   "execution_count": null,
   "metadata": {},
   "outputs": [],
   "source": []
  },
  {
   "cell_type": "markdown",
   "metadata": {},
   "source": [
    "![Exercise solution](https://camo.githubusercontent.com/250388fde3fac9135ead9471733ee28e049f7a37/68747470733a2f2f75706c6f61642e77696b696d656469612e6f72672f77696b6970656469612f636f6d6d6f6e732f302f30362f46696c6f735f736567756e646f5f6c6f676f5f253238666c69707065642532392e6a7067)"
   ]
  },
  {
   "cell_type": "markdown",
   "metadata": {},
   "source": [
    "## Exercise 2 - Solution"
   ]
  },
  {
   "cell_type": "markdown",
   "metadata": {},
   "source": [
    "### 2.1)\n",
    "Build a `Sequential` model (`keras.models.Sequential`), without any argument, then and add four layers to it by calling its `add()` method:\n",
    "  * a `Flatten` layer (`keras.layers.Flatten`) to convert each 28x28 image to a single row of 784 pixel values. Since it is the first layer in your model, you should specify the `input_shape` argument, leaving out the batch size: `[28, 28]`.\n",
    "  * a `Dense` layer  (`keras.layers.Dense`) with 300 neurons (aka units), and the `\"relu\"` activation function.\n",
    "  * Another `Dense` layer with 100 neurons, also with the `\"relu\"` activation function.\n",
    "  * A final `Dense` layer with 10 neurons (one per class), and with the `\"softmax\"` activation function to ensure that the sum of all the estimated class probabilities for each image is equal to 1."
   ]
  },
  {
   "cell_type": "code",
   "execution_count": null,
   "metadata": {},
   "outputs": [],
   "source": [
    "model = keras.models.Sequential()\n",
    "model.add(keras.layers.Flatten(input_shape=[28, 28]))\n",
    "model.add(keras.layers.Dense(300, activation=\"relu\"))\n",
    "model.add(keras.layers.Dense(100, activation=\"relu\"))\n",
    "model.add(keras.layers.Dense(10, activation=\"softmax\"))"
   ]
  },
  {
   "cell_type": "markdown",
   "metadata": {},
   "source": [
    "### 2.2)\n",
    "Alternatively, you can pass a list containing the 4 layers to the constructor of the `Sequential` model. The model's `layers` attribute holds the list of layers."
   ]
  },
  {
   "cell_type": "code",
   "execution_count": 87,
   "metadata": {},
   "outputs": [],
   "source": [
    "model = keras.models.Sequential([\n",
    "    keras.layers.Flatten(input_shape=[28, 28]),\n",
    "    keras.layers.Dense(300, activation=\"relu\"),\n",
    "    keras.layers.Dense(100, activation=\"relu\"),\n",
    "    keras.layers.Dense(10, activation=\"softmax\")\n",
    "])"
   ]
  },
  {
   "cell_type": "code",
   "execution_count": 88,
   "metadata": {},
   "outputs": [
    {
     "data": {
      "text/plain": [
       "[<tensorflow.python.keras.layers.core.Flatten at 0x7f42b97a6978>,\n",
       " <tensorflow.python.keras.layers.core.Dense at 0x7f42b97beac8>,\n",
       " <tensorflow.python.keras.layers.core.Dense at 0x7f42700de3c8>,\n",
       " <tensorflow.python.keras.layers.core.Dense at 0x7f42700de2b0>]"
      ]
     },
     "execution_count": 88,
     "metadata": {},
     "output_type": "execute_result"
    }
   ],
   "source": [
    "model.layers"
   ]
  },
  {
   "cell_type": "markdown",
   "metadata": {},
   "source": [
    "### 2.3)\n",
    "Call the model's `summary()` method and examine the output. Also, try using `keras.utils.plot_model()` to save an image of your model's architecture. Alternatively, you can uncomment the following code to display the image within Jupyter."
   ]
  },
  {
   "cell_type": "code",
   "execution_count": 89,
   "metadata": {},
   "outputs": [
    {
     "name": "stdout",
     "output_type": "stream",
     "text": [
      "Model: \"sequential_3\"\n",
      "_________________________________________________________________\n",
      "Layer (type)                 Output Shape              Param #   \n",
      "=================================================================\n",
      "flatten_6 (Flatten)          (None, 784)               0         \n",
      "_________________________________________________________________\n",
      "dense_13 (Dense)             (None, 300)               235500    \n",
      "_________________________________________________________________\n",
      "dense_14 (Dense)             (None, 100)               30100     \n",
      "_________________________________________________________________\n",
      "dense_15 (Dense)             (None, 10)                1010      \n",
      "=================================================================\n",
      "Total params: 266,610\n",
      "Trainable params: 266,610\n",
      "Non-trainable params: 0\n",
      "_________________________________________________________________\n"
     ]
    }
   ],
   "source": [
    "model.summary()"
   ]
  },
  {
   "cell_type": "code",
   "execution_count": 90,
   "metadata": {},
   "outputs": [
    {
     "data": {
      "image/png": "[encoded data removed]",
      "text/plain": [
       "<IPython.core.display.Image object>"
      ]
     },
     "execution_count": 90,
     "metadata": {},
     "output_type": "execute_result"
    }
   ],
   "source": [
    "keras.utils.plot_model(model, \"my_mnist_model.png\", show_shapes=True)"
   ]
  },
  {
   "cell_type": "markdown",
   "metadata": {},
   "source": [
    "**Warning**: at the present, you need `from tensorflow.python.keras.utils.vis_utils import model_to_dot`, instead of simply `keras.utils.model_to_dot`. See [TensorFlow issue 24639](https://github.com/tensorflow/tensorflow/issues/24639)."
   ]
  },
  {
   "cell_type": "code",
   "execution_count": 91,
   "metadata": {},
   "outputs": [
    {
     "data": {
      "image/svg+xml": [
       "<svg height=\"516pt\" viewBox=\"0.00 0.00 313.00 387.00\" width=\"417pt\" xmlns=\"http://www.w3.org/2000/svg\" xmlns:xlink=\"http://www.w3.org/1999/xlink\">\n",
       "<g class=\"graph\" id=\"graph0\" transform=\"scale(1.3333 1.3333) rotate(0) translate(4 383)\">\n",
       "<title>G</title>\n",
       "<polygon fill=\"#ffffff\" points=\"-4,4 -4,-383 309,-383 309,4 -4,4\" stroke=\"transparent\"/>\n",
       "<!-- 139923324529016 -->\n",
       "<g class=\"node\" id=\"node1\">\n",
       "<title>139923324529016</title>\n",
       "<polygon fill=\"none\" points=\"0,-332.5 0,-378.5 305,-378.5 305,-332.5 0,-332.5\" stroke=\"#000000\"/>\n",
       "<text fill=\"#000000\" font-family=\"Times,serif\" font-size=\"14.00\" text-anchor=\"middle\" x=\"83.5\" y=\"-351.8\">flatten_6_input: InputLayer</text>\n",
       "<polyline fill=\"none\" points=\"167,-332.5 167,-378.5 \" stroke=\"#000000\"/>\n",
       "<text fill=\"#000000\" font-family=\"Times,serif\" font-size=\"14.00\" text-anchor=\"middle\" x=\"194.5\" y=\"-363.3\">input:</text>\n",
       "<polyline fill=\"none\" points=\"167,-355.5 222,-355.5 \" stroke=\"#000000\"/>\n",
       "<text fill=\"#000000\" font-family=\"Times,serif\" font-size=\"14.00\" text-anchor=\"middle\" x=\"194.5\" y=\"-340.3\">output:</text>\n",
       "<polyline fill=\"none\" points=\"222,-332.5 222,-378.5 \" stroke=\"#000000\"/>\n",
       "<text fill=\"#000000\" font-family=\"Times,serif\" font-size=\"14.00\" text-anchor=\"middle\" x=\"263.5\" y=\"-363.3\">[(?, 28, 28)]</text>\n",
       "<polyline fill=\"none\" points=\"222,-355.5 305,-355.5 \" stroke=\"#000000\"/>\n",
       "<text fill=\"#000000\" font-family=\"Times,serif\" font-size=\"14.00\" text-anchor=\"middle\" x=\"263.5\" y=\"-340.3\">[(?, 28, 28)]</text>\n",
       "</g>\n",
       "<!-- 139924556376440 -->\n",
       "<g class=\"node\" id=\"node2\">\n",
       "<title>139924556376440</title>\n",
       "<polygon fill=\"none\" points=\"33,-249.5 33,-295.5 272,-295.5 272,-249.5 33,-249.5\" stroke=\"#000000\"/>\n",
       "<text fill=\"#000000\" font-family=\"Times,serif\" font-size=\"14.00\" text-anchor=\"middle\" x=\"88\" y=\"-268.8\">flatten_6: Flatten</text>\n",
       "<polyline fill=\"none\" points=\"143,-249.5 143,-295.5 \" stroke=\"#000000\"/>\n",
       "<text fill=\"#000000\" font-family=\"Times,serif\" font-size=\"14.00\" text-anchor=\"middle\" x=\"170.5\" y=\"-280.3\">input:</text>\n",
       "<polyline fill=\"none\" points=\"143,-272.5 198,-272.5 \" stroke=\"#000000\"/>\n",
       "<text fill=\"#000000\" font-family=\"Times,serif\" font-size=\"14.00\" text-anchor=\"middle\" x=\"170.5\" y=\"-257.3\">output:</text>\n",
       "<polyline fill=\"none\" points=\"198,-249.5 198,-295.5 \" stroke=\"#000000\"/>\n",
       "<text fill=\"#000000\" font-family=\"Times,serif\" font-size=\"14.00\" text-anchor=\"middle\" x=\"235\" y=\"-280.3\">(?, 28, 28)</text>\n",
       "<polyline fill=\"none\" points=\"198,-272.5 272,-272.5 \" stroke=\"#000000\"/>\n",
       "<text fill=\"#000000\" font-family=\"Times,serif\" font-size=\"14.00\" text-anchor=\"middle\" x=\"235\" y=\"-257.3\">(?, 784)</text>\n",
       "</g>\n",
       "<!-- 139923324529016&#45;&gt;139924556376440 -->\n",
       "<g class=\"edge\" id=\"edge1\">\n",
       "<title>139923324529016-&gt;139924556376440</title>\n",
       "<path d=\"M152.5,-332.3799C152.5,-324.1745 152.5,-314.7679 152.5,-305.8786\" fill=\"none\" stroke=\"#000000\"/>\n",
       "<polygon fill=\"#000000\" points=\"156.0001,-305.784 152.5,-295.784 149.0001,-305.784 156.0001,-305.784\" stroke=\"#000000\"/>\n",
       "</g>\n",
       "<!-- 139924556475080 -->\n",
       "<g class=\"node\" id=\"node3\">\n",
       "<title>139924556475080</title>\n",
       "<polygon fill=\"none\" points=\"41,-166.5 41,-212.5 264,-212.5 264,-166.5 41,-166.5\" stroke=\"#000000\"/>\n",
       "<text fill=\"#000000\" font-family=\"Times,serif\" font-size=\"14.00\" text-anchor=\"middle\" x=\"95.5\" y=\"-185.8\">dense_13: Dense</text>\n",
       "<polyline fill=\"none\" points=\"150,-166.5 150,-212.5 \" stroke=\"#000000\"/>\n",
       "<text fill=\"#000000\" font-family=\"Times,serif\" font-size=\"14.00\" text-anchor=\"middle\" x=\"177.5\" y=\"-197.3\">input:</text>\n",
       "<polyline fill=\"none\" points=\"150,-189.5 205,-189.5 \" stroke=\"#000000\"/>\n",
       "<text fill=\"#000000\" font-family=\"Times,serif\" font-size=\"14.00\" text-anchor=\"middle\" x=\"177.5\" y=\"-174.3\">output:</text>\n",
       "<polyline fill=\"none\" points=\"205,-166.5 205,-212.5 \" stroke=\"#000000\"/>\n",
       "<text fill=\"#000000\" font-family=\"Times,serif\" font-size=\"14.00\" text-anchor=\"middle\" x=\"234.5\" y=\"-197.3\">(?, 784)</text>\n",
       "<polyline fill=\"none\" points=\"205,-189.5 264,-189.5 \" stroke=\"#000000\"/>\n",
       "<text fill=\"#000000\" font-family=\"Times,serif\" font-size=\"14.00\" text-anchor=\"middle\" x=\"234.5\" y=\"-174.3\">(?, 300)</text>\n",
       "</g>\n",
       "<!-- 139924556376440&#45;&gt;139924556475080 -->\n",
       "<g class=\"edge\" id=\"edge2\">\n",
       "<title>139924556376440-&gt;139924556475080</title>\n",
       "<path d=\"M152.5,-249.3799C152.5,-241.1745 152.5,-231.7679 152.5,-222.8786\" fill=\"none\" stroke=\"#000000\"/>\n",
       "<polygon fill=\"#000000\" points=\"156.0001,-222.784 152.5,-212.784 149.0001,-222.784 156.0001,-222.784\" stroke=\"#000000\"/>\n",
       "</g>\n",
       "<!-- 139923324527560 -->\n",
       "<g class=\"node\" id=\"node4\">\n",
       "<title>139923324527560</title>\n",
       "<polygon fill=\"none\" points=\"41,-83.5 41,-129.5 264,-129.5 264,-83.5 41,-83.5\" stroke=\"#000000\"/>\n",
       "<text fill=\"#000000\" font-family=\"Times,serif\" font-size=\"14.00\" text-anchor=\"middle\" x=\"95.5\" y=\"-102.8\">dense_14: Dense</text>\n",
       "<polyline fill=\"none\" points=\"150,-83.5 150,-129.5 \" stroke=\"#000000\"/>\n",
       "<text fill=\"#000000\" font-family=\"Times,serif\" font-size=\"14.00\" text-anchor=\"middle\" x=\"177.5\" y=\"-114.3\">input:</text>\n",
       "<polyline fill=\"none\" points=\"150,-106.5 205,-106.5 \" stroke=\"#000000\"/>\n",
       "<text fill=\"#000000\" font-family=\"Times,serif\" font-size=\"14.00\" text-anchor=\"middle\" x=\"177.5\" y=\"-91.3\">output:</text>\n",
       "<polyline fill=\"none\" points=\"205,-83.5 205,-129.5 \" stroke=\"#000000\"/>\n",
       "<text fill=\"#000000\" font-family=\"Times,serif\" font-size=\"14.00\" text-anchor=\"middle\" x=\"234.5\" y=\"-114.3\">(?, 300)</text>\n",
       "<polyline fill=\"none\" points=\"205,-106.5 264,-106.5 \" stroke=\"#000000\"/>\n",
       "<text fill=\"#000000\" font-family=\"Times,serif\" font-size=\"14.00\" text-anchor=\"middle\" x=\"234.5\" y=\"-91.3\">(?, 100)</text>\n",
       "</g>\n",
       "<!-- 139924556475080&#45;&gt;139923324527560 -->\n",
       "<g class=\"edge\" id=\"edge3\">\n",
       "<title>139924556475080-&gt;139923324527560</title>\n",
       "<path d=\"M152.5,-166.3799C152.5,-158.1745 152.5,-148.7679 152.5,-139.8786\" fill=\"none\" stroke=\"#000000\"/>\n",
       "<polygon fill=\"#000000\" points=\"156.0001,-139.784 152.5,-129.784 149.0001,-139.784 156.0001,-139.784\" stroke=\"#000000\"/>\n",
       "</g>\n",
       "<!-- 139923324527280 -->\n",
       "<g class=\"node\" id=\"node5\">\n",
       "<title>139923324527280</title>\n",
       "<polygon fill=\"none\" points=\"41,-.5 41,-46.5 264,-46.5 264,-.5 41,-.5\" stroke=\"#000000\"/>\n",
       "<text fill=\"#000000\" font-family=\"Times,serif\" font-size=\"14.00\" text-anchor=\"middle\" x=\"95.5\" y=\"-19.8\">dense_15: Dense</text>\n",
       "<polyline fill=\"none\" points=\"150,-.5 150,-46.5 \" stroke=\"#000000\"/>\n",
       "<text fill=\"#000000\" font-family=\"Times,serif\" font-size=\"14.00\" text-anchor=\"middle\" x=\"177.5\" y=\"-31.3\">input:</text>\n",
       "<polyline fill=\"none\" points=\"150,-23.5 205,-23.5 \" stroke=\"#000000\"/>\n",
       "<text fill=\"#000000\" font-family=\"Times,serif\" font-size=\"14.00\" text-anchor=\"middle\" x=\"177.5\" y=\"-8.3\">output:</text>\n",
       "<polyline fill=\"none\" points=\"205,-.5 205,-46.5 \" stroke=\"#000000\"/>\n",
       "<text fill=\"#000000\" font-family=\"Times,serif\" font-size=\"14.00\" text-anchor=\"middle\" x=\"234.5\" y=\"-31.3\">(?, 100)</text>\n",
       "<polyline fill=\"none\" points=\"205,-23.5 264,-23.5 \" stroke=\"#000000\"/>\n",
       "<text fill=\"#000000\" font-family=\"Times,serif\" font-size=\"14.00\" text-anchor=\"middle\" x=\"234.5\" y=\"-8.3\">(?, 10)</text>\n",
       "</g>\n",
       "<!-- 139923324527560&#45;&gt;139923324527280 -->\n",
       "<g class=\"edge\" id=\"edge4\">\n",
       "<title>139923324527560-&gt;139923324527280</title>\n",
       "<path d=\"M152.5,-83.3799C152.5,-75.1745 152.5,-65.7679 152.5,-56.8786\" fill=\"none\" stroke=\"#000000\"/>\n",
       "<polygon fill=\"#000000\" points=\"156.0001,-56.784 152.5,-46.784 149.0001,-56.784 156.0001,-56.784\" stroke=\"#000000\"/>\n",
       "</g>\n",
       "</g>\n",
       "</svg>"
      ],
      "text/plain": [
       "<IPython.core.display.SVG object>"
      ]
     },
     "execution_count": 91,
     "metadata": {},
     "output_type": "execute_result"
    }
   ],
   "source": [
    "from IPython.display import SVG\n",
    "from tensorflow.python.keras.utils.vis_utils import model_to_dot\n",
    "SVG(model_to_dot(model, show_shapes=True).create(prog='dot', format='svg'))"
   ]
  },
  {
   "cell_type": "markdown",
   "metadata": {},
   "source": [
    "### 2.4)\n",
    "After a model is created, you must call its `compile()` method to specify the `loss` function and the `optimizer` to use. In this case, you want to use the `\"sparse_categorical_crossentropy\"` loss, and the `keras.optimizers.SGD(lr=1e-3)` optimizer (stochastic gradient descent with learning rate of 1e-3). Moreover, you can optionally specify a list of additional metrics that should be measured during training. In this case you should specify `metrics=[\"accuracy\"]`. **Note**: you can find more loss functions in `keras.losses`, more metrics in `keras.metrics` and more optimizers in `keras.optimizers`."
   ]
  },
  {
   "cell_type": "code",
   "execution_count": 92,
   "metadata": {},
   "outputs": [],
   "source": [
    "model.compile(loss=\"sparse_categorical_crossentropy\",\n",
    "              optimizer=keras.optimizers.SGD(lr=1e-3),\n",
    "              metrics=[\"accuracy\"])"
   ]
  },
  {
   "cell_type": "markdown",
   "metadata": {},
   "source": [
    "### 2.5)\n",
    "Now your model is ready to be trained. Call its `fit()` method, passing it the input features (`X_train`) and the target classes (`y_train`). Set `epochs=10` (or else it will just run for a single epoch). You can also (optionally) pass the validation data by setting `validation_data=(X_valid, y_valid)`. If you do, Keras will compute the loss and the additional metrics (the accuracy in this case) on the validation set at the end of each epoch. If the performance on the training set is much better than on the validation set, your model is probably overfitting the training set (or there is a bug, such as a mismatch between the training set and the validation set).\n",
    "**Note**: the `fit()` method will return a `History` object containing training stats. Make sure to preserve it (`history = model.fit(...)`)."
   ]
  },
  {
   "cell_type": "code",
   "execution_count": null,
   "metadata": {},
   "outputs": [],
   "source": [
    "history = model.fit(X_train, y_train, epochs=10,\n",
    "                    validation_data=(X_valid, y_valid))"
   ]
  },
  {
   "cell_type": "markdown",
   "metadata": {},
   "source": [
    "### 2.6)\n",
    "Try running `pd.DataFrame(history.history).plot()` to plot the learning curves. To make the graph more readable, you can also set `figsize=(8, 5)`, call `plt.grid(True)` and `plt.gca().set_ylim(0, 1)`."
   ]
  },
  {
   "cell_type": "code",
   "execution_count": 104,
   "metadata": {},
   "outputs": [],
   "source": [
    "def plot_learning_curves(history):\n",
    "    pd.DataFrame(history.history).plot(figsize=(8, 5))\n",
    "    plt.grid(True)\n",
    "    plt.gca().set_ylim(0, 1)\n",
    "    plt.show()"
   ]
  },
  {
   "cell_type": "code",
   "execution_count": null,
   "metadata": {},
   "outputs": [],
   "source": [
    "plot_learning_curves(history)"
   ]
  },
  {
   "cell_type": "markdown",
   "metadata": {},
   "source": [
    "### 2.7)\n",
    "Try running `model.fit()` again, and notice that training continues where it left off."
   ]
  },
  {
   "cell_type": "code",
   "execution_count": null,
   "metadata": {},
   "outputs": [],
   "source": [
    "history = model.fit(X_train, y_train, epochs=10,\n",
    "                    validation_data=(X_valid, y_valid))"
   ]
  },
  {
   "cell_type": "markdown",
   "metadata": {},
   "source": [
    "### 2.8)\n",
    "Call the model's `evaluate()` method, passing it the test set (`X_test` and `y_test`). This will compute the loss (cross-entropy) on the test set, as well as all the additional metrics (in this case, the accuracy). Your model should achieve over 80% accuracy on the test set."
   ]
  },
  {
   "cell_type": "code",
   "execution_count": null,
   "metadata": {},
   "outputs": [],
   "source": [
    "model.evaluate(X_test, y_test)"
   ]
  },
  {
   "cell_type": "markdown",
   "metadata": {},
   "source": [
    "### 2.9)\n",
    "Define `X_new` as the first 10 instances of the test set. Call the model's `predict()` method to estimate the probability of each class for each instance (for better readability, you may use the output array's `round()` method):"
   ]
  },
  {
   "cell_type": "code",
   "execution_count": null,
   "metadata": {},
   "outputs": [],
   "source": [
    "n_new = 10\n",
    "X_new = X_test[:n_new]\n",
    "y_proba = model.predict(X_new)\n",
    "y_proba.round(2)"
   ]
  },
  {
   "cell_type": "markdown",
   "metadata": {},
   "source": [
    "### 2.10)\n",
    "Often, you may only be interested in the most likely class. Use `np.argmax()` to get the class ID of the most likely class for each instance. **Tip**: you want to set `axis=1`."
   ]
  },
  {
   "cell_type": "code",
   "execution_count": null,
   "metadata": {},
   "outputs": [],
   "source": [
    "y_pred = y_proba.argmax(axis=1)\n",
    "y_pred"
   ]
  },
  {
   "cell_type": "markdown",
   "metadata": {},
   "source": [
    "### 2.11)\n",
    "Call the model's `predict_classes()` method for `X_new`. You should get the same result as above."
   ]
  },
  {
   "cell_type": "code",
   "execution_count": null,
   "metadata": {},
   "outputs": [],
   "source": [
    "y_pred = model.predict_classes(X_new)\n",
    "y_pred"
   ]
  },
  {
   "cell_type": "markdown",
   "metadata": {},
   "source": [
    "### 2.12)\n",
    "(Optional) It is often useful to know how confident the model is for each prediction. Try finding the estimated probability for each predicted class using `np.max()`."
   ]
  },
  {
   "cell_type": "code",
   "execution_count": null,
   "metadata": {},
   "outputs": [],
   "source": [
    "y_proba.max(axis=1).round(2)"
   ]
  },
  {
   "cell_type": "markdown",
   "metadata": {},
   "source": [
    "### 2.13)\n",
    "(Optional) It is frequent to want the top k classes and their estimated probabilities rather just the most likely class. You can use `np.argsort()` for this."
   ]
  },
  {
   "cell_type": "code",
   "execution_count": null,
   "metadata": {},
   "outputs": [],
   "source": [
    "k = 3\n",
    "top_k = np.argsort(-y_proba, axis=1)[:, :k]\n",
    "top_k"
   ]
  },
  {
   "cell_type": "code",
   "execution_count": null,
   "metadata": {},
   "outputs": [],
   "source": [
    "row_indices = np.tile(np.arange(len(top_k)), [k, 1]).T\n",
    "y_proba[row_indices, top_k].round(2)"
   ]
  },
  {
   "cell_type": "markdown",
   "metadata": {},
   "source": [
    "![Exercise](https://c1.staticflickr.com/9/8101/8553474140_c50cf08708_b.jpg)"
   ]
  },
  {
   "cell_type": "markdown",
   "metadata": {},
   "source": [
    "## Exercise 3 – Scale the features"
   ]
  },
  {
   "cell_type": "markdown",
   "metadata": {},
   "source": [
    "### 3.1)\n",
    "When using Gradient Descent, it is usually best to ensure that the features all have a similar scale, preferably with a Normal distribution. Try to standardize the pixel values and see if this improves the performance of your neural network.\n",
    "\n",
    "**Tips**:\n",
    "* For each feature (pixel intensity), you must subtract the `mean()` of that feature (across all instances, so use `axis=0`) and divide by its standard deviation (`std()`, again `axis=0`). Alternatively, you can use Scikit-Learn's `StandardScaler`.\n",
    "* Make sure you compute the means and standard deviations on the training set, and use these statistics to scale the training set, the validation set and the test set (you should not fit the validation set or the test set, and computing the means and standard deviations counts as \"fitting\")."
   ]
  },
  {
   "cell_type": "code",
   "execution_count": null,
   "metadata": {},
   "outputs": [],
   "source": []
  },
  {
   "cell_type": "code",
   "execution_count": null,
   "metadata": {},
   "outputs": [],
   "source": []
  },
  {
   "cell_type": "code",
   "execution_count": null,
   "metadata": {},
   "outputs": [],
   "source": []
  },
  {
   "cell_type": "markdown",
   "metadata": {},
   "source": [
    "### 3.2)\n",
    "Plot the learning curves. Do they look better than earlier?"
   ]
  },
  {
   "cell_type": "code",
   "execution_count": null,
   "metadata": {},
   "outputs": [],
   "source": []
  },
  {
   "cell_type": "code",
   "execution_count": null,
   "metadata": {},
   "outputs": [],
   "source": []
  },
  {
   "cell_type": "code",
   "execution_count": null,
   "metadata": {},
   "outputs": [],
   "source": []
  },
  {
   "cell_type": "markdown",
   "metadata": {},
   "source": [
    "![Exercise solution](https://camo.githubusercontent.com/250388fde3fac9135ead9471733ee28e049f7a37/68747470733a2f2f75706c6f61642e77696b696d656469612e6f72672f77696b6970656469612f636f6d6d6f6e732f302f30362f46696c6f735f736567756e646f5f6c6f676f5f253238666c69707065642532392e6a7067)"
   ]
  },
  {
   "cell_type": "markdown",
   "metadata": {},
   "source": [
    "## Exercise 3 – Solution"
   ]
  },
  {
   "cell_type": "markdown",
   "metadata": {},
   "source": [
    "### 3.1)\n",
    "When using Gradient Descent, it is usually best to ensure that the features all have a similar scale, preferably with a Normal distribution. Try to standardize the pixel values and see if this improves the performance of your neural network."
   ]
  },
  {
   "cell_type": "code",
   "execution_count": 100,
   "metadata": {},
   "outputs": [],
   "source": [
    "pixel_means = X_train.mean(axis = 0)\n",
    "pixel_stds = X_train.std(axis = 0)\n",
    "X_train_scaled = (X_train - pixel_means) / pixel_stds\n",
    "X_valid_scaled = (X_valid - pixel_means) / pixel_stds\n",
    "X_test_scaled = (X_test - pixel_means) / pixel_stds"
   ]
  },
  {
   "cell_type": "code",
   "execution_count": 101,
   "metadata": {},
   "outputs": [],
   "source": [
    "from sklearn.preprocessing import StandardScaler\n",
    "\n",
    "scaler = StandardScaler()\n",
    "X_train_scaled = scaler.fit_transform(X_train.astype(np.float32).reshape(-1, 28 * 28)).reshape(-1, 28, 28)\n",
    "X_valid_scaled = scaler.transform(X_valid.astype(np.float32).reshape(-1, 28 * 28)).reshape(-1, 28, 28)\n",
    "X_test_scaled = scaler.transform(X_test.astype(np.float32).reshape(-1, 28 * 28)).reshape(-1, 28, 28)"
   ]
  },
  {
   "cell_type": "code",
   "execution_count": 102,
   "metadata": {},
   "outputs": [
    {
     "name": "stdout",
     "output_type": "stream",
     "text": [
      "Train on 55000 samples, validate on 5000 samples\n",
      "Epoch 1/20\n",
      "55000/55000 [==============================] - 3s 59us/sample - loss: 0.9373 - accuracy: 0.6893 - val_loss: 0.6369 - val_accuracy: 0.7756\n",
      "Epoch 2/20\n",
      "55000/55000 [==============================] - 3s 55us/sample - loss: 0.5836 - accuracy: 0.7938 - val_loss: 0.5317 - val_accuracy: 0.8092\n",
      "Epoch 3/20\n",
      "55000/55000 [==============================] - 3s 56us/sample - loss: 0.5097 - accuracy: 0.8203 - val_loss: 0.4838 - val_accuracy: 0.8270\n",
      "Epoch 4/20\n",
      "55000/55000 [==============================] - 3s 55us/sample - loss: 0.4698 - accuracy: 0.8343 - val_loss: 0.4554 - val_accuracy: 0.8380\n",
      "Epoch 5/20\n",
      "55000/55000 [==============================] - 3s 55us/sample - loss: 0.4433 - accuracy: 0.8431 - val_loss: 0.4358 - val_accuracy: 0.8476\n",
      "Epoch 6/20\n",
      "55000/55000 [==============================] - 3s 55us/sample - loss: 0.4240 - accuracy: 0.8499 - val_loss: 0.4207 - val_accuracy: 0.8528\n",
      "Epoch 7/20\n",
      "55000/55000 [==============================] - 3s 56us/sample - loss: 0.4087 - accuracy: 0.8550 - val_loss: 0.4097 - val_accuracy: 0.8548\n",
      "Epoch 8/20\n",
      "55000/55000 [==============================] - 3s 56us/sample - loss: 0.3962 - accuracy: 0.8595 - val_loss: 0.4007 - val_accuracy: 0.8564\n",
      "Epoch 9/20\n",
      "55000/55000 [==============================] - 3s 55us/sample - loss: 0.3857 - accuracy: 0.8634 - val_loss: 0.3939 - val_accuracy: 0.8606\n",
      "Epoch 10/20\n",
      "55000/55000 [==============================] - 3s 56us/sample - loss: 0.3767 - accuracy: 0.8664 - val_loss: 0.3885 - val_accuracy: 0.8618\n",
      "Epoch 11/20\n",
      "55000/55000 [==============================] - 3s 56us/sample - loss: 0.3688 - accuracy: 0.8695 - val_loss: 0.3810 - val_accuracy: 0.8632\n",
      "Epoch 12/20\n",
      "55000/55000 [==============================] - 3s 56us/sample - loss: 0.3612 - accuracy: 0.8723 - val_loss: 0.3758 - val_accuracy: 0.8654\n",
      "Epoch 13/20\n",
      "55000/55000 [==============================] - 3s 56us/sample - loss: 0.3548 - accuracy: 0.8747 - val_loss: 0.3746 - val_accuracy: 0.8688\n",
      "Epoch 14/20\n",
      "55000/55000 [==============================] - 3s 56us/sample - loss: 0.3490 - accuracy: 0.8775 - val_loss: 0.3685 - val_accuracy: 0.8674\n",
      "Epoch 15/20\n",
      "55000/55000 [==============================] - 3s 57us/sample - loss: 0.3433 - accuracy: 0.8795 - val_loss: 0.3680 - val_accuracy: 0.8694\n",
      "Epoch 16/20\n",
      "55000/55000 [==============================] - 3s 57us/sample - loss: 0.3382 - accuracy: 0.8810 - val_loss: 0.3624 - val_accuracy: 0.8718\n",
      "Epoch 17/20\n",
      "55000/55000 [==============================] - 3s 57us/sample - loss: 0.3333 - accuracy: 0.8822 - val_loss: 0.3584 - val_accuracy: 0.8738\n",
      "Epoch 18/20\n",
      "55000/55000 [==============================] - 3s 56us/sample - loss: 0.3287 - accuracy: 0.8837 - val_loss: 0.3578 - val_accuracy: 0.8748\n",
      "Epoch 19/20\n",
      "55000/55000 [==============================] - 3s 56us/sample - loss: 0.3243 - accuracy: 0.8864 - val_loss: 0.3535 - val_accuracy: 0.8754\n",
      "Epoch 20/20\n",
      "55000/55000 [==============================] - 3s 55us/sample - loss: 0.3201 - accuracy: 0.8872 - val_loss: 0.3532 - val_accuracy: 0.8766\n"
     ]
    }
   ],
   "source": [
    "model = keras.models.Sequential([\n",
    "    keras.layers.Flatten(input_shape=[28, 28]),\n",
    "    keras.layers.Dense(300, activation=\"relu\"),\n",
    "    keras.layers.Dense(100, activation=\"relu\"),\n",
    "    keras.layers.Dense(10, activation=\"softmax\")\n",
    "])\n",
    "model.compile(loss=\"sparse_categorical_crossentropy\",\n",
    "              optimizer=keras.optimizers.SGD(1e-3), metrics=[\"accuracy\"])\n",
    "history = model.fit(X_train_scaled, y_train, epochs=20,\n",
    "                    validation_data=(X_valid_scaled, y_valid))"
   ]
  },
  {
   "cell_type": "code",
   "execution_count": 103,
   "metadata": {},
   "outputs": [
    {
     "name": "stdout",
     "output_type": "stream",
     "text": [
      "10000/10000 [==============================] - 0s 31us/sample - loss: 0.3894 - accuracy: 0.8617\n"
     ]
    },
    {
     "data": {
      "text/plain": [
       "[0.3893868810892105, 0.8617]"
      ]
     },
     "execution_count": 103,
     "metadata": {},
     "output_type": "execute_result"
    }
   ],
   "source": [
    "model.evaluate(X_test_scaled, y_test)"
   ]
  },
  {
   "cell_type": "markdown",
   "metadata": {},
   "source": [
    "### 3.2)\n",
    "Plot the learning curves. Do they look better than earlier?"
   ]
  },
  {
   "cell_type": "code",
   "execution_count": 105,
   "metadata": {
    "scrolled": true
   },
   "outputs": [
    {
     "data": {
      "image/png": "[encoded data removed]",
      "text/plain": [
       "<Figure size 576x360 with 1 Axes>"
      ]
     },
     "metadata": {
      "needs_background": "light"
     },
     "output_type": "display_data"
    }
   ],
   "source": [
    "plot_learning_curves(history)"
   ]
  },
  {
   "cell_type": "markdown",
   "metadata": {},
   "source": [
    "![Exercise](https://c1.staticflickr.com/9/8101/8553474140_c50cf08708_b.jpg)"
   ]
  },
  {
   "cell_type": "markdown",
   "metadata": {},
   "source": [
    "## Exercise 4 – Use Callbacks"
   ]
  },
  {
   "cell_type": "markdown",
   "metadata": {},
   "source": [
    "### 4.1)\n",
    "The `fit()` method accepts a `callbacks` argument. Try training your model with a large number of epochs, a validation set, and with a few callbacks from `keras.callbacks`:\n",
    "* `TensorBoard`: specify a log directory. It should be a subdirectory of a root logdir, such as `./my_logs/run_1`, and it should be different every time you train your model. You can use a timestamp in the subdirectory's path to ensure that it changes at every run.\n",
    "* `EarlyStopping`: specify `patience=5`\n",
    "* `ModelCheckpoint`: specify the path of the checkpoint file to save (e.g., `\"my_mnist_model.h5\"`) and set `save_best_only=True`\n",
    "\n",
    "Notice that the `EarlyStopping` callback will interrupt training before it reaches the requested number of epochs. This reduces the risk of overfitting."
   ]
  },
  {
   "cell_type": "code",
   "execution_count": null,
   "metadata": {},
   "outputs": [],
   "source": []
  },
  {
   "cell_type": "code",
   "execution_count": null,
   "metadata": {},
   "outputs": [],
   "source": []
  },
  {
   "cell_type": "code",
   "execution_count": null,
   "metadata": {},
   "outputs": [],
   "source": []
  },
  {
   "cell_type": "code",
   "execution_count": 108,
   "metadata": {},
   "outputs": [],
   "source": [
    "root_logdir = os.path.join(os.curdir, \"my_logs\")"
   ]
  },
  {
   "cell_type": "markdown",
   "metadata": {},
   "source": [
    "### 4.2)\n",
    "The Jupyter plugin for tensorboard was loaded at the beginning of this notebook (`%load_ext tensorboard`), so you can now simply start it by using the `%tensorboard` magic command. Explore the various tabs available, in particular the SCALARS tab to view learning curves, the GRAPHS tab to view the computation graph, and the PROFILE tab which is very useful to identify bottlenecks if you run into performance issues."
   ]
  },
  {
   "cell_type": "code",
   "execution_count": null,
   "metadata": {},
   "outputs": [],
   "source": [
    "%tensorboard --logdir=./my_logs"
   ]
  },
  {
   "cell_type": "markdown",
   "metadata": {},
   "source": [
    "### 4.3)\n",
    "The early stopping callback only stopped training after 10 epochs without progress, so your model may already have started to overfit the training set. Fortunately, since the `ModelCheckpoint` callback only saved the best models (on the validation set), the last saved model is the best on the validation set, so try loading it using `keras.models.load_model()`. Finally evaluate it on the test set."
   ]
  },
  {
   "cell_type": "code",
   "execution_count": null,
   "metadata": {},
   "outputs": [],
   "source": []
  },
  {
   "cell_type": "code",
   "execution_count": null,
   "metadata": {},
   "outputs": [],
   "source": []
  },
  {
   "cell_type": "code",
   "execution_count": null,
   "metadata": {},
   "outputs": [],
   "source": []
  },
  {
   "cell_type": "markdown",
   "metadata": {},
   "source": [
    "### 4.4)\n",
    "Look at the list of available callbacks at https://keras.io/callbacks/"
   ]
  },
  {
   "cell_type": "code",
   "execution_count": null,
   "metadata": {},
   "outputs": [],
   "source": []
  },
  {
   "cell_type": "code",
   "execution_count": null,
   "metadata": {},
   "outputs": [],
   "source": []
  },
  {
   "cell_type": "code",
   "execution_count": null,
   "metadata": {},
   "outputs": [],
   "source": []
  },
  {
   "cell_type": "markdown",
   "metadata": {},
   "source": [
    "![Exercise solution](https://camo.githubusercontent.com/250388fde3fac9135ead9471733ee28e049f7a37/68747470733a2f2f75706c6f61642e77696b696d656469612e6f72672f77696b6970656469612f636f6d6d6f6e732f302f30362f46696c6f735f736567756e646f5f6c6f676f5f253238666c69707065642532392e6a7067)"
   ]
  },
  {
   "cell_type": "markdown",
   "metadata": {},
   "source": [
    "## Exercise 4 – Solution"
   ]
  },
  {
   "cell_type": "markdown",
   "metadata": {},
   "source": [
    "### 4.1)\n",
    "The `fit()` method accepts a `callbacks` argument. Try training your model with a large number of epochs, a validation set, and with a few callbacks from `keras.callbacks`:\n",
    "* `TensorBoard`: specify a log directory. It should be a subdirectory of a root logdir, such as `./my_logs/run_1`, and it should be different every time you train your model. You can use a timestamp in the subdirectory's path to ensure that it changes at every run.\n",
    "* `EarlyStopping`: specify `patience=5`\n",
    "* `ModelCheckpoint`: specify the path of the checkpoint file to save (e.g., `\"my_mnist_model.h5\"`) and set `save_best_only=True`\n",
    "\n",
    "Notice that the `EarlyStopping` callback will interrupt training before it reaches the requested number of epochs. This reduces the risk of overfitting."
   ]
  },
  {
   "cell_type": "code",
   "execution_count": 106,
   "metadata": {},
   "outputs": [],
   "source": [
    "model = keras.models.Sequential([\n",
    "    keras.layers.Flatten(input_shape=[28, 28]),\n",
    "    keras.layers.Dense(300, activation=\"relu\"),\n",
    "    keras.layers.Dense(100, activation=\"relu\"),\n",
    "    keras.layers.Dense(10, activation=\"softmax\")\n",
    "])\n",
    "model.compile(loss=\"sparse_categorical_crossentropy\",\n",
    "              optimizer=keras.optimizers.SGD(1e-3), metrics=[\"accuracy\"])"
   ]
  },
  {
   "cell_type": "code",
   "execution_count": 109,
   "metadata": {},
   "outputs": [
    {
     "name": "stdout",
     "output_type": "stream",
     "text": [
      "Train on 55000 samples, validate on 5000 samples\n",
      "Epoch 1/50\n",
      "55000/55000 [==============================] - 3s 58us/sample - loss: 0.9723 - accuracy: 0.6867 - val_loss: 0.6322 - val_accuracy: 0.7882\n",
      "Epoch 2/50\n",
      "55000/55000 [==============================] - 3s 57us/sample - loss: 0.5845 - accuracy: 0.7981 - val_loss: 0.5264 - val_accuracy: 0.8198\n",
      "Epoch 3/50\n",
      "55000/55000 [==============================] - 3s 55us/sample - loss: 0.5079 - accuracy: 0.8222 - val_loss: 0.4797 - val_accuracy: 0.8382\n",
      "Epoch 4/50\n",
      "55000/55000 [==============================] - 3s 55us/sample - loss: 0.4673 - accuracy: 0.8353 - val_loss: 0.4531 - val_accuracy: 0.8470\n",
      "Epoch 5/50\n",
      "55000/55000 [==============================] - 3s 55us/sample - loss: 0.4409 - accuracy: 0.8444 - val_loss: 0.4332 - val_accuracy: 0.8530\n",
      "Epoch 6/50\n",
      "55000/55000 [==============================] - 3s 56us/sample - loss: 0.4212 - accuracy: 0.8504 - val_loss: 0.4211 - val_accuracy: 0.8556\n",
      "Epoch 7/50\n",
      "55000/55000 [==============================] - 3s 55us/sample - loss: 0.4057 - accuracy: 0.8562 - val_loss: 0.4088 - val_accuracy: 0.8590\n",
      "Epoch 8/50\n",
      "55000/55000 [==============================] - 3s 55us/sample - loss: 0.3930 - accuracy: 0.8608 - val_loss: 0.3998 - val_accuracy: 0.8616\n",
      "Epoch 9/50\n",
      "55000/55000 [==============================] - 3s 57us/sample - loss: 0.3821 - accuracy: 0.8641 - val_loss: 0.3940 - val_accuracy: 0.8620\n",
      "Epoch 10/50\n",
      "55000/55000 [==============================] - 3s 57us/sample - loss: 0.3727 - accuracy: 0.8682 - val_loss: 0.3876 - val_accuracy: 0.8656\n",
      "Epoch 11/50\n",
      "55000/55000 [==============================] - 3s 56us/sample - loss: 0.3644 - accuracy: 0.8710 - val_loss: 0.3834 - val_accuracy: 0.8668\n",
      "Epoch 12/50\n",
      "55000/55000 [==============================] - 3s 56us/sample - loss: 0.3571 - accuracy: 0.8734 - val_loss: 0.3779 - val_accuracy: 0.8694\n",
      "Epoch 13/50\n",
      "55000/55000 [==============================] - 3s 57us/sample - loss: 0.3505 - accuracy: 0.8763 - val_loss: 0.3737 - val_accuracy: 0.8688\n",
      "Epoch 14/50\n",
      "55000/55000 [==============================] - 3s 56us/sample - loss: 0.3442 - accuracy: 0.8783 - val_loss: 0.3705 - val_accuracy: 0.8720\n",
      "Epoch 15/50\n",
      "55000/55000 [==============================] - 3s 57us/sample - loss: 0.3385 - accuracy: 0.8803 - val_loss: 0.3670 - val_accuracy: 0.8724\n",
      "Epoch 16/50\n",
      "55000/55000 [==============================] - 3s 56us/sample - loss: 0.3333 - accuracy: 0.8818 - val_loss: 0.3640 - val_accuracy: 0.8744\n",
      "Epoch 17/50\n",
      "55000/55000 [==============================] - 3s 56us/sample - loss: 0.3284 - accuracy: 0.8834 - val_loss: 0.3623 - val_accuracy: 0.8744\n",
      "Epoch 18/50\n",
      "55000/55000 [==============================] - 3s 56us/sample - loss: 0.3238 - accuracy: 0.8855 - val_loss: 0.3599 - val_accuracy: 0.8748\n",
      "Epoch 19/50\n",
      "55000/55000 [==============================] - 3s 56us/sample - loss: 0.3194 - accuracy: 0.8869 - val_loss: 0.3560 - val_accuracy: 0.8790\n",
      "Epoch 20/50\n",
      "55000/55000 [==============================] - 3s 57us/sample - loss: 0.3153 - accuracy: 0.8884 - val_loss: 0.3549 - val_accuracy: 0.8776\n",
      "Epoch 21/50\n",
      "55000/55000 [==============================] - 3s 58us/sample - loss: 0.3114 - accuracy: 0.8900 - val_loss: 0.3526 - val_accuracy: 0.8768\n",
      "Epoch 22/50\n",
      "55000/55000 [==============================] - 3s 58us/sample - loss: 0.3077 - accuracy: 0.8908 - val_loss: 0.3489 - val_accuracy: 0.8786\n",
      "Epoch 23/50\n",
      "55000/55000 [==============================] - 3s 57us/sample - loss: 0.3039 - accuracy: 0.8926 - val_loss: 0.3481 - val_accuracy: 0.8780\n",
      "Epoch 24/50\n",
      "55000/55000 [==============================] - 3s 57us/sample - loss: 0.3005 - accuracy: 0.8941 - val_loss: 0.3474 - val_accuracy: 0.8792\n",
      "Epoch 25/50\n",
      "55000/55000 [==============================] - 3s 58us/sample - loss: 0.2972 - accuracy: 0.8948 - val_loss: 0.3462 - val_accuracy: 0.8808\n",
      "Epoch 26/50\n",
      "55000/55000 [==============================] - 3s 60us/sample - loss: 0.2940 - accuracy: 0.8961 - val_loss: 0.3447 - val_accuracy: 0.8784\n",
      "Epoch 27/50\n",
      "55000/55000 [==============================] - 3s 57us/sample - loss: 0.2909 - accuracy: 0.8973 - val_loss: 0.3425 - val_accuracy: 0.8812\n",
      "Epoch 28/50\n",
      "55000/55000 [==============================] - 3s 58us/sample - loss: 0.2876 - accuracy: 0.8983 - val_loss: 0.3404 - val_accuracy: 0.8822\n",
      "Epoch 29/50\n",
      "55000/55000 [==============================] - 3s 58us/sample - loss: 0.2847 - accuracy: 0.8993 - val_loss: 0.3399 - val_accuracy: 0.8816\n",
      "Epoch 30/50\n",
      "55000/55000 [==============================] - 3s 57us/sample - loss: 0.2819 - accuracy: 0.9006 - val_loss: 0.3387 - val_accuracy: 0.8832\n",
      "Epoch 31/50\n",
      "55000/55000 [==============================] - 3s 58us/sample - loss: 0.2791 - accuracy: 0.9014 - val_loss: 0.3382 - val_accuracy: 0.8846\n",
      "Epoch 32/50\n",
      "55000/55000 [==============================] - 3s 56us/sample - loss: 0.2763 - accuracy: 0.9029 - val_loss: 0.3377 - val_accuracy: 0.8820\n",
      "Epoch 33/50\n",
      "55000/55000 [==============================] - 3s 57us/sample - loss: 0.2737 - accuracy: 0.9040 - val_loss: 0.3389 - val_accuracy: 0.8842\n",
      "Epoch 34/50\n",
      "55000/55000 [==============================] - 3s 56us/sample - loss: 0.2708 - accuracy: 0.9045 - val_loss: 0.3351 - val_accuracy: 0.8838\n",
      "Epoch 35/50\n",
      "55000/55000 [==============================] - 3s 56us/sample - loss: 0.2687 - accuracy: 0.9049 - val_loss: 0.3336 - val_accuracy: 0.8824\n",
      "Epoch 36/50\n",
      "55000/55000 [==============================] - 3s 57us/sample - loss: 0.2660 - accuracy: 0.9061 - val_loss: 0.3323 - val_accuracy: 0.8840\n",
      "Epoch 37/50\n",
      "55000/55000 [==============================] - 3s 57us/sample - loss: 0.2635 - accuracy: 0.9072 - val_loss: 0.3337 - val_accuracy: 0.8856\n",
      "Epoch 38/50\n",
      "55000/55000 [==============================] - 3s 57us/sample - loss: 0.2612 - accuracy: 0.9084 - val_loss: 0.3329 - val_accuracy: 0.8846\n",
      "Epoch 39/50\n",
      "55000/55000 [==============================] - 3s 57us/sample - loss: 0.2588 - accuracy: 0.9089 - val_loss: 0.3318 - val_accuracy: 0.8848\n",
      "Epoch 40/50\n",
      "55000/55000 [==============================] - 3s 58us/sample - loss: 0.2565 - accuracy: 0.9096 - val_loss: 0.3296 - val_accuracy: 0.8858\n",
      "Epoch 41/50\n",
      "55000/55000 [==============================] - 3s 57us/sample - loss: 0.2542 - accuracy: 0.9105 - val_loss: 0.3285 - val_accuracy: 0.8860\n",
      "Epoch 42/50\n",
      "55000/55000 [==============================] - 3s 57us/sample - loss: 0.2520 - accuracy: 0.9119 - val_loss: 0.3300 - val_accuracy: 0.8850\n",
      "Epoch 43/50\n",
      "55000/55000 [==============================] - 3s 57us/sample - loss: 0.2498 - accuracy: 0.9125 - val_loss: 0.3291 - val_accuracy: 0.8870\n",
      "Epoch 44/50\n",
      "55000/55000 [==============================] - 3s 57us/sample - loss: 0.2476 - accuracy: 0.9122 - val_loss: 0.3283 - val_accuracy: 0.8884\n",
      "Epoch 45/50\n",
      "55000/55000 [==============================] - 3s 58us/sample - loss: 0.2455 - accuracy: 0.9135 - val_loss: 0.3271 - val_accuracy: 0.8880\n",
      "Epoch 46/50\n",
      "55000/55000 [==============================] - 3s 57us/sample - loss: 0.2434 - accuracy: 0.9145 - val_loss: 0.3276 - val_accuracy: 0.8880\n",
      "Epoch 47/50\n",
      "55000/55000 [==============================] - 3s 58us/sample - loss: 0.2413 - accuracy: 0.9149 - val_loss: 0.3270 - val_accuracy: 0.8886\n",
      "Epoch 48/50\n",
      "55000/55000 [==============================] - 3s 57us/sample - loss: 0.2394 - accuracy: 0.9156 - val_loss: 0.3273 - val_accuracy: 0.8878\n",
      "Epoch 49/50\n",
      "55000/55000 [==============================] - 3s 57us/sample - loss: 0.2373 - accuracy: 0.9165 - val_loss: 0.3248 - val_accuracy: 0.8896\n",
      "Epoch 50/50\n",
      "55000/55000 [==============================] - 3s 57us/sample - loss: 0.2354 - accuracy: 0.9174 - val_loss: 0.3255 - val_accuracy: 0.8886\n"
     ]
    }
   ],
   "source": [
    "logdir = os.path.join(root_logdir, \"run_{}\".format(time.time()))\n",
    "\n",
    "callbacks = [\n",
    "    keras.callbacks.TensorBoard(logdir),\n",
    "    keras.callbacks.EarlyStopping(patience=5),\n",
    "    keras.callbacks.ModelCheckpoint(\"my_mnist_model.h5\", save_best_only=True),\n",
    "]\n",
    "history = model.fit(X_train_scaled, y_train, epochs=50,\n",
    "                    validation_data=(X_valid_scaled, y_valid),\n",
    "                    callbacks=callbacks)"
   ]
  },
  {
   "cell_type": "markdown",
   "metadata": {},
   "source": [
    "### 4.2)\n",
    "Done"
   ]
  },
  {
   "cell_type": "markdown",
   "metadata": {},
   "source": [
    "### 4.3)\n",
    "The early stopping callback only stopped training after 10 epochs without progress, so your model may already have started to overfit the training set. Fortunately, since the `ModelCheckpoint` callback only saved the best models (on the validation set), the last saved model is the best on the validation set, so try loading it using `keras.models.load_model()`. Finally evaluate it on the test set."
   ]
  },
  {
   "cell_type": "code",
   "execution_count": 110,
   "metadata": {},
   "outputs": [],
   "source": [
    "model = keras.models.load_model(\"my_mnist_model.h5\")"
   ]
  },
  {
   "cell_type": "code",
   "execution_count": 111,
   "metadata": {},
   "outputs": [
    {
     "name": "stdout",
     "output_type": "stream",
     "text": [
      "5000/5000 [==============================] - 0s 37us/sample - loss: 0.3248 - accuracy: 0.8896\n"
     ]
    },
    {
     "data": {
      "text/plain": [
       "[0.32479714453220365, 0.8896]"
      ]
     },
     "execution_count": 111,
     "metadata": {},
     "output_type": "execute_result"
    }
   ],
   "source": [
    "model.evaluate(X_valid_scaled, y_valid)"
   ]
  },
  {
   "cell_type": "markdown",
   "metadata": {},
   "source": [
    "### 4.4)\n",
    "Look at the list of available callbacks at https://keras.io/callbacks/"
   ]
  },
  {
   "cell_type": "markdown",
   "metadata": {},
   "source": [
    "![Exercise](https://c1.staticflickr.com/9/8101/8553474140_c50cf08708_b.jpg)"
   ]
  },
  {
   "cell_type": "markdown",
   "metadata": {},
   "source": [
    "## Exercise 5 – A neural net for regression"
   ]
  },
  {
   "cell_type": "markdown",
   "metadata": {},
   "source": [
    "### 5.1)\n",
    "Load the California housing dataset using `sklearn.datasets.fetch_california_housing`. This returns an object with a `DESCR` attribute describing the dataset, a `data` attribute with the input features, and a `target` attribute with the labels. The goal is to predict the price of houses in a district (a census block) given some stats about that district. This is a regression task (predicting values)."
   ]
  },
  {
   "cell_type": "code",
   "execution_count": null,
   "metadata": {},
   "outputs": [],
   "source": []
  },
  {
   "cell_type": "code",
   "execution_count": null,
   "metadata": {},
   "outputs": [],
   "source": []
  },
  {
   "cell_type": "code",
   "execution_count": null,
   "metadata": {},
   "outputs": [],
   "source": []
  },
  {
   "cell_type": "markdown",
   "metadata": {},
   "source": [
    "### 5.2)\n",
    "Split the dataset into a training set, a validation set and a test set using Scikit-Learn's `sklearn.model_selection.train_test_split()` function."
   ]
  },
  {
   "cell_type": "code",
   "execution_count": null,
   "metadata": {},
   "outputs": [],
   "source": []
  },
  {
   "cell_type": "code",
   "execution_count": null,
   "metadata": {},
   "outputs": [],
   "source": []
  },
  {
   "cell_type": "code",
   "execution_count": null,
   "metadata": {},
   "outputs": [],
   "source": []
  },
  {
   "cell_type": "markdown",
   "metadata": {},
   "source": [
    "### 5.3)\n",
    "Scale the input features (e.g., using a `sklearn.preprocessing.StandardScaler`). Once again, don't forget that you should not fit the validation set or the test set, only the training set."
   ]
  },
  {
   "cell_type": "code",
   "execution_count": null,
   "metadata": {},
   "outputs": [],
   "source": []
  },
  {
   "cell_type": "code",
   "execution_count": null,
   "metadata": {},
   "outputs": [],
   "source": []
  },
  {
   "cell_type": "code",
   "execution_count": null,
   "metadata": {},
   "outputs": [],
   "source": []
  },
  {
   "cell_type": "markdown",
   "metadata": {},
   "source": [
    "### 5.4)\n",
    "Now build, train and evaluate a neural network to tackle this problem. Then use it to make predictions on the test set.\n",
    "\n",
    "**Tips**:\n",
    "* Since you are predicting a single value per district (the median house price), there should only be one neuron in the output layer.\n",
    "* Usually for regression tasks you don't want to use any activation function in the output layer (in some cases you may want to use `\"relu\"` or `\"softplus\"` if you want to constrain the predicted values to be positive, or `\"sigmoid\"` or `\"tanh\"` if you want to constrain the predicted values to 0-1 or -1-1).\n",
    "* A good loss function for regression is generally the `\"mean_squared_error\"` (aka `\"mse\"`). When there are many outliers in your dataset, you may prefer to use the `\"mean_absolute_error\"` (aka `\"mae\"`), which is a bit less precise but less sensitive to outliers."
   ]
  },
  {
   "cell_type": "code",
   "execution_count": null,
   "metadata": {},
   "outputs": [],
   "source": []
  },
  {
   "cell_type": "code",
   "execution_count": null,
   "metadata": {},
   "outputs": [],
   "source": []
  },
  {
   "cell_type": "code",
   "execution_count": null,
   "metadata": {},
   "outputs": [],
   "source": []
  },
  {
   "cell_type": "markdown",
   "metadata": {},
   "source": [
    "![Exercise solution](https://camo.githubusercontent.com/250388fde3fac9135ead9471733ee28e049f7a37/68747470733a2f2f75706c6f61642e77696b696d656469612e6f72672f77696b6970656469612f636f6d6d6f6e732f302f30362f46696c6f735f736567756e646f5f6c6f676f5f253238666c69707065642532392e6a7067)"
   ]
  },
  {
   "cell_type": "markdown",
   "metadata": {},
   "source": [
    "## Exercise 5 – Solution"
   ]
  },
  {
   "cell_type": "markdown",
   "metadata": {},
   "source": [
    "### 5.1)\n",
    "Load the California housing dataset using `sklearn.datasets.fetch_california_housing`. This returns an object with a `DESCR` attribute describing the dataset, a `data` attribute with the input features, and a `target` attribute with the labels. The goal is to predict the price of houses in a district (a census block) given some stats about that district. This is a regression task (predicting values)."
   ]
  },
  {
   "cell_type": "code",
   "execution_count": 112,
   "metadata": {},
   "outputs": [
    {
     "name": "stderr",
     "output_type": "stream",
     "text": [
      "Downloading Cal. housing from https://ndownloader.figshare.com/files/5976036 to /home/yang/scikit_learn_data\n",
      "I0623 21:21:15.703314 139926126585664 california_housing.py:114] Downloading Cal. housing from https://ndownloader.figshare.com/files/5976036 to /home/yang/scikit_learn_data\n"
     ]
    }
   ],
   "source": [
    "from sklearn.datasets import fetch_california_housing\n",
    "housing = fetch_california_housing()"
   ]
  },
  {
   "cell_type": "code",
   "execution_count": 113,
   "metadata": {},
   "outputs": [
    {
     "name": "stdout",
     "output_type": "stream",
     "text": [
      ".. _california_housing_dataset:\n",
      "\n",
      "California Housing dataset\n",
      "--------------------------\n",
      "\n",
      "**Data Set Characteristics:**\n",
      "\n",
      "    :Number of Instances: 20640\n",
      "\n",
      "    :Number of Attributes: 8 numeric, predictive attributes and the target\n",
      "\n",
      "    :Attribute Information:\n",
      "        - MedInc        median income in block\n",
      "        - HouseAge      median house age in block\n",
      "        - AveRooms      average number of rooms\n",
      "        - AveBedrms     average number of bedrooms\n",
      "        - Population    block population\n",
      "        - AveOccup      average house occupancy\n",
      "        - Latitude      house block latitude\n",
      "        - Longitude     house block longitude\n",
      "\n",
      "    :Missing Attribute Values: None\n",
      "\n",
      "This dataset was obtained from the StatLib repository.\n",
      "http://lib.stat.cmu.edu/datasets/\n",
      "\n",
      "The target variable is the median house value for California districts.\n",
      "\n",
      "This dataset was derived from the 1990 U.S. census, using one row per census\n",
      "block group. A block group is the smallest geographical unit for which the U.S.\n",
      "Census Bureau publishes sample data (a block group typically has a population\n",
      "of 600 to 3,000 people).\n",
      "\n",
      "It can be downloaded/loaded using the\n",
      ":func:`sklearn.datasets.fetch_california_housing` function.\n",
      "\n",
      ".. topic:: References\n",
      "\n",
      "    - Pace, R. Kelley and Ronald Barry, Sparse Spatial Autoregressions,\n",
      "      Statistics and Probability Letters, 33 (1997) 291-297\n",
      "\n"
     ]
    }
   ],
   "source": [
    "print(housing.DESCR)"
   ]
  },
  {
   "cell_type": "code",
   "execution_count": 114,
   "metadata": {},
   "outputs": [
    {
     "data": {
      "text/plain": [
       "(20640, 8)"
      ]
     },
     "execution_count": 114,
     "metadata": {},
     "output_type": "execute_result"
    }
   ],
   "source": [
    "housing.data.shape"
   ]
  },
  {
   "cell_type": "code",
   "execution_count": 115,
   "metadata": {},
   "outputs": [
    {
     "data": {
      "text/plain": [
       "(20640,)"
      ]
     },
     "execution_count": 115,
     "metadata": {},
     "output_type": "execute_result"
    }
   ],
   "source": [
    "housing.target.shape"
   ]
  },
  {
   "cell_type": "markdown",
   "metadata": {},
   "source": [
    "### 5.2)\n",
    "Split the dataset into a training set, a validation set and a test set using Scikit-Learn's `sklearn.model_selection.train_test_split()` function."
   ]
  },
  {
   "cell_type": "code",
   "execution_count": 116,
   "metadata": {},
   "outputs": [],
   "source": [
    "from sklearn.model_selection import train_test_split\n",
    "\n",
    "X_train_full, X_test, y_train_full, y_test = train_test_split(housing.data, housing.target, random_state=42)\n",
    "X_train, X_valid, y_train, y_valid = train_test_split(X_train_full, y_train_full, random_state=42)"
   ]
  },
  {
   "cell_type": "code",
   "execution_count": 117,
   "metadata": {},
   "outputs": [
    {
     "data": {
      "text/plain": [
       "(11610, 3870, 5160)"
      ]
     },
     "execution_count": 117,
     "metadata": {},
     "output_type": "execute_result"
    }
   ],
   "source": [
    "len(X_train), len(X_valid), len(X_test)"
   ]
  },
  {
   "cell_type": "markdown",
   "metadata": {},
   "source": [
    "### 5.3)\n",
    "Scale the input features (e.g., using a `sklearn.preprocessing.StandardScaler`). Once again, don't forget that you should not fit the validation set or the test set, only the training set."
   ]
  },
  {
   "cell_type": "code",
   "execution_count": 118,
   "metadata": {},
   "outputs": [],
   "source": [
    "from sklearn.preprocessing import StandardScaler\n",
    "\n",
    "scaler = StandardScaler()\n",
    "X_train_scaled = scaler.fit_transform(X_train)\n",
    "X_valid_scaled = scaler.transform(X_valid)\n",
    "X_test_scaled = scaler.transform(X_test)"
   ]
  },
  {
   "cell_type": "markdown",
   "metadata": {},
   "source": [
    "### 5.4)\n",
    "Now build, train and evaluate a neural network to tackle this problem. Then use it to make predictions on the test set."
   ]
  },
  {
   "cell_type": "code",
   "execution_count": 119,
   "metadata": {},
   "outputs": [],
   "source": [
    "model = keras.models.Sequential([\n",
    "    keras.layers.Dense(30, activation=\"relu\", input_shape=X_train.shape[1:]),\n",
    "    keras.layers.Dense(1)\n",
    "])\n",
    "model.compile(loss=\"mean_squared_error\", optimizer=keras.optimizers.SGD(1e-3))"
   ]
  },
  {
   "cell_type": "code",
   "execution_count": 120,
   "metadata": {},
   "outputs": [
    {
     "name": "stdout",
     "output_type": "stream",
     "text": [
      "Train on 11610 samples, validate on 3870 samples\n",
      "Epoch 1/100\n",
      "11610/11610 [==============================] - 0s 32us/sample - loss: 2.6923 - val_loss: 1.6454\n",
      "Epoch 2/100\n",
      "11610/11610 [==============================] - 0s 27us/sample - loss: 0.9018 - val_loss: 1.0532\n",
      "Epoch 3/100\n",
      "11610/11610 [==============================] - 0s 25us/sample - loss: 0.7265 - val_loss: 0.6443\n",
      "Epoch 4/100\n",
      "11610/11610 [==============================] - 0s 25us/sample - loss: 0.6650 - val_loss: 0.8636\n",
      "Epoch 5/100\n",
      "11610/11610 [==============================] - 0s 25us/sample - loss: 0.6366 - val_loss: 0.9239\n",
      "Epoch 6/100\n",
      "11610/11610 [==============================] - 0s 29us/sample - loss: 0.6059 - val_loss: 0.7272\n",
      "Epoch 7/100\n",
      "11610/11610 [==============================] - 0s 26us/sample - loss: 0.5871 - val_loss: 0.5709\n",
      "Epoch 8/100\n",
      "11610/11610 [==============================] - 0s 24us/sample - loss: 0.5640 - val_loss: 0.5213\n",
      "Epoch 9/100\n",
      "11610/11610 [==============================] - 0s 25us/sample - loss: 0.5461 - val_loss: 0.5182\n",
      "Epoch 10/100\n",
      "11610/11610 [==============================] - 0s 25us/sample - loss: 0.5319 - val_loss: 0.4898\n",
      "Epoch 11/100\n",
      "11610/11610 [==============================] - 0s 26us/sample - loss: 0.5178 - val_loss: 0.4961\n",
      "Epoch 12/100\n",
      "11610/11610 [==============================] - 0s 25us/sample - loss: 0.5066 - val_loss: 0.4815\n",
      "Epoch 13/100\n",
      "11610/11610 [==============================] - 0s 25us/sample - loss: 0.4966 - val_loss: 0.4613\n",
      "Epoch 14/100\n",
      "11610/11610 [==============================] - 0s 25us/sample - loss: 0.4873 - val_loss: 0.4519\n",
      "Epoch 15/100\n",
      "11610/11610 [==============================] - 0s 24us/sample - loss: 0.4795 - val_loss: 0.4823\n",
      "Epoch 16/100\n",
      "11610/11610 [==============================] - 0s 25us/sample - loss: 0.4721 - val_loss: 0.4383\n",
      "Epoch 17/100\n",
      "11610/11610 [==============================] - 0s 25us/sample - loss: 0.4659 - val_loss: 0.4341\n",
      "Epoch 18/100\n",
      "11610/11610 [==============================] - 0s 25us/sample - loss: 0.4605 - val_loss: 0.4610\n",
      "Epoch 19/100\n",
      "11610/11610 [==============================] - 0s 25us/sample - loss: 0.4551 - val_loss: 0.4280\n",
      "Epoch 20/100\n",
      "11610/11610 [==============================] - 0s 25us/sample - loss: 0.4507 - val_loss: 0.4207\n",
      "Epoch 21/100\n",
      "11610/11610 [==============================] - 0s 24us/sample - loss: 0.4466 - val_loss: 0.4174\n",
      "Epoch 22/100\n",
      "11610/11610 [==============================] - 0s 25us/sample - loss: 0.4429 - val_loss: 0.4382\n",
      "Epoch 23/100\n",
      "11610/11610 [==============================] - 0s 25us/sample - loss: 0.4394 - val_loss: 0.4394\n",
      "Epoch 24/100\n",
      "11610/11610 [==============================] - 0s 25us/sample - loss: 0.4363 - val_loss: 0.4121\n",
      "Epoch 25/100\n",
      "11610/11610 [==============================] - 0s 25us/sample - loss: 0.4336 - val_loss: 0.4212\n",
      "Epoch 26/100\n",
      "11610/11610 [==============================] - 0s 26us/sample - loss: 0.4309 - val_loss: 0.4108\n",
      "Epoch 27/100\n",
      "11610/11610 [==============================] - 0s 26us/sample - loss: 0.4282 - val_loss: 0.4007\n",
      "Epoch 28/100\n",
      "11610/11610 [==============================] - 0s 25us/sample - loss: 0.4260 - val_loss: 0.4184\n",
      "Epoch 29/100\n",
      "11610/11610 [==============================] - 0s 25us/sample - loss: 0.4236 - val_loss: 0.4111\n",
      "Epoch 30/100\n",
      "11610/11610 [==============================] - 0s 25us/sample - loss: 0.4215 - val_loss: 0.4026\n",
      "Epoch 31/100\n",
      "11610/11610 [==============================] - 0s 25us/sample - loss: 0.4195 - val_loss: 0.4102\n",
      "Epoch 32/100\n",
      "11610/11610 [==============================] - 0s 25us/sample - loss: 0.4177 - val_loss: 0.4044\n",
      "Epoch 33/100\n",
      "11610/11610 [==============================] - 0s 26us/sample - loss: 0.4158 - val_loss: 0.4269\n",
      "Epoch 34/100\n",
      "11610/11610 [==============================] - 0s 25us/sample - loss: 0.4141 - val_loss: 0.4047\n",
      "Epoch 35/100\n",
      "11610/11610 [==============================] - 0s 24us/sample - loss: 0.4126 - val_loss: 0.4068\n",
      "Epoch 36/100\n",
      "11610/11610 [==============================] - 0s 24us/sample - loss: 0.4110 - val_loss: 0.3951\n",
      "Epoch 37/100\n",
      "11610/11610 [==============================] - 0s 25us/sample - loss: 0.4095 - val_loss: 0.4156\n",
      "Epoch 38/100\n",
      "11610/11610 [==============================] - 0s 26us/sample - loss: 0.4082 - val_loss: 0.3900\n",
      "Epoch 39/100\n",
      "11610/11610 [==============================] - 0s 25us/sample - loss: 0.4065 - val_loss: 0.4266\n",
      "Epoch 40/100\n",
      "11610/11610 [==============================] - 0s 25us/sample - loss: 0.4055 - val_loss: 0.3806\n",
      "Epoch 41/100\n",
      "11610/11610 [==============================] - 0s 25us/sample - loss: 0.4041 - val_loss: 0.4147\n",
      "Epoch 42/100\n",
      "11610/11610 [==============================] - 0s 28us/sample - loss: 0.4031 - val_loss: 0.3820\n",
      "Epoch 43/100\n",
      "11610/11610 [==============================] - 0s 25us/sample - loss: 0.4016 - val_loss: 0.4195\n",
      "Epoch 44/100\n",
      "11610/11610 [==============================] - 0s 27us/sample - loss: 0.4006 - val_loss: 0.3791\n",
      "Epoch 45/100\n",
      "11610/11610 [==============================] - 0s 27us/sample - loss: 0.3995 - val_loss: 0.4041\n",
      "Epoch 46/100\n",
      "11610/11610 [==============================] - 0s 25us/sample - loss: 0.3985 - val_loss: 0.3962\n",
      "Epoch 47/100\n",
      "11610/11610 [==============================] - 0s 27us/sample - loss: 0.3973 - val_loss: 0.4011\n",
      "Epoch 48/100\n",
      "11610/11610 [==============================] - 0s 26us/sample - loss: 0.3965 - val_loss: 0.3801\n",
      "Epoch 49/100\n",
      "11610/11610 [==============================] - 0s 27us/sample - loss: 0.3954 - val_loss: 0.3977\n",
      "Epoch 50/100\n",
      "11610/11610 [==============================] - 0s 26us/sample - loss: 0.3944 - val_loss: 0.3772\n",
      "Epoch 51/100\n",
      "11610/11610 [==============================] - 0s 27us/sample - loss: 0.3934 - val_loss: 0.4286\n",
      "Epoch 52/100\n",
      "11610/11610 [==============================] - 0s 26us/sample - loss: 0.3926 - val_loss: 0.3930\n",
      "Epoch 53/100\n",
      "11610/11610 [==============================] - 0s 26us/sample - loss: 0.3915 - val_loss: 0.3979\n",
      "Epoch 54/100\n",
      "11610/11610 [==============================] - 0s 27us/sample - loss: 0.3908 - val_loss: 0.3800\n",
      "Epoch 55/100\n",
      "11610/11610 [==============================] - 0s 27us/sample - loss: 0.3898 - val_loss: 0.3775\n",
      "Epoch 56/100\n",
      "11610/11610 [==============================] - 0s 25us/sample - loss: 0.3890 - val_loss: 0.3724\n",
      "Epoch 57/100\n",
      "11610/11610 [==============================] - 0s 28us/sample - loss: 0.3880 - val_loss: 0.3675\n",
      "Epoch 58/100\n",
      "11610/11610 [==============================] - 0s 27us/sample - loss: 0.3872 - val_loss: 0.3715\n",
      "Epoch 59/100\n",
      "11610/11610 [==============================] - 0s 25us/sample - loss: 0.3864 - val_loss: 0.3648\n",
      "Epoch 60/100\n",
      "11610/11610 [==============================] - 0s 26us/sample - loss: 0.3855 - val_loss: 0.4111\n",
      "Epoch 61/100\n",
      "11610/11610 [==============================] - 0s 25us/sample - loss: 0.3849 - val_loss: 0.3919\n",
      "Epoch 62/100\n",
      "11610/11610 [==============================] - 0s 25us/sample - loss: 0.3842 - val_loss: 0.3621\n",
      "Epoch 63/100\n",
      "11610/11610 [==============================] - 0s 25us/sample - loss: 0.3833 - val_loss: 0.3649\n",
      "Epoch 64/100\n",
      "11610/11610 [==============================] - 0s 26us/sample - loss: 0.3826 - val_loss: 0.3784\n",
      "Epoch 65/100\n",
      "11610/11610 [==============================] - 0s 26us/sample - loss: 0.3819 - val_loss: 0.3874\n",
      "Epoch 66/100\n",
      "11610/11610 [==============================] - 0s 25us/sample - loss: 0.3813 - val_loss: 0.3617\n",
      "Epoch 67/100\n",
      "11610/11610 [==============================] - 0s 25us/sample - loss: 0.3804 - val_loss: 0.3873\n",
      "Epoch 68/100\n",
      "11610/11610 [==============================] - 0s 25us/sample - loss: 0.3798 - val_loss: 0.3602\n",
      "Epoch 69/100\n",
      "11610/11610 [==============================] - 0s 25us/sample - loss: 0.3789 - val_loss: 0.3704\n",
      "Epoch 70/100\n",
      "11610/11610 [==============================] - 0s 25us/sample - loss: 0.3786 - val_loss: 0.3742\n",
      "Epoch 71/100\n",
      "11610/11610 [==============================] - 0s 27us/sample - loss: 0.3778 - val_loss: 0.3574\n",
      "Epoch 72/100\n",
      "11610/11610 [==============================] - 0s 28us/sample - loss: 0.3773 - val_loss: 0.3565\n",
      "Epoch 73/100\n",
      "11610/11610 [==============================] - 0s 27us/sample - loss: 0.3767 - val_loss: 0.3579\n",
      "Epoch 74/100\n",
      "11610/11610 [==============================] - 0s 27us/sample - loss: 0.3761 - val_loss: 0.3585\n",
      "Epoch 75/100\n",
      "11610/11610 [==============================] - 0s 27us/sample - loss: 0.3755 - val_loss: 0.3798\n"
     ]
    },
    {
     "name": "stdout",
     "output_type": "stream",
     "text": [
      "Epoch 76/100\n",
      "11610/11610 [==============================] - 0s 28us/sample - loss: 0.3750 - val_loss: 0.3551\n",
      "Epoch 77/100\n",
      "11610/11610 [==============================] - 0s 25us/sample - loss: 0.3743 - val_loss: 0.3530\n",
      "Epoch 78/100\n",
      "11610/11610 [==============================] - 0s 27us/sample - loss: 0.3737 - val_loss: 0.3676\n",
      "Epoch 79/100\n",
      "11610/11610 [==============================] - 0s 25us/sample - loss: 0.3734 - val_loss: 0.3663\n",
      "Epoch 80/100\n",
      "11610/11610 [==============================] - 0s 27us/sample - loss: 0.3729 - val_loss: 0.3586\n",
      "Epoch 81/100\n",
      "11610/11610 [==============================] - 0s 23us/sample - loss: 0.3723 - val_loss: 0.3511\n",
      "Epoch 82/100\n",
      "11610/11610 [==============================] - 0s 28us/sample - loss: 0.3719 - val_loss: 0.3506\n",
      "Epoch 83/100\n",
      "11610/11610 [==============================] - 0s 24us/sample - loss: 0.3713 - val_loss: 0.3616\n",
      "Epoch 84/100\n",
      "11610/11610 [==============================] - 0s 29us/sample - loss: 0.3709 - val_loss: 0.3477\n",
      "Epoch 85/100\n",
      "11610/11610 [==============================] - 0s 25us/sample - loss: 0.3704 - val_loss: 0.3503\n",
      "Epoch 86/100\n",
      "11610/11610 [==============================] - 0s 25us/sample - loss: 0.3698 - val_loss: 0.3596\n",
      "Epoch 87/100\n",
      "11610/11610 [==============================] - 0s 25us/sample - loss: 0.3695 - val_loss: 0.3467\n",
      "Epoch 88/100\n",
      "11610/11610 [==============================] - 0s 29us/sample - loss: 0.3691 - val_loss: 0.3486\n",
      "Epoch 89/100\n",
      "11610/11610 [==============================] - 0s 26us/sample - loss: 0.3685 - val_loss: 0.3648\n",
      "Epoch 90/100\n",
      "11610/11610 [==============================] - 0s 27us/sample - loss: 0.3681 - val_loss: 0.3548\n",
      "Epoch 91/100\n",
      "11610/11610 [==============================] - 0s 24us/sample - loss: 0.3679 - val_loss: 0.3453\n",
      "Epoch 92/100\n",
      "11610/11610 [==============================] - 0s 25us/sample - loss: 0.3671 - val_loss: 0.3550\n",
      "Epoch 93/100\n",
      "11610/11610 [==============================] - 0s 24us/sample - loss: 0.3670 - val_loss: 0.3544\n",
      "Epoch 94/100\n",
      "11610/11610 [==============================] - 0s 24us/sample - loss: 0.3665 - val_loss: 0.3452\n",
      "Epoch 95/100\n",
      "11610/11610 [==============================] - 0s 24us/sample - loss: 0.3659 - val_loss: 0.3498\n",
      "Epoch 96/100\n",
      "11610/11610 [==============================] - 0s 25us/sample - loss: 0.3656 - val_loss: 0.3454\n",
      "Epoch 97/100\n",
      "11610/11610 [==============================] - 0s 25us/sample - loss: 0.3654 - val_loss: 0.3446\n",
      "Epoch 98/100\n",
      "11610/11610 [==============================] - 0s 24us/sample - loss: 0.3648 - val_loss: 0.3478\n",
      "Epoch 99/100\n",
      "11610/11610 [==============================] - 0s 24us/sample - loss: 0.3644 - val_loss: 0.3531\n",
      "Epoch 100/100\n",
      "11610/11610 [==============================] - 0s 25us/sample - loss: 0.3642 - val_loss: 0.3462\n"
     ]
    }
   ],
   "source": [
    "callbacks = [keras.callbacks.EarlyStopping(patience=10)]\n",
    "history = model.fit(X_train_scaled, y_train,\n",
    "                    validation_data=(X_valid_scaled, y_valid), epochs=100,\n",
    "                    callbacks=callbacks)"
   ]
  },
  {
   "cell_type": "code",
   "execution_count": 121,
   "metadata": {},
   "outputs": [
    {
     "name": "stdout",
     "output_type": "stream",
     "text": [
      "5160/5160 [==============================] - 0s 12us/sample - loss: 0.3642\n"
     ]
    },
    {
     "data": {
      "text/plain": [
       "0.3641535673030587"
      ]
     },
     "execution_count": 121,
     "metadata": {},
     "output_type": "execute_result"
    }
   ],
   "source": [
    "model.evaluate(X_test_scaled, y_test)"
   ]
  },
  {
   "cell_type": "code",
   "execution_count": 122,
   "metadata": {},
   "outputs": [
    {
     "data": {
      "text/plain": [
       "array([[0.78247166],\n",
       "       [1.5826169 ],\n",
       "       [3.9552414 ],\n",
       "       ...,\n",
       "       [1.3169173 ],\n",
       "       [2.248732  ],\n",
       "       [3.9644845 ]], dtype=float32)"
      ]
     },
     "execution_count": 122,
     "metadata": {},
     "output_type": "execute_result"
    }
   ],
   "source": [
    "model.predict(X_test_scaled)"
   ]
  },
  {
   "cell_type": "code",
   "execution_count": 123,
   "metadata": {
    "scrolled": true
   },
   "outputs": [
    {
     "data": {
      "image/png": "[encoded data removed]",
      "text/plain": [
       "<Figure size 576x360 with 1 Axes>"
      ]
     },
     "metadata": {
      "needs_background": "light"
     },
     "output_type": "display_data"
    }
   ],
   "source": [
    "plot_learning_curves(history)"
   ]
  },
  {
   "cell_type": "markdown",
   "metadata": {},
   "source": [
    "![Exercise](https://c1.staticflickr.com/9/8101/8553474140_c50cf08708_b.jpg)"
   ]
  },
  {
   "cell_type": "markdown",
   "metadata": {},
   "source": [
    "## Exercise 6 – Hyperparameter search"
   ]
  },
  {
   "cell_type": "markdown",
   "metadata": {},
   "source": [
    "### 6.1)\n",
    "Try training your model multiple times, with different a learning rate each time (e.g., 1e-4, 3e-4, 1e-3, 3e-3, 3e-2), and compare the learning curves. For this, you need to create a `keras.optimizers.SGD` optimizer and specify the `learning_rate` in its constructor, then pass this `SGD` instance to the `compile()` method using the `optimizer` argument."
   ]
  },
  {
   "cell_type": "code",
   "execution_count": null,
   "metadata": {},
   "outputs": [],
   "source": []
  },
  {
   "cell_type": "code",
   "execution_count": null,
   "metadata": {},
   "outputs": [],
   "source": []
  },
  {
   "cell_type": "code",
   "execution_count": null,
   "metadata": {},
   "outputs": [],
   "source": []
  },
  {
   "cell_type": "markdown",
   "metadata": {},
   "source": [
    "### 6.2)\n",
    "Let's look at a more sophisticated way to tune hyperparameters. Create a `build_model()` function that takes three arguments, `n_hidden`, `n_neurons`, `learning_rate`, and builds, compiles and returns a model with the given number of hidden layers, the given number of neurons and the given learning rate. It is good practice to give a reasonable default value to each argument."
   ]
  },
  {
   "cell_type": "code",
   "execution_count": null,
   "metadata": {},
   "outputs": [],
   "source": []
  },
  {
   "cell_type": "code",
   "execution_count": null,
   "metadata": {},
   "outputs": [],
   "source": []
  },
  {
   "cell_type": "code",
   "execution_count": null,
   "metadata": {},
   "outputs": [],
   "source": []
  },
  {
   "cell_type": "markdown",
   "metadata": {},
   "source": [
    "### 6.3)\n",
    "Create a `keras.wrappers.scikit_learn.KerasRegressor` and pass the `build_model` function to the constructor. This gives you a Scikit-Learn compatible predictor. Try training it and using it to make predictions. Note that you can pass the `n_epochs`, `callbacks` and `validation_data` to the `fit()` method."
   ]
  },
  {
   "cell_type": "code",
   "execution_count": null,
   "metadata": {},
   "outputs": [],
   "source": []
  },
  {
   "cell_type": "code",
   "execution_count": null,
   "metadata": {},
   "outputs": [],
   "source": []
  },
  {
   "cell_type": "code",
   "execution_count": null,
   "metadata": {},
   "outputs": [],
   "source": []
  },
  {
   "cell_type": "markdown",
   "metadata": {},
   "source": [
    "### 6.4)\n",
    "Use a `sklearn.model_selection.RandomizedSearchCV` to search the hyperparameter space of your `KerasRegressor`.\n",
    "\n",
    "**Tips**:\n",
    "* create a `param_distribs` dictionary where each key is the name of a hyperparameter you want to fine-tune (e.g., `\"n_hidden\"`), and each value is the list of values you want to explore (e.g., `[0, 1, 2, 3]`), or a Scipy distribution from `scipy.stats`.\n",
    "* You can use the reciprocal distribution for the learning rate (e.g, `reciprocal(3e-3, 3e-2)`).\n",
    "* Create a `RandomizedSearchCV`, passing the `KerasRegressor` and the `param_distribs` to its constructor, as well as the number of iterations (`n_iter`), and the number of cross-validation folds (`cv`). If you are short on time, you can set `n_iter=10` and `cv=3`. You may also want to set `verbose=2`.\n",
    "* Finally, call the `RandomizedSearchCV`'s `fit()` method on the training set. Once again you can pass it `n_epochs`, `validation_data` and `callbacks` if you want to.\n",
    "* The best parameters found will be available in the `best_params_` attribute, the best score will be in `best_score_`, and the best model will be in `best_estimator_`."
   ]
  },
  {
   "cell_type": "code",
   "execution_count": null,
   "metadata": {},
   "outputs": [],
   "source": []
  },
  {
   "cell_type": "code",
   "execution_count": null,
   "metadata": {},
   "outputs": [],
   "source": []
  },
  {
   "cell_type": "code",
   "execution_count": null,
   "metadata": {},
   "outputs": [],
   "source": []
  },
  {
   "cell_type": "markdown",
   "metadata": {},
   "source": [
    "### 6.5)\n",
    "Evaluate the best model found on the test set. You can either use the best estimator's `score()` method, or get its underlying Keras model *via* its `model` attribute, and call this model's `evaluate()` method. Note that the estimator returns the negative mean square error (it's a score, not a loss, so higher is better)."
   ]
  },
  {
   "cell_type": "code",
   "execution_count": null,
   "metadata": {},
   "outputs": [],
   "source": []
  },
  {
   "cell_type": "code",
   "execution_count": null,
   "metadata": {},
   "outputs": [],
   "source": []
  },
  {
   "cell_type": "code",
   "execution_count": null,
   "metadata": {},
   "outputs": [],
   "source": []
  },
  {
   "cell_type": "markdown",
   "metadata": {},
   "source": [
    "### 6.6)\n",
    "Finally, save the best Keras model found. **Tip**: it is available via the best estimator's `model` attribute, and just need to call its `save()` method."
   ]
  },
  {
   "cell_type": "code",
   "execution_count": null,
   "metadata": {},
   "outputs": [],
   "source": []
  },
  {
   "cell_type": "code",
   "execution_count": null,
   "metadata": {},
   "outputs": [],
   "source": []
  },
  {
   "cell_type": "code",
   "execution_count": null,
   "metadata": {},
   "outputs": [],
   "source": []
  },
  {
   "cell_type": "markdown",
   "metadata": {},
   "source": [
    "**Tip**: while a randomized search is nice and simple, there are more powerful (but complex) options available out there for hyperparameter search, for example:\n",
    "* [Hyperopt](https://github.com/hyperopt/hyperopt)\n",
    "* [Hyperas](https://github.com/maxpumperla/hyperas)\n",
    "* [Sklearn-Deap](https://github.com/rsteca/sklearn-deap)\n",
    "* [Scikit-Optimize](https://scikit-optimize.github.io/)\n",
    "* [Spearmint](https://github.com/JasperSnoek/spearmint)\n",
    "* [PyMC3](https://docs.pymc.io/)\n",
    "* [GPFlow](https://gpflow.readthedocs.io/)\n",
    "* [Yelp/MOE](https://github.com/Yelp/MOE)\n",
    "* Commercial services such as: [Google Cloud ML Engine](https://cloud.google.com/ml-engine/docs/tensorflow/using-hyperparameter-tuning), [Arimo](https://arimo.com/) or [Oscar](http://oscar.calldesk.ai/)"
   ]
  },
  {
   "cell_type": "markdown",
   "metadata": {},
   "source": [
    "![Exercise solution](https://camo.githubusercontent.com/250388fde3fac9135ead9471733ee28e049f7a37/68747470733a2f2f75706c6f61642e77696b696d656469612e6f72672f77696b6970656469612f636f6d6d6f6e732f302f30362f46696c6f735f736567756e646f5f6c6f676f5f253238666c69707065642532392e6a7067)"
   ]
  },
  {
   "cell_type": "markdown",
   "metadata": {},
   "source": [
    "## Exercise 6 – Solution"
   ]
  },
  {
   "cell_type": "markdown",
   "metadata": {},
   "source": [
    "### 6.1)\n",
    "Try training your model multiple times, with different a learning rate each time (e.g., 1e-4, 3e-4, 1e-3, 3e-3, 3e-2), and compare the learning curves. For this, you need to create a `keras.optimizers.SGD` optimizer and specify the `learning_rate` in its constructor, then pass this `SGD` instance to the `compile()` method using the `optimizer` argument."
   ]
  },
  {
   "cell_type": "code",
   "execution_count": 124,
   "metadata": {},
   "outputs": [
    {
     "name": "stdout",
     "output_type": "stream",
     "text": [
      "Train on 11610 samples, validate on 3870 samples\n",
      "Epoch 1/100\n",
      "11610/11610 [==============================] - 0s 32us/sample - loss: 6.0067 - val_loss: 6.3316\n",
      "Epoch 2/100\n",
      "11610/11610 [==============================] - 0s 25us/sample - loss: 4.0407 - val_loss: 3.5656\n",
      "Epoch 3/100\n",
      "11610/11610 [==============================] - 0s 25us/sample - loss: 2.8559 - val_loss: 2.3796\n",
      "Epoch 4/100\n",
      "11610/11610 [==============================] - 0s 26us/sample - loss: 2.1188 - val_loss: 1.8649\n",
      "Epoch 5/100\n",
      "11610/11610 [==============================] - 0s 25us/sample - loss: 1.6506 - val_loss: 1.6120\n",
      "Epoch 6/100\n",
      "11610/11610 [==============================] - 0s 25us/sample - loss: 1.3476 - val_loss: 1.4488\n",
      "Epoch 7/100\n",
      "11610/11610 [==============================] - 0s 25us/sample - loss: 1.1480 - val_loss: 1.3106\n",
      "Epoch 8/100\n",
      "11610/11610 [==============================] - 0s 25us/sample - loss: 1.0129 - val_loss: 1.1834\n",
      "Epoch 9/100\n",
      "11610/11610 [==============================] - 0s 25us/sample - loss: 0.9190 - val_loss: 1.0662\n",
      "Epoch 10/100\n",
      "11610/11610 [==============================] - 0s 25us/sample - loss: 0.8519 - val_loss: 0.9636\n",
      "Epoch 11/100\n",
      "11610/11610 [==============================] - 0s 25us/sample - loss: 0.8024 - val_loss: 0.8769\n",
      "Epoch 12/100\n",
      "11610/11610 [==============================] - 0s 25us/sample - loss: 0.7650 - val_loss: 0.8071\n",
      "Epoch 13/100\n",
      "11610/11610 [==============================] - 0s 26us/sample - loss: 0.7359 - val_loss: 0.7553\n",
      "Epoch 14/100\n",
      "11610/11610 [==============================] - 0s 25us/sample - loss: 0.7130 - val_loss: 0.7160\n",
      "Epoch 15/100\n",
      "11610/11610 [==============================] - 0s 25us/sample - loss: 0.6945 - val_loss: 0.6862\n",
      "Epoch 16/100\n",
      "11610/11610 [==============================] - 0s 25us/sample - loss: 0.6793 - val_loss: 0.6649\n",
      "Epoch 17/100\n",
      "11610/11610 [==============================] - 0s 25us/sample - loss: 0.6665 - val_loss: 0.6495\n",
      "Epoch 18/100\n",
      "11610/11610 [==============================] - 0s 25us/sample - loss: 0.6557 - val_loss: 0.6387\n",
      "Epoch 19/100\n",
      "11610/11610 [==============================] - 0s 28us/sample - loss: 0.6463 - val_loss: 0.6309\n",
      "Epoch 20/100\n",
      "11610/11610 [==============================] - 0s 27us/sample - loss: 0.6379 - val_loss: 0.6254\n",
      "Epoch 21/100\n",
      "11610/11610 [==============================] - 0s 27us/sample - loss: 0.6305 - val_loss: 0.6217\n",
      "Epoch 22/100\n",
      "11610/11610 [==============================] - 0s 26us/sample - loss: 0.6237 - val_loss: 0.6188\n",
      "Epoch 23/100\n",
      "11610/11610 [==============================] - 0s 26us/sample - loss: 0.6174 - val_loss: 0.6167\n",
      "Epoch 24/100\n",
      "11610/11610 [==============================] - 0s 25us/sample - loss: 0.6116 - val_loss: 0.6146\n",
      "Epoch 25/100\n",
      "11610/11610 [==============================] - 0s 25us/sample - loss: 0.6062 - val_loss: 0.6121\n",
      "Epoch 26/100\n",
      "11610/11610 [==============================] - 0s 25us/sample - loss: 0.6011 - val_loss: 0.6094\n",
      "Epoch 27/100\n",
      "11610/11610 [==============================] - 0s 25us/sample - loss: 0.5963 - val_loss: 0.6069\n",
      "Epoch 28/100\n",
      "11610/11610 [==============================] - 0s 25us/sample - loss: 0.5917 - val_loss: 0.6033\n",
      "Epoch 29/100\n",
      "11610/11610 [==============================] - 0s 25us/sample - loss: 0.5873 - val_loss: 0.5996\n",
      "Epoch 30/100\n",
      "11610/11610 [==============================] - 0s 25us/sample - loss: 0.5830 - val_loss: 0.5967\n",
      "Epoch 31/100\n",
      "11610/11610 [==============================] - 0s 25us/sample - loss: 0.5789 - val_loss: 0.5928\n",
      "Epoch 32/100\n",
      "11610/11610 [==============================] - 0s 24us/sample - loss: 0.5750 - val_loss: 0.5891\n",
      "Epoch 33/100\n",
      "11610/11610 [==============================] - 0s 26us/sample - loss: 0.5712 - val_loss: 0.5847\n",
      "Epoch 34/100\n",
      "11610/11610 [==============================] - 0s 25us/sample - loss: 0.5675 - val_loss: 0.5801\n",
      "Epoch 35/100\n",
      "11610/11610 [==============================] - 0s 25us/sample - loss: 0.5639 - val_loss: 0.5760\n",
      "Epoch 36/100\n",
      "11610/11610 [==============================] - 0s 25us/sample - loss: 0.5604 - val_loss: 0.5716\n",
      "Epoch 37/100\n",
      "11610/11610 [==============================] - 0s 25us/sample - loss: 0.5570 - val_loss: 0.5668\n",
      "Epoch 38/100\n",
      "11610/11610 [==============================] - 0s 25us/sample - loss: 0.5537 - val_loss: 0.5622\n",
      "Epoch 39/100\n",
      "11610/11610 [==============================] - 0s 25us/sample - loss: 0.5505 - val_loss: 0.5576\n",
      "Epoch 40/100\n",
      "11610/11610 [==============================] - 0s 25us/sample - loss: 0.5474 - val_loss: 0.5527\n",
      "Epoch 41/100\n",
      "11610/11610 [==============================] - 0s 26us/sample - loss: 0.5444 - val_loss: 0.5487\n",
      "Epoch 42/100\n",
      "11610/11610 [==============================] - 0s 25us/sample - loss: 0.5414 - val_loss: 0.5447\n",
      "Epoch 43/100\n",
      "11610/11610 [==============================] - 0s 25us/sample - loss: 0.5385 - val_loss: 0.5401\n",
      "Epoch 44/100\n",
      "11610/11610 [==============================] - 0s 25us/sample - loss: 0.5357 - val_loss: 0.5358\n",
      "Epoch 45/100\n",
      "11610/11610 [==============================] - 0s 25us/sample - loss: 0.5330 - val_loss: 0.5309\n",
      "Epoch 46/100\n",
      "11610/11610 [==============================] - 0s 26us/sample - loss: 0.5303 - val_loss: 0.5263\n",
      "Epoch 47/100\n",
      "11610/11610 [==============================] - 0s 25us/sample - loss: 0.5277 - val_loss: 0.5222\n",
      "Epoch 48/100\n",
      "11610/11610 [==============================] - 0s 25us/sample - loss: 0.5252 - val_loss: 0.5186\n",
      "Epoch 49/100\n",
      "11610/11610 [==============================] - 0s 24us/sample - loss: 0.5227 - val_loss: 0.5150\n",
      "Epoch 50/100\n",
      "11610/11610 [==============================] - 0s 25us/sample - loss: 0.5203 - val_loss: 0.5109\n",
      "Epoch 51/100\n",
      "11610/11610 [==============================] - 0s 27us/sample - loss: 0.5179 - val_loss: 0.5069\n",
      "Epoch 52/100\n",
      "11610/11610 [==============================] - 0s 28us/sample - loss: 0.5156 - val_loss: 0.5036\n",
      "Epoch 53/100\n",
      "11610/11610 [==============================] - 0s 25us/sample - loss: 0.5134 - val_loss: 0.5003\n",
      "Epoch 54/100\n",
      "11610/11610 [==============================] - 0s 25us/sample - loss: 0.5112 - val_loss: 0.4968\n",
      "Epoch 55/100\n",
      "11610/11610 [==============================] - 0s 25us/sample - loss: 0.5091 - val_loss: 0.4936\n",
      "Epoch 56/100\n",
      "11610/11610 [==============================] - 0s 27us/sample - loss: 0.5070 - val_loss: 0.4904\n",
      "Epoch 57/100\n",
      "11610/11610 [==============================] - 0s 26us/sample - loss: 0.5049 - val_loss: 0.4871\n",
      "Epoch 58/100\n",
      "11610/11610 [==============================] - 0s 25us/sample - loss: 0.5030 - val_loss: 0.4842\n",
      "Epoch 59/100\n",
      "11610/11610 [==============================] - 0s 26us/sample - loss: 0.5010 - val_loss: 0.4813\n",
      "Epoch 60/100\n",
      "11610/11610 [==============================] - 0s 26us/sample - loss: 0.4991 - val_loss: 0.4785\n",
      "Epoch 61/100\n",
      "11610/11610 [==============================] - 0s 27us/sample - loss: 0.4973 - val_loss: 0.4759\n",
      "Epoch 62/100\n",
      "11610/11610 [==============================] - 0s 27us/sample - loss: 0.4955 - val_loss: 0.4731\n",
      "Epoch 63/100\n",
      "11610/11610 [==============================] - 0s 25us/sample - loss: 0.4938 - val_loss: 0.4706\n",
      "Epoch 64/100\n",
      "11610/11610 [==============================] - 0s 25us/sample - loss: 0.4920 - val_loss: 0.4682\n",
      "Epoch 65/100\n",
      "11610/11610 [==============================] - 0s 26us/sample - loss: 0.4904 - val_loss: 0.4661\n",
      "Epoch 66/100\n",
      "11610/11610 [==============================] - 0s 26us/sample - loss: 0.4888 - val_loss: 0.4640\n",
      "Epoch 67/100\n",
      "11610/11610 [==============================] - 0s 25us/sample - loss: 0.4872 - val_loss: 0.4619\n",
      "Epoch 68/100\n",
      "11610/11610 [==============================] - 0s 26us/sample - loss: 0.4856 - val_loss: 0.4598\n",
      "Epoch 69/100\n",
      "11610/11610 [==============================] - 0s 25us/sample - loss: 0.4841 - val_loss: 0.4579\n",
      "Epoch 70/100\n",
      "11610/11610 [==============================] - 0s 26us/sample - loss: 0.4826 - val_loss: 0.4559\n",
      "Epoch 71/100\n",
      "11610/11610 [==============================] - 0s 25us/sample - loss: 0.4811 - val_loss: 0.4540\n",
      "Epoch 72/100\n",
      "11610/11610 [==============================] - 0s 25us/sample - loss: 0.4797 - val_loss: 0.4521\n",
      "Epoch 73/100\n",
      "11610/11610 [==============================] - 0s 26us/sample - loss: 0.4783 - val_loss: 0.4504\n",
      "Epoch 74/100\n",
      "11610/11610 [==============================] - 0s 26us/sample - loss: 0.4770 - val_loss: 0.4487\n",
      "Epoch 75/100\n",
      "11610/11610 [==============================] - 0s 25us/sample - loss: 0.4757 - val_loss: 0.4471\n"
     ]
    },
    {
     "name": "stdout",
     "output_type": "stream",
     "text": [
      "Epoch 76/100\n",
      "11610/11610 [==============================] - 0s 25us/sample - loss: 0.4744 - val_loss: 0.4455\n",
      "Epoch 77/100\n",
      "11610/11610 [==============================] - 0s 24us/sample - loss: 0.4731 - val_loss: 0.4440\n",
      "Epoch 78/100\n",
      "11610/11610 [==============================] - 0s 24us/sample - loss: 0.4718 - val_loss: 0.4426\n",
      "Epoch 79/100\n",
      "11610/11610 [==============================] - 0s 25us/sample - loss: 0.4706 - val_loss: 0.4413\n",
      "Epoch 80/100\n",
      "11610/11610 [==============================] - 0s 24us/sample - loss: 0.4694 - val_loss: 0.4400\n",
      "Epoch 81/100\n",
      "11610/11610 [==============================] - 0s 25us/sample - loss: 0.4683 - val_loss: 0.4387\n",
      "Epoch 82/100\n",
      "11610/11610 [==============================] - 0s 24us/sample - loss: 0.4671 - val_loss: 0.4375\n",
      "Epoch 83/100\n",
      "11610/11610 [==============================] - 0s 24us/sample - loss: 0.4660 - val_loss: 0.4364\n",
      "Epoch 84/100\n",
      "11610/11610 [==============================] - 0s 25us/sample - loss: 0.4649 - val_loss: 0.4353\n",
      "Epoch 85/100\n",
      "11610/11610 [==============================] - 0s 25us/sample - loss: 0.4638 - val_loss: 0.4343\n",
      "Epoch 86/100\n",
      "11610/11610 [==============================] - 0s 25us/sample - loss: 0.4628 - val_loss: 0.4333\n",
      "Epoch 87/100\n",
      "11610/11610 [==============================] - 0s 24us/sample - loss: 0.4617 - val_loss: 0.4324\n",
      "Epoch 88/100\n",
      "11610/11610 [==============================] - 0s 24us/sample - loss: 0.4607 - val_loss: 0.4315\n",
      "Epoch 89/100\n",
      "11610/11610 [==============================] - 0s 25us/sample - loss: 0.4597 - val_loss: 0.4306\n",
      "Epoch 90/100\n",
      "11610/11610 [==============================] - 0s 25us/sample - loss: 0.4587 - val_loss: 0.4298\n",
      "Epoch 91/100\n",
      "11610/11610 [==============================] - 0s 24us/sample - loss: 0.4578 - val_loss: 0.4291\n",
      "Epoch 92/100\n",
      "11610/11610 [==============================] - 0s 25us/sample - loss: 0.4568 - val_loss: 0.4283\n",
      "Epoch 93/100\n",
      "11610/11610 [==============================] - 0s 25us/sample - loss: 0.4559 - val_loss: 0.4275\n",
      "Epoch 94/100\n",
      "11610/11610 [==============================] - 0s 25us/sample - loss: 0.4550 - val_loss: 0.4269\n",
      "Epoch 95/100\n",
      "11610/11610 [==============================] - 0s 24us/sample - loss: 0.4541 - val_loss: 0.4263\n",
      "Epoch 96/100\n",
      "11610/11610 [==============================] - 0s 24us/sample - loss: 0.4532 - val_loss: 0.4257\n",
      "Epoch 97/100\n",
      "11610/11610 [==============================] - 0s 25us/sample - loss: 0.4524 - val_loss: 0.4250\n",
      "Epoch 98/100\n",
      "11610/11610 [==============================] - 0s 25us/sample - loss: 0.4515 - val_loss: 0.4245\n",
      "Epoch 99/100\n",
      "11610/11610 [==============================] - 0s 24us/sample - loss: 0.4507 - val_loss: 0.4241\n",
      "Epoch 100/100\n",
      "11610/11610 [==============================] - 0s 24us/sample - loss: 0.4499 - val_loss: 0.4237\n",
      "Train on 11610 samples, validate on 3870 samples\n",
      "Epoch 1/100\n",
      "11610/11610 [==============================] - 0s 31us/sample - loss: 3.9460 - val_loss: 3.0063\n",
      "Epoch 2/100\n",
      "11610/11610 [==============================] - 0s 25us/sample - loss: 1.6543 - val_loss: 2.5010\n",
      "Epoch 3/100\n",
      "11610/11610 [==============================] - 0s 25us/sample - loss: 1.0133 - val_loss: 1.8313\n",
      "Epoch 4/100\n",
      "11610/11610 [==============================] - 0s 25us/sample - loss: 0.7994 - val_loss: 1.2600\n",
      "Epoch 5/100\n",
      "11610/11610 [==============================] - 0s 25us/sample - loss: 0.7139 - val_loss: 0.8963\n",
      "Epoch 6/100\n",
      "11610/11610 [==============================] - 0s 25us/sample - loss: 0.6720 - val_loss: 0.7171\n",
      "Epoch 7/100\n",
      "11610/11610 [==============================] - 0s 24us/sample - loss: 0.6473 - val_loss: 0.6352\n",
      "Epoch 8/100\n",
      "11610/11610 [==============================] - 0s 25us/sample - loss: 0.6299 - val_loss: 0.5983\n",
      "Epoch 9/100\n",
      "11610/11610 [==============================] - 0s 25us/sample - loss: 0.6159 - val_loss: 0.5769\n",
      "Epoch 10/100\n",
      "11610/11610 [==============================] - 0s 25us/sample - loss: 0.6036 - val_loss: 0.5629\n",
      "Epoch 11/100\n",
      "11610/11610 [==============================] - 0s 24us/sample - loss: 0.5924 - val_loss: 0.5520\n",
      "Epoch 12/100\n",
      "11610/11610 [==============================] - 0s 25us/sample - loss: 0.5821 - val_loss: 0.5414\n",
      "Epoch 13/100\n",
      "11610/11610 [==============================] - 0s 24us/sample - loss: 0.5725 - val_loss: 0.5317\n",
      "Epoch 14/100\n",
      "11610/11610 [==============================] - 0s 25us/sample - loss: 0.5635 - val_loss: 0.5233\n",
      "Epoch 15/100\n",
      "11610/11610 [==============================] - 0s 25us/sample - loss: 0.5550 - val_loss: 0.5153\n",
      "Epoch 16/100\n",
      "11610/11610 [==============================] - 0s 25us/sample - loss: 0.5471 - val_loss: 0.5078\n",
      "Epoch 17/100\n",
      "11610/11610 [==============================] - 0s 25us/sample - loss: 0.5396 - val_loss: 0.5009\n",
      "Epoch 18/100\n",
      "11610/11610 [==============================] - 0s 25us/sample - loss: 0.5326 - val_loss: 0.4944\n",
      "Epoch 19/100\n",
      "11610/11610 [==============================] - 0s 24us/sample - loss: 0.5260 - val_loss: 0.4885\n",
      "Epoch 20/100\n",
      "11610/11610 [==============================] - 0s 25us/sample - loss: 0.5198 - val_loss: 0.4834\n",
      "Epoch 21/100\n",
      "11610/11610 [==============================] - 0s 24us/sample - loss: 0.5139 - val_loss: 0.4786\n",
      "Epoch 22/100\n",
      "11610/11610 [==============================] - 0s 25us/sample - loss: 0.5084 - val_loss: 0.4738\n",
      "Epoch 23/100\n",
      "11610/11610 [==============================] - 0s 25us/sample - loss: 0.5032 - val_loss: 0.4706\n",
      "Epoch 24/100\n",
      "11610/11610 [==============================] - 0s 25us/sample - loss: 0.4983 - val_loss: 0.4659\n",
      "Epoch 25/100\n",
      "11610/11610 [==============================] - 0s 24us/sample - loss: 0.4938 - val_loss: 0.4625\n",
      "Epoch 26/100\n",
      "11610/11610 [==============================] - 0s 24us/sample - loss: 0.4894 - val_loss: 0.4604\n",
      "Epoch 27/100\n",
      "11610/11610 [==============================] - 0s 24us/sample - loss: 0.4854 - val_loss: 0.4551\n",
      "Epoch 28/100\n",
      "11610/11610 [==============================] - 0s 25us/sample - loss: 0.4816 - val_loss: 0.4535\n",
      "Epoch 29/100\n",
      "11610/11610 [==============================] - 0s 25us/sample - loss: 0.4779 - val_loss: 0.4515\n",
      "Epoch 30/100\n",
      "11610/11610 [==============================] - 0s 25us/sample - loss: 0.4745 - val_loss: 0.4496\n",
      "Epoch 31/100\n",
      "11610/11610 [==============================] - 0s 24us/sample - loss: 0.4713 - val_loss: 0.4481\n",
      "Epoch 32/100\n",
      "11610/11610 [==============================] - 0s 25us/sample - loss: 0.4683 - val_loss: 0.4453\n",
      "Epoch 33/100\n",
      "11610/11610 [==============================] - 0s 25us/sample - loss: 0.4655 - val_loss: 0.4433\n",
      "Epoch 34/100\n",
      "11610/11610 [==============================] - 0s 25us/sample - loss: 0.4628 - val_loss: 0.4424\n",
      "Epoch 35/100\n",
      "11610/11610 [==============================] - 0s 25us/sample - loss: 0.4602 - val_loss: 0.4418\n",
      "Epoch 36/100\n",
      "11610/11610 [==============================] - 0s 25us/sample - loss: 0.4578 - val_loss: 0.4402\n",
      "Epoch 37/100\n",
      "11610/11610 [==============================] - 0s 24us/sample - loss: 0.4556 - val_loss: 0.4371\n",
      "Epoch 38/100\n",
      "11610/11610 [==============================] - 0s 25us/sample - loss: 0.4534 - val_loss: 0.4354\n",
      "Epoch 39/100\n",
      "11610/11610 [==============================] - 0s 25us/sample - loss: 0.4514 - val_loss: 0.4353\n",
      "Epoch 40/100\n",
      "11610/11610 [==============================] - 0s 24us/sample - loss: 0.4495 - val_loss: 0.4344\n",
      "Epoch 41/100\n",
      "11610/11610 [==============================] - 0s 24us/sample - loss: 0.4477 - val_loss: 0.4340\n",
      "Epoch 42/100\n",
      "11610/11610 [==============================] - 0s 25us/sample - loss: 0.4459 - val_loss: 0.4326\n",
      "Epoch 43/100\n",
      "11610/11610 [==============================] - 0s 25us/sample - loss: 0.4443 - val_loss: 0.4322\n",
      "Epoch 44/100\n",
      "11610/11610 [==============================] - 0s 24us/sample - loss: 0.4427 - val_loss: 0.4319\n",
      "Epoch 45/100\n",
      "11610/11610 [==============================] - 0s 24us/sample - loss: 0.4412 - val_loss: 0.4288\n",
      "Epoch 46/100\n",
      "11610/11610 [==============================] - 0s 25us/sample - loss: 0.4398 - val_loss: 0.4310\n",
      "Epoch 47/100\n",
      "11610/11610 [==============================] - 0s 24us/sample - loss: 0.4384 - val_loss: 0.4295\n",
      "Epoch 48/100\n",
      "11610/11610 [==============================] - 0s 24us/sample - loss: 0.4370 - val_loss: 0.4303\n",
      "Epoch 49/100\n",
      "11610/11610 [==============================] - 0s 24us/sample - loss: 0.4358 - val_loss: 0.4285\n",
      "Epoch 50/100\n",
      "11610/11610 [==============================] - 0s 24us/sample - loss: 0.4346 - val_loss: 0.4260\n"
     ]
    },
    {
     "name": "stdout",
     "output_type": "stream",
     "text": [
      "Epoch 51/100\n",
      "11610/11610 [==============================] - 0s 25us/sample - loss: 0.4333 - val_loss: 0.4229\n",
      "Epoch 52/100\n",
      "11610/11610 [==============================] - 0s 24us/sample - loss: 0.4323 - val_loss: 0.4219\n",
      "Epoch 53/100\n",
      "11610/11610 [==============================] - 0s 25us/sample - loss: 0.4312 - val_loss: 0.4224\n",
      "Epoch 54/100\n",
      "11610/11610 [==============================] - 0s 25us/sample - loss: 0.4302 - val_loss: 0.4244\n",
      "Epoch 55/100\n",
      "11610/11610 [==============================] - 0s 24us/sample - loss: 0.4292 - val_loss: 0.4247\n",
      "Epoch 56/100\n",
      "11610/11610 [==============================] - 0s 25us/sample - loss: 0.4282 - val_loss: 0.4260\n",
      "Epoch 57/100\n",
      "11610/11610 [==============================] - 0s 25us/sample - loss: 0.4272 - val_loss: 0.4257\n",
      "Epoch 58/100\n",
      "11610/11610 [==============================] - 0s 25us/sample - loss: 0.4263 - val_loss: 0.4229\n",
      "Epoch 59/100\n",
      "11610/11610 [==============================] - 0s 25us/sample - loss: 0.4254 - val_loss: 0.4200\n",
      "Epoch 60/100\n",
      "11610/11610 [==============================] - 0s 25us/sample - loss: 0.4246 - val_loss: 0.4219\n",
      "Epoch 61/100\n",
      "11610/11610 [==============================] - 0s 24us/sample - loss: 0.4237 - val_loss: 0.4225\n",
      "Epoch 62/100\n",
      "11610/11610 [==============================] - 0s 25us/sample - loss: 0.4229 - val_loss: 0.4236\n",
      "Epoch 63/100\n",
      "11610/11610 [==============================] - 0s 24us/sample - loss: 0.4221 - val_loss: 0.4189\n",
      "Epoch 64/100\n",
      "11610/11610 [==============================] - 0s 25us/sample - loss: 0.4213 - val_loss: 0.4225\n",
      "Epoch 65/100\n",
      "11610/11610 [==============================] - 0s 24us/sample - loss: 0.4206 - val_loss: 0.4192\n",
      "Epoch 66/100\n",
      "11610/11610 [==============================] - 0s 25us/sample - loss: 0.4199 - val_loss: 0.4185\n",
      "Epoch 67/100\n",
      "11610/11610 [==============================] - 0s 24us/sample - loss: 0.4192 - val_loss: 0.4167\n",
      "Epoch 68/100\n",
      "11610/11610 [==============================] - 0s 24us/sample - loss: 0.4185 - val_loss: 0.4155\n",
      "Epoch 69/100\n",
      "11610/11610 [==============================] - 0s 24us/sample - loss: 0.4178 - val_loss: 0.4187\n",
      "Epoch 70/100\n",
      "11610/11610 [==============================] - 0s 24us/sample - loss: 0.4171 - val_loss: 0.4179\n",
      "Epoch 71/100\n",
      "11610/11610 [==============================] - 0s 24us/sample - loss: 0.4165 - val_loss: 0.4149\n",
      "Epoch 72/100\n",
      "11610/11610 [==============================] - 0s 24us/sample - loss: 0.4158 - val_loss: 0.4172\n",
      "Epoch 73/100\n",
      "11610/11610 [==============================] - 0s 24us/sample - loss: 0.4152 - val_loss: 0.4164\n",
      "Epoch 74/100\n",
      "11610/11610 [==============================] - 0s 24us/sample - loss: 0.4146 - val_loss: 0.4175\n",
      "Epoch 75/100\n",
      "11610/11610 [==============================] - 0s 25us/sample - loss: 0.4140 - val_loss: 0.4189\n",
      "Epoch 76/100\n",
      "11610/11610 [==============================] - 0s 25us/sample - loss: 0.4134 - val_loss: 0.4194\n",
      "Epoch 77/100\n",
      "11610/11610 [==============================] - 0s 25us/sample - loss: 0.4129 - val_loss: 0.4174\n",
      "Epoch 78/100\n",
      "11610/11610 [==============================] - 0s 24us/sample - loss: 0.4123 - val_loss: 0.4143\n",
      "Epoch 79/100\n",
      "11610/11610 [==============================] - 0s 24us/sample - loss: 0.4118 - val_loss: 0.4103\n",
      "Epoch 80/100\n",
      "11610/11610 [==============================] - 0s 24us/sample - loss: 0.4112 - val_loss: 0.4111\n",
      "Epoch 81/100\n",
      "11610/11610 [==============================] - 0s 25us/sample - loss: 0.4107 - val_loss: 0.4082\n",
      "Epoch 82/100\n",
      "11610/11610 [==============================] - 0s 25us/sample - loss: 0.4102 - val_loss: 0.4054\n",
      "Epoch 83/100\n",
      "11610/11610 [==============================] - 0s 25us/sample - loss: 0.4097 - val_loss: 0.4076\n",
      "Epoch 84/100\n",
      "11610/11610 [==============================] - 0s 25us/sample - loss: 0.4092 - val_loss: 0.4064\n",
      "Epoch 85/100\n",
      "11610/11610 [==============================] - 0s 25us/sample - loss: 0.4087 - val_loss: 0.4067\n",
      "Epoch 86/100\n",
      "11610/11610 [==============================] - 0s 25us/sample - loss: 0.4082 - val_loss: 0.4061\n",
      "Epoch 87/100\n",
      "11610/11610 [==============================] - 0s 25us/sample - loss: 0.4077 - val_loss: 0.4052\n",
      "Epoch 88/100\n",
      "11610/11610 [==============================] - 0s 25us/sample - loss: 0.4072 - val_loss: 0.4068\n",
      "Epoch 89/100\n",
      "11610/11610 [==============================] - 0s 26us/sample - loss: 0.4067 - val_loss: 0.4065\n",
      "Epoch 90/100\n",
      "11610/11610 [==============================] - 0s 25us/sample - loss: 0.4062 - val_loss: 0.4026\n",
      "Epoch 91/100\n",
      "11610/11610 [==============================] - 0s 25us/sample - loss: 0.4058 - val_loss: 0.4001\n",
      "Epoch 92/100\n",
      "11610/11610 [==============================] - 0s 24us/sample - loss: 0.4053 - val_loss: 0.4014\n",
      "Epoch 93/100\n",
      "11610/11610 [==============================] - 0s 24us/sample - loss: 0.4048 - val_loss: 0.4039\n",
      "Epoch 94/100\n",
      "11610/11610 [==============================] - 0s 24us/sample - loss: 0.4044 - val_loss: 0.4043\n",
      "Epoch 95/100\n",
      "11610/11610 [==============================] - 0s 24us/sample - loss: 0.4039 - val_loss: 0.4045\n",
      "Epoch 96/100\n",
      "11610/11610 [==============================] - 0s 25us/sample - loss: 0.4035 - val_loss: 0.4005\n",
      "Epoch 97/100\n",
      "11610/11610 [==============================] - 0s 24us/sample - loss: 0.4030 - val_loss: 0.4050\n",
      "Epoch 98/100\n",
      "11610/11610 [==============================] - 0s 25us/sample - loss: 0.4026 - val_loss: 0.4037\n",
      "Epoch 99/100\n",
      "11610/11610 [==============================] - 0s 25us/sample - loss: 0.4022 - val_loss: 0.3994\n",
      "Epoch 100/100\n",
      "11610/11610 [==============================] - 0s 25us/sample - loss: 0.4017 - val_loss: 0.4007\n",
      "Train on 11610 samples, validate on 3870 samples\n",
      "Epoch 1/100\n",
      "11610/11610 [==============================] - 0s 30us/sample - loss: 2.1829 - val_loss: 0.9804\n",
      "Epoch 2/100\n",
      "11610/11610 [==============================] - 0s 24us/sample - loss: 0.7667 - val_loss: 0.6578\n",
      "Epoch 3/100\n",
      "11610/11610 [==============================] - 0s 25us/sample - loss: 0.6489 - val_loss: 0.5981\n",
      "Epoch 4/100\n",
      "11610/11610 [==============================] - 0s 24us/sample - loss: 0.6071 - val_loss: 0.5915\n",
      "Epoch 5/100\n",
      "11610/11610 [==============================] - 0s 25us/sample - loss: 0.5763 - val_loss: 0.5374\n",
      "Epoch 6/100\n",
      "11610/11610 [==============================] - 0s 25us/sample - loss: 0.5497 - val_loss: 0.5270\n",
      "Epoch 7/100\n",
      "11610/11610 [==============================] - 0s 24us/sample - loss: 0.5277 - val_loss: 0.5151\n",
      "Epoch 8/100\n",
      "11610/11610 [==============================] - 0s 25us/sample - loss: 0.5098 - val_loss: 0.4837\n",
      "Epoch 9/100\n",
      "11610/11610 [==============================] - 0s 25us/sample - loss: 0.4941 - val_loss: 0.4637\n",
      "Epoch 10/100\n",
      "11610/11610 [==============================] - 0s 25us/sample - loss: 0.4815 - val_loss: 0.4527\n",
      "Epoch 11/100\n",
      "11610/11610 [==============================] - 0s 24us/sample - loss: 0.4710 - val_loss: 0.4477\n",
      "Epoch 12/100\n",
      "11610/11610 [==============================] - 0s 25us/sample - loss: 0.4618 - val_loss: 0.4346\n",
      "Epoch 13/100\n",
      "11610/11610 [==============================] - 0s 25us/sample - loss: 0.4546 - val_loss: 0.4275\n",
      "Epoch 14/100\n",
      "11610/11610 [==============================] - 0s 25us/sample - loss: 0.4480 - val_loss: 0.4268\n",
      "Epoch 15/100\n",
      "11610/11610 [==============================] - 0s 24us/sample - loss: 0.4426 - val_loss: 0.4267\n",
      "Epoch 16/100\n",
      "11610/11610 [==============================] - 0s 25us/sample - loss: 0.4376 - val_loss: 0.4360\n",
      "Epoch 17/100\n",
      "11610/11610 [==============================] - 0s 25us/sample - loss: 0.4336 - val_loss: 0.4314\n",
      "Epoch 18/100\n",
      "11610/11610 [==============================] - 0s 24us/sample - loss: 0.4298 - val_loss: 0.4405\n",
      "Epoch 19/100\n",
      "11610/11610 [==============================] - 0s 25us/sample - loss: 0.4265 - val_loss: 0.4228\n",
      "Epoch 20/100\n",
      "11610/11610 [==============================] - 0s 25us/sample - loss: 0.4232 - val_loss: 0.4082\n",
      "Epoch 21/100\n",
      "11610/11610 [==============================] - 0s 25us/sample - loss: 0.4207 - val_loss: 0.4409\n",
      "Epoch 22/100\n",
      "11610/11610 [==============================] - 0s 25us/sample - loss: 0.4181 - val_loss: 0.4130\n",
      "Epoch 23/100\n",
      "11610/11610 [==============================] - 0s 25us/sample - loss: 0.4157 - val_loss: 0.4052\n",
      "Epoch 24/100\n",
      "11610/11610 [==============================] - 0s 25us/sample - loss: 0.4142 - val_loss: 0.4125\n",
      "Epoch 25/100\n",
      "11610/11610 [==============================] - 0s 25us/sample - loss: 0.4120 - val_loss: 0.4192\n"
     ]
    },
    {
     "name": "stdout",
     "output_type": "stream",
     "text": [
      "Epoch 26/100\n",
      "11610/11610 [==============================] - 0s 25us/sample - loss: 0.4104 - val_loss: 0.4146\n",
      "Epoch 27/100\n",
      "11610/11610 [==============================] - 0s 24us/sample - loss: 0.4088 - val_loss: 0.4023\n",
      "Epoch 28/100\n",
      "11610/11610 [==============================] - 0s 24us/sample - loss: 0.4071 - val_loss: 0.4356\n",
      "Epoch 29/100\n",
      "11610/11610 [==============================] - 0s 25us/sample - loss: 0.4056 - val_loss: 0.4018\n",
      "Epoch 30/100\n",
      "11610/11610 [==============================] - 0s 26us/sample - loss: 0.4046 - val_loss: 0.4039\n",
      "Epoch 31/100\n",
      "11610/11610 [==============================] - 0s 26us/sample - loss: 0.4032 - val_loss: 0.4360\n",
      "Epoch 32/100\n",
      "11610/11610 [==============================] - 0s 24us/sample - loss: 0.4020 - val_loss: 0.4357\n",
      "Epoch 33/100\n",
      "11610/11610 [==============================] - 0s 25us/sample - loss: 0.4011 - val_loss: 0.4416\n",
      "Epoch 34/100\n",
      "11610/11610 [==============================] - 0s 26us/sample - loss: 0.4000 - val_loss: 0.4064\n",
      "Epoch 35/100\n",
      "11610/11610 [==============================] - 0s 26us/sample - loss: 0.3988 - val_loss: 0.3908\n",
      "Epoch 36/100\n",
      "11610/11610 [==============================] - 0s 26us/sample - loss: 0.3978 - val_loss: 0.3983\n",
      "Epoch 37/100\n",
      "11610/11610 [==============================] - 0s 25us/sample - loss: 0.3968 - val_loss: 0.3975\n",
      "Epoch 38/100\n",
      "11610/11610 [==============================] - 0s 24us/sample - loss: 0.3958 - val_loss: 0.4109\n",
      "Epoch 39/100\n",
      "11610/11610 [==============================] - 0s 25us/sample - loss: 0.3947 - val_loss: 0.4230\n",
      "Epoch 40/100\n",
      "11610/11610 [==============================] - 0s 25us/sample - loss: 0.3942 - val_loss: 0.3955\n",
      "Epoch 41/100\n",
      "11610/11610 [==============================] - 0s 24us/sample - loss: 0.3931 - val_loss: 0.4061\n",
      "Epoch 42/100\n",
      "11610/11610 [==============================] - 0s 25us/sample - loss: 0.3923 - val_loss: 0.3940\n",
      "Epoch 43/100\n",
      "11610/11610 [==============================] - 0s 25us/sample - loss: 0.3912 - val_loss: 0.4159\n",
      "Epoch 44/100\n",
      "11610/11610 [==============================] - 0s 25us/sample - loss: 0.3906 - val_loss: 0.4186\n",
      "Epoch 45/100\n",
      "11610/11610 [==============================] - 0s 24us/sample - loss: 0.3896 - val_loss: 0.4295\n",
      "Train on 11610 samples, validate on 3870 samples\n",
      "Epoch 1/100\n",
      "11610/11610 [==============================] - 0s 32us/sample - loss: 1.2922 - val_loss: 1.1343\n",
      "Epoch 2/100\n",
      "11610/11610 [==============================] - 0s 24us/sample - loss: 0.6797 - val_loss: 1.0562\n",
      "Epoch 3/100\n",
      "11610/11610 [==============================] - 0s 26us/sample - loss: 0.5878 - val_loss: 0.6567\n",
      "Epoch 4/100\n",
      "11610/11610 [==============================] - 0s 25us/sample - loss: 0.5314 - val_loss: 0.8019\n",
      "Epoch 5/100\n",
      "11610/11610 [==============================] - 0s 24us/sample - loss: 0.4890 - val_loss: 0.4476\n",
      "Epoch 6/100\n",
      "11610/11610 [==============================] - 0s 25us/sample - loss: 0.4613 - val_loss: 0.6322\n",
      "Epoch 7/100\n",
      "11610/11610 [==============================] - 0s 24us/sample - loss: 0.4429 - val_loss: 0.4535\n",
      "Epoch 8/100\n",
      "11610/11610 [==============================] - 0s 24us/sample - loss: 0.4303 - val_loss: 0.6602\n",
      "Epoch 9/100\n",
      "11610/11610 [==============================] - 0s 25us/sample - loss: 0.4222 - val_loss: 0.4173\n",
      "Epoch 10/100\n",
      "11610/11610 [==============================] - 0s 24us/sample - loss: 0.4153 - val_loss: 0.6532\n",
      "Epoch 11/100\n",
      "11610/11610 [==============================] - 0s 24us/sample - loss: 0.4114 - val_loss: 0.3877\n",
      "Epoch 12/100\n",
      "11610/11610 [==============================] - 0s 26us/sample - loss: 0.4055 - val_loss: 0.3835\n",
      "Epoch 13/100\n",
      "11610/11610 [==============================] - 0s 25us/sample - loss: 0.4030 - val_loss: 0.3690\n",
      "Epoch 14/100\n",
      "11610/11610 [==============================] - 0s 25us/sample - loss: 0.3986 - val_loss: 0.5334\n",
      "Epoch 15/100\n",
      "11610/11610 [==============================] - 0s 25us/sample - loss: 0.3978 - val_loss: 0.4452\n",
      "Epoch 16/100\n",
      "11610/11610 [==============================] - 0s 24us/sample - loss: 0.3954 - val_loss: 0.4765\n",
      "Epoch 17/100\n",
      "11610/11610 [==============================] - 0s 23us/sample - loss: 0.3910 - val_loss: 0.4111\n",
      "Epoch 18/100\n",
      "11610/11610 [==============================] - 0s 25us/sample - loss: 0.3902 - val_loss: 0.7240\n",
      "Epoch 19/100\n",
      "11610/11610 [==============================] - 0s 24us/sample - loss: 0.3911 - val_loss: 0.3566\n",
      "Epoch 20/100\n",
      "11610/11610 [==============================] - 0s 24us/sample - loss: 0.3849 - val_loss: 0.4674\n",
      "Epoch 21/100\n",
      "11610/11610 [==============================] - 0s 25us/sample - loss: 0.3841 - val_loss: 0.3613\n",
      "Epoch 22/100\n",
      "11610/11610 [==============================] - 0s 23us/sample - loss: 0.3822 - val_loss: 0.3558\n",
      "Epoch 23/100\n",
      "11610/11610 [==============================] - 0s 25us/sample - loss: 0.3798 - val_loss: 0.4956\n",
      "Epoch 24/100\n",
      "11610/11610 [==============================] - 0s 24us/sample - loss: 0.3807 - val_loss: 0.3632\n",
      "Epoch 25/100\n",
      "11610/11610 [==============================] - 0s 26us/sample - loss: 0.3779 - val_loss: 0.4178\n",
      "Epoch 26/100\n",
      "11610/11610 [==============================] - 0s 25us/sample - loss: 0.3771 - val_loss: 0.3480\n",
      "Epoch 27/100\n",
      "11610/11610 [==============================] - 0s 24us/sample - loss: 0.3753 - val_loss: 0.6938\n",
      "Epoch 28/100\n",
      "11610/11610 [==============================] - 0s 25us/sample - loss: 0.3764 - val_loss: 0.3493\n",
      "Epoch 29/100\n",
      "11610/11610 [==============================] - 0s 25us/sample - loss: 0.3727 - val_loss: 0.6518\n",
      "Epoch 30/100\n",
      "11610/11610 [==============================] - 0s 26us/sample - loss: 0.3736 - val_loss: 0.3531\n",
      "Epoch 31/100\n",
      "11610/11610 [==============================] - 0s 24us/sample - loss: 0.3707 - val_loss: 0.3475\n",
      "Epoch 32/100\n",
      "11610/11610 [==============================] - 0s 25us/sample - loss: 0.3701 - val_loss: 0.4139\n",
      "Epoch 33/100\n",
      "11610/11610 [==============================] - 0s 24us/sample - loss: 0.3687 - val_loss: 0.4336\n",
      "Epoch 34/100\n",
      "11610/11610 [==============================] - 0s 24us/sample - loss: 0.3681 - val_loss: 0.4520\n",
      "Epoch 35/100\n",
      "11610/11610 [==============================] - 0s 24us/sample - loss: 0.3677 - val_loss: 0.4667\n",
      "Epoch 36/100\n",
      "11610/11610 [==============================] - 0s 24us/sample - loss: 0.3676 - val_loss: 0.6854\n",
      "Epoch 37/100\n",
      "11610/11610 [==============================] - 0s 24us/sample - loss: 0.3672 - val_loss: 0.5687\n",
      "Epoch 38/100\n",
      "11610/11610 [==============================] - 0s 25us/sample - loss: 0.3689 - val_loss: 1.5257\n",
      "Epoch 39/100\n",
      "11610/11610 [==============================] - 0s 24us/sample - loss: 0.3738 - val_loss: 1.0619\n",
      "Epoch 40/100\n",
      "11610/11610 [==============================] - 0s 24us/sample - loss: 0.3682 - val_loss: 1.5862\n",
      "Epoch 41/100\n",
      "11610/11610 [==============================] - 0s 25us/sample - loss: 0.3734 - val_loss: 1.0452\n",
      "Train on 11610 samples, validate on 3870 samples\n",
      "Epoch 1/100\n",
      "11610/11610 [==============================] - 0s 31us/sample - loss: 0.9594 - val_loss: 10.8265\n",
      "Epoch 2/100\n",
      "11610/11610 [==============================] - 0s 25us/sample - loss: 0.6603 - val_loss: 12.7610\n",
      "Epoch 3/100\n",
      "11610/11610 [==============================] - 0s 25us/sample - loss: 0.5270 - val_loss: 0.7455\n",
      "Epoch 4/100\n",
      "11610/11610 [==============================] - 0s 25us/sample - loss: 0.4157 - val_loss: 0.4155\n",
      "Epoch 5/100\n",
      "11610/11610 [==============================] - 0s 25us/sample - loss: 0.3969 - val_loss: 0.3865\n",
      "Epoch 6/100\n",
      "11610/11610 [==============================] - 0s 25us/sample - loss: 0.3887 - val_loss: 0.4617\n",
      "Epoch 7/100\n",
      "11610/11610 [==============================] - 0s 25us/sample - loss: 0.3869 - val_loss: 0.4557\n",
      "Epoch 8/100\n",
      "11610/11610 [==============================] - 0s 24us/sample - loss: 0.3794 - val_loss: 0.4554\n",
      "Epoch 9/100\n",
      "11610/11610 [==============================] - 0s 25us/sample - loss: 0.3753 - val_loss: 0.4275\n",
      "Epoch 10/100\n",
      "11610/11610 [==============================] - 0s 25us/sample - loss: 0.3715 - val_loss: 0.3980\n",
      "Epoch 11/100\n",
      "11610/11610 [==============================] - 0s 25us/sample - loss: 0.3682 - val_loss: 0.3728\n",
      "Epoch 12/100\n",
      "11610/11610 [==============================] - 0s 24us/sample - loss: 0.3753 - val_loss: 0.3712\n",
      "Epoch 13/100\n",
      "11610/11610 [==============================] - 0s 25us/sample - loss: 0.3653 - val_loss: 0.3782\n",
      "Epoch 14/100\n",
      "11610/11610 [==============================] - 0s 25us/sample - loss: 0.3629 - val_loss: 0.4035\n",
      "Epoch 15/100\n",
      "11610/11610 [==============================] - 0s 24us/sample - loss: 0.3607 - val_loss: 0.4157\n",
      "Epoch 16/100\n",
      "11610/11610 [==============================] - 0s 25us/sample - loss: 0.3629 - val_loss: 0.4117\n",
      "Epoch 17/100\n",
      "11610/11610 [==============================] - 0s 25us/sample - loss: 0.3583 - val_loss: 0.4087\n",
      "Epoch 18/100\n",
      "11610/11610 [==============================] - 0s 24us/sample - loss: 0.3550 - val_loss: 0.3872\n",
      "Epoch 19/100\n",
      "11610/11610 [==============================] - 0s 24us/sample - loss: 0.3541 - val_loss: 0.3748\n",
      "Epoch 20/100\n",
      "11610/11610 [==============================] - 0s 25us/sample - loss: 0.3531 - val_loss: 0.3533\n",
      "Epoch 21/100\n",
      "11610/11610 [==============================] - 0s 24us/sample - loss: 0.3506 - val_loss: 0.3579\n",
      "Epoch 22/100\n",
      "11610/11610 [==============================] - 0s 25us/sample - loss: 0.3552 - val_loss: 0.4003\n",
      "Epoch 23/100\n",
      "11610/11610 [==============================] - 0s 25us/sample - loss: 0.3490 - val_loss: 0.3490\n",
      "Epoch 24/100\n",
      "11610/11610 [==============================] - 0s 25us/sample - loss: 0.3490 - val_loss: 0.3550\n",
      "Epoch 25/100\n",
      "11610/11610 [==============================] - 0s 25us/sample - loss: 0.3465 - val_loss: 0.3675\n",
      "Epoch 26/100\n",
      "11610/11610 [==============================] - 0s 24us/sample - loss: 0.3454 - val_loss: 0.3595\n",
      "Epoch 27/100\n",
      "11610/11610 [==============================] - 0s 24us/sample - loss: 0.3442 - val_loss: 0.3711\n",
      "Epoch 28/100\n",
      "11610/11610 [==============================] - 0s 25us/sample - loss: 0.3434 - val_loss: 0.3687\n",
      "Epoch 29/100\n",
      "11610/11610 [==============================] - 0s 25us/sample - loss: 0.3434 - val_loss: 0.4168\n",
      "Epoch 30/100\n",
      "11610/11610 [==============================] - 0s 25us/sample - loss: 0.3454 - val_loss: 0.3382\n",
      "Epoch 31/100\n",
      "11610/11610 [==============================] - 0s 24us/sample - loss: 0.3409 - val_loss: 0.4015\n",
      "Epoch 32/100\n",
      "11610/11610 [==============================] - 0s 24us/sample - loss: 0.3443 - val_loss: 0.3504\n",
      "Epoch 33/100\n",
      "11610/11610 [==============================] - 0s 24us/sample - loss: 0.3403 - val_loss: 0.3526\n",
      "Epoch 34/100\n",
      "11610/11610 [==============================] - 0s 25us/sample - loss: 0.3416 - val_loss: 0.3870\n",
      "Epoch 35/100\n",
      "11610/11610 [==============================] - 0s 24us/sample - loss: 0.3348 - val_loss: 0.3369\n",
      "Epoch 36/100\n",
      "11610/11610 [==============================] - 0s 25us/sample - loss: 0.3320 - val_loss: 0.3623\n",
      "Epoch 37/100\n",
      "11610/11610 [==============================] - 0s 25us/sample - loss: 0.3315 - val_loss: 0.3361\n",
      "Epoch 38/100\n",
      "11610/11610 [==============================] - 0s 25us/sample - loss: 0.3293 - val_loss: 0.4118\n",
      "Epoch 39/100\n",
      "11610/11610 [==============================] - 0s 24us/sample - loss: 0.3282 - val_loss: 0.5137\n",
      "Epoch 40/100\n",
      "11610/11610 [==============================] - 0s 24us/sample - loss: 0.3296 - val_loss: 0.4457\n",
      "Epoch 41/100\n",
      "11610/11610 [==============================] - 0s 25us/sample - loss: 0.3266 - val_loss: 0.3127\n",
      "Epoch 42/100\n",
      "11610/11610 [==============================] - 0s 27us/sample - loss: 0.3292 - val_loss: 0.3509\n",
      "Epoch 43/100\n",
      "11610/11610 [==============================] - 0s 25us/sample - loss: 0.3242 - val_loss: 0.3139\n",
      "Epoch 44/100\n",
      "11610/11610 [==============================] - 0s 26us/sample - loss: 0.3228 - val_loss: 0.3216\n",
      "Epoch 45/100\n",
      "11610/11610 [==============================] - 0s 25us/sample - loss: 0.3207 - val_loss: 0.3265\n",
      "Epoch 46/100\n",
      "11610/11610 [==============================] - 0s 24us/sample - loss: 0.3192 - val_loss: 0.3115\n",
      "Epoch 47/100\n",
      "11610/11610 [==============================] - 0s 30us/sample - loss: 0.3179 - val_loss: 0.3515\n",
      "Epoch 48/100\n",
      "11610/11610 [==============================] - 0s 25us/sample - loss: 0.3165 - val_loss: 0.3710\n",
      "Epoch 49/100\n",
      "11610/11610 [==============================] - 0s 26us/sample - loss: 0.3162 - val_loss: 0.3070\n",
      "Epoch 50/100\n",
      "11610/11610 [==============================] - 0s 27us/sample - loss: 0.3164 - val_loss: 0.3112\n",
      "Epoch 51/100\n",
      "11610/11610 [==============================] - 0s 26us/sample - loss: 0.3157 - val_loss: 0.3260\n",
      "Epoch 52/100\n",
      "11610/11610 [==============================] - 0s 26us/sample - loss: 0.3139 - val_loss: 0.3832\n",
      "Epoch 53/100\n",
      "11610/11610 [==============================] - 0s 25us/sample - loss: 0.3126 - val_loss: 0.3289\n",
      "Epoch 54/100\n",
      "11610/11610 [==============================] - 0s 26us/sample - loss: 0.3139 - val_loss: 0.3506\n",
      "Epoch 55/100\n",
      "11610/11610 [==============================] - 0s 27us/sample - loss: 0.3106 - val_loss: 0.3955\n",
      "Epoch 56/100\n",
      "11610/11610 [==============================] - 0s 26us/sample - loss: 0.3114 - val_loss: 0.3475\n",
      "Epoch 57/100\n",
      "11610/11610 [==============================] - 0s 27us/sample - loss: 0.3094 - val_loss: 0.4571\n",
      "Epoch 58/100\n",
      "11610/11610 [==============================] - 0s 30us/sample - loss: 0.3085 - val_loss: 0.3054\n",
      "Epoch 59/100\n",
      "11610/11610 [==============================] - 0s 28us/sample - loss: 0.3096 - val_loss: 0.3493\n",
      "Epoch 60/100\n",
      "11610/11610 [==============================] - 0s 28us/sample - loss: 0.3077 - val_loss: 0.3734\n",
      "Epoch 61/100\n",
      "11610/11610 [==============================] - 0s 26us/sample - loss: 0.3117 - val_loss: 0.3000\n",
      "Epoch 62/100\n",
      "11610/11610 [==============================] - 0s 24us/sample - loss: 0.3062 - val_loss: 0.6301\n",
      "Epoch 63/100\n",
      "11610/11610 [==============================] - 0s 26us/sample - loss: 0.3070 - val_loss: 0.3100\n",
      "Epoch 64/100\n",
      "11610/11610 [==============================] - 0s 25us/sample - loss: 0.3065 - val_loss: 0.3365\n",
      "Epoch 65/100\n",
      "11610/11610 [==============================] - 0s 25us/sample - loss: 0.3071 - val_loss: 0.2966\n",
      "Epoch 66/100\n",
      "11610/11610 [==============================] - 0s 25us/sample - loss: 0.3046 - val_loss: 0.2988\n",
      "Epoch 67/100\n",
      "11610/11610 [==============================] - 0s 25us/sample - loss: 0.3034 - val_loss: 0.3246\n",
      "Epoch 68/100\n",
      "11610/11610 [==============================] - 0s 25us/sample - loss: 0.3048 - val_loss: 0.3378\n",
      "Epoch 69/100\n",
      "11610/11610 [==============================] - 0s 27us/sample - loss: 0.3036 - val_loss: 0.2911\n",
      "Epoch 70/100\n",
      "11610/11610 [==============================] - 0s 26us/sample - loss: 0.3021 - val_loss: 0.3074\n",
      "Epoch 71/100\n",
      "11610/11610 [==============================] - 0s 28us/sample - loss: 0.3030 - val_loss: 0.3311\n",
      "Epoch 72/100\n",
      "11610/11610 [==============================] - 0s 25us/sample - loss: 0.3015 - val_loss: 0.3959\n",
      "Epoch 73/100\n",
      "11610/11610 [==============================] - 0s 25us/sample - loss: 0.3005 - val_loss: 0.3096\n",
      "Epoch 74/100\n",
      "11610/11610 [==============================] - 0s 26us/sample - loss: 0.3017 - val_loss: 0.3799\n",
      "Epoch 75/100\n",
      "11610/11610 [==============================] - 0s 25us/sample - loss: 0.3040 - val_loss: 0.4608\n",
      "Epoch 76/100\n",
      "11610/11610 [==============================] - 0s 25us/sample - loss: 0.3012 - val_loss: 0.2913\n",
      "Epoch 77/100\n",
      "11610/11610 [==============================] - 0s 25us/sample - loss: 0.3002 - val_loss: 0.2933\n",
      "Epoch 78/100\n",
      "11610/11610 [==============================] - 0s 24us/sample - loss: 0.2996 - val_loss: 0.3075\n",
      "Epoch 79/100\n",
      "11610/11610 [==============================] - 0s 26us/sample - loss: 0.2998 - val_loss: 0.5837\n",
      "Train on 11610 samples, validate on 3870 samples\n",
      "Epoch 1/100\n",
      "11610/11610 [==============================] - 0s 31us/sample - loss: 0.6156 - val_loss: 1.5985\n",
      "Epoch 2/100\n",
      "11610/11610 [==============================] - 0s 25us/sample - loss: 0.4520 - val_loss: 1.2095\n",
      "Epoch 3/100\n",
      "11610/11610 [==============================] - 0s 26us/sample - loss: 0.4239 - val_loss: 4.3034\n",
      "Epoch 4/100\n",
      "11610/11610 [==============================] - 0s 25us/sample - loss: 0.4423 - val_loss: 0.3863\n",
      "Epoch 5/100\n",
      "11610/11610 [==============================] - 0s 26us/sample - loss: 0.3909 - val_loss: 0.3629\n",
      "Epoch 6/100\n",
      "11610/11610 [==============================] - 0s 26us/sample - loss: 0.3821 - val_loss: 0.4223\n",
      "Epoch 7/100\n",
      "11610/11610 [==============================] - 0s 25us/sample - loss: 0.3842 - val_loss: 0.3623\n",
      "Epoch 8/100\n",
      "11610/11610 [==============================] - 0s 24us/sample - loss: 0.3745 - val_loss: 0.3483\n",
      "Epoch 9/100\n",
      "11610/11610 [==============================] - 0s 25us/sample - loss: 0.3867 - val_loss: 0.3490\n"
     ]
    },
    {
     "name": "stdout",
     "output_type": "stream",
     "text": [
      "Epoch 10/100\n",
      "11610/11610 [==============================] - 0s 26us/sample - loss: 0.3702 - val_loss: 0.3348\n",
      "Epoch 11/100\n",
      "11610/11610 [==============================] - 0s 29us/sample - loss: 0.3605 - val_loss: 0.3318\n",
      "Epoch 12/100\n",
      "11610/11610 [==============================] - 0s 26us/sample - loss: 0.3970 - val_loss: 0.3365\n",
      "Epoch 13/100\n",
      "11610/11610 [==============================] - 0s 28us/sample - loss: 0.3620 - val_loss: 0.3375\n",
      "Epoch 14/100\n",
      "11610/11610 [==============================] - 0s 26us/sample - loss: 0.3560 - val_loss: 0.3324\n",
      "Epoch 15/100\n",
      "11610/11610 [==============================] - 0s 28us/sample - loss: 0.3512 - val_loss: 0.3327\n",
      "Epoch 16/100\n",
      "11610/11610 [==============================] - 0s 29us/sample - loss: 0.3482 - val_loss: 0.3252\n",
      "Epoch 17/100\n",
      "11610/11610 [==============================] - 0s 32us/sample - loss: 0.3453 - val_loss: 0.3431\n",
      "Epoch 18/100\n",
      "11610/11610 [==============================] - 0s 30us/sample - loss: 0.3434 - val_loss: 0.3245\n",
      "Epoch 19/100\n",
      "11610/11610 [==============================] - 0s 34us/sample - loss: 0.3457 - val_loss: 0.3210\n",
      "Epoch 20/100\n",
      "11610/11610 [==============================] - 0s 30us/sample - loss: 0.3380 - val_loss: 0.3182\n",
      "Epoch 21/100\n",
      "11610/11610 [==============================] - 0s 29us/sample - loss: 0.3405 - val_loss: 0.3245\n",
      "Epoch 22/100\n",
      "11610/11610 [==============================] - 0s 35us/sample - loss: 0.3366 - val_loss: 0.3134\n",
      "Epoch 23/100\n",
      "11610/11610 [==============================] - 0s 28us/sample - loss: 0.3338 - val_loss: 0.3219\n",
      "Epoch 24/100\n",
      "11610/11610 [==============================] - 0s 24us/sample - loss: 0.3347 - val_loss: 0.3165\n",
      "Epoch 25/100\n",
      "11610/11610 [==============================] - 0s 24us/sample - loss: 0.3488 - val_loss: 0.3143\n",
      "Epoch 26/100\n",
      "11610/11610 [==============================] - 0s 25us/sample - loss: 0.3319 - val_loss: 0.3272\n",
      "Epoch 27/100\n",
      "11610/11610 [==============================] - 0s 25us/sample - loss: 0.3328 - val_loss: 0.3171\n",
      "Epoch 28/100\n",
      "11610/11610 [==============================] - 0s 24us/sample - loss: 0.3303 - val_loss: 0.3205\n",
      "Epoch 29/100\n",
      "11610/11610 [==============================] - 0s 25us/sample - loss: 0.3271 - val_loss: 0.3181\n",
      "Epoch 30/100\n",
      "11610/11610 [==============================] - 0s 30us/sample - loss: 0.3263 - val_loss: 0.3157\n",
      "Epoch 31/100\n",
      "11610/11610 [==============================] - 0s 32us/sample - loss: 0.3260 - val_loss: 0.3079\n",
      "Epoch 32/100\n",
      "11610/11610 [==============================] - 0s 29us/sample - loss: 0.3251 - val_loss: 0.3083\n",
      "Epoch 33/100\n",
      "11610/11610 [==============================] - 0s 25us/sample - loss: 0.3214 - val_loss: 0.3259\n",
      "Epoch 34/100\n",
      "11610/11610 [==============================] - 0s 31us/sample - loss: 0.3219 - val_loss: 0.3118\n",
      "Epoch 35/100\n",
      "11610/11610 [==============================] - 0s 28us/sample - loss: 0.3278 - val_loss: 0.2997\n",
      "Epoch 36/100\n",
      "11610/11610 [==============================] - 0s 25us/sample - loss: 0.3251 - val_loss: 0.3015\n",
      "Epoch 37/100\n",
      "11610/11610 [==============================] - 0s 24us/sample - loss: 0.3186 - val_loss: 0.3012\n",
      "Epoch 38/100\n",
      "11610/11610 [==============================] - 0s 25us/sample - loss: 0.3169 - val_loss: 0.3168\n",
      "Epoch 39/100\n",
      "11610/11610 [==============================] - 0s 24us/sample - loss: 0.3164 - val_loss: 0.3126\n",
      "Epoch 40/100\n",
      "11610/11610 [==============================] - 0s 26us/sample - loss: 0.3164 - val_loss: 0.3018\n",
      "Epoch 41/100\n",
      "11610/11610 [==============================] - 0s 35us/sample - loss: 0.3169 - val_loss: 0.3049\n",
      "Epoch 42/100\n",
      "11610/11610 [==============================] - 0s 30us/sample - loss: 0.3261 - val_loss: 0.2981\n",
      "Epoch 43/100\n",
      "11610/11610 [==============================] - 0s 25us/sample - loss: 0.3287 - val_loss: 0.3040\n",
      "Epoch 44/100\n",
      "11610/11610 [==============================] - 0s 25us/sample - loss: 0.3157 - val_loss: 0.3040\n",
      "Epoch 45/100\n",
      "11610/11610 [==============================] - 0s 24us/sample - loss: 0.3125 - val_loss: 0.2988\n",
      "Epoch 46/100\n",
      "11610/11610 [==============================] - 0s 25us/sample - loss: 0.3125 - val_loss: 0.2993\n",
      "Epoch 47/100\n",
      "11610/11610 [==============================] - 0s 29us/sample - loss: 0.3122 - val_loss: 0.4534\n",
      "Epoch 48/100\n",
      "11610/11610 [==============================] - 0s 27us/sample - loss: 0.3125 - val_loss: 0.3024\n",
      "Epoch 49/100\n",
      "11610/11610 [==============================] - 0s 27us/sample - loss: 0.3121 - val_loss: 0.3839\n",
      "Epoch 50/100\n",
      "11610/11610 [==============================] - 0s 29us/sample - loss: 0.3112 - val_loss: 0.2995\n",
      "Epoch 51/100\n",
      "11610/11610 [==============================] - 0s 24us/sample - loss: 0.3095 - val_loss: 0.3073\n",
      "Epoch 52/100\n",
      "11610/11610 [==============================] - 0s 24us/sample - loss: 0.3090 - val_loss: 0.2907\n",
      "Epoch 53/100\n",
      "11610/11610 [==============================] - 0s 24us/sample - loss: 0.3088 - val_loss: 0.2987\n",
      "Epoch 54/100\n",
      "11610/11610 [==============================] - 0s 24us/sample - loss: 0.3107 - val_loss: 0.3087\n",
      "Epoch 55/100\n",
      "11610/11610 [==============================] - 0s 23us/sample - loss: 0.3082 - val_loss: 0.3547\n",
      "Epoch 56/100\n",
      "11610/11610 [==============================] - 0s 25us/sample - loss: 0.3094 - val_loss: 0.2995\n",
      "Epoch 57/100\n",
      "11610/11610 [==============================] - 0s 30us/sample - loss: 0.3091 - val_loss: 0.2992\n",
      "Epoch 58/100\n",
      "11610/11610 [==============================] - 0s 28us/sample - loss: 0.3065 - val_loss: 0.3257\n",
      "Epoch 59/100\n",
      "11610/11610 [==============================] - 0s 25us/sample - loss: 0.3089 - val_loss: 0.3040\n",
      "Epoch 60/100\n",
      "11610/11610 [==============================] - 0s 24us/sample - loss: 0.3126 - val_loss: 0.3469\n",
      "Epoch 61/100\n",
      "11610/11610 [==============================] - 0s 26us/sample - loss: 0.3117 - val_loss: 0.2946\n",
      "Epoch 62/100\n",
      "11610/11610 [==============================] - 0s 30us/sample - loss: 0.3094 - val_loss: 0.3037\n"
     ]
    }
   ],
   "source": [
    "learning_rates = [1e-4, 3e-4, 1e-3, 3e-3, 1e-2, 3e-2]\n",
    "histories = []\n",
    "for learning_rate in learning_rates:\n",
    "    model = keras.models.Sequential([\n",
    "        keras.layers.Dense(30, activation=\"relu\", input_shape=X_train.shape[1:]),\n",
    "        keras.layers.Dense(1)\n",
    "    ])\n",
    "    optimizer = keras.optimizers.SGD(learning_rate)\n",
    "    model.compile(loss=\"mean_squared_error\", optimizer=optimizer)\n",
    "    callbacks = [keras.callbacks.EarlyStopping(patience=10)]\n",
    "    history = model.fit(X_train_scaled, y_train,\n",
    "                        validation_data=(X_valid_scaled, y_valid), epochs=100,\n",
    "                        callbacks=callbacks)\n",
    "    histories.append(history)"
   ]
  },
  {
   "cell_type": "code",
   "execution_count": 125,
   "metadata": {},
   "outputs": [
    {
     "name": "stdout",
     "output_type": "stream",
     "text": [
      "Learning rate: 0.0001\n"
     ]
    },
    {
     "data": {
      "image/png": "[encoded data removed]",
      "text/plain": [
       "<Figure size 576x360 with 1 Axes>"
      ]
     },
     "metadata": {
      "needs_background": "light"
     },
     "output_type": "display_data"
    },
    {
     "name": "stdout",
     "output_type": "stream",
     "text": [
      "Learning rate: 0.0003\n"
     ]
    },
    {
     "data": {
      "image/png": "[encoded data removed]",
      "text/plain": [
       "<Figure size 576x360 with 1 Axes>"
      ]
     },
     "metadata": {
      "needs_background": "light"
     },
     "output_type": "display_data"
    },
    {
     "name": "stdout",
     "output_type": "stream",
     "text": [
      "Learning rate: 0.001\n"
     ]
    },
    {
     "data": {
      "image/png": "[encoded data removed]",
      "text/plain": [
       "<Figure size 576x360 with 1 Axes>"
      ]
     },
     "metadata": {
      "needs_background": "light"
     },
     "output_type": "display_data"
    },
    {
     "name": "stdout",
     "output_type": "stream",
     "text": [
      "Learning rate: 0.003\n"
     ]
    },
    {
     "data": {
      "image/png": "[encoded data removed]",
      "text/plain": [
       "<Figure size 576x360 with 1 Axes>"
      ]
     },
     "metadata": {
      "needs_background": "light"
     },
     "output_type": "display_data"
    },
    {
     "name": "stdout",
     "output_type": "stream",
     "text": [
      "Learning rate: 0.01\n"
     ]
    },
    {
     "data": {
      "image/png": "[encoded data removed]",
      "text/plain": [
       "<Figure size 576x360 with 1 Axes>"
      ]
     },
     "metadata": {
      "needs_background": "light"
     },
     "output_type": "display_data"
    },
    {
     "name": "stdout",
     "output_type": "stream",
     "text": [
      "Learning rate: 0.03\n"
     ]
    },
    {
     "data": {
      "image/png": "[encoded data removed]",
      "text/plain": [
       "<Figure size 576x360 with 1 Axes>"
      ]
     },
     "metadata": {
      "needs_background": "light"
     },
     "output_type": "display_data"
    }
   ],
   "source": [
    "for learning_rate, history in zip(learning_rates, histories):\n",
    "    print(\"Learning rate:\", learning_rate)\n",
    "    plot_learning_curves(history)"
   ]
  },
  {
   "cell_type": "markdown",
   "metadata": {},
   "source": [
    "### 6.2)\n",
    "Let's look at a more sophisticated way to tune hyperparameters. Create a `build_model()` function that takes three arguments, `n_hidden`, `n_neurons`, `learning_rate`, and builds, compiles and returns a model with the given number of hidden layers, the given number of neurons and the given learning rate. It is good practice to give a reasonable default value to each argument."
   ]
  },
  {
   "cell_type": "code",
   "execution_count": 126,
   "metadata": {},
   "outputs": [],
   "source": [
    "def build_model(n_hidden=1, n_neurons=30, learning_rate=3e-3):\n",
    "    model = keras.models.Sequential()\n",
    "    options = {\"input_shape\": X_train.shape[1:]}\n",
    "    for layer in range(n_hidden + 1):\n",
    "        model.add(keras.layers.Dense(n_neurons, activation=\"relu\", **options))\n",
    "        options = {}\n",
    "    model.add(keras.layers.Dense(1, **options))\n",
    "    optimizer = keras.optimizers.SGD(learning_rate)\n",
    "    model.compile(loss=\"mse\", optimizer=optimizer)\n",
    "    return model"
   ]
  },
  {
   "cell_type": "markdown",
   "metadata": {},
   "source": [
    "### 6.3)\n",
    "Create a `keras.wrappers.scikit_learn.KerasRegressor` and pass the `build_model` function to the constructor. This gives you a Scikit-Learn compatible predictor. Try training it and using it to make predictions. Note that you can pass the `n_epochs`, `callbacks` and `validation_data` to the `fit()` method."
   ]
  },
  {
   "cell_type": "code",
   "execution_count": 127,
   "metadata": {},
   "outputs": [],
   "source": [
    "keras_reg = keras.wrappers.scikit_learn.KerasRegressor(build_model)"
   ]
  },
  {
   "cell_type": "code",
   "execution_count": 128,
   "metadata": {},
   "outputs": [
    {
     "name": "stdout",
     "output_type": "stream",
     "text": [
      "Train on 11610 samples, validate on 3870 samples\n",
      "Epoch 1/100\n",
      "11610/11610 [==============================] - 0s 34us/sample - loss: 0.8625 - val_loss: 4.9468\n",
      "Epoch 2/100\n",
      "11610/11610 [==============================] - 0s 28us/sample - loss: 0.5869 - val_loss: 2.8155\n",
      "Epoch 3/100\n",
      "11610/11610 [==============================] - 0s 28us/sample - loss: 0.5051 - val_loss: 0.7310\n",
      "Epoch 4/100\n",
      "11610/11610 [==============================] - 0s 27us/sample - loss: 0.4557 - val_loss: 0.4712\n",
      "Epoch 5/100\n",
      "11610/11610 [==============================] - 0s 26us/sample - loss: 0.4302 - val_loss: 0.3938\n",
      "Epoch 6/100\n",
      "11610/11610 [==============================] - 0s 27us/sample - loss: 0.4138 - val_loss: 0.4067\n",
      "Epoch 7/100\n",
      "11610/11610 [==============================] - 0s 27us/sample - loss: 0.4023 - val_loss: 0.3769\n",
      "Epoch 8/100\n",
      "11610/11610 [==============================] - 0s 28us/sample - loss: 0.3938 - val_loss: 0.3808\n",
      "Epoch 9/100\n",
      "11610/11610 [==============================] - 0s 27us/sample - loss: 0.3865 - val_loss: 0.3859\n",
      "Epoch 10/100\n",
      "11610/11610 [==============================] - 0s 27us/sample - loss: 0.3802 - val_loss: 0.3752\n",
      "Epoch 11/100\n",
      "11610/11610 [==============================] - 0s 27us/sample - loss: 0.3754 - val_loss: 0.3679\n",
      "Epoch 12/100\n",
      "11610/11610 [==============================] - 0s 27us/sample - loss: 0.3715 - val_loss: 0.3568\n",
      "Epoch 13/100\n",
      "11610/11610 [==============================] - 0s 26us/sample - loss: 0.3682 - val_loss: 0.3630\n",
      "Epoch 14/100\n",
      "11610/11610 [==============================] - 0s 26us/sample - loss: 0.3649 - val_loss: 0.4097\n",
      "Epoch 15/100\n",
      "11610/11610 [==============================] - 0s 27us/sample - loss: 0.3636 - val_loss: 0.3753\n",
      "Epoch 16/100\n",
      "11610/11610 [==============================] - 0s 27us/sample - loss: 0.3605 - val_loss: 0.4296\n",
      "Epoch 17/100\n",
      "11610/11610 [==============================] - 0s 27us/sample - loss: 0.3596 - val_loss: 0.3426\n",
      "Epoch 18/100\n",
      "11610/11610 [==============================] - 0s 28us/sample - loss: 0.3568 - val_loss: 0.3463\n",
      "Epoch 19/100\n",
      "11610/11610 [==============================] - 0s 26us/sample - loss: 0.3552 - val_loss: 0.3581\n",
      "Epoch 20/100\n",
      "11610/11610 [==============================] - 0s 26us/sample - loss: 0.3535 - val_loss: 0.3443\n",
      "Epoch 21/100\n",
      "11610/11610 [==============================] - 0s 28us/sample - loss: 0.3525 - val_loss: 0.3614\n",
      "Epoch 22/100\n",
      "11610/11610 [==============================] - 0s 27us/sample - loss: 0.3514 - val_loss: 0.3459\n",
      "Epoch 23/100\n",
      "11610/11610 [==============================] - 0s 27us/sample - loss: 0.3500 - val_loss: 0.3522\n",
      "Epoch 24/100\n",
      "11610/11610 [==============================] - 0s 27us/sample - loss: 0.3491 - val_loss: 0.3347\n",
      "Epoch 25/100\n",
      "11610/11610 [==============================] - 0s 26us/sample - loss: 0.3478 - val_loss: 0.3391\n",
      "Epoch 26/100\n",
      "11610/11610 [==============================] - 0s 27us/sample - loss: 0.3466 - val_loss: 0.3355\n",
      "Epoch 27/100\n",
      "11610/11610 [==============================] - 0s 27us/sample - loss: 0.3453 - val_loss: 0.3309\n",
      "Epoch 28/100\n",
      "11610/11610 [==============================] - 0s 28us/sample - loss: 0.3445 - val_loss: 0.3309\n",
      "Epoch 29/100\n",
      "11610/11610 [==============================] - 0s 28us/sample - loss: 0.3436 - val_loss: 0.3302\n",
      "Epoch 30/100\n",
      "11610/11610 [==============================] - 0s 26us/sample - loss: 0.3425 - val_loss: 0.3383\n",
      "Epoch 31/100\n",
      "11610/11610 [==============================] - 0s 27us/sample - loss: 0.3420 - val_loss: 0.3536\n",
      "Epoch 32/100\n",
      "11610/11610 [==============================] - 0s 27us/sample - loss: 0.3409 - val_loss: 0.3461\n",
      "Epoch 33/100\n",
      "11610/11610 [==============================] - 0s 27us/sample - loss: 0.3398 - val_loss: 0.3530\n",
      "Epoch 34/100\n",
      "11610/11610 [==============================] - 0s 27us/sample - loss: 0.3389 - val_loss: 0.3511\n",
      "Epoch 35/100\n",
      "11610/11610 [==============================] - 0s 27us/sample - loss: 0.3388 - val_loss: 0.3349\n",
      "Epoch 36/100\n",
      "11610/11610 [==============================] - 0s 27us/sample - loss: 0.3370 - val_loss: 0.3309\n",
      "Epoch 37/100\n",
      "11610/11610 [==============================] - 0s 26us/sample - loss: 0.3365 - val_loss: 0.3612\n",
      "Epoch 38/100\n",
      "11610/11610 [==============================] - 0s 28us/sample - loss: 0.3357 - val_loss: 0.4137\n",
      "Epoch 39/100\n",
      "11610/11610 [==============================] - 0s 27us/sample - loss: 0.3357 - val_loss: 0.3271\n",
      "Epoch 40/100\n",
      "11610/11610 [==============================] - 0s 27us/sample - loss: 0.3345 - val_loss: 0.3488\n",
      "Epoch 41/100\n",
      "11610/11610 [==============================] - 0s 27us/sample - loss: 0.3339 - val_loss: 0.3230\n",
      "Epoch 42/100\n",
      "11610/11610 [==============================] - 0s 27us/sample - loss: 0.3323 - val_loss: 0.3886\n",
      "Epoch 43/100\n",
      "11610/11610 [==============================] - 0s 26us/sample - loss: 0.3317 - val_loss: 0.3324\n",
      "Epoch 44/100\n",
      "11610/11610 [==============================] - 0s 27us/sample - loss: 0.3314 - val_loss: 0.3614\n",
      "Epoch 45/100\n",
      "11610/11610 [==============================] - 0s 26us/sample - loss: 0.3306 - val_loss: 0.3313\n",
      "Epoch 46/100\n",
      "11610/11610 [==============================] - 0s 27us/sample - loss: 0.3293 - val_loss: 0.3315\n",
      "Epoch 47/100\n",
      "11610/11610 [==============================] - 0s 27us/sample - loss: 0.3291 - val_loss: 0.3686\n",
      "Epoch 48/100\n",
      "11610/11610 [==============================] - 0s 28us/sample - loss: 0.3283 - val_loss: 0.3235\n",
      "Epoch 49/100\n",
      "11610/11610 [==============================] - 0s 27us/sample - loss: 0.3269 - val_loss: 0.3207\n",
      "Epoch 50/100\n",
      "11610/11610 [==============================] - 0s 28us/sample - loss: 0.3265 - val_loss: 0.3179\n",
      "Epoch 51/100\n",
      "11610/11610 [==============================] - 0s 27us/sample - loss: 0.3262 - val_loss: 0.3774\n",
      "Epoch 52/100\n",
      "11610/11610 [==============================] - 0s 27us/sample - loss: 0.3257 - val_loss: 0.3139\n",
      "Epoch 53/100\n",
      "11610/11610 [==============================] - 0s 27us/sample - loss: 0.3241 - val_loss: 0.3273\n",
      "Epoch 54/100\n",
      "11610/11610 [==============================] - 0s 26us/sample - loss: 0.3243 - val_loss: 0.3145\n",
      "Epoch 55/100\n",
      "11610/11610 [==============================] - 0s 27us/sample - loss: 0.3234 - val_loss: 0.3216\n",
      "Epoch 56/100\n",
      "11610/11610 [==============================] - 0s 27us/sample - loss: 0.3229 - val_loss: 0.3716\n",
      "Epoch 57/100\n",
      "11610/11610 [==============================] - 0s 27us/sample - loss: 0.3216 - val_loss: 0.3168\n",
      "Epoch 58/100\n",
      "11610/11610 [==============================] - 0s 27us/sample - loss: 0.3210 - val_loss: 0.4068\n",
      "Epoch 59/100\n",
      "11610/11610 [==============================] - 0s 27us/sample - loss: 0.3215 - val_loss: 0.3138\n",
      "Epoch 60/100\n",
      "11610/11610 [==============================] - 0s 27us/sample - loss: 0.3197 - val_loss: 0.3477\n",
      "Epoch 61/100\n",
      "11610/11610 [==============================] - 0s 26us/sample - loss: 0.3201 - val_loss: 0.3112\n",
      "Epoch 62/100\n",
      "11610/11610 [==============================] - 0s 27us/sample - loss: 0.3190 - val_loss: 0.4094\n",
      "Epoch 63/100\n",
      "11610/11610 [==============================] - 0s 27us/sample - loss: 0.3186 - val_loss: 0.5975\n",
      "Epoch 64/100\n",
      "11610/11610 [==============================] - 0s 27us/sample - loss: 0.3203 - val_loss: 1.0518\n",
      "Epoch 65/100\n",
      "11610/11610 [==============================] - 0s 26us/sample - loss: 0.3212 - val_loss: 0.8814\n",
      "Epoch 66/100\n",
      "11610/11610 [==============================] - 0s 27us/sample - loss: 0.3223 - val_loss: 0.5820\n",
      "Epoch 67/100\n",
      "11610/11610 [==============================] - 0s 27us/sample - loss: 0.3170 - val_loss: 0.5868\n",
      "Epoch 68/100\n",
      "11610/11610 [==============================] - 0s 27us/sample - loss: 0.3173 - val_loss: 0.4586\n",
      "Epoch 69/100\n",
      "11610/11610 [==============================] - 0s 28us/sample - loss: 0.3147 - val_loss: 0.3548\n",
      "Epoch 70/100\n",
      "11610/11610 [==============================] - 0s 27us/sample - loss: 0.3140 - val_loss: 0.8500\n",
      "Epoch 71/100\n",
      "11610/11610 [==============================] - 0s 27us/sample - loss: 0.3175 - val_loss: 1.3203\n"
     ]
    },
    {
     "data": {
      "text/plain": [
       "<tensorflow.python.keras.callbacks.History at 0x7f4212370128>"
      ]
     },
     "execution_count": 128,
     "metadata": {},
     "output_type": "execute_result"
    }
   ],
   "source": [
    "keras_reg.fit(X_train_scaled, y_train, epochs=100,\n",
    "              validation_data=(X_valid_scaled, y_valid),\n",
    "              callbacks=[keras.callbacks.EarlyStopping(patience=10)])"
   ]
  },
  {
   "cell_type": "code",
   "execution_count": 129,
   "metadata": {},
   "outputs": [
    {
     "data": {
      "text/plain": [
       "array([0.6382514, 1.4696546, 4.5765114, ..., 1.5380781, 2.2808766,\n",
       "       4.351279 ], dtype=float32)"
      ]
     },
     "execution_count": 129,
     "metadata": {},
     "output_type": "execute_result"
    }
   ],
   "source": [
    "keras_reg.predict(X_test_scaled)"
   ]
  },
  {
   "cell_type": "markdown",
   "metadata": {},
   "source": [
    "### 6.4)\n",
    "Use a `sklearn.model_selection.RandomizedSearchCV` to search the hyperparameter space of your `KerasRegressor`."
   ]
  },
  {
   "cell_type": "code",
   "execution_count": 130,
   "metadata": {},
   "outputs": [],
   "source": [
    "from scipy.stats import reciprocal\n",
    "\n",
    "param_distribs = {\n",
    "    \"n_hidden\": [0, 1, 2, 3],\n",
    "    \"n_neurons\": np.arange(1, 100),\n",
    "    \"learning_rate\": reciprocal(3e-4, 3e-2),\n",
    "}"
   ]
  },
  {
   "cell_type": "code",
   "execution_count": 131,
   "metadata": {},
   "outputs": [],
   "source": [
    "from sklearn.model_selection import RandomizedSearchCV\n",
    "\n",
    "rnd_search_cv = RandomizedSearchCV(keras_reg, param_distribs, n_iter=10, cv=3, verbose=2)"
   ]
  },
  {
   "cell_type": "code",
   "execution_count": 132,
   "metadata": {},
   "outputs": [
    {
     "name": "stdout",
     "output_type": "stream",
     "text": [
      "Fitting 3 folds for each of 10 candidates, totalling 30 fits\n",
      "[CV] learning_rate=0.00042581884041882227, n_hidden=1, n_neurons=66 ..\n",
      "Train on 7740 samples, validate on 3870 samples\n",
      "Epoch 1/100\n"
     ]
    },
    {
     "name": "stderr",
     "output_type": "stream",
     "text": [
      "[Parallel(n_jobs=1)]: Using backend SequentialBackend with 1 concurrent workers.\n"
     ]
    },
    {
     "name": "stdout",
     "output_type": "stream",
     "text": [
      "7740/7740 [==============================] - 0s 43us/sample - loss: 3.4325 - val_loss: 3.3201\n",
      "Epoch 2/100\n",
      "7740/7740 [==============================] - 0s 31us/sample - loss: 1.6103 - val_loss: 2.5421\n",
      "Epoch 3/100\n",
      "7740/7740 [==============================] - 0s 31us/sample - loss: 1.0814 - val_loss: 1.1272\n",
      "Epoch 4/100\n",
      "7740/7740 [==============================] - 0s 32us/sample - loss: 0.8513 - val_loss: 0.7751\n",
      "Epoch 5/100\n",
      "7740/7740 [==============================] - 0s 31us/sample - loss: 0.7450 - val_loss: 0.7119\n",
      "Epoch 6/100\n",
      "7740/7740 [==============================] - 0s 31us/sample - loss: 0.6942 - val_loss: 0.6647\n",
      "Epoch 7/100\n",
      "7740/7740 [==============================] - 0s 31us/sample - loss: 0.6650 - val_loss: 0.6357\n",
      "Epoch 8/100\n",
      "7740/7740 [==============================] - 0s 31us/sample - loss: 0.6440 - val_loss: 0.6261\n",
      "Epoch 9/100\n",
      "7740/7740 [==============================] - 0s 31us/sample - loss: 0.6279 - val_loss: 0.5969\n",
      "Epoch 10/100\n",
      "7740/7740 [==============================] - 0s 31us/sample - loss: 0.6134 - val_loss: 0.5820\n",
      "Epoch 11/100\n",
      "7740/7740 [==============================] - 0s 30us/sample - loss: 0.5997 - val_loss: 0.5719\n",
      "Epoch 12/100\n",
      "7740/7740 [==============================] - 0s 30us/sample - loss: 0.5871 - val_loss: 0.5672\n",
      "Epoch 13/100\n",
      "7740/7740 [==============================] - 0s 30us/sample - loss: 0.5755 - val_loss: 0.5496\n",
      "Epoch 14/100\n",
      "7740/7740 [==============================] - 0s 31us/sample - loss: 0.5642 - val_loss: 0.5353\n",
      "Epoch 15/100\n",
      "7740/7740 [==============================] - 0s 31us/sample - loss: 0.5534 - val_loss: 0.5240\n",
      "Epoch 16/100\n",
      "7740/7740 [==============================] - 0s 31us/sample - loss: 0.5434 - val_loss: 0.5137\n",
      "Epoch 17/100\n",
      "7740/7740 [==============================] - 0s 30us/sample - loss: 0.5337 - val_loss: 0.5047\n",
      "Epoch 18/100\n",
      "7740/7740 [==============================] - 0s 31us/sample - loss: 0.5246 - val_loss: 0.4995\n",
      "Epoch 19/100\n",
      "7740/7740 [==============================] - 0s 31us/sample - loss: 0.5161 - val_loss: 0.4873\n",
      "Epoch 20/100\n",
      "7740/7740 [==============================] - 0s 31us/sample - loss: 0.5079 - val_loss: 0.4790\n",
      "Epoch 21/100\n",
      "7740/7740 [==============================] - 0s 31us/sample - loss: 0.5001 - val_loss: 0.4720\n",
      "Epoch 22/100\n",
      "7740/7740 [==============================] - 0s 31us/sample - loss: 0.4929 - val_loss: 0.4650\n",
      "Epoch 23/100\n",
      "7740/7740 [==============================] - 0s 30us/sample - loss: 0.4861 - val_loss: 0.4582\n",
      "Epoch 24/100\n",
      "7740/7740 [==============================] - 0s 31us/sample - loss: 0.4796 - val_loss: 0.4528\n",
      "Epoch 25/100\n",
      "7740/7740 [==============================] - 0s 31us/sample - loss: 0.4737 - val_loss: 0.4466\n",
      "Epoch 26/100\n",
      "7740/7740 [==============================] - 0s 31us/sample - loss: 0.4681 - val_loss: 0.4405\n",
      "Epoch 27/100\n",
      "7740/7740 [==============================] - 0s 31us/sample - loss: 0.4627 - val_loss: 0.4350\n",
      "Epoch 28/100\n",
      "7740/7740 [==============================] - 0s 30us/sample - loss: 0.4577 - val_loss: 0.4306\n",
      "Epoch 29/100\n",
      "7740/7740 [==============================] - 0s 30us/sample - loss: 0.4531 - val_loss: 0.4270\n",
      "Epoch 30/100\n",
      "7740/7740 [==============================] - 0s 31us/sample - loss: 0.4487 - val_loss: 0.4265\n",
      "Epoch 31/100\n",
      "7740/7740 [==============================] - 0s 31us/sample - loss: 0.4446 - val_loss: 0.4234\n",
      "Epoch 32/100\n",
      "7740/7740 [==============================] - 0s 30us/sample - loss: 0.4408 - val_loss: 0.4249\n",
      "Epoch 33/100\n",
      "7740/7740 [==============================] - 0s 30us/sample - loss: 0.4371 - val_loss: 0.4132\n",
      "Epoch 34/100\n",
      "7740/7740 [==============================] - 0s 31us/sample - loss: 0.4337 - val_loss: 0.4116\n",
      "Epoch 35/100\n",
      "7740/7740 [==============================] - 0s 31us/sample - loss: 0.4304 - val_loss: 0.4095\n",
      "Epoch 36/100\n",
      "7740/7740 [==============================] - 0s 31us/sample - loss: 0.4275 - val_loss: 0.4134\n",
      "Epoch 37/100\n",
      "7740/7740 [==============================] - 0s 30us/sample - loss: 0.4246 - val_loss: 0.4120\n",
      "Epoch 38/100\n",
      "7740/7740 [==============================] - 0s 30us/sample - loss: 0.4220 - val_loss: 0.4089\n",
      "Epoch 39/100\n",
      "7740/7740 [==============================] - 0s 30us/sample - loss: 0.4195 - val_loss: 0.4094\n",
      "Epoch 40/100\n",
      "7740/7740 [==============================] - 0s 30us/sample - loss: 0.4173 - val_loss: 0.4052\n",
      "Epoch 41/100\n",
      "7740/7740 [==============================] - 0s 30us/sample - loss: 0.4151 - val_loss: 0.3990\n",
      "Epoch 42/100\n",
      "7740/7740 [==============================] - 0s 29us/sample - loss: 0.4129 - val_loss: 0.3914\n",
      "Epoch 43/100\n",
      "7740/7740 [==============================] - 0s 31us/sample - loss: 0.4112 - val_loss: 0.4078\n",
      "Epoch 44/100\n",
      "7740/7740 [==============================] - 0s 31us/sample - loss: 0.4093 - val_loss: 0.4082\n",
      "Epoch 45/100\n",
      "7740/7740 [==============================] - 0s 31us/sample - loss: 0.4075 - val_loss: 0.4158\n",
      "Epoch 46/100\n",
      "7740/7740 [==============================] - 0s 30us/sample - loss: 0.4061 - val_loss: 0.4072\n",
      "Epoch 47/100\n",
      "7740/7740 [==============================] - 0s 30us/sample - loss: 0.4046 - val_loss: 0.4008\n",
      "Epoch 48/100\n",
      "7740/7740 [==============================] - 0s 30us/sample - loss: 0.4031 - val_loss: 0.4034\n",
      "Epoch 49/100\n",
      "7740/7740 [==============================] - 0s 31us/sample - loss: 0.4016 - val_loss: 0.4111\n",
      "Epoch 50/100\n",
      "7740/7740 [==============================] - 0s 31us/sample - loss: 0.4003 - val_loss: 0.4004\n",
      "Epoch 51/100\n",
      "7740/7740 [==============================] - 0s 30us/sample - loss: 0.3989 - val_loss: 0.4026\n",
      "Epoch 52/100\n",
      "7740/7740 [==============================] - 0s 34us/sample - loss: 0.3978 - val_loss: 0.3995\n",
      "3870/3870 [==============================] - 0s 15us/sample - loss: 0.4061\n",
      "[CV]  learning_rate=0.00042581884041882227, n_hidden=1, n_neurons=66, total=  12.8s\n",
      "[CV] learning_rate=0.00042581884041882227, n_hidden=1, n_neurons=66 ..\n"
     ]
    },
    {
     "name": "stderr",
     "output_type": "stream",
     "text": [
      "[Parallel(n_jobs=1)]: Done   1 out of   1 | elapsed:   12.8s remaining:    0.0s\n"
     ]
    },
    {
     "name": "stdout",
     "output_type": "stream",
     "text": [
      "Train on 7740 samples, validate on 3870 samples\n",
      "Epoch 1/100\n",
      "7740/7740 [==============================] - 0s 44us/sample - loss: 3.2350 - val_loss: 8.2660\n",
      "Epoch 2/100\n",
      "7740/7740 [==============================] - 0s 36us/sample - loss: 1.5487 - val_loss: 11.6793\n",
      "Epoch 3/100\n",
      "7740/7740 [==============================] - 0s 31us/sample - loss: 1.0756 - val_loss: 11.8445\n",
      "Epoch 4/100\n",
      "7740/7740 [==============================] - 0s 36us/sample - loss: 0.8814 - val_loss: 10.0733\n",
      "Epoch 5/100\n",
      "7740/7740 [==============================] - 0s 32us/sample - loss: 0.7848 - val_loss: 8.4519\n",
      "Epoch 6/100\n",
      "7740/7740 [==============================] - 0s 30us/sample - loss: 0.7321 - val_loss: 6.9898\n",
      "Epoch 7/100\n",
      "7740/7740 [==============================] - 0s 31us/sample - loss: 0.6993 - val_loss: 5.8109\n",
      "Epoch 8/100\n",
      "7740/7740 [==============================] - 0s 30us/sample - loss: 0.6763 - val_loss: 4.6877\n",
      "Epoch 9/100\n",
      "7740/7740 [==============================] - 0s 29us/sample - loss: 0.6577 - val_loss: 3.8640\n",
      "Epoch 10/100\n",
      "7740/7740 [==============================] - 0s 29us/sample - loss: 0.6416 - val_loss: 3.2085\n",
      "Epoch 11/100\n",
      "7740/7740 [==============================] - 0s 31us/sample - loss: 0.6271 - val_loss: 2.6100\n",
      "Epoch 12/100\n",
      "7740/7740 [==============================] - 0s 33us/sample - loss: 0.6136 - val_loss: 2.1868\n",
      "Epoch 13/100\n",
      "7740/7740 [==============================] - 0s 36us/sample - loss: 0.6010 - val_loss: 1.7765\n",
      "Epoch 14/100\n",
      "7740/7740 [==============================] - 0s 35us/sample - loss: 0.5891 - val_loss: 1.4721\n",
      "Epoch 15/100\n",
      "7740/7740 [==============================] - 0s 33us/sample - loss: 0.5776 - val_loss: 1.1986\n",
      "Epoch 16/100\n",
      "7740/7740 [==============================] - 0s 35us/sample - loss: 0.5669 - val_loss: 0.9901\n",
      "Epoch 17/100\n",
      "7740/7740 [==============================] - 0s 34us/sample - loss: 0.5565 - val_loss: 0.8758\n",
      "Epoch 18/100\n",
      "7740/7740 [==============================] - 0s 34us/sample - loss: 0.5469 - val_loss: 0.7372\n",
      "Epoch 19/100\n",
      "7740/7740 [==============================] - 0s 31us/sample - loss: 0.5375 - val_loss: 0.6353\n",
      "Epoch 20/100\n",
      "7740/7740 [==============================] - 0s 32us/sample - loss: 0.5288 - val_loss: 0.5731\n",
      "Epoch 21/100\n",
      "7740/7740 [==============================] - 0s 31us/sample - loss: 0.5204 - val_loss: 0.5252\n",
      "Epoch 22/100\n",
      "7740/7740 [==============================] - 0s 32us/sample - loss: 0.5123 - val_loss: 0.4977\n",
      "Epoch 23/100\n",
      "7740/7740 [==============================] - 0s 32us/sample - loss: 0.5048 - val_loss: 0.4726\n",
      "Epoch 24/100\n",
      "7740/7740 [==============================] - 0s 30us/sample - loss: 0.4977 - val_loss: 0.4610\n",
      "Epoch 25/100\n",
      "7740/7740 [==============================] - 0s 31us/sample - loss: 0.4908 - val_loss: 0.4578\n",
      "Epoch 26/100\n",
      "7740/7740 [==============================] - 0s 30us/sample - loss: 0.4843 - val_loss: 0.4631\n",
      "Epoch 27/100\n",
      "7740/7740 [==============================] - 0s 31us/sample - loss: 0.4784 - val_loss: 0.4661\n",
      "Epoch 28/100\n",
      "7740/7740 [==============================] - 0s 34us/sample - loss: 0.4726 - val_loss: 0.4835\n",
      "Epoch 29/100\n",
      "7740/7740 [==============================] - 0s 30us/sample - loss: 0.4673 - val_loss: 0.4911\n",
      "Epoch 30/100\n",
      "7740/7740 [==============================] - 0s 31us/sample - loss: 0.4622 - val_loss: 0.5062\n",
      "Epoch 31/100\n",
      "7740/7740 [==============================] - 0s 34us/sample - loss: 0.4573 - val_loss: 0.5224\n",
      "Epoch 32/100\n",
      "7740/7740 [==============================] - 0s 35us/sample - loss: 0.4528 - val_loss: 0.5206\n",
      "Epoch 33/100\n",
      "7740/7740 [==============================] - 0s 31us/sample - loss: 0.4486 - val_loss: 0.5291\n",
      "Epoch 34/100\n",
      "7740/7740 [==============================] - 0s 31us/sample - loss: 0.4446 - val_loss: 0.5425\n",
      "Epoch 35/100\n",
      "7740/7740 [==============================] - 0s 33us/sample - loss: 0.4408 - val_loss: 0.5393\n",
      "3870/3870 [==============================] - 0s 13us/sample - loss: 0.4480\n",
      "[CV]  learning_rate=0.00042581884041882227, n_hidden=1, n_neurons=66, total=   9.2s\n",
      "[CV] learning_rate=0.00042581884041882227, n_hidden=1, n_neurons=66 ..\n",
      "Train on 7740 samples, validate on 3870 samples\n",
      "Epoch 1/100\n",
      "7740/7740 [==============================] - 0s 46us/sample - loss: 3.5556 - val_loss: 7.1819\n",
      "Epoch 2/100\n",
      "7740/7740 [==============================] - 0s 34us/sample - loss: 1.4160 - val_loss: 2.6104\n",
      "Epoch 3/100\n",
      "7740/7740 [==============================] - 0s 32us/sample - loss: 0.9260 - val_loss: 1.1977\n",
      "Epoch 4/100\n",
      "7740/7740 [==============================] - 0s 34us/sample - loss: 0.7751 - val_loss: 0.8060\n",
      "Epoch 5/100\n",
      "7740/7740 [==============================] - 0s 33us/sample - loss: 0.7156 - val_loss: 0.6944\n",
      "Epoch 6/100\n",
      "7740/7740 [==============================] - 0s 32us/sample - loss: 0.6832 - val_loss: 0.6543\n",
      "Epoch 7/100\n",
      "7740/7740 [==============================] - 0s 32us/sample - loss: 0.6600 - val_loss: 0.6304\n",
      "Epoch 8/100\n",
      "7740/7740 [==============================] - 0s 33us/sample - loss: 0.6410 - val_loss: 0.6172\n",
      "Epoch 9/100\n",
      "7740/7740 [==============================] - 0s 31us/sample - loss: 0.6241 - val_loss: 0.5976\n",
      "Epoch 10/100\n",
      "7740/7740 [==============================] - 0s 33us/sample - loss: 0.6090 - val_loss: 0.5848\n",
      "Epoch 11/100\n",
      "7740/7740 [==============================] - 0s 31us/sample - loss: 0.5949 - val_loss: 0.5707\n",
      "Epoch 12/100\n",
      "7740/7740 [==============================] - 0s 31us/sample - loss: 0.5820 - val_loss: 0.5641\n",
      "Epoch 13/100\n",
      "7740/7740 [==============================] - 0s 33us/sample - loss: 0.5699 - val_loss: 0.5497\n",
      "Epoch 14/100\n",
      "7740/7740 [==============================] - 0s 31us/sample - loss: 0.5589 - val_loss: 0.5436\n",
      "Epoch 15/100\n",
      "7740/7740 [==============================] - 0s 33us/sample - loss: 0.5483 - val_loss: 0.5307\n",
      "Epoch 16/100\n",
      "7740/7740 [==============================] - 0s 31us/sample - loss: 0.5385 - val_loss: 0.5188\n",
      "Epoch 17/100\n",
      "7740/7740 [==============================] - 0s 31us/sample - loss: 0.5291 - val_loss: 0.5100\n",
      "Epoch 18/100\n",
      "7740/7740 [==============================] - 0s 33us/sample - loss: 0.5203 - val_loss: 0.5072\n",
      "Epoch 19/100\n",
      "7740/7740 [==============================] - 0s 34us/sample - loss: 0.5122 - val_loss: 0.4957\n",
      "Epoch 20/100\n",
      "7740/7740 [==============================] - 0s 30us/sample - loss: 0.5044 - val_loss: 0.5009\n",
      "Epoch 21/100\n",
      "7740/7740 [==============================] - 0s 30us/sample - loss: 0.4972 - val_loss: 0.4848\n",
      "Epoch 22/100\n",
      "7740/7740 [==============================] - 0s 33us/sample - loss: 0.4904 - val_loss: 0.4788\n",
      "Epoch 23/100\n",
      "7740/7740 [==============================] - 0s 30us/sample - loss: 0.4842 - val_loss: 0.4699\n",
      "Epoch 24/100\n",
      "7740/7740 [==============================] - 0s 30us/sample - loss: 0.4782 - val_loss: 0.4729\n",
      "Epoch 25/100\n",
      "7740/7740 [==============================] - 0s 30us/sample - loss: 0.4726 - val_loss: 0.4733\n",
      "Epoch 26/100\n",
      "7740/7740 [==============================] - 0s 30us/sample - loss: 0.4674 - val_loss: 0.4629\n",
      "Epoch 27/100\n",
      "7740/7740 [==============================] - 0s 30us/sample - loss: 0.4626 - val_loss: 0.4576\n",
      "Epoch 28/100\n",
      "7740/7740 [==============================] - 0s 30us/sample - loss: 0.4580 - val_loss: 0.4591\n",
      "Epoch 29/100\n",
      "7740/7740 [==============================] - 0s 34us/sample - loss: 0.4537 - val_loss: 0.4463\n",
      "Epoch 30/100\n",
      "7740/7740 [==============================] - 0s 33us/sample - loss: 0.4498 - val_loss: 0.4486\n",
      "Epoch 31/100\n",
      "7740/7740 [==============================] - 0s 34us/sample - loss: 0.4461 - val_loss: 0.4449\n",
      "Epoch 32/100\n",
      "7740/7740 [==============================] - 0s 31us/sample - loss: 0.4426 - val_loss: 0.4330\n",
      "Epoch 33/100\n",
      "7740/7740 [==============================] - 0s 30us/sample - loss: 0.4394 - val_loss: 0.4375\n",
      "Epoch 34/100\n",
      "7740/7740 [==============================] - 0s 33us/sample - loss: 0.4362 - val_loss: 0.4327\n",
      "Epoch 35/100\n",
      "7740/7740 [==============================] - 0s 34us/sample - loss: 0.4333 - val_loss: 0.4399\n",
      "Epoch 36/100\n",
      "7740/7740 [==============================] - 0s 33us/sample - loss: 0.4305 - val_loss: 0.4445\n",
      "Epoch 37/100\n",
      "7740/7740 [==============================] - 0s 33us/sample - loss: 0.4279 - val_loss: 0.4300\n",
      "Epoch 38/100\n",
      "7740/7740 [==============================] - 0s 32us/sample - loss: 0.4255 - val_loss: 0.4309\n",
      "Epoch 39/100\n",
      "7740/7740 [==============================] - 0s 30us/sample - loss: 0.4231 - val_loss: 0.4285\n",
      "Epoch 40/100\n",
      "7740/7740 [==============================] - 0s 30us/sample - loss: 0.4209 - val_loss: 0.4261\n",
      "Epoch 41/100\n",
      "7740/7740 [==============================] - 0s 32us/sample - loss: 0.4186 - val_loss: 0.4310\n",
      "Epoch 42/100\n",
      "7740/7740 [==============================] - 0s 35us/sample - loss: 0.4169 - val_loss: 0.4268\n",
      "Epoch 43/100\n",
      "7740/7740 [==============================] - 0s 32us/sample - loss: 0.4149 - val_loss: 0.4230\n",
      "Epoch 44/100\n",
      "7740/7740 [==============================] - 0s 33us/sample - loss: 0.4131 - val_loss: 0.4152\n",
      "Epoch 45/100\n",
      "7740/7740 [==============================] - 0s 32us/sample - loss: 0.4114 - val_loss: 0.4141\n",
      "Epoch 46/100\n",
      "7740/7740 [==============================] - 0s 32us/sample - loss: 0.4098 - val_loss: 0.4205\n",
      "Epoch 47/100\n",
      "7740/7740 [==============================] - 0s 34us/sample - loss: 0.4081 - val_loss: 0.4200\n",
      "Epoch 48/100\n",
      "7740/7740 [==============================] - 0s 34us/sample - loss: 0.4068 - val_loss: 0.4129\n",
      "Epoch 49/100\n",
      "7740/7740 [==============================] - 0s 33us/sample - loss: 0.4052 - val_loss: 0.4254\n",
      "Epoch 50/100\n",
      "7740/7740 [==============================] - 0s 30us/sample - loss: 0.4038 - val_loss: 0.4098\n",
      "Epoch 51/100\n",
      "7740/7740 [==============================] - 0s 35us/sample - loss: 0.4024 - val_loss: 0.3997\n",
      "Epoch 52/100\n",
      "7740/7740 [==============================] - 0s 32us/sample - loss: 0.4009 - val_loss: 0.4157\n",
      "Epoch 53/100\n",
      "7740/7740 [==============================] - 0s 34us/sample - loss: 0.3998 - val_loss: 0.4026\n",
      "Epoch 54/100\n",
      "7740/7740 [==============================] - 0s 33us/sample - loss: 0.3985 - val_loss: 0.4037\n",
      "Epoch 55/100\n",
      "7740/7740 [==============================] - 0s 32us/sample - loss: 0.3975 - val_loss: 0.4047\n",
      "Epoch 56/100\n",
      "7740/7740 [==============================] - 0s 31us/sample - loss: 0.3962 - val_loss: 0.4080\n",
      "Epoch 57/100\n",
      "7740/7740 [==============================] - 0s 33us/sample - loss: 0.3950 - val_loss: 0.4253\n",
      "Epoch 58/100\n",
      "7740/7740 [==============================] - 0s 30us/sample - loss: 0.3941 - val_loss: 0.4082\n",
      "Epoch 59/100\n",
      "7740/7740 [==============================] - 0s 32us/sample - loss: 0.3929 - val_loss: 0.3877\n",
      "Epoch 60/100\n",
      "7740/7740 [==============================] - 0s 33us/sample - loss: 0.3921 - val_loss: 0.4001\n",
      "Epoch 61/100\n",
      "7740/7740 [==============================] - 0s 36us/sample - loss: 0.3909 - val_loss: 0.4087\n",
      "Epoch 62/100\n",
      "7740/7740 [==============================] - 0s 32us/sample - loss: 0.3899 - val_loss: 0.4187\n",
      "Epoch 63/100\n",
      "7740/7740 [==============================] - 0s 30us/sample - loss: 0.3890 - val_loss: 0.4238\n",
      "Epoch 64/100\n",
      "7740/7740 [==============================] - 0s 31us/sample - loss: 0.3883 - val_loss: 0.3970\n",
      "Epoch 65/100\n",
      "7740/7740 [==============================] - 0s 30us/sample - loss: 0.3873 - val_loss: 0.4004\n",
      "Epoch 66/100\n",
      "7740/7740 [==============================] - 0s 31us/sample - loss: 0.3864 - val_loss: 0.3883\n",
      "Epoch 67/100\n",
      "7740/7740 [==============================] - 0s 30us/sample - loss: 0.3856 - val_loss: 0.3970\n",
      "Epoch 68/100\n",
      "7740/7740 [==============================] - 0s 31us/sample - loss: 0.3849 - val_loss: 0.3906\n",
      "Epoch 69/100\n",
      "7740/7740 [==============================] - 0s 35us/sample - loss: 0.3840 - val_loss: 0.3819\n",
      "Epoch 70/100\n",
      "7740/7740 [==============================] - 0s 34us/sample - loss: 0.3833 - val_loss: 0.4007\n",
      "Epoch 71/100\n",
      "7740/7740 [==============================] - 0s 30us/sample - loss: 0.3824 - val_loss: 0.4175\n",
      "Epoch 72/100\n",
      "7740/7740 [==============================] - 0s 31us/sample - loss: 0.3819 - val_loss: 0.3917\n",
      "Epoch 73/100\n",
      "7740/7740 [==============================] - 0s 34us/sample - loss: 0.3810 - val_loss: 0.4024\n",
      "Epoch 74/100\n",
      "7740/7740 [==============================] - 0s 36us/sample - loss: 0.3804 - val_loss: 0.4186\n",
      "Epoch 75/100\n",
      "7740/7740 [==============================] - 0s 36us/sample - loss: 0.3799 - val_loss: 0.3873\n",
      "Epoch 76/100\n",
      "7740/7740 [==============================] - 0s 32us/sample - loss: 0.3791 - val_loss: 0.3823\n",
      "Epoch 77/100\n",
      "7740/7740 [==============================] - 0s 31us/sample - loss: 0.3784 - val_loss: 0.3991\n",
      "Epoch 78/100\n",
      "7740/7740 [==============================] - 0s 31us/sample - loss: 0.3778 - val_loss: 0.4037\n",
      "Epoch 79/100\n",
      "7740/7740 [==============================] - 0s 32us/sample - loss: 0.3771 - val_loss: 0.4122\n",
      "3870/3870 [==============================] - 0s 10us/sample - loss: 0.3772\n",
      "[CV]  learning_rate=0.00042581884041882227, n_hidden=1, n_neurons=66, total=  20.1s\n",
      "[CV] learning_rate=0.01598323325710045, n_hidden=3, n_neurons=69 .....\n",
      "Train on 7740 samples, validate on 3870 samples\n",
      "Epoch 1/100\n",
      "7740/7740 [==============================] - 0s 55us/sample - loss: 0.7572 - val_loss: 14.0509\n",
      "Epoch 2/100\n",
      "7740/7740 [==============================] - 0s 36us/sample - loss: 0.6206 - val_loss: 9.8297\n",
      "Epoch 3/100\n",
      "7740/7740 [==============================] - 0s 35us/sample - loss: 0.5289 - val_loss: 11.2270\n",
      "Epoch 4/100\n",
      "7740/7740 [==============================] - 0s 36us/sample - loss: 0.5655 - val_loss: 0.6135\n",
      "Epoch 5/100\n",
      "7740/7740 [==============================] - 0s 35us/sample - loss: 0.3737 - val_loss: 0.4258\n",
      "Epoch 6/100\n",
      "7740/7740 [==============================] - 0s 35us/sample - loss: 0.3542 - val_loss: 0.4872\n",
      "Epoch 7/100\n",
      "7740/7740 [==============================] - 0s 35us/sample - loss: 0.3465 - val_loss: 0.3300\n",
      "Epoch 8/100\n",
      "7740/7740 [==============================] - 0s 35us/sample - loss: 0.3349 - val_loss: 0.5456\n",
      "Epoch 9/100\n",
      "7740/7740 [==============================] - 0s 39us/sample - loss: 0.3313 - val_loss: 0.4553\n",
      "Epoch 10/100\n",
      "7740/7740 [==============================] - 0s 39us/sample - loss: 0.3236 - val_loss: 0.5381\n",
      "Epoch 11/100\n",
      "7740/7740 [==============================] - 0s 35us/sample - loss: 0.3190 - val_loss: 0.3338\n",
      "Epoch 12/100\n",
      "7740/7740 [==============================] - 0s 34us/sample - loss: 0.3109 - val_loss: 0.3786\n",
      "Epoch 13/100\n",
      "7740/7740 [==============================] - 0s 35us/sample - loss: 0.3082 - val_loss: 0.3148\n",
      "Epoch 14/100\n",
      "7740/7740 [==============================] - 0s 34us/sample - loss: 0.3052 - val_loss: 0.3222\n",
      "Epoch 15/100\n",
      "7740/7740 [==============================] - 0s 35us/sample - loss: 0.3003 - val_loss: 0.2991\n",
      "Epoch 16/100\n",
      "7740/7740 [==============================] - 0s 37us/sample - loss: 0.3010 - val_loss: 0.3419\n",
      "Epoch 17/100\n",
      "7740/7740 [==============================] - 0s 35us/sample - loss: 0.2975 - val_loss: 0.2964\n",
      "Epoch 18/100\n",
      "7740/7740 [==============================] - 0s 35us/sample - loss: 0.2948 - val_loss: 0.2899\n",
      "Epoch 19/100\n",
      "7740/7740 [==============================] - 0s 35us/sample - loss: 0.2905 - val_loss: 0.3128\n",
      "Epoch 20/100\n",
      "7740/7740 [==============================] - 0s 36us/sample - loss: 0.2906 - val_loss: 0.2912\n",
      "Epoch 21/100\n",
      "7740/7740 [==============================] - 0s 35us/sample - loss: 0.2845 - val_loss: 0.3157\n",
      "Epoch 22/100\n",
      "7740/7740 [==============================] - 0s 34us/sample - loss: 0.2832 - val_loss: 0.2912\n",
      "Epoch 23/100\n",
      "7740/7740 [==============================] - 0s 35us/sample - loss: 0.2822 - val_loss: 0.2981\n",
      "Epoch 24/100\n",
      "7740/7740 [==============================] - 0s 34us/sample - loss: 0.2783 - val_loss: 0.2807\n",
      "Epoch 25/100\n",
      "7740/7740 [==============================] - 0s 35us/sample - loss: 0.2802 - val_loss: 0.3077\n",
      "Epoch 26/100\n",
      "7740/7740 [==============================] - 0s 36us/sample - loss: 0.2742 - val_loss: 0.2906\n",
      "Epoch 27/100\n",
      "7740/7740 [==============================] - 0s 37us/sample - loss: 0.2720 - val_loss: 0.2857\n",
      "Epoch 28/100\n",
      "7740/7740 [==============================] - 0s 35us/sample - loss: 0.2739 - val_loss: 0.3231\n",
      "Epoch 29/100\n",
      "7740/7740 [==============================] - 0s 35us/sample - loss: 0.2690 - val_loss: 0.2816\n",
      "Epoch 30/100\n",
      "7740/7740 [==============================] - 0s 36us/sample - loss: 0.2700 - val_loss: 0.3397\n",
      "Epoch 31/100\n",
      "7740/7740 [==============================] - 0s 36us/sample - loss: 0.2664 - val_loss: 0.2927\n",
      "Epoch 32/100\n",
      "7740/7740 [==============================] - 0s 36us/sample - loss: 0.2844 - val_loss: 0.5768\n",
      "Epoch 33/100\n",
      "7740/7740 [==============================] - 0s 36us/sample - loss: 0.2825 - val_loss: 0.4021\n",
      "Epoch 34/100\n"
     ]
    },
    {
     "name": "stdout",
     "output_type": "stream",
     "text": [
      "7740/7740 [==============================] - 0s 35us/sample - loss: 0.2760 - val_loss: 0.5271\n",
      "3870/3870 [==============================] - 0s 11us/sample - loss: 0.3081\n",
      "[CV]  learning_rate=0.01598323325710045, n_hidden=3, n_neurons=69, total=   9.8s\n",
      "[CV] learning_rate=0.01598323325710045, n_hidden=3, n_neurons=69 .....\n",
      "Train on 7740 samples, validate on 3870 samples\n",
      "Epoch 1/100\n",
      "7740/7740 [==============================] - 0s 48us/sample - loss: 0.7017 - val_loss: 0.5375\n",
      "Epoch 2/100\n",
      "7740/7740 [==============================] - 0s 34us/sample - loss: 0.4016 - val_loss: 0.6612\n",
      "Epoch 3/100\n",
      "7740/7740 [==============================] - 0s 34us/sample - loss: 0.3850 - val_loss: 0.8089\n",
      "Epoch 4/100\n",
      "7740/7740 [==============================] - 0s 34us/sample - loss: 0.3629 - val_loss: 1.1132\n",
      "Epoch 5/100\n",
      "7740/7740 [==============================] - 0s 35us/sample - loss: 0.3471 - val_loss: 1.1121\n",
      "Epoch 6/100\n",
      "7740/7740 [==============================] - 0s 35us/sample - loss: 0.3428 - val_loss: 0.8861\n",
      "Epoch 7/100\n",
      "7740/7740 [==============================] - 0s 35us/sample - loss: 0.3370 - val_loss: 0.9099\n",
      "Epoch 8/100\n",
      "7740/7740 [==============================] - 0s 35us/sample - loss: 0.3296 - val_loss: 0.7288\n",
      "Epoch 9/100\n",
      "7740/7740 [==============================] - 0s 35us/sample - loss: 0.3228 - val_loss: 0.5545\n",
      "Epoch 10/100\n",
      "7740/7740 [==============================] - 0s 35us/sample - loss: 0.3184 - val_loss: 0.4158\n",
      "Epoch 11/100\n",
      "7740/7740 [==============================] - 0s 34us/sample - loss: 0.3152 - val_loss: 0.5323\n",
      "Epoch 12/100\n",
      "7740/7740 [==============================] - 0s 35us/sample - loss: 0.3115 - val_loss: 0.5580\n",
      "Epoch 13/100\n",
      "7740/7740 [==============================] - 0s 34us/sample - loss: 0.3070 - val_loss: 0.3661\n",
      "Epoch 14/100\n",
      "7740/7740 [==============================] - 0s 35us/sample - loss: 0.3058 - val_loss: 0.5443\n",
      "Epoch 15/100\n",
      "7740/7740 [==============================] - 0s 34us/sample - loss: 0.3018 - val_loss: 0.4993\n",
      "Epoch 16/100\n",
      "7740/7740 [==============================] - 0s 35us/sample - loss: 0.2961 - val_loss: 0.3614\n",
      "Epoch 17/100\n",
      "7740/7740 [==============================] - 0s 35us/sample - loss: 0.2917 - val_loss: 0.3462\n",
      "Epoch 18/100\n",
      "7740/7740 [==============================] - 0s 35us/sample - loss: 0.2919 - val_loss: 0.5728\n",
      "Epoch 19/100\n",
      "7740/7740 [==============================] - 0s 35us/sample - loss: 0.2876 - val_loss: 0.5595\n",
      "Epoch 20/100\n",
      "7740/7740 [==============================] - 0s 35us/sample - loss: 0.2862 - val_loss: 0.6291\n",
      "Epoch 21/100\n",
      "7740/7740 [==============================] - 0s 34us/sample - loss: 0.2867 - val_loss: 0.4149\n",
      "Epoch 22/100\n",
      "7740/7740 [==============================] - 0s 36us/sample - loss: 0.2830 - val_loss: 0.4440\n",
      "Epoch 23/100\n",
      "7740/7740 [==============================] - 0s 34us/sample - loss: 0.2785 - val_loss: 0.3799\n",
      "Epoch 24/100\n",
      "7740/7740 [==============================] - 0s 35us/sample - loss: 0.2741 - val_loss: 0.3462\n",
      "Epoch 25/100\n",
      "7740/7740 [==============================] - 0s 34us/sample - loss: 0.2778 - val_loss: 0.3783\n",
      "Epoch 26/100\n",
      "7740/7740 [==============================] - 0s 35us/sample - loss: 0.2710 - val_loss: 0.9975\n",
      "Epoch 27/100\n",
      "7740/7740 [==============================] - 0s 35us/sample - loss: 0.2716 - val_loss: 0.3236\n",
      "Epoch 28/100\n",
      "7740/7740 [==============================] - 0s 35us/sample - loss: 0.2669 - val_loss: 0.3082\n",
      "Epoch 29/100\n",
      "7740/7740 [==============================] - 0s 35us/sample - loss: 0.2672 - val_loss: 0.3449\n",
      "Epoch 30/100\n",
      "7740/7740 [==============================] - 0s 36us/sample - loss: 0.2669 - val_loss: 0.3733\n",
      "Epoch 31/100\n",
      "7740/7740 [==============================] - 0s 34us/sample - loss: 0.2652 - val_loss: 0.4920\n",
      "Epoch 32/100\n",
      "7740/7740 [==============================] - 0s 35us/sample - loss: 0.2647 - val_loss: 0.3277\n",
      "Epoch 33/100\n",
      "7740/7740 [==============================] - 0s 34us/sample - loss: 0.2601 - val_loss: 0.3387\n",
      "Epoch 34/100\n",
      "7740/7740 [==============================] - 0s 35us/sample - loss: 0.2604 - val_loss: 0.3429\n",
      "Epoch 35/100\n",
      "7740/7740 [==============================] - 0s 35us/sample - loss: 0.2633 - val_loss: 0.3868\n",
      "Epoch 36/100\n",
      "7740/7740 [==============================] - 0s 33us/sample - loss: 0.2612 - val_loss: 0.9103\n",
      "Epoch 37/100\n",
      "7740/7740 [==============================] - 0s 34us/sample - loss: 0.2558 - val_loss: 0.2778\n",
      "Epoch 38/100\n",
      "7740/7740 [==============================] - 0s 34us/sample - loss: 0.2583 - val_loss: 0.2783\n",
      "Epoch 39/100\n",
      "7740/7740 [==============================] - 0s 35us/sample - loss: 0.2548 - val_loss: 0.5719\n",
      "Epoch 40/100\n",
      "7740/7740 [==============================] - 0s 35us/sample - loss: 0.2554 - val_loss: 0.2807\n",
      "Epoch 41/100\n",
      "7740/7740 [==============================] - 0s 36us/sample - loss: 0.2532 - val_loss: 0.5772\n",
      "Epoch 42/100\n",
      "7740/7740 [==============================] - 0s 35us/sample - loss: 0.2557 - val_loss: 0.4299\n",
      "Epoch 43/100\n",
      "7740/7740 [==============================] - 0s 35us/sample - loss: 0.2494 - val_loss: 0.4484\n",
      "Epoch 44/100\n",
      "7740/7740 [==============================] - 0s 34us/sample - loss: 0.2514 - val_loss: 0.4690\n",
      "Epoch 45/100\n",
      "7740/7740 [==============================] - 0s 35us/sample - loss: 0.2494 - val_loss: 0.4392\n",
      "Epoch 46/100\n",
      "7740/7740 [==============================] - 0s 34us/sample - loss: 0.2474 - val_loss: 0.4538\n",
      "Epoch 47/100\n",
      "7740/7740 [==============================] - 0s 34us/sample - loss: 0.2448 - val_loss: 0.5294\n",
      "3870/3870 [==============================] - 0s 12us/sample - loss: 0.3049\n",
      "[CV]  learning_rate=0.01598323325710045, n_hidden=3, n_neurons=69, total=  13.0s\n",
      "[CV] learning_rate=0.01598323325710045, n_hidden=3, n_neurons=69 .....\n",
      "Train on 7740 samples, validate on 3870 samples\n",
      "Epoch 1/100\n",
      "7740/7740 [==============================] - 0s 54us/sample - loss: 0.6981 - val_loss: 1.8375\n",
      "Epoch 2/100\n",
      "7740/7740 [==============================] - 0s 36us/sample - loss: 0.4244 - val_loss: 0.3719\n",
      "Epoch 3/100\n",
      "7740/7740 [==============================] - 0s 35us/sample - loss: 0.3766 - val_loss: 0.4210\n",
      "Epoch 4/100\n",
      "7740/7740 [==============================] - 0s 36us/sample - loss: 0.3626 - val_loss: 0.3614\n",
      "Epoch 5/100\n",
      "7740/7740 [==============================] - 0s 35us/sample - loss: 0.3532 - val_loss: 0.4406\n",
      "Epoch 6/100\n",
      "7740/7740 [==============================] - 0s 36us/sample - loss: 0.3502 - val_loss: 0.3225\n",
      "Epoch 7/100\n",
      "7740/7740 [==============================] - 0s 35us/sample - loss: 0.3378 - val_loss: 0.3864\n",
      "Epoch 8/100\n",
      "7740/7740 [==============================] - 0s 35us/sample - loss: 0.3327 - val_loss: 0.3803\n",
      "Epoch 9/100\n",
      "7740/7740 [==============================] - 0s 36us/sample - loss: 0.3260 - val_loss: 0.3104\n",
      "Epoch 10/100\n",
      "7740/7740 [==============================] - 0s 35us/sample - loss: 0.3197 - val_loss: 0.3280\n",
      "Epoch 11/100\n",
      "7740/7740 [==============================] - 0s 36us/sample - loss: 0.3154 - val_loss: 0.2977\n",
      "Epoch 12/100\n",
      "7740/7740 [==============================] - 0s 35us/sample - loss: 0.3143 - val_loss: 0.3041\n",
      "Epoch 13/100\n",
      "7740/7740 [==============================] - 0s 36us/sample - loss: 0.3068 - val_loss: 0.3648\n",
      "Epoch 14/100\n",
      "7740/7740 [==============================] - 0s 37us/sample - loss: 0.3156 - val_loss: 0.3461\n",
      "Epoch 15/100\n",
      "7740/7740 [==============================] - 0s 37us/sample - loss: 0.3069 - val_loss: 0.3190\n",
      "Epoch 16/100\n",
      "7740/7740 [==============================] - 0s 35us/sample - loss: 0.3007 - val_loss: 0.3006\n",
      "Epoch 17/100\n",
      "7740/7740 [==============================] - 0s 38us/sample - loss: 0.2981 - val_loss: 0.3833\n",
      "Epoch 18/100\n",
      "7740/7740 [==============================] - 0s 35us/sample - loss: 0.2950 - val_loss: 0.2805\n",
      "Epoch 19/100\n",
      "7740/7740 [==============================] - 0s 38us/sample - loss: 0.2931 - val_loss: 0.3005\n",
      "Epoch 20/100\n",
      "7740/7740 [==============================] - 0s 39us/sample - loss: 0.2933 - val_loss: 0.2789\n",
      "Epoch 21/100\n",
      "7740/7740 [==============================] - 0s 36us/sample - loss: 0.2887 - val_loss: 0.2794\n",
      "Epoch 22/100\n",
      "7740/7740 [==============================] - 0s 34us/sample - loss: 0.2856 - val_loss: 0.3027\n",
      "Epoch 23/100\n",
      "7740/7740 [==============================] - 0s 36us/sample - loss: 0.2830 - val_loss: 0.2801\n",
      "Epoch 24/100\n",
      "7740/7740 [==============================] - 0s 35us/sample - loss: 0.2833 - val_loss: 0.2938\n",
      "Epoch 25/100\n",
      "7740/7740 [==============================] - 0s 34us/sample - loss: 0.2791 - val_loss: 0.3158\n",
      "Epoch 26/100\n",
      "7740/7740 [==============================] - 0s 35us/sample - loss: 0.2738 - val_loss: 0.2915\n",
      "Epoch 27/100\n",
      "7740/7740 [==============================] - 0s 34us/sample - loss: 0.2752 - val_loss: 0.4035\n",
      "Epoch 28/100\n",
      "7740/7740 [==============================] - 0s 35us/sample - loss: 0.2740 - val_loss: 0.3433\n",
      "Epoch 29/100\n",
      "7740/7740 [==============================] - 0s 35us/sample - loss: 0.2713 - val_loss: 0.3151\n",
      "Epoch 30/100\n",
      "7740/7740 [==============================] - 0s 35us/sample - loss: 0.2709 - val_loss: 0.2828\n",
      "3870/3870 [==============================] - 0s 11us/sample - loss: 0.2881\n",
      "[CV]  learning_rate=0.01598323325710045, n_hidden=3, n_neurons=69, total=   8.7s\n",
      "[CV] learning_rate=0.00549798946057251, n_hidden=3, n_neurons=9 ......\n",
      "Train on 7740 samples, validate on 3870 samples\n",
      "Epoch 1/100\n",
      "7740/7740 [==============================] - 0s 44us/sample - loss: 1.0966 - val_loss: 0.5741\n",
      "Epoch 2/100\n",
      "7740/7740 [==============================] - 0s 31us/sample - loss: 0.5262 - val_loss: 0.6346\n",
      "Epoch 3/100\n",
      "7740/7740 [==============================] - 0s 30us/sample - loss: 0.4794 - val_loss: 0.4579\n",
      "Epoch 4/100\n",
      "7740/7740 [==============================] - 0s 30us/sample - loss: 0.4542 - val_loss: 0.5347\n",
      "Epoch 5/100\n",
      "7740/7740 [==============================] - 0s 31us/sample - loss: 0.4286 - val_loss: 0.4661\n",
      "Epoch 6/100\n",
      "7740/7740 [==============================] - 0s 30us/sample - loss: 0.4120 - val_loss: 0.4339\n",
      "Epoch 7/100\n",
      "7740/7740 [==============================] - 0s 30us/sample - loss: 0.3969 - val_loss: 0.4059\n",
      "Epoch 8/100\n",
      "7740/7740 [==============================] - 0s 30us/sample - loss: 0.3872 - val_loss: 0.3881\n",
      "Epoch 9/100\n",
      "7740/7740 [==============================] - 0s 31us/sample - loss: 0.3803 - val_loss: 0.3686\n",
      "Epoch 10/100\n",
      "7740/7740 [==============================] - 0s 30us/sample - loss: 0.3744 - val_loss: 0.3765\n",
      "Epoch 11/100\n",
      "7740/7740 [==============================] - 0s 31us/sample - loss: 0.3693 - val_loss: 0.3700\n",
      "Epoch 12/100\n",
      "7740/7740 [==============================] - 0s 30us/sample - loss: 0.3647 - val_loss: 0.3571\n",
      "Epoch 13/100\n",
      "7740/7740 [==============================] - 0s 30us/sample - loss: 0.3641 - val_loss: 0.3515\n",
      "Epoch 14/100\n",
      "7740/7740 [==============================] - 0s 31us/sample - loss: 0.3585 - val_loss: 0.3524\n",
      "Epoch 15/100\n",
      "7740/7740 [==============================] - 0s 31us/sample - loss: 0.3557 - val_loss: 0.3547\n",
      "Epoch 16/100\n",
      "7740/7740 [==============================] - 0s 30us/sample - loss: 0.3529 - val_loss: 0.3448\n",
      "Epoch 17/100\n",
      "7740/7740 [==============================] - 0s 31us/sample - loss: 0.3510 - val_loss: 0.3455\n",
      "Epoch 18/100\n",
      "7740/7740 [==============================] - 0s 31us/sample - loss: 0.3487 - val_loss: 0.3526\n",
      "Epoch 19/100\n",
      "7740/7740 [==============================] - 0s 31us/sample - loss: 0.3471 - val_loss: 0.3363\n",
      "Epoch 20/100\n",
      "7740/7740 [==============================] - 0s 31us/sample - loss: 0.3452 - val_loss: 0.3406\n",
      "Epoch 21/100\n",
      "7740/7740 [==============================] - 0s 30us/sample - loss: 0.3442 - val_loss: 0.3384\n",
      "Epoch 22/100\n",
      "7740/7740 [==============================] - 0s 31us/sample - loss: 0.3440 - val_loss: 0.3386\n",
      "Epoch 23/100\n",
      "7740/7740 [==============================] - 0s 32us/sample - loss: 0.3409 - val_loss: 0.3426\n",
      "Epoch 24/100\n",
      "7740/7740 [==============================] - 0s 31us/sample - loss: 0.3391 - val_loss: 0.3333\n",
      "Epoch 25/100\n",
      "7740/7740 [==============================] - 0s 32us/sample - loss: 0.3390 - val_loss: 0.3329\n",
      "Epoch 26/100\n",
      "7740/7740 [==============================] - 0s 31us/sample - loss: 0.3387 - val_loss: 0.3352\n",
      "Epoch 27/100\n",
      "7740/7740 [==============================] - 0s 32us/sample - loss: 0.3353 - val_loss: 0.3365\n",
      "Epoch 28/100\n",
      "7740/7740 [==============================] - 0s 31us/sample - loss: 0.3344 - val_loss: 0.3317\n",
      "Epoch 29/100\n",
      "7740/7740 [==============================] - 0s 31us/sample - loss: 0.3327 - val_loss: 0.3290\n",
      "Epoch 30/100\n",
      "7740/7740 [==============================] - 0s 31us/sample - loss: 0.3296 - val_loss: 0.3299\n",
      "Epoch 31/100\n",
      "7740/7740 [==============================] - 0s 31us/sample - loss: 0.3308 - val_loss: 0.3289\n",
      "Epoch 32/100\n",
      "7740/7740 [==============================] - 0s 31us/sample - loss: 0.3295 - val_loss: 0.3293\n",
      "Epoch 33/100\n",
      "7740/7740 [==============================] - 0s 31us/sample - loss: 0.3273 - val_loss: 0.3341\n",
      "Epoch 34/100\n",
      "7740/7740 [==============================] - 0s 30us/sample - loss: 0.3279 - val_loss: 0.3303\n",
      "Epoch 35/100\n",
      "7740/7740 [==============================] - 0s 31us/sample - loss: 0.3273 - val_loss: 0.3260\n",
      "Epoch 36/100\n",
      "7740/7740 [==============================] - 0s 31us/sample - loss: 0.3270 - val_loss: 0.3293\n",
      "Epoch 37/100\n",
      "7740/7740 [==============================] - 0s 31us/sample - loss: 0.3255 - val_loss: 0.3259\n",
      "Epoch 38/100\n",
      "7740/7740 [==============================] - 0s 31us/sample - loss: 0.3255 - val_loss: 0.3272\n",
      "Epoch 39/100\n",
      "7740/7740 [==============================] - 0s 30us/sample - loss: 0.3244 - val_loss: 0.3250\n",
      "Epoch 40/100\n",
      "7740/7740 [==============================] - 0s 32us/sample - loss: 0.3242 - val_loss: 0.3260\n",
      "Epoch 41/100\n",
      "7740/7740 [==============================] - 0s 31us/sample - loss: 0.3222 - val_loss: 0.3296\n",
      "Epoch 42/100\n",
      "7740/7740 [==============================] - 0s 31us/sample - loss: 0.3235 - val_loss: 0.3257\n",
      "Epoch 43/100\n",
      "7740/7740 [==============================] - 0s 31us/sample - loss: 0.3211 - val_loss: 0.3315\n",
      "Epoch 44/100\n",
      "7740/7740 [==============================] - 0s 32us/sample - loss: 0.3209 - val_loss: 0.3224\n",
      "Epoch 45/100\n",
      "7740/7740 [==============================] - 0s 32us/sample - loss: 0.3203 - val_loss: 0.3187\n",
      "Epoch 46/100\n",
      "7740/7740 [==============================] - 0s 30us/sample - loss: 0.3188 - val_loss: 0.3257\n",
      "Epoch 47/100\n",
      "7740/7740 [==============================] - 0s 31us/sample - loss: 0.3184 - val_loss: 0.3291\n",
      "Epoch 48/100\n",
      "7740/7740 [==============================] - 0s 31us/sample - loss: 0.3186 - val_loss: 0.3253\n",
      "Epoch 49/100\n",
      "7740/7740 [==============================] - 0s 30us/sample - loss: 0.3175 - val_loss: 0.3259\n",
      "Epoch 50/100\n",
      "7740/7740 [==============================] - 0s 31us/sample - loss: 0.3174 - val_loss: 0.3225\n",
      "Epoch 51/100\n",
      "7740/7740 [==============================] - 0s 30us/sample - loss: 0.3162 - val_loss: 0.3179\n",
      "Epoch 52/100\n",
      "7740/7740 [==============================] - 0s 31us/sample - loss: 0.3170 - val_loss: 0.3223\n",
      "Epoch 53/100\n",
      "7740/7740 [==============================] - 0s 31us/sample - loss: 0.3157 - val_loss: 0.3153\n",
      "Epoch 54/100\n",
      "7740/7740 [==============================] - 0s 31us/sample - loss: 0.3150 - val_loss: 0.3141\n",
      "Epoch 55/100\n",
      "7740/7740 [==============================] - 0s 31us/sample - loss: 0.3162 - val_loss: 0.3119\n",
      "Epoch 56/100\n",
      "7740/7740 [==============================] - 0s 31us/sample - loss: 0.3135 - val_loss: 0.3136\n",
      "Epoch 57/100\n",
      "7740/7740 [==============================] - 0s 30us/sample - loss: 0.3136 - val_loss: 0.3151\n",
      "Epoch 58/100\n",
      "7740/7740 [==============================] - 0s 31us/sample - loss: 0.3141 - val_loss: 0.3150\n",
      "Epoch 59/100\n",
      "7740/7740 [==============================] - 0s 32us/sample - loss: 0.3128 - val_loss: 0.3100\n",
      "Epoch 60/100\n",
      "7740/7740 [==============================] - 0s 31us/sample - loss: 0.3129 - val_loss: 0.3101\n",
      "Epoch 61/100\n",
      "7740/7740 [==============================] - 0s 31us/sample - loss: 0.3110 - val_loss: 0.3106\n",
      "Epoch 62/100\n",
      "7740/7740 [==============================] - 0s 32us/sample - loss: 0.3110 - val_loss: 0.3118\n",
      "Epoch 63/100\n",
      "7740/7740 [==============================] - 0s 30us/sample - loss: 0.3092 - val_loss: 0.3087\n",
      "Epoch 64/100\n",
      "7740/7740 [==============================] - 0s 32us/sample - loss: 0.3104 - val_loss: 0.3262\n",
      "Epoch 65/100\n",
      "7740/7740 [==============================] - 0s 34us/sample - loss: 0.3087 - val_loss: 0.3129\n",
      "Epoch 66/100\n",
      "7740/7740 [==============================] - 0s 32us/sample - loss: 0.3100 - val_loss: 0.3119\n",
      "Epoch 67/100\n",
      "7740/7740 [==============================] - 0s 31us/sample - loss: 0.3088 - val_loss: 0.3128\n",
      "Epoch 68/100\n"
     ]
    },
    {
     "name": "stdout",
     "output_type": "stream",
     "text": [
      "7740/7740 [==============================] - 0s 32us/sample - loss: 0.3087 - val_loss: 0.3053\n",
      "Epoch 69/100\n",
      "7740/7740 [==============================] - 0s 31us/sample - loss: 0.3085 - val_loss: 0.3093\n",
      "Epoch 70/100\n",
      "7740/7740 [==============================] - 0s 32us/sample - loss: 0.3081 - val_loss: 0.3034\n",
      "Epoch 71/100\n",
      "7740/7740 [==============================] - 0s 31us/sample - loss: 0.3078 - val_loss: 0.3159\n",
      "Epoch 72/100\n",
      "7740/7740 [==============================] - 0s 31us/sample - loss: 0.3090 - val_loss: 0.3105\n",
      "Epoch 73/100\n",
      "7740/7740 [==============================] - 0s 31us/sample - loss: 0.3074 - val_loss: 0.3026\n",
      "Epoch 74/100\n",
      "7740/7740 [==============================] - 0s 31us/sample - loss: 0.3077 - val_loss: 0.3111\n",
      "Epoch 75/100\n",
      "7740/7740 [==============================] - 0s 31us/sample - loss: 0.3066 - val_loss: 0.3102\n",
      "Epoch 76/100\n",
      "7740/7740 [==============================] - 0s 30us/sample - loss: 0.3057 - val_loss: 0.3049\n",
      "Epoch 77/100\n",
      "7740/7740 [==============================] - 0s 31us/sample - loss: 0.3050 - val_loss: 0.3110\n",
      "Epoch 78/100\n",
      "7740/7740 [==============================] - 0s 30us/sample - loss: 0.3064 - val_loss: 0.3014\n",
      "Epoch 79/100\n",
      "7740/7740 [==============================] - 0s 31us/sample - loss: 0.3061 - val_loss: 0.3027\n",
      "Epoch 80/100\n",
      "7740/7740 [==============================] - 0s 31us/sample - loss: 0.3048 - val_loss: 0.3080\n",
      "Epoch 81/100\n",
      "7740/7740 [==============================] - 0s 31us/sample - loss: 0.3052 - val_loss: 0.3044\n",
      "Epoch 82/100\n",
      "7740/7740 [==============================] - 0s 31us/sample - loss: 0.3039 - val_loss: 0.2987\n",
      "Epoch 83/100\n",
      "7740/7740 [==============================] - 0s 31us/sample - loss: 0.3048 - val_loss: 0.2995\n",
      "Epoch 84/100\n",
      "7740/7740 [==============================] - 0s 32us/sample - loss: 0.3047 - val_loss: 0.3044\n",
      "Epoch 85/100\n",
      "7740/7740 [==============================] - 0s 31us/sample - loss: 0.3040 - val_loss: 0.3036\n",
      "Epoch 86/100\n",
      "7740/7740 [==============================] - 0s 30us/sample - loss: 0.3037 - val_loss: 0.3140\n",
      "Epoch 87/100\n",
      "7740/7740 [==============================] - 0s 32us/sample - loss: 0.3048 - val_loss: 0.3006\n",
      "Epoch 88/100\n",
      "7740/7740 [==============================] - 0s 34us/sample - loss: 0.3035 - val_loss: 0.3152\n",
      "Epoch 89/100\n",
      "7740/7740 [==============================] - 0s 34us/sample - loss: 0.3037 - val_loss: 0.3024\n",
      "Epoch 90/100\n",
      "7740/7740 [==============================] - 0s 34us/sample - loss: 0.3032 - val_loss: 0.3030\n",
      "Epoch 91/100\n",
      "7740/7740 [==============================] - 0s 31us/sample - loss: 0.3031 - val_loss: 0.3034\n",
      "Epoch 92/100\n",
      "7740/7740 [==============================] - 0s 32us/sample - loss: 0.3015 - val_loss: 0.3074\n",
      "3870/3870 [==============================] - 0s 11us/sample - loss: 0.3466\n",
      "[CV]  learning_rate=0.00549798946057251, n_hidden=3, n_neurons=9, total=  22.6s\n",
      "[CV] learning_rate=0.00549798946057251, n_hidden=3, n_neurons=9 ......\n",
      "Train on 7740 samples, validate on 3870 samples\n",
      "Epoch 1/100\n",
      "7740/7740 [==============================] - 0s 44us/sample - loss: 1.3070 - val_loss: 0.7383\n",
      "Epoch 2/100\n",
      "7740/7740 [==============================] - 0s 30us/sample - loss: 0.7201 - val_loss: 0.6468\n",
      "Epoch 3/100\n",
      "7740/7740 [==============================] - 0s 30us/sample - loss: 0.6612 - val_loss: 0.5971\n",
      "Epoch 4/100\n",
      "7740/7740 [==============================] - 0s 30us/sample - loss: 0.6149 - val_loss: 0.5654\n",
      "Epoch 5/100\n",
      "7740/7740 [==============================] - 0s 30us/sample - loss: 0.5767 - val_loss: 0.5228\n",
      "Epoch 6/100\n",
      "7740/7740 [==============================] - 0s 31us/sample - loss: 0.5385 - val_loss: 0.4933\n",
      "Epoch 7/100\n",
      "7740/7740 [==============================] - 0s 30us/sample - loss: 0.5051 - val_loss: 0.4628\n",
      "Epoch 8/100\n",
      "7740/7740 [==============================] - 0s 30us/sample - loss: 0.4763 - val_loss: 0.4325\n",
      "Epoch 9/100\n",
      "7740/7740 [==============================] - 0s 30us/sample - loss: 0.4524 - val_loss: 0.4098\n",
      "Epoch 10/100\n",
      "7740/7740 [==============================] - 0s 30us/sample - loss: 0.4324 - val_loss: 0.3909\n",
      "Epoch 11/100\n",
      "7740/7740 [==============================] - 0s 31us/sample - loss: 0.4183 - val_loss: 0.3834\n",
      "Epoch 12/100\n",
      "7740/7740 [==============================] - 0s 31us/sample - loss: 0.4105 - val_loss: 0.3767\n",
      "Epoch 13/100\n",
      "7740/7740 [==============================] - 0s 30us/sample - loss: 0.4019 - val_loss: 0.3724\n",
      "Epoch 14/100\n",
      "7740/7740 [==============================] - 0s 30us/sample - loss: 0.3955 - val_loss: 0.3672\n",
      "Epoch 15/100\n",
      "7740/7740 [==============================] - 0s 31us/sample - loss: 0.3914 - val_loss: 0.3626\n",
      "Epoch 16/100\n",
      "7740/7740 [==============================] - 0s 30us/sample - loss: 0.3878 - val_loss: 0.3670\n",
      "Epoch 17/100\n",
      "7740/7740 [==============================] - 0s 29us/sample - loss: 0.3835 - val_loss: 0.3755\n",
      "Epoch 18/100\n",
      "7740/7740 [==============================] - 0s 33us/sample - loss: 0.3808 - val_loss: 0.4020\n",
      "Epoch 19/100\n",
      "7740/7740 [==============================] - 0s 32us/sample - loss: 0.3767 - val_loss: 0.4044\n",
      "Epoch 20/100\n",
      "7740/7740 [==============================] - 0s 32us/sample - loss: 0.3747 - val_loss: 0.4323\n",
      "Epoch 21/100\n",
      "7740/7740 [==============================] - 0s 33us/sample - loss: 0.3716 - val_loss: 0.4507\n",
      "Epoch 22/100\n",
      "7740/7740 [==============================] - 0s 38us/sample - loss: 0.3695 - val_loss: 0.4496\n",
      "Epoch 23/100\n",
      "7740/7740 [==============================] - 0s 33us/sample - loss: 0.3676 - val_loss: 0.4672\n",
      "Epoch 24/100\n",
      "7740/7740 [==============================] - 0s 31us/sample - loss: 0.3663 - val_loss: 0.4706\n",
      "Epoch 25/100\n",
      "7740/7740 [==============================] - 0s 32us/sample - loss: 0.3645 - val_loss: 0.5120\n",
      "3870/3870 [==============================] - 0s 11us/sample - loss: 0.3853\n",
      "[CV]  learning_rate=0.00549798946057251, n_hidden=3, n_neurons=9, total=   6.5s\n",
      "[CV] learning_rate=0.00549798946057251, n_hidden=3, n_neurons=9 ......\n",
      "Train on 7740 samples, validate on 3870 samples\n",
      "Epoch 1/100\n",
      "7740/7740 [==============================] - 0s 49us/sample - loss: 1.1998 - val_loss: 0.7639\n",
      "Epoch 2/100\n",
      "7740/7740 [==============================] - 0s 34us/sample - loss: 0.6662 - val_loss: 0.7158\n",
      "Epoch 3/100\n",
      "7740/7740 [==============================] - 0s 33us/sample - loss: 0.6002 - val_loss: 0.7051\n",
      "Epoch 4/100\n",
      "7740/7740 [==============================] - 0s 31us/sample - loss: 0.5479 - val_loss: 0.6306\n",
      "Epoch 5/100\n",
      "7740/7740 [==============================] - 0s 30us/sample - loss: 0.5074 - val_loss: 0.5953\n",
      "Epoch 6/100\n",
      "7740/7740 [==============================] - 0s 30us/sample - loss: 0.4774 - val_loss: 0.5470\n",
      "Epoch 7/100\n",
      "7740/7740 [==============================] - 0s 30us/sample - loss: 0.4557 - val_loss: 0.5307\n",
      "Epoch 8/100\n",
      "7740/7740 [==============================] - 0s 30us/sample - loss: 0.4391 - val_loss: 0.4997\n",
      "Epoch 9/100\n",
      "7740/7740 [==============================] - 0s 30us/sample - loss: 0.4272 - val_loss: 0.4898\n",
      "Epoch 10/100\n",
      "7740/7740 [==============================] - 0s 30us/sample - loss: 0.4199 - val_loss: 0.4673\n",
      "Epoch 11/100\n",
      "7740/7740 [==============================] - 0s 29us/sample - loss: 0.4140 - val_loss: 0.4671\n",
      "Epoch 12/100\n",
      "7740/7740 [==============================] - 0s 30us/sample - loss: 0.4085 - val_loss: 0.4452\n",
      "Epoch 13/100\n",
      "7740/7740 [==============================] - 0s 30us/sample - loss: 0.4039 - val_loss: 0.4474\n",
      "Epoch 14/100\n",
      "7740/7740 [==============================] - 0s 30us/sample - loss: 0.4011 - val_loss: 0.4325\n",
      "Epoch 15/100\n",
      "7740/7740 [==============================] - 0s 30us/sample - loss: 0.3989 - val_loss: 0.4246\n",
      "Epoch 16/100\n",
      "7740/7740 [==============================] - 0s 30us/sample - loss: 0.3966 - val_loss: 0.4150\n",
      "Epoch 17/100\n",
      "7740/7740 [==============================] - 0s 30us/sample - loss: 0.3949 - val_loss: 0.4175\n",
      "Epoch 18/100\n",
      "7740/7740 [==============================] - 0s 30us/sample - loss: 0.3919 - val_loss: 0.4168\n",
      "Epoch 19/100\n",
      "7740/7740 [==============================] - 0s 30us/sample - loss: 0.3907 - val_loss: 0.4122\n",
      "Epoch 20/100\n",
      "7740/7740 [==============================] - 0s 30us/sample - loss: 0.3903 - val_loss: 0.4089\n",
      "Epoch 21/100\n",
      "7740/7740 [==============================] - 0s 30us/sample - loss: 0.3890 - val_loss: 0.4294\n",
      "Epoch 22/100\n",
      "7740/7740 [==============================] - 0s 31us/sample - loss: 0.3880 - val_loss: 0.4072\n",
      "Epoch 23/100\n",
      "7740/7740 [==============================] - 0s 30us/sample - loss: 0.3868 - val_loss: 0.4052\n",
      "Epoch 24/100\n",
      "7740/7740 [==============================] - 0s 30us/sample - loss: 0.3859 - val_loss: 0.4055\n",
      "Epoch 25/100\n",
      "7740/7740 [==============================] - 0s 30us/sample - loss: 0.3850 - val_loss: 0.4005\n",
      "Epoch 26/100\n",
      "7740/7740 [==============================] - 0s 30us/sample - loss: 0.3840 - val_loss: 0.3984\n",
      "Epoch 27/100\n",
      "7740/7740 [==============================] - 0s 30us/sample - loss: 0.3821 - val_loss: 0.3989\n",
      "Epoch 28/100\n",
      "7740/7740 [==============================] - 0s 30us/sample - loss: 0.3809 - val_loss: 0.3962\n",
      "Epoch 29/100\n",
      "7740/7740 [==============================] - 0s 32us/sample - loss: 0.3807 - val_loss: 0.3932\n",
      "Epoch 30/100\n",
      "7740/7740 [==============================] - 0s 31us/sample - loss: 0.3801 - val_loss: 0.3968\n",
      "Epoch 31/100\n",
      "7740/7740 [==============================] - 0s 31us/sample - loss: 0.3794 - val_loss: 0.4001\n",
      "Epoch 32/100\n",
      "7740/7740 [==============================] - 0s 30us/sample - loss: 0.3776 - val_loss: 0.3928\n",
      "Epoch 33/100\n",
      "7740/7740 [==============================] - 0s 30us/sample - loss: 0.3775 - val_loss: 0.3909\n",
      "Epoch 34/100\n",
      "7740/7740 [==============================] - 0s 31us/sample - loss: 0.3762 - val_loss: 0.3922\n",
      "Epoch 35/100\n",
      "7740/7740 [==============================] - 0s 30us/sample - loss: 0.3749 - val_loss: 0.3876\n",
      "Epoch 36/100\n",
      "7740/7740 [==============================] - 0s 31us/sample - loss: 0.3734 - val_loss: 0.3880\n",
      "Epoch 37/100\n",
      "7740/7740 [==============================] - 0s 30us/sample - loss: 0.3730 - val_loss: 0.3988\n",
      "Epoch 38/100\n",
      "7740/7740 [==============================] - 0s 30us/sample - loss: 0.3728 - val_loss: 0.3930\n",
      "Epoch 39/100\n",
      "7740/7740 [==============================] - 0s 31us/sample - loss: 0.3721 - val_loss: 0.3903\n",
      "Epoch 40/100\n",
      "7740/7740 [==============================] - 0s 30us/sample - loss: 0.3692 - val_loss: 0.3894\n",
      "Epoch 41/100\n",
      "7740/7740 [==============================] - 0s 30us/sample - loss: 0.3685 - val_loss: 0.3861\n",
      "Epoch 42/100\n",
      "7740/7740 [==============================] - 0s 30us/sample - loss: 0.3681 - val_loss: 0.3717\n",
      "Epoch 43/100\n",
      "7740/7740 [==============================] - 0s 30us/sample - loss: 0.3668 - val_loss: 0.3659\n",
      "Epoch 44/100\n",
      "7740/7740 [==============================] - 0s 30us/sample - loss: 0.3649 - val_loss: 0.3667\n",
      "Epoch 45/100\n",
      "7740/7740 [==============================] - 0s 30us/sample - loss: 0.3645 - val_loss: 0.3592\n",
      "Epoch 46/100\n",
      "7740/7740 [==============================] - 0s 31us/sample - loss: 0.3635 - val_loss: 0.3752\n",
      "Epoch 47/100\n",
      "7740/7740 [==============================] - 0s 30us/sample - loss: 0.3620 - val_loss: 0.3898\n",
      "Epoch 48/100\n",
      "7740/7740 [==============================] - 0s 29us/sample - loss: 0.3613 - val_loss: 0.3709\n",
      "Epoch 49/100\n",
      "7740/7740 [==============================] - 0s 30us/sample - loss: 0.3617 - val_loss: 0.4104\n",
      "Epoch 50/100\n",
      "7740/7740 [==============================] - 0s 30us/sample - loss: 0.3615 - val_loss: 0.3802\n",
      "Epoch 51/100\n",
      "7740/7740 [==============================] - 0s 30us/sample - loss: 0.3603 - val_loss: 0.3754\n",
      "Epoch 52/100\n",
      "7740/7740 [==============================] - 0s 30us/sample - loss: 0.3596 - val_loss: 0.3828\n",
      "Epoch 53/100\n",
      "7740/7740 [==============================] - 0s 31us/sample - loss: 0.3589 - val_loss: 0.3761\n",
      "Epoch 54/100\n",
      "7740/7740 [==============================] - 0s 30us/sample - loss: 0.3585 - val_loss: 0.3869\n",
      "Epoch 55/100\n",
      "7740/7740 [==============================] - 0s 30us/sample - loss: 0.3573 - val_loss: 0.3928\n",
      "3870/3870 [==============================] - 0s 11us/sample - loss: 0.3573\n",
      "[CV]  learning_rate=0.00549798946057251, n_hidden=3, n_neurons=9, total=  13.4s\n",
      "[CV] learning_rate=0.002682820301643939, n_hidden=1, n_neurons=84 ....\n",
      "Train on 7740 samples, validate on 3870 samples\n",
      "Epoch 1/100\n",
      "7740/7740 [==============================] - 0s 41us/sample - loss: 1.2981 - val_loss: 0.7829\n",
      "Epoch 2/100\n",
      "7740/7740 [==============================] - 0s 30us/sample - loss: 0.6284 - val_loss: 1.5949\n",
      "Epoch 3/100\n",
      "7740/7740 [==============================] - 0s 30us/sample - loss: 0.5570 - val_loss: 1.8826\n",
      "Epoch 4/100\n",
      "7740/7740 [==============================] - 0s 31us/sample - loss: 0.5285 - val_loss: 2.2723\n",
      "Epoch 5/100\n",
      "7740/7740 [==============================] - 0s 31us/sample - loss: 0.4833 - val_loss: 1.1147\n",
      "Epoch 6/100\n",
      "7740/7740 [==============================] - 0s 31us/sample - loss: 0.4532 - val_loss: 1.0816\n",
      "Epoch 7/100\n",
      "7740/7740 [==============================] - 0s 31us/sample - loss: 0.4301 - val_loss: 0.4786\n",
      "Epoch 8/100\n",
      "7740/7740 [==============================] - 0s 30us/sample - loss: 0.4125 - val_loss: 0.6216\n",
      "Epoch 9/100\n",
      "7740/7740 [==============================] - 0s 31us/sample - loss: 0.4019 - val_loss: 0.3751\n",
      "Epoch 10/100\n",
      "7740/7740 [==============================] - 0s 30us/sample - loss: 0.3918 - val_loss: 0.3975\n",
      "Epoch 11/100\n",
      "7740/7740 [==============================] - 0s 31us/sample - loss: 0.3847 - val_loss: 0.3677\n",
      "Epoch 12/100\n",
      "7740/7740 [==============================] - 0s 30us/sample - loss: 0.3785 - val_loss: 0.5045\n",
      "Epoch 13/100\n",
      "7740/7740 [==============================] - 0s 30us/sample - loss: 0.3740 - val_loss: 0.3587\n",
      "Epoch 14/100\n",
      "7740/7740 [==============================] - 0s 31us/sample - loss: 0.3680 - val_loss: 0.3831\n",
      "Epoch 15/100\n",
      "7740/7740 [==============================] - 0s 31us/sample - loss: 0.3642 - val_loss: 0.4893\n",
      "Epoch 16/100\n",
      "7740/7740 [==============================] - 0s 31us/sample - loss: 0.3613 - val_loss: 0.3549\n",
      "Epoch 17/100\n",
      "7740/7740 [==============================] - 0s 30us/sample - loss: 0.3571 - val_loss: 0.5474\n",
      "Epoch 18/100\n",
      "7740/7740 [==============================] - 0s 31us/sample - loss: 0.3569 - val_loss: 0.4052\n",
      "Epoch 19/100\n",
      "7740/7740 [==============================] - 0s 30us/sample - loss: 0.3534 - val_loss: 0.9524\n",
      "Epoch 20/100\n",
      "7740/7740 [==============================] - 0s 30us/sample - loss: 0.3608 - val_loss: 0.8386\n",
      "Epoch 21/100\n",
      "7740/7740 [==============================] - 0s 30us/sample - loss: 0.3542 - val_loss: 1.0972\n",
      "Epoch 22/100\n",
      "7740/7740 [==============================] - 0s 30us/sample - loss: 0.3548 - val_loss: 0.4985\n",
      "Epoch 23/100\n",
      "7740/7740 [==============================] - 0s 30us/sample - loss: 0.3461 - val_loss: 0.8804\n",
      "Epoch 24/100\n",
      "7740/7740 [==============================] - 0s 31us/sample - loss: 0.3483 - val_loss: 0.4697\n",
      "Epoch 25/100\n",
      "7740/7740 [==============================] - 0s 31us/sample - loss: 0.3426 - val_loss: 0.7687\n",
      "Epoch 26/100\n",
      "7740/7740 [==============================] - 0s 31us/sample - loss: 0.3441 - val_loss: 0.4882\n",
      "3870/3870 [==============================] - 0s 10us/sample - loss: 0.3660\n",
      "[CV]  learning_rate=0.002682820301643939, n_hidden=1, n_neurons=84, total=   6.4s\n",
      "[CV] learning_rate=0.002682820301643939, n_hidden=1, n_neurons=84 ....\n",
      "Train on 7740 samples, validate on 3870 samples\n",
      "Epoch 1/100\n",
      "7740/7740 [==============================] - 0s 42us/sample - loss: 1.0542 - val_loss: 1.4104\n",
      "Epoch 2/100\n",
      "7740/7740 [==============================] - 0s 30us/sample - loss: 0.5991 - val_loss: 0.5490\n",
      "Epoch 3/100\n",
      "7740/7740 [==============================] - 0s 31us/sample - loss: 0.5227 - val_loss: 0.7561\n",
      "Epoch 4/100\n",
      "7740/7740 [==============================] - 0s 31us/sample - loss: 0.4753 - val_loss: 0.9432\n",
      "Epoch 5/100\n",
      "7740/7740 [==============================] - 0s 31us/sample - loss: 0.4440 - val_loss: 0.8742\n",
      "Epoch 6/100\n",
      "7740/7740 [==============================] - 0s 30us/sample - loss: 0.4232 - val_loss: 0.7302\n",
      "Epoch 7/100\n",
      "7740/7740 [==============================] - 0s 31us/sample - loss: 0.4096 - val_loss: 0.5165\n",
      "Epoch 8/100\n",
      "7740/7740 [==============================] - 0s 30us/sample - loss: 0.3994 - val_loss: 0.4266\n",
      "Epoch 9/100\n",
      "7740/7740 [==============================] - 0s 30us/sample - loss: 0.3907 - val_loss: 0.3701\n",
      "Epoch 10/100\n",
      "7740/7740 [==============================] - 0s 30us/sample - loss: 0.3840 - val_loss: 0.3803\n",
      "Epoch 11/100\n",
      "7740/7740 [==============================] - 0s 31us/sample - loss: 0.3788 - val_loss: 0.4597\n",
      "Epoch 12/100\n"
     ]
    },
    {
     "name": "stdout",
     "output_type": "stream",
     "text": [
      "7740/7740 [==============================] - 0s 31us/sample - loss: 0.3745 - val_loss: 0.4891\n",
      "Epoch 13/100\n",
      "7740/7740 [==============================] - 0s 29us/sample - loss: 0.3704 - val_loss: 0.5959\n",
      "Epoch 14/100\n",
      "7740/7740 [==============================] - 0s 31us/sample - loss: 0.3665 - val_loss: 0.7534\n",
      "Epoch 15/100\n",
      "7740/7740 [==============================] - 0s 30us/sample - loss: 0.3635 - val_loss: 0.8233\n",
      "Epoch 16/100\n",
      "7740/7740 [==============================] - 0s 30us/sample - loss: 0.3611 - val_loss: 0.9227\n",
      "Epoch 17/100\n",
      "7740/7740 [==============================] - 0s 29us/sample - loss: 0.3589 - val_loss: 0.9938\n",
      "Epoch 18/100\n",
      "7740/7740 [==============================] - 0s 31us/sample - loss: 0.3563 - val_loss: 1.0610\n",
      "Epoch 19/100\n",
      "7740/7740 [==============================] - 0s 31us/sample - loss: 0.3542 - val_loss: 1.0708\n",
      "3870/3870 [==============================] - 0s 11us/sample - loss: 0.3734\n",
      "[CV]  learning_rate=0.002682820301643939, n_hidden=1, n_neurons=84, total=   4.8s\n",
      "[CV] learning_rate=0.002682820301643939, n_hidden=1, n_neurons=84 ....\n",
      "Train on 7740 samples, validate on 3870 samples\n",
      "Epoch 1/100\n",
      "7740/7740 [==============================] - 0s 41us/sample - loss: 1.3577 - val_loss: 6.6672\n",
      "Epoch 2/100\n",
      "7740/7740 [==============================] - 0s 30us/sample - loss: 0.6931 - val_loss: 0.7838\n",
      "Epoch 3/100\n",
      "7740/7740 [==============================] - 0s 30us/sample - loss: 0.5326 - val_loss: 0.5111\n",
      "Epoch 4/100\n",
      "7740/7740 [==============================] - 0s 31us/sample - loss: 0.4843 - val_loss: 0.4675\n",
      "Epoch 5/100\n",
      "7740/7740 [==============================] - 0s 31us/sample - loss: 0.4539 - val_loss: 0.4558\n",
      "Epoch 6/100\n",
      "7740/7740 [==============================] - 0s 30us/sample - loss: 0.4343 - val_loss: 0.4613\n",
      "Epoch 7/100\n",
      "7740/7740 [==============================] - 0s 31us/sample - loss: 0.4214 - val_loss: 0.4159\n",
      "Epoch 8/100\n",
      "7740/7740 [==============================] - 0s 30us/sample - loss: 0.4114 - val_loss: 0.4568\n",
      "Epoch 9/100\n",
      "7740/7740 [==============================] - 0s 30us/sample - loss: 0.4042 - val_loss: 0.4699\n",
      "Epoch 10/100\n",
      "7740/7740 [==============================] - 0s 31us/sample - loss: 0.3988 - val_loss: 0.4037\n",
      "Epoch 11/100\n",
      "7740/7740 [==============================] - 0s 30us/sample - loss: 0.3939 - val_loss: 0.4347\n",
      "Epoch 12/100\n",
      "7740/7740 [==============================] - 0s 31us/sample - loss: 0.3899 - val_loss: 0.4217\n",
      "Epoch 13/100\n",
      "7740/7740 [==============================] - 0s 31us/sample - loss: 0.3868 - val_loss: 0.4136\n",
      "Epoch 14/100\n",
      "7740/7740 [==============================] - 0s 30us/sample - loss: 0.3829 - val_loss: 0.4492\n",
      "Epoch 15/100\n",
      "7740/7740 [==============================] - 0s 31us/sample - loss: 0.3804 - val_loss: 0.4367\n",
      "Epoch 16/100\n",
      "7740/7740 [==============================] - 0s 30us/sample - loss: 0.3781 - val_loss: 0.4560\n",
      "Epoch 17/100\n",
      "7740/7740 [==============================] - 0s 31us/sample - loss: 0.3760 - val_loss: 0.3821\n",
      "Epoch 18/100\n",
      "7740/7740 [==============================] - 0s 31us/sample - loss: 0.3731 - val_loss: 0.3681\n",
      "Epoch 19/100\n",
      "7740/7740 [==============================] - 0s 30us/sample - loss: 0.3706 - val_loss: 0.3647\n",
      "Epoch 20/100\n",
      "7740/7740 [==============================] - 0s 31us/sample - loss: 0.3683 - val_loss: 0.3653\n",
      "Epoch 21/100\n",
      "7740/7740 [==============================] - 0s 31us/sample - loss: 0.3666 - val_loss: 0.3952\n",
      "Epoch 22/100\n",
      "7740/7740 [==============================] - 0s 31us/sample - loss: 0.3645 - val_loss: 0.4235\n",
      "Epoch 23/100\n",
      "7740/7740 [==============================] - 0s 30us/sample - loss: 0.3634 - val_loss: 0.3665\n",
      "Epoch 24/100\n",
      "7740/7740 [==============================] - 0s 29us/sample - loss: 0.3610 - val_loss: 0.3844\n",
      "Epoch 25/100\n",
      "7740/7740 [==============================] - 0s 30us/sample - loss: 0.3585 - val_loss: 0.4061\n",
      "Epoch 26/100\n",
      "7740/7740 [==============================] - 0s 30us/sample - loss: 0.3576 - val_loss: 0.3440\n",
      "Epoch 27/100\n",
      "7740/7740 [==============================] - 0s 31us/sample - loss: 0.3560 - val_loss: 0.3596\n",
      "Epoch 28/100\n",
      "7740/7740 [==============================] - 0s 30us/sample - loss: 0.3534 - val_loss: 0.4248\n",
      "Epoch 29/100\n",
      "7740/7740 [==============================] - 0s 31us/sample - loss: 0.3527 - val_loss: 0.3338\n",
      "Epoch 30/100\n",
      "7740/7740 [==============================] - 0s 31us/sample - loss: 0.3512 - val_loss: 0.3534\n",
      "Epoch 31/100\n",
      "7740/7740 [==============================] - 0s 31us/sample - loss: 0.3486 - val_loss: 0.4318\n",
      "Epoch 32/100\n",
      "7740/7740 [==============================] - 0s 30us/sample - loss: 0.3480 - val_loss: 0.3325\n",
      "Epoch 33/100\n",
      "7740/7740 [==============================] - 0s 30us/sample - loss: 0.3457 - val_loss: 0.3824\n",
      "Epoch 34/100\n",
      "7740/7740 [==============================] - 0s 31us/sample - loss: 0.3450 - val_loss: 0.3276\n",
      "Epoch 35/100\n",
      "7740/7740 [==============================] - 0s 30us/sample - loss: 0.3433 - val_loss: 0.3793\n",
      "Epoch 36/100\n",
      "7740/7740 [==============================] - 0s 31us/sample - loss: 0.3425 - val_loss: 0.3293\n",
      "Epoch 37/100\n",
      "7740/7740 [==============================] - 0s 32us/sample - loss: 0.3406 - val_loss: 0.3895\n",
      "Epoch 38/100\n",
      "7740/7740 [==============================] - 0s 30us/sample - loss: 0.3397 - val_loss: 0.3328\n",
      "Epoch 39/100\n",
      "7740/7740 [==============================] - 0s 30us/sample - loss: 0.3386 - val_loss: 0.3789\n",
      "Epoch 40/100\n",
      "7740/7740 [==============================] - 0s 31us/sample - loss: 0.3374 - val_loss: 0.3893\n",
      "Epoch 41/100\n",
      "7740/7740 [==============================] - 0s 31us/sample - loss: 0.3373 - val_loss: 0.3612\n",
      "Epoch 42/100\n",
      "7740/7740 [==============================] - 0s 30us/sample - loss: 0.3355 - val_loss: 0.3675\n",
      "Epoch 43/100\n",
      "7740/7740 [==============================] - 0s 30us/sample - loss: 0.3343 - val_loss: 0.3217\n",
      "Epoch 44/100\n",
      "7740/7740 [==============================] - 0s 32us/sample - loss: 0.3332 - val_loss: 0.3786\n",
      "Epoch 45/100\n",
      "7740/7740 [==============================] - 0s 31us/sample - loss: 0.3330 - val_loss: 0.3272\n",
      "Epoch 46/100\n",
      "7740/7740 [==============================] - 0s 31us/sample - loss: 0.3321 - val_loss: 0.3858\n",
      "Epoch 47/100\n",
      "7740/7740 [==============================] - 0s 30us/sample - loss: 0.3305 - val_loss: 0.3262\n",
      "Epoch 48/100\n",
      "7740/7740 [==============================] - 0s 31us/sample - loss: 0.3318 - val_loss: 0.4119\n",
      "Epoch 49/100\n",
      "7740/7740 [==============================] - 0s 31us/sample - loss: 0.3294 - val_loss: 0.3212\n",
      "Epoch 50/100\n",
      "7740/7740 [==============================] - 0s 29us/sample - loss: 0.3280 - val_loss: 0.3748\n",
      "Epoch 51/100\n",
      "7740/7740 [==============================] - 0s 30us/sample - loss: 0.3280 - val_loss: 0.3215\n",
      "Epoch 52/100\n",
      "7740/7740 [==============================] - 0s 30us/sample - loss: 0.3272 - val_loss: 0.3520\n",
      "Epoch 53/100\n",
      "7740/7740 [==============================] - 0s 31us/sample - loss: 0.3255 - val_loss: 0.3182\n",
      "Epoch 54/100\n",
      "7740/7740 [==============================] - 0s 30us/sample - loss: 0.3253 - val_loss: 0.3348\n",
      "Epoch 55/100\n",
      "7740/7740 [==============================] - 0s 30us/sample - loss: 0.3237 - val_loss: 0.3211\n",
      "Epoch 56/100\n",
      "7740/7740 [==============================] - 0s 30us/sample - loss: 0.3234 - val_loss: 0.3148\n",
      "Epoch 57/100\n",
      "7740/7740 [==============================] - 0s 31us/sample - loss: 0.3236 - val_loss: 0.3715\n",
      "Epoch 58/100\n",
      "7740/7740 [==============================] - 0s 30us/sample - loss: 0.3224 - val_loss: 0.3353\n",
      "Epoch 59/100\n",
      "7740/7740 [==============================] - 0s 30us/sample - loss: 0.3211 - val_loss: 0.3779\n",
      "Epoch 60/100\n",
      "7740/7740 [==============================] - 0s 30us/sample - loss: 0.3214 - val_loss: 0.3157\n",
      "Epoch 61/100\n",
      "7740/7740 [==============================] - 0s 31us/sample - loss: 0.3203 - val_loss: 0.3626\n",
      "Epoch 62/100\n",
      "7740/7740 [==============================] - 0s 30us/sample - loss: 0.3198 - val_loss: 0.3262\n",
      "Epoch 63/100\n",
      "7740/7740 [==============================] - 0s 32us/sample - loss: 0.3188 - val_loss: 0.3476\n",
      "Epoch 64/100\n",
      "7740/7740 [==============================] - 0s 31us/sample - loss: 0.3181 - val_loss: 0.3528\n",
      "Epoch 65/100\n",
      "7740/7740 [==============================] - 0s 34us/sample - loss: 0.3171 - val_loss: 0.3291\n",
      "Epoch 66/100\n",
      "7740/7740 [==============================] - 0s 35us/sample - loss: 0.3167 - val_loss: 0.3741\n",
      "3870/3870 [==============================] - 0s 13us/sample - loss: 0.3226\n",
      "[CV]  learning_rate=0.002682820301643939, n_hidden=1, n_neurons=84, total=  16.0s\n",
      "[CV] learning_rate=0.00742549569619473, n_hidden=2, n_neurons=61 .....\n",
      "Train on 7740 samples, validate on 3870 samples\n",
      "Epoch 1/100\n",
      "7740/7740 [==============================] - 0s 45us/sample - loss: 0.9084 - val_loss: 6.4918\n",
      "Epoch 2/100\n",
      "7740/7740 [==============================] - 0s 33us/sample - loss: 0.5411 - val_loss: 4.0917\n",
      "Epoch 3/100\n",
      "7740/7740 [==============================] - 0s 32us/sample - loss: 0.4791 - val_loss: 2.0468\n",
      "Epoch 4/100\n",
      "7740/7740 [==============================] - 0s 33us/sample - loss: 0.4234 - val_loss: 0.4875\n",
      "Epoch 5/100\n",
      "7740/7740 [==============================] - 0s 32us/sample - loss: 0.3893 - val_loss: 0.3740\n",
      "Epoch 6/100\n",
      "7740/7740 [==============================] - 0s 32us/sample - loss: 0.3739 - val_loss: 0.4150\n",
      "Epoch 7/100\n",
      "7740/7740 [==============================] - 0s 32us/sample - loss: 0.3656 - val_loss: 0.4149\n",
      "Epoch 8/100\n",
      "7740/7740 [==============================] - 0s 32us/sample - loss: 0.3593 - val_loss: 0.4120\n",
      "Epoch 9/100\n",
      "7740/7740 [==============================] - 0s 33us/sample - loss: 0.3537 - val_loss: 0.3914\n",
      "Epoch 10/100\n",
      "7740/7740 [==============================] - 0s 38us/sample - loss: 0.3513 - val_loss: 0.4572\n",
      "Epoch 11/100\n",
      "7740/7740 [==============================] - 0s 32us/sample - loss: 0.3489 - val_loss: 0.3487\n",
      "Epoch 12/100\n",
      "7740/7740 [==============================] - 0s 33us/sample - loss: 0.3402 - val_loss: 0.3834\n",
      "Epoch 13/100\n",
      "7740/7740 [==============================] - 0s 33us/sample - loss: 0.3366 - val_loss: 0.3296\n",
      "Epoch 14/100\n",
      "7740/7740 [==============================] - 0s 33us/sample - loss: 0.3342 - val_loss: 0.3797\n",
      "Epoch 15/100\n",
      "7740/7740 [==============================] - 0s 38us/sample - loss: 0.3322 - val_loss: 0.3293\n",
      "Epoch 16/100\n",
      "7740/7740 [==============================] - 0s 36us/sample - loss: 0.3271 - val_loss: 0.4625\n",
      "Epoch 17/100\n",
      "7740/7740 [==============================] - 0s 32us/sample - loss: 0.3263 - val_loss: 0.3175\n",
      "Epoch 18/100\n",
      "7740/7740 [==============================] - 0s 32us/sample - loss: 0.3214 - val_loss: 0.3449\n",
      "Epoch 19/100\n",
      "7740/7740 [==============================] - 0s 32us/sample - loss: 0.3194 - val_loss: 0.3433\n",
      "Epoch 20/100\n",
      "7740/7740 [==============================] - 0s 33us/sample - loss: 0.3173 - val_loss: 0.3107\n",
      "Epoch 21/100\n",
      "7740/7740 [==============================] - 0s 33us/sample - loss: 0.3154 - val_loss: 0.3361\n",
      "Epoch 22/100\n",
      "7740/7740 [==============================] - 0s 34us/sample - loss: 0.3134 - val_loss: 0.3665\n",
      "Epoch 23/100\n",
      "7740/7740 [==============================] - 0s 32us/sample - loss: 0.3105 - val_loss: 0.3657\n",
      "Epoch 24/100\n",
      "7740/7740 [==============================] - 0s 32us/sample - loss: 0.3101 - val_loss: 0.3084\n",
      "Epoch 25/100\n",
      "7740/7740 [==============================] - 0s 33us/sample - loss: 0.3063 - val_loss: 0.3184\n",
      "Epoch 26/100\n",
      "7740/7740 [==============================] - 0s 32us/sample - loss: 0.3050 - val_loss: 0.3283\n",
      "Epoch 27/100\n",
      "7740/7740 [==============================] - 0s 34us/sample - loss: 0.3025 - val_loss: 0.3721\n",
      "Epoch 28/100\n",
      "7740/7740 [==============================] - 0s 34us/sample - loss: 0.3020 - val_loss: 0.3256\n",
      "Epoch 29/100\n",
      "7740/7740 [==============================] - 0s 35us/sample - loss: 0.2997 - val_loss: 0.4711\n",
      "Epoch 30/100\n",
      "7740/7740 [==============================] - 0s 34us/sample - loss: 0.3037 - val_loss: 0.4561\n",
      "Epoch 31/100\n",
      "7740/7740 [==============================] - 0s 32us/sample - loss: 0.3031 - val_loss: 0.3621\n",
      "Epoch 32/100\n",
      "7740/7740 [==============================] - 0s 33us/sample - loss: 0.2985 - val_loss: 0.3104\n",
      "Epoch 33/100\n",
      "7740/7740 [==============================] - 0s 33us/sample - loss: 0.2966 - val_loss: 0.3381\n",
      "Epoch 34/100\n",
      "7740/7740 [==============================] - 0s 32us/sample - loss: 0.2949 - val_loss: 0.3201\n",
      "3870/3870 [==============================] - 0s 12us/sample - loss: 0.3284\n",
      "[CV]  learning_rate=0.00742549569619473, n_hidden=2, n_neurons=61, total=   9.1s\n",
      "[CV] learning_rate=0.00742549569619473, n_hidden=2, n_neurons=61 .....\n",
      "Train on 7740 samples, validate on 3870 samples\n",
      "Epoch 1/100\n",
      "7740/7740 [==============================] - 0s 47us/sample - loss: 0.9072 - val_loss: 1.0408\n",
      "Epoch 2/100\n",
      "7740/7740 [==============================] - 0s 34us/sample - loss: 0.4539 - val_loss: 0.6721\n",
      "Epoch 3/100\n",
      "7740/7740 [==============================] - 0s 36us/sample - loss: 0.4016 - val_loss: 0.9639\n",
      "Epoch 4/100\n",
      "7740/7740 [==============================] - 0s 32us/sample - loss: 0.3768 - val_loss: 1.0680\n",
      "Epoch 5/100\n",
      "7740/7740 [==============================] - 0s 32us/sample - loss: 0.3662 - val_loss: 1.3069\n",
      "Epoch 6/100\n",
      "7740/7740 [==============================] - 0s 32us/sample - loss: 0.3569 - val_loss: 1.4909\n",
      "Epoch 7/100\n",
      "7740/7740 [==============================] - 0s 32us/sample - loss: 0.3500 - val_loss: 1.3386\n",
      "Epoch 8/100\n",
      "7740/7740 [==============================] - 0s 32us/sample - loss: 0.3469 - val_loss: 1.4347\n",
      "Epoch 9/100\n",
      "7740/7740 [==============================] - 0s 32us/sample - loss: 0.3411 - val_loss: 1.0995\n",
      "Epoch 10/100\n",
      "7740/7740 [==============================] - 0s 32us/sample - loss: 0.3392 - val_loss: 0.9979\n",
      "Epoch 11/100\n",
      "7740/7740 [==============================] - 0s 31us/sample - loss: 0.3339 - val_loss: 1.1504\n",
      "Epoch 12/100\n",
      "7740/7740 [==============================] - 0s 32us/sample - loss: 0.3302 - val_loss: 0.9678\n",
      "3870/3870 [==============================] - 0s 11us/sample - loss: 0.3570\n",
      "[CV]  learning_rate=0.00742549569619473, n_hidden=2, n_neurons=61, total=   3.4s\n",
      "[CV] learning_rate=0.00742549569619473, n_hidden=2, n_neurons=61 .....\n",
      "Train on 7740 samples, validate on 3870 samples\n",
      "Epoch 1/100\n",
      "7740/7740 [==============================] - 1s 68us/sample - loss: 0.9729 - val_loss: 4.0394\n",
      "Epoch 2/100\n",
      "7740/7740 [==============================] - 0s 31us/sample - loss: 0.5324 - val_loss: 4.1126\n",
      "Epoch 3/100\n",
      "7740/7740 [==============================] - 0s 33us/sample - loss: 0.4619 - val_loss: 0.3831\n",
      "Epoch 4/100\n",
      "7740/7740 [==============================] - 0s 32us/sample - loss: 0.3985 - val_loss: 0.3929\n",
      "Epoch 5/100\n",
      "7740/7740 [==============================] - 0s 31us/sample - loss: 0.3826 - val_loss: 0.3913\n",
      "Epoch 6/100\n",
      "7740/7740 [==============================] - 0s 31us/sample - loss: 0.3743 - val_loss: 0.3808\n",
      "Epoch 7/100\n",
      "7740/7740 [==============================] - 0s 32us/sample - loss: 0.3675 - val_loss: 0.4094\n",
      "Epoch 8/100\n",
      "7740/7740 [==============================] - 0s 32us/sample - loss: 0.3636 - val_loss: 0.3635\n",
      "Epoch 9/100\n",
      "7740/7740 [==============================] - 0s 32us/sample - loss: 0.3565 - val_loss: 0.3606\n",
      "Epoch 10/100\n",
      "7740/7740 [==============================] - 0s 33us/sample - loss: 0.3541 - val_loss: 0.3630\n",
      "Epoch 11/100\n",
      "7740/7740 [==============================] - 0s 31us/sample - loss: 0.3482 - val_loss: 0.3686\n",
      "Epoch 12/100\n",
      "7740/7740 [==============================] - 0s 32us/sample - loss: 0.3453 - val_loss: 0.3706\n",
      "Epoch 13/100\n",
      "7740/7740 [==============================] - 0s 32us/sample - loss: 0.3411 - val_loss: 0.4048\n",
      "Epoch 14/100\n",
      "7740/7740 [==============================] - 0s 31us/sample - loss: 0.3392 - val_loss: 0.3217\n",
      "Epoch 15/100\n",
      "7740/7740 [==============================] - 0s 32us/sample - loss: 0.3364 - val_loss: 0.4240\n",
      "Epoch 16/100\n",
      "7740/7740 [==============================] - 0s 32us/sample - loss: 0.3333 - val_loss: 0.3226\n",
      "Epoch 17/100\n",
      "7740/7740 [==============================] - 0s 32us/sample - loss: 0.3337 - val_loss: 0.5373\n",
      "Epoch 18/100\n",
      "7740/7740 [==============================] - 0s 31us/sample - loss: 0.3295 - val_loss: 0.3163\n",
      "Epoch 19/100\n",
      "7740/7740 [==============================] - 0s 31us/sample - loss: 0.3240 - val_loss: 0.3761\n",
      "Epoch 20/100\n",
      "7740/7740 [==============================] - 0s 32us/sample - loss: 0.3234 - val_loss: 0.3304\n",
      "Epoch 21/100\n",
      "7740/7740 [==============================] - 0s 32us/sample - loss: 0.3215 - val_loss: 0.4832\n",
      "Epoch 22/100\n",
      "7740/7740 [==============================] - 0s 32us/sample - loss: 0.3243 - val_loss: 0.3437\n",
      "Epoch 23/100\n",
      "7740/7740 [==============================] - 0s 32us/sample - loss: 0.3210 - val_loss: 0.4174\n",
      "Epoch 24/100\n"
     ]
    },
    {
     "name": "stdout",
     "output_type": "stream",
     "text": [
      "7740/7740 [==============================] - 0s 32us/sample - loss: 0.3181 - val_loss: 0.3128\n",
      "Epoch 25/100\n",
      "7740/7740 [==============================] - 0s 31us/sample - loss: 0.3144 - val_loss: 0.3172\n",
      "Epoch 26/100\n",
      "7740/7740 [==============================] - 0s 32us/sample - loss: 0.3127 - val_loss: 0.3752\n",
      "Epoch 27/100\n",
      "7740/7740 [==============================] - 0s 33us/sample - loss: 0.3121 - val_loss: 0.3231\n",
      "Epoch 28/100\n",
      "7740/7740 [==============================] - 0s 32us/sample - loss: 0.3090 - val_loss: 0.3179\n",
      "Epoch 29/100\n",
      "7740/7740 [==============================] - 0s 32us/sample - loss: 0.3062 - val_loss: 0.5925\n",
      "Epoch 30/100\n",
      "7740/7740 [==============================] - 0s 34us/sample - loss: 0.3103 - val_loss: 0.3840\n",
      "Epoch 31/100\n",
      "7740/7740 [==============================] - 0s 31us/sample - loss: 0.3062 - val_loss: 0.3931\n",
      "Epoch 32/100\n",
      "7740/7740 [==============================] - 0s 32us/sample - loss: 0.3017 - val_loss: 0.3450\n",
      "Epoch 33/100\n",
      "7740/7740 [==============================] - 0s 31us/sample - loss: 0.3005 - val_loss: 0.3448\n",
      "Epoch 34/100\n",
      "7740/7740 [==============================] - 0s 32us/sample - loss: 0.2995 - val_loss: 0.3751\n",
      "3870/3870 [==============================] - 0s 10us/sample - loss: 0.3119\n",
      "[CV]  learning_rate=0.00742549569619473, n_hidden=2, n_neurons=61, total=   8.9s\n",
      "[CV] learning_rate=0.0007215540228653338, n_hidden=0, n_neurons=36 ...\n",
      "Train on 7740 samples, validate on 3870 samples\n",
      "Epoch 1/100\n",
      "7740/7740 [==============================] - 0s 37us/sample - loss: 3.3073 - val_loss: 1.3673\n",
      "Epoch 2/100\n",
      "7740/7740 [==============================] - 0s 27us/sample - loss: 1.0422 - val_loss: 0.8240\n",
      "Epoch 3/100\n",
      "7740/7740 [==============================] - 0s 28us/sample - loss: 0.7980 - val_loss: 0.7260\n",
      "Epoch 4/100\n",
      "7740/7740 [==============================] - 0s 29us/sample - loss: 0.7346 - val_loss: 0.7120\n",
      "Epoch 5/100\n",
      "7740/7740 [==============================] - 0s 29us/sample - loss: 0.7035 - val_loss: 0.6697\n",
      "Epoch 6/100\n",
      "7740/7740 [==============================] - 0s 28us/sample - loss: 0.6797 - val_loss: 0.6614\n",
      "Epoch 7/100\n",
      "7740/7740 [==============================] - 0s 27us/sample - loss: 0.6597 - val_loss: 0.6563\n",
      "Epoch 8/100\n",
      "7740/7740 [==============================] - 0s 29us/sample - loss: 0.6420 - val_loss: 0.6029\n",
      "Epoch 9/100\n",
      "7740/7740 [==============================] - 0s 29us/sample - loss: 0.6257 - val_loss: 0.6154\n",
      "Epoch 10/100\n",
      "7740/7740 [==============================] - 0s 27us/sample - loss: 0.6107 - val_loss: 0.5828\n",
      "Epoch 11/100\n",
      "7740/7740 [==============================] - 0s 29us/sample - loss: 0.5963 - val_loss: 0.5758\n",
      "Epoch 12/100\n",
      "7740/7740 [==============================] - 0s 27us/sample - loss: 0.5831 - val_loss: 0.5653\n",
      "Epoch 13/100\n",
      "7740/7740 [==============================] - 0s 28us/sample - loss: 0.5707 - val_loss: 0.5508\n",
      "Epoch 14/100\n",
      "7740/7740 [==============================] - 0s 28us/sample - loss: 0.5591 - val_loss: 0.5442\n",
      "Epoch 15/100\n",
      "7740/7740 [==============================] - 0s 27us/sample - loss: 0.5480 - val_loss: 0.5713\n",
      "Epoch 16/100\n",
      "7740/7740 [==============================] - 0s 29us/sample - loss: 0.5384 - val_loss: 0.5191\n",
      "Epoch 17/100\n",
      "7740/7740 [==============================] - 0s 30us/sample - loss: 0.5288 - val_loss: 0.5358\n",
      "Epoch 18/100\n",
      "7740/7740 [==============================] - 0s 28us/sample - loss: 0.5202 - val_loss: 0.5131\n",
      "Epoch 19/100\n",
      "7740/7740 [==============================] - 0s 28us/sample - loss: 0.5119 - val_loss: 0.4882\n",
      "Epoch 20/100\n",
      "7740/7740 [==============================] - 0s 31us/sample - loss: 0.5042 - val_loss: 0.4918\n",
      "Epoch 21/100\n",
      "7740/7740 [==============================] - 0s 27us/sample - loss: 0.4971 - val_loss: 0.4763\n",
      "Epoch 22/100\n",
      "7740/7740 [==============================] - 0s 30us/sample - loss: 0.4906 - val_loss: 0.4720\n",
      "Epoch 23/100\n",
      "7740/7740 [==============================] - 0s 29us/sample - loss: 0.4847 - val_loss: 0.4565\n",
      "Epoch 24/100\n",
      "7740/7740 [==============================] - 0s 27us/sample - loss: 0.4790 - val_loss: 0.4548\n",
      "Epoch 25/100\n",
      "7740/7740 [==============================] - 0s 28us/sample - loss: 0.4736 - val_loss: 0.4549\n",
      "Epoch 26/100\n",
      "7740/7740 [==============================] - 0s 29us/sample - loss: 0.4687 - val_loss: 0.4696\n",
      "Epoch 27/100\n",
      "7740/7740 [==============================] - 0s 27us/sample - loss: 0.4645 - val_loss: 0.4645\n",
      "Epoch 28/100\n",
      "7740/7740 [==============================] - 0s 30us/sample - loss: 0.4602 - val_loss: 0.4656\n",
      "Epoch 29/100\n",
      "7740/7740 [==============================] - 0s 30us/sample - loss: 0.4566 - val_loss: 0.4565\n",
      "Epoch 30/100\n",
      "7740/7740 [==============================] - 0s 29us/sample - loss: 0.4530 - val_loss: 0.4366\n",
      "Epoch 31/100\n",
      "7740/7740 [==============================] - 0s 29us/sample - loss: 0.4497 - val_loss: 0.4385\n",
      "Epoch 32/100\n",
      "7740/7740 [==============================] - 0s 31us/sample - loss: 0.4465 - val_loss: 0.4365\n",
      "Epoch 33/100\n",
      "7740/7740 [==============================] - 0s 28us/sample - loss: 0.4435 - val_loss: 0.4515\n",
      "Epoch 34/100\n",
      "7740/7740 [==============================] - 0s 29us/sample - loss: 0.4408 - val_loss: 0.4325\n",
      "Epoch 35/100\n",
      "7740/7740 [==============================] - 0s 27us/sample - loss: 0.4382 - val_loss: 0.4293\n",
      "Epoch 36/100\n",
      "7740/7740 [==============================] - 0s 30us/sample - loss: 0.4357 - val_loss: 0.4305\n",
      "Epoch 37/100\n",
      "7740/7740 [==============================] - 0s 29us/sample - loss: 0.4335 - val_loss: 0.4305\n",
      "Epoch 38/100\n",
      "7740/7740 [==============================] - 0s 28us/sample - loss: 0.4313 - val_loss: 0.4222\n",
      "Epoch 39/100\n",
      "7740/7740 [==============================] - 0s 27us/sample - loss: 0.4292 - val_loss: 0.4273\n",
      "Epoch 40/100\n",
      "7740/7740 [==============================] - 0s 27us/sample - loss: 0.4272 - val_loss: 0.4259\n",
      "Epoch 41/100\n",
      "7740/7740 [==============================] - 0s 32us/sample - loss: 0.4254 - val_loss: 0.4249\n",
      "Epoch 42/100\n",
      "7740/7740 [==============================] - 0s 28us/sample - loss: 0.4237 - val_loss: 0.4194\n",
      "Epoch 43/100\n",
      "7740/7740 [==============================] - 0s 27us/sample - loss: 0.4221 - val_loss: 0.4207\n",
      "Epoch 44/100\n",
      "7740/7740 [==============================] - 0s 30us/sample - loss: 0.4205 - val_loss: 0.4105\n",
      "Epoch 45/100\n",
      "7740/7740 [==============================] - 0s 27us/sample - loss: 0.4191 - val_loss: 0.4112\n",
      "Epoch 46/100\n",
      "7740/7740 [==============================] - 0s 28us/sample - loss: 0.4176 - val_loss: 0.4067\n",
      "Epoch 47/100\n",
      "7740/7740 [==============================] - 0s 28us/sample - loss: 0.4161 - val_loss: 0.4110\n",
      "Epoch 48/100\n",
      "7740/7740 [==============================] - 0s 27us/sample - loss: 0.4149 - val_loss: 0.4048\n",
      "Epoch 49/100\n",
      "7740/7740 [==============================] - 0s 28us/sample - loss: 0.4136 - val_loss: 0.4042\n",
      "Epoch 50/100\n",
      "7740/7740 [==============================] - 0s 29us/sample - loss: 0.4123 - val_loss: 0.4016\n",
      "Epoch 51/100\n",
      "7740/7740 [==============================] - 0s 29us/sample - loss: 0.4111 - val_loss: 0.4063\n",
      "Epoch 52/100\n",
      "7740/7740 [==============================] - 0s 28us/sample - loss: 0.4100 - val_loss: 0.3955\n",
      "Epoch 53/100\n",
      "7740/7740 [==============================] - 0s 28us/sample - loss: 0.4089 - val_loss: 0.3955\n",
      "Epoch 54/100\n",
      "7740/7740 [==============================] - 0s 28us/sample - loss: 0.4078 - val_loss: 0.3992\n",
      "Epoch 55/100\n",
      "7740/7740 [==============================] - 0s 29us/sample - loss: 0.4067 - val_loss: 0.3891\n",
      "Epoch 56/100\n",
      "7740/7740 [==============================] - 0s 27us/sample - loss: 0.4057 - val_loss: 0.3925\n",
      "Epoch 57/100\n",
      "7740/7740 [==============================] - 0s 28us/sample - loss: 0.4048 - val_loss: 0.3896\n",
      "Epoch 58/100\n",
      "7740/7740 [==============================] - 0s 27us/sample - loss: 0.4037 - val_loss: 0.3841\n",
      "Epoch 59/100\n",
      "7740/7740 [==============================] - 0s 27us/sample - loss: 0.4028 - val_loss: 0.3827\n",
      "Epoch 60/100\n",
      "7740/7740 [==============================] - 0s 28us/sample - loss: 0.4018 - val_loss: 0.3800\n",
      "Epoch 61/100\n",
      "7740/7740 [==============================] - 0s 27us/sample - loss: 0.4010 - val_loss: 0.3847\n",
      "Epoch 62/100\n",
      "7740/7740 [==============================] - 0s 27us/sample - loss: 0.4002 - val_loss: 0.3824\n",
      "Epoch 63/100\n",
      "7740/7740 [==============================] - 0s 27us/sample - loss: 0.3993 - val_loss: 0.3807\n",
      "Epoch 64/100\n",
      "7740/7740 [==============================] - 0s 28us/sample - loss: 0.3984 - val_loss: 0.3781\n",
      "Epoch 65/100\n",
      "7740/7740 [==============================] - 0s 32us/sample - loss: 0.3977 - val_loss: 0.3771\n",
      "Epoch 66/100\n",
      "7740/7740 [==============================] - 0s 27us/sample - loss: 0.3969 - val_loss: 0.3770\n",
      "Epoch 67/100\n",
      "7740/7740 [==============================] - 0s 28us/sample - loss: 0.3961 - val_loss: 0.3758\n",
      "Epoch 68/100\n",
      "7740/7740 [==============================] - 0s 28us/sample - loss: 0.3953 - val_loss: 0.3772\n",
      "Epoch 69/100\n",
      "7740/7740 [==============================] - 0s 28us/sample - loss: 0.3946 - val_loss: 0.3742\n",
      "Epoch 70/100\n",
      "7740/7740 [==============================] - 0s 28us/sample - loss: 0.3939 - val_loss: 0.3742\n",
      "Epoch 71/100\n",
      "7740/7740 [==============================] - 0s 28us/sample - loss: 0.3932 - val_loss: 0.3741\n",
      "Epoch 72/100\n",
      "7740/7740 [==============================] - 0s 28us/sample - loss: 0.3925 - val_loss: 0.3747\n",
      "Epoch 73/100\n",
      "7740/7740 [==============================] - 0s 28us/sample - loss: 0.3918 - val_loss: 0.3720\n",
      "Epoch 74/100\n",
      "7740/7740 [==============================] - 0s 30us/sample - loss: 0.3911 - val_loss: 0.3720\n",
      "Epoch 75/100\n",
      "7740/7740 [==============================] - 0s 31us/sample - loss: 0.3906 - val_loss: 0.3710\n",
      "Epoch 76/100\n",
      "7740/7740 [==============================] - 0s 29us/sample - loss: 0.3899 - val_loss: 0.3709\n",
      "Epoch 77/100\n",
      "7740/7740 [==============================] - 0s 28us/sample - loss: 0.3892 - val_loss: 0.3707\n",
      "Epoch 78/100\n",
      "7740/7740 [==============================] - 0s 27us/sample - loss: 0.3887 - val_loss: 0.3705\n",
      "Epoch 79/100\n",
      "7740/7740 [==============================] - 0s 28us/sample - loss: 0.3881 - val_loss: 0.3700\n",
      "Epoch 80/100\n",
      "7740/7740 [==============================] - 0s 27us/sample - loss: 0.3874 - val_loss: 0.3692\n",
      "Epoch 81/100\n",
      "7740/7740 [==============================] - 0s 29us/sample - loss: 0.3869 - val_loss: 0.3685\n",
      "Epoch 82/100\n",
      "7740/7740 [==============================] - 0s 28us/sample - loss: 0.3863 - val_loss: 0.3677\n",
      "Epoch 83/100\n",
      "7740/7740 [==============================] - 0s 28us/sample - loss: 0.3858 - val_loss: 0.3674\n",
      "Epoch 84/100\n",
      "7740/7740 [==============================] - 0s 28us/sample - loss: 0.3852 - val_loss: 0.3682\n",
      "Epoch 85/100\n",
      "7740/7740 [==============================] - 0s 27us/sample - loss: 0.3846 - val_loss: 0.3665\n",
      "Epoch 86/100\n",
      "7740/7740 [==============================] - 0s 27us/sample - loss: 0.3841 - val_loss: 0.3663\n",
      "Epoch 87/100\n",
      "7740/7740 [==============================] - 0s 29us/sample - loss: 0.3836 - val_loss: 0.3658\n",
      "Epoch 88/100\n",
      "7740/7740 [==============================] - 0s 28us/sample - loss: 0.3830 - val_loss: 0.3659\n",
      "Epoch 89/100\n",
      "7740/7740 [==============================] - 0s 27us/sample - loss: 0.3826 - val_loss: 0.3648\n",
      "Epoch 90/100\n",
      "7740/7740 [==============================] - 0s 27us/sample - loss: 0.3819 - val_loss: 0.3648\n",
      "Epoch 91/100\n",
      "7740/7740 [==============================] - 0s 27us/sample - loss: 0.3815 - val_loss: 0.3670\n",
      "Epoch 92/100\n",
      "7740/7740 [==============================] - 0s 29us/sample - loss: 0.3809 - val_loss: 0.3650\n",
      "Epoch 93/100\n",
      "7740/7740 [==============================] - 0s 28us/sample - loss: 0.3804 - val_loss: 0.3637\n",
      "Epoch 94/100\n",
      "7740/7740 [==============================] - 0s 28us/sample - loss: 0.3799 - val_loss: 0.3666\n",
      "Epoch 95/100\n",
      "7740/7740 [==============================] - 0s 30us/sample - loss: 0.3796 - val_loss: 0.3661\n",
      "Epoch 96/100\n",
      "7740/7740 [==============================] - 0s 31us/sample - loss: 0.3790 - val_loss: 0.3694\n",
      "Epoch 97/100\n",
      "7740/7740 [==============================] - 0s 28us/sample - loss: 0.3786 - val_loss: 0.3657\n",
      "Epoch 98/100\n",
      "7740/7740 [==============================] - 0s 28us/sample - loss: 0.3781 - val_loss: 0.3685\n",
      "Epoch 99/100\n",
      "7740/7740 [==============================] - 0s 28us/sample - loss: 0.3776 - val_loss: 0.3678\n",
      "Epoch 100/100\n",
      "7740/7740 [==============================] - 0s 28us/sample - loss: 0.3773 - val_loss: 0.3676\n",
      "3870/3870 [==============================] - 0s 9us/sample - loss: 0.3914\n",
      "[CV]  learning_rate=0.0007215540228653338, n_hidden=0, n_neurons=36, total=  22.2s\n",
      "[CV] learning_rate=0.0007215540228653338, n_hidden=0, n_neurons=36 ...\n",
      "Train on 7740 samples, validate on 3870 samples\n",
      "Epoch 1/100\n",
      "7740/7740 [==============================] - 0s 36us/sample - loss: 2.7596 - val_loss: 9.9943\n",
      "Epoch 2/100\n",
      "7740/7740 [==============================] - 0s 26us/sample - loss: 1.0791 - val_loss: 9.8736\n",
      "Epoch 3/100\n",
      "7740/7740 [==============================] - 0s 28us/sample - loss: 0.8448 - val_loss: 7.2656\n",
      "Epoch 4/100\n",
      "7740/7740 [==============================] - 0s 27us/sample - loss: 0.7750 - val_loss: 4.8357\n",
      "Epoch 5/100\n",
      "7740/7740 [==============================] - 0s 28us/sample - loss: 0.7333 - val_loss: 3.0420\n",
      "Epoch 6/100\n",
      "7740/7740 [==============================] - 0s 29us/sample - loss: 0.7005 - val_loss: 1.8847\n",
      "Epoch 7/100\n",
      "7740/7740 [==============================] - 0s 27us/sample - loss: 0.6722 - val_loss: 1.1509\n",
      "Epoch 8/100\n",
      "7740/7740 [==============================] - 0s 28us/sample - loss: 0.6471 - val_loss: 0.7623\n",
      "Epoch 9/100\n",
      "7740/7740 [==============================] - 0s 28us/sample - loss: 0.6247 - val_loss: 0.6030\n",
      "Epoch 10/100\n",
      "7740/7740 [==============================] - 0s 28us/sample - loss: 0.6045 - val_loss: 0.5718\n",
      "Epoch 11/100\n",
      "7740/7740 [==============================] - 0s 28us/sample - loss: 0.5863 - val_loss: 0.6455\n",
      "Epoch 12/100\n",
      "7740/7740 [==============================] - 0s 28us/sample - loss: 0.5699 - val_loss: 0.7860\n",
      "Epoch 13/100\n",
      "7740/7740 [==============================] - 0s 29us/sample - loss: 0.5554 - val_loss: 0.9450\n",
      "Epoch 14/100\n",
      "7740/7740 [==============================] - 0s 27us/sample - loss: 0.5422 - val_loss: 1.1081\n",
      "Epoch 15/100\n",
      "7740/7740 [==============================] - 0s 28us/sample - loss: 0.5302 - val_loss: 1.3101\n",
      "Epoch 16/100\n",
      "7740/7740 [==============================] - 0s 30us/sample - loss: 0.5194 - val_loss: 1.4600\n",
      "Epoch 17/100\n",
      "7740/7740 [==============================] - 0s 27us/sample - loss: 0.5098 - val_loss: 1.6170\n",
      "Epoch 18/100\n",
      "7740/7740 [==============================] - 0s 28us/sample - loss: 0.5012 - val_loss: 1.7815\n",
      "Epoch 19/100\n",
      "7740/7740 [==============================] - 0s 28us/sample - loss: 0.4933 - val_loss: 1.8936\n",
      "Epoch 20/100\n",
      "7740/7740 [==============================] - 0s 29us/sample - loss: 0.4861 - val_loss: 1.9730\n",
      "3870/3870 [==============================] - 0s 9us/sample - loss: 0.5223\n",
      "[CV]  learning_rate=0.0007215540228653338, n_hidden=0, n_neurons=36, total=   4.6s\n",
      "[CV] learning_rate=0.0007215540228653338, n_hidden=0, n_neurons=36 ...\n",
      "Train on 7740 samples, validate on 3870 samples\n",
      "Epoch 1/100\n",
      "7740/7740 [==============================] - 0s 37us/sample - loss: 2.9987 - val_loss: 5.5402\n",
      "Epoch 2/100\n",
      "7740/7740 [==============================] - 0s 28us/sample - loss: 1.2874 - val_loss: 1.8927\n",
      "Epoch 3/100\n",
      "7740/7740 [==============================] - 0s 27us/sample - loss: 0.8662 - val_loss: 0.8901\n",
      "Epoch 4/100\n",
      "7740/7740 [==============================] - 0s 27us/sample - loss: 0.7549 - val_loss: 0.7007\n",
      "Epoch 5/100\n",
      "7740/7740 [==============================] - 0s 28us/sample - loss: 0.7110 - val_loss: 0.6664\n",
      "Epoch 6/100\n",
      "7740/7740 [==============================] - 0s 27us/sample - loss: 0.6812 - val_loss: 0.6311\n",
      "Epoch 7/100\n",
      "7740/7740 [==============================] - 0s 27us/sample - loss: 0.6581 - val_loss: 0.6114\n",
      "Epoch 8/100\n",
      "7740/7740 [==============================] - 0s 27us/sample - loss: 0.6372 - val_loss: 0.5932\n",
      "Epoch 9/100\n",
      "7740/7740 [==============================] - 0s 27us/sample - loss: 0.6180 - val_loss: 0.5797\n",
      "Epoch 10/100\n",
      "7740/7740 [==============================] - 0s 27us/sample - loss: 0.6005 - val_loss: 0.5589\n",
      "Epoch 11/100\n",
      "7740/7740 [==============================] - 0s 27us/sample - loss: 0.5846 - val_loss: 0.5450\n",
      "Epoch 12/100\n",
      "7740/7740 [==============================] - 0s 28us/sample - loss: 0.5706 - val_loss: 0.5421\n",
      "Epoch 13/100\n",
      "7740/7740 [==============================] - 0s 27us/sample - loss: 0.5575 - val_loss: 0.5219\n",
      "Epoch 14/100\n",
      "7740/7740 [==============================] - 0s 27us/sample - loss: 0.5454 - val_loss: 0.5063\n",
      "Epoch 15/100\n"
     ]
    },
    {
     "name": "stdout",
     "output_type": "stream",
     "text": [
      "7740/7740 [==============================] - 0s 26us/sample - loss: 0.5346 - val_loss: 0.4967\n",
      "Epoch 16/100\n",
      "7740/7740 [==============================] - 0s 27us/sample - loss: 0.5247 - val_loss: 0.4893\n",
      "Epoch 17/100\n",
      "7740/7740 [==============================] - 0s 27us/sample - loss: 0.5147 - val_loss: 0.4791\n",
      "Epoch 18/100\n",
      "7740/7740 [==============================] - 0s 27us/sample - loss: 0.5071 - val_loss: 0.4797\n",
      "Epoch 19/100\n",
      "7740/7740 [==============================] - 0s 27us/sample - loss: 0.4988 - val_loss: 0.4725\n",
      "Epoch 20/100\n",
      "7740/7740 [==============================] - 0s 27us/sample - loss: 0.4922 - val_loss: 0.4605\n",
      "Epoch 21/100\n",
      "7740/7740 [==============================] - 0s 27us/sample - loss: 0.4856 - val_loss: 0.4594\n",
      "Epoch 22/100\n",
      "7740/7740 [==============================] - 0s 28us/sample - loss: 0.4802 - val_loss: 0.4554\n",
      "Epoch 23/100\n",
      "7740/7740 [==============================] - 0s 27us/sample - loss: 0.4752 - val_loss: 0.4556\n",
      "Epoch 24/100\n",
      "7740/7740 [==============================] - 0s 29us/sample - loss: 0.4704 - val_loss: 0.4426\n",
      "Epoch 25/100\n",
      "7740/7740 [==============================] - 0s 27us/sample - loss: 0.4661 - val_loss: 0.4402\n",
      "Epoch 26/100\n",
      "7740/7740 [==============================] - 0s 27us/sample - loss: 0.4624 - val_loss: 0.4332\n",
      "Epoch 27/100\n",
      "7740/7740 [==============================] - 0s 29us/sample - loss: 0.4589 - val_loss: 0.4369\n",
      "Epoch 28/100\n",
      "7740/7740 [==============================] - 0s 27us/sample - loss: 0.4555 - val_loss: 0.4320\n",
      "Epoch 29/100\n",
      "7740/7740 [==============================] - 0s 27us/sample - loss: 0.4528 - val_loss: 0.4335\n",
      "Epoch 30/100\n",
      "7740/7740 [==============================] - 0s 28us/sample - loss: 0.4498 - val_loss: 0.4345\n",
      "Epoch 31/100\n",
      "7740/7740 [==============================] - 0s 27us/sample - loss: 0.4471 - val_loss: 0.4247\n",
      "Epoch 32/100\n",
      "7740/7740 [==============================] - 0s 27us/sample - loss: 0.4448 - val_loss: 0.4232\n",
      "Epoch 33/100\n",
      "7740/7740 [==============================] - 0s 26us/sample - loss: 0.4424 - val_loss: 0.4217\n",
      "Epoch 34/100\n",
      "7740/7740 [==============================] - 0s 29us/sample - loss: 0.4403 - val_loss: 0.4209\n",
      "Epoch 35/100\n",
      "7740/7740 [==============================] - 0s 28us/sample - loss: 0.4385 - val_loss: 0.4195\n",
      "Epoch 36/100\n",
      "7740/7740 [==============================] - 0s 29us/sample - loss: 0.4366 - val_loss: 0.4145\n",
      "Epoch 37/100\n",
      "7740/7740 [==============================] - 0s 29us/sample - loss: 0.4347 - val_loss: 0.4121\n",
      "Epoch 38/100\n",
      "7740/7740 [==============================] - 0s 28us/sample - loss: 0.4329 - val_loss: 0.4076\n",
      "Epoch 39/100\n",
      "7740/7740 [==============================] - 0s 27us/sample - loss: 0.4314 - val_loss: 0.4239\n",
      "Epoch 40/100\n",
      "7740/7740 [==============================] - 0s 27us/sample - loss: 0.4297 - val_loss: 0.4080\n",
      "Epoch 41/100\n",
      "7740/7740 [==============================] - 0s 28us/sample - loss: 0.4286 - val_loss: 0.4150\n",
      "Epoch 42/100\n",
      "7740/7740 [==============================] - 0s 27us/sample - loss: 0.4267 - val_loss: 0.4125\n",
      "Epoch 43/100\n",
      "7740/7740 [==============================] - 0s 27us/sample - loss: 0.4254 - val_loss: 0.4080\n",
      "Epoch 44/100\n",
      "7740/7740 [==============================] - 0s 27us/sample - loss: 0.4246 - val_loss: 0.4057\n",
      "Epoch 45/100\n",
      "7740/7740 [==============================] - 0s 29us/sample - loss: 0.4229 - val_loss: 0.3996\n",
      "Epoch 46/100\n",
      "7740/7740 [==============================] - 0s 29us/sample - loss: 0.4220 - val_loss: 0.4149\n",
      "Epoch 47/100\n",
      "7740/7740 [==============================] - 0s 27us/sample - loss: 0.4207 - val_loss: 0.4085\n",
      "Epoch 48/100\n",
      "7740/7740 [==============================] - 0s 28us/sample - loss: 0.4195 - val_loss: 0.4202\n",
      "Epoch 49/100\n",
      "7740/7740 [==============================] - 0s 28us/sample - loss: 0.4186 - val_loss: 0.4208\n",
      "Epoch 50/100\n",
      "7740/7740 [==============================] - 0s 26us/sample - loss: 0.4179 - val_loss: 0.4117\n",
      "Epoch 51/100\n",
      "7740/7740 [==============================] - 0s 26us/sample - loss: 0.4168 - val_loss: 0.3995\n",
      "Epoch 52/100\n",
      "7740/7740 [==============================] - 0s 27us/sample - loss: 0.4161 - val_loss: 0.4059\n",
      "Epoch 53/100\n",
      "7740/7740 [==============================] - 0s 28us/sample - loss: 0.4150 - val_loss: 0.4175\n",
      "Epoch 54/100\n",
      "7740/7740 [==============================] - 0s 26us/sample - loss: 0.4141 - val_loss: 0.4128\n",
      "Epoch 55/100\n",
      "7740/7740 [==============================] - 0s 26us/sample - loss: 0.4133 - val_loss: 0.3949\n",
      "Epoch 56/100\n",
      "7740/7740 [==============================] - 0s 27us/sample - loss: 0.4125 - val_loss: 0.3946\n",
      "Epoch 57/100\n",
      "7740/7740 [==============================] - 0s 27us/sample - loss: 0.4116 - val_loss: 0.4088\n",
      "Epoch 58/100\n",
      "7740/7740 [==============================] - 0s 28us/sample - loss: 0.4109 - val_loss: 0.3929\n",
      "Epoch 59/100\n",
      "7740/7740 [==============================] - 0s 28us/sample - loss: 0.4096 - val_loss: 0.4006\n",
      "Epoch 60/100\n",
      "7740/7740 [==============================] - 0s 27us/sample - loss: 0.4092 - val_loss: 0.4054\n",
      "Epoch 61/100\n",
      "7740/7740 [==============================] - 0s 28us/sample - loss: 0.4085 - val_loss: 0.4129\n",
      "Epoch 62/100\n",
      "7740/7740 [==============================] - 0s 27us/sample - loss: 0.4080 - val_loss: 0.3899\n",
      "Epoch 63/100\n",
      "7740/7740 [==============================] - 0s 27us/sample - loss: 0.4071 - val_loss: 0.3869\n",
      "Epoch 64/100\n",
      "7740/7740 [==============================] - 0s 27us/sample - loss: 0.4064 - val_loss: 0.3838\n",
      "Epoch 65/100\n",
      "7740/7740 [==============================] - 0s 27us/sample - loss: 0.4060 - val_loss: 0.3905\n",
      "Epoch 66/100\n",
      "7740/7740 [==============================] - 0s 28us/sample - loss: 0.4052 - val_loss: 0.3987\n",
      "Epoch 67/100\n",
      "7740/7740 [==============================] - 0s 27us/sample - loss: 0.4045 - val_loss: 0.4117\n",
      "Epoch 68/100\n",
      "7740/7740 [==============================] - 0s 27us/sample - loss: 0.4041 - val_loss: 0.3930\n",
      "Epoch 69/100\n",
      "7740/7740 [==============================] - 0s 27us/sample - loss: 0.4034 - val_loss: 0.4052\n",
      "Epoch 70/100\n",
      "7740/7740 [==============================] - 0s 27us/sample - loss: 0.4026 - val_loss: 0.3846\n",
      "Epoch 71/100\n",
      "7740/7740 [==============================] - 0s 28us/sample - loss: 0.4020 - val_loss: 0.3865\n",
      "Epoch 72/100\n",
      "7740/7740 [==============================] - 0s 28us/sample - loss: 0.4012 - val_loss: 0.3810\n",
      "Epoch 73/100\n",
      "7740/7740 [==============================] - 0s 26us/sample - loss: 0.4007 - val_loss: 0.3884\n",
      "Epoch 74/100\n",
      "7740/7740 [==============================] - 0s 26us/sample - loss: 0.4005 - val_loss: 0.3986\n",
      "Epoch 75/100\n",
      "7740/7740 [==============================] - 0s 27us/sample - loss: 0.4000 - val_loss: 0.3955\n",
      "Epoch 76/100\n",
      "7740/7740 [==============================] - 0s 27us/sample - loss: 0.3993 - val_loss: 0.3929\n",
      "Epoch 77/100\n",
      "7740/7740 [==============================] - 0s 27us/sample - loss: 0.3984 - val_loss: 0.3793\n",
      "Epoch 78/100\n",
      "7740/7740 [==============================] - 0s 28us/sample - loss: 0.3982 - val_loss: 0.3815\n",
      "Epoch 79/100\n",
      "7740/7740 [==============================] - 0s 29us/sample - loss: 0.3979 - val_loss: 0.3929\n",
      "Epoch 80/100\n",
      "7740/7740 [==============================] - 0s 27us/sample - loss: 0.3973 - val_loss: 0.3903\n",
      "Epoch 81/100\n",
      "7740/7740 [==============================] - 0s 27us/sample - loss: 0.3966 - val_loss: 0.3839\n",
      "Epoch 82/100\n",
      "7740/7740 [==============================] - 0s 28us/sample - loss: 0.3962 - val_loss: 0.3776\n",
      "Epoch 83/100\n",
      "7740/7740 [==============================] - 0s 28us/sample - loss: 0.3953 - val_loss: 0.3791\n",
      "Epoch 84/100\n",
      "7740/7740 [==============================] - 0s 27us/sample - loss: 0.3951 - val_loss: 0.3969\n",
      "Epoch 85/100\n",
      "7740/7740 [==============================] - 0s 27us/sample - loss: 0.3946 - val_loss: 0.4041\n",
      "Epoch 86/100\n",
      "7740/7740 [==============================] - 0s 27us/sample - loss: 0.3942 - val_loss: 0.3766\n",
      "Epoch 87/100\n",
      "7740/7740 [==============================] - 0s 27us/sample - loss: 0.3937 - val_loss: 0.3752\n",
      "Epoch 88/100\n",
      "7740/7740 [==============================] - 0s 27us/sample - loss: 0.3930 - val_loss: 0.4084\n",
      "Epoch 89/100\n",
      "7740/7740 [==============================] - 0s 27us/sample - loss: 0.3928 - val_loss: 0.3958\n",
      "Epoch 90/100\n",
      "7740/7740 [==============================] - 0s 27us/sample - loss: 0.3923 - val_loss: 0.3759\n",
      "Epoch 91/100\n",
      "7740/7740 [==============================] - 0s 27us/sample - loss: 0.3917 - val_loss: 0.3938\n",
      "Epoch 92/100\n",
      "7740/7740 [==============================] - 0s 28us/sample - loss: 0.3914 - val_loss: 0.3750\n",
      "Epoch 93/100\n",
      "7740/7740 [==============================] - 0s 27us/sample - loss: 0.3901 - val_loss: 0.3779\n",
      "Epoch 94/100\n",
      "7740/7740 [==============================] - 0s 27us/sample - loss: 0.3905 - val_loss: 0.3740\n",
      "Epoch 95/100\n",
      "7740/7740 [==============================] - 0s 27us/sample - loss: 0.3896 - val_loss: 0.3767\n",
      "Epoch 96/100\n",
      "7740/7740 [==============================] - 0s 27us/sample - loss: 0.3896 - val_loss: 0.3821\n",
      "Epoch 97/100\n",
      "7740/7740 [==============================] - 0s 27us/sample - loss: 0.3886 - val_loss: 0.3851\n",
      "Epoch 98/100\n",
      "7740/7740 [==============================] - 0s 27us/sample - loss: 0.3886 - val_loss: 0.3829\n",
      "Epoch 99/100\n",
      "7740/7740 [==============================] - 0s 28us/sample - loss: 0.3877 - val_loss: 0.4090\n",
      "Epoch 100/100\n",
      "7740/7740 [==============================] - 0s 27us/sample - loss: 0.3877 - val_loss: 0.3713\n",
      "3870/3870 [==============================] - 0s 9us/sample - loss: 0.3937\n",
      "[CV]  learning_rate=0.0007215540228653338, n_hidden=0, n_neurons=36, total=  21.5s\n",
      "[CV] learning_rate=0.006539330094363484, n_hidden=0, n_neurons=38 ....\n",
      "Train on 7740 samples, validate on 3870 samples\n",
      "Epoch 1/100\n",
      "7740/7740 [==============================] - 0s 37us/sample - loss: 1.1279 - val_loss: 44.5603\n",
      "Epoch 2/100\n",
      "7740/7740 [==============================] - 0s 28us/sample - loss: 1.1272 - val_loss: 0.5887\n",
      "Epoch 3/100\n",
      "7740/7740 [==============================] - 0s 28us/sample - loss: 0.5134 - val_loss: 0.4842\n",
      "Epoch 4/100\n",
      "7740/7740 [==============================] - 0s 27us/sample - loss: 0.4505 - val_loss: 0.4484\n",
      "Epoch 5/100\n",
      "7740/7740 [==============================] - 0s 27us/sample - loss: 0.4283 - val_loss: 0.4455\n",
      "Epoch 6/100\n",
      "7740/7740 [==============================] - 0s 27us/sample - loss: 0.4176 - val_loss: 0.4178\n",
      "Epoch 7/100\n",
      "7740/7740 [==============================] - 0s 27us/sample - loss: 0.4094 - val_loss: 0.4251\n",
      "Epoch 8/100\n",
      "7740/7740 [==============================] - 0s 28us/sample - loss: 0.4027 - val_loss: 0.4129\n",
      "Epoch 9/100\n",
      "7740/7740 [==============================] - 0s 27us/sample - loss: 0.3972 - val_loss: 0.4032\n",
      "Epoch 10/100\n",
      "7740/7740 [==============================] - 0s 28us/sample - loss: 0.3936 - val_loss: 0.4078\n",
      "Epoch 11/100\n",
      "7740/7740 [==============================] - 0s 26us/sample - loss: 0.3899 - val_loss: 0.4008\n",
      "Epoch 12/100\n",
      "7740/7740 [==============================] - 0s 27us/sample - loss: 0.3850 - val_loss: 0.3912\n",
      "Epoch 13/100\n",
      "7740/7740 [==============================] - 0s 27us/sample - loss: 0.3838 - val_loss: 0.3950\n",
      "Epoch 14/100\n",
      "7740/7740 [==============================] - 0s 27us/sample - loss: 0.3833 - val_loss: 0.3871\n",
      "Epoch 15/100\n",
      "7740/7740 [==============================] - 0s 27us/sample - loss: 0.3764 - val_loss: 0.3888\n",
      "Epoch 16/100\n",
      "7740/7740 [==============================] - 0s 27us/sample - loss: 0.3779 - val_loss: 0.3923\n",
      "Epoch 17/100\n",
      "7740/7740 [==============================] - 0s 27us/sample - loss: 0.3732 - val_loss: 0.3836\n",
      "Epoch 18/100\n",
      "7740/7740 [==============================] - 0s 27us/sample - loss: 0.3722 - val_loss: 0.3796\n",
      "Epoch 19/100\n",
      "7740/7740 [==============================] - 0s 27us/sample - loss: 0.3695 - val_loss: 0.3816\n",
      "Epoch 20/100\n",
      "7740/7740 [==============================] - 0s 27us/sample - loss: 0.3668 - val_loss: 0.3892\n",
      "Epoch 21/100\n",
      "7740/7740 [==============================] - 0s 27us/sample - loss: 0.3648 - val_loss: 0.3840\n",
      "Epoch 22/100\n",
      "7740/7740 [==============================] - 0s 27us/sample - loss: 0.3637 - val_loss: 0.3682\n",
      "Epoch 23/100\n",
      "7740/7740 [==============================] - 0s 27us/sample - loss: 0.3654 - val_loss: 0.3835\n",
      "Epoch 24/100\n",
      "7740/7740 [==============================] - 0s 27us/sample - loss: 0.3611 - val_loss: 0.3637\n",
      "Epoch 25/100\n",
      "7740/7740 [==============================] - 0s 27us/sample - loss: 0.3608 - val_loss: 0.3682\n",
      "Epoch 26/100\n",
      "7740/7740 [==============================] - 0s 27us/sample - loss: 0.3587 - val_loss: 0.3678\n",
      "Epoch 27/100\n",
      "7740/7740 [==============================] - 0s 27us/sample - loss: 0.3679 - val_loss: 0.3698\n",
      "Epoch 28/100\n",
      "7740/7740 [==============================] - 0s 27us/sample - loss: 0.3577 - val_loss: 0.3708\n",
      "Epoch 29/100\n",
      "7740/7740 [==============================] - 0s 26us/sample - loss: 0.3558 - val_loss: 0.3645\n",
      "Epoch 30/100\n",
      "7740/7740 [==============================] - 0s 27us/sample - loss: 0.3576 - val_loss: 0.3562\n",
      "Epoch 31/100\n",
      "7740/7740 [==============================] - 0s 27us/sample - loss: 0.3870 - val_loss: 0.3600\n",
      "Epoch 32/100\n",
      "7740/7740 [==============================] - 0s 27us/sample - loss: 0.3533 - val_loss: 0.3839\n",
      "Epoch 33/100\n",
      "7740/7740 [==============================] - 0s 27us/sample - loss: 0.3531 - val_loss: 0.3624\n",
      "Epoch 34/100\n",
      "7740/7740 [==============================] - 0s 27us/sample - loss: 0.3516 - val_loss: 0.3535\n",
      "Epoch 35/100\n",
      "7740/7740 [==============================] - 0s 27us/sample - loss: 0.3507 - val_loss: 0.3627\n",
      "Epoch 36/100\n",
      "7740/7740 [==============================] - 0s 27us/sample - loss: 0.3497 - val_loss: 0.3496\n",
      "Epoch 37/100\n",
      "7740/7740 [==============================] - 0s 27us/sample - loss: 0.3539 - val_loss: 0.3489\n",
      "Epoch 38/100\n",
      "7740/7740 [==============================] - 0s 27us/sample - loss: 0.3487 - val_loss: 0.3498\n",
      "Epoch 39/100\n",
      "7740/7740 [==============================] - 0s 27us/sample - loss: 0.3471 - val_loss: 0.3511\n",
      "Epoch 40/100\n",
      "7740/7740 [==============================] - 0s 27us/sample - loss: 0.3467 - val_loss: 0.3544\n",
      "Epoch 41/100\n",
      "7740/7740 [==============================] - 0s 28us/sample - loss: 0.3475 - val_loss: 0.3527\n",
      "Epoch 42/100\n",
      "7740/7740 [==============================] - 0s 28us/sample - loss: 0.3446 - val_loss: 0.3423\n",
      "Epoch 43/100\n",
      "7740/7740 [==============================] - 0s 28us/sample - loss: 0.3439 - val_loss: 0.3445\n",
      "Epoch 44/100\n",
      "7740/7740 [==============================] - 0s 27us/sample - loss: 0.3429 - val_loss: 0.3424\n",
      "Epoch 45/100\n",
      "7740/7740 [==============================] - 0s 27us/sample - loss: 0.3434 - val_loss: 0.3498\n",
      "Epoch 46/100\n",
      "7740/7740 [==============================] - 0s 27us/sample - loss: 0.3416 - val_loss: 0.3350\n",
      "Epoch 47/100\n",
      "7740/7740 [==============================] - 0s 27us/sample - loss: 0.3409 - val_loss: 0.3380\n",
      "Epoch 48/100\n",
      "7740/7740 [==============================] - 0s 27us/sample - loss: 0.3406 - val_loss: 0.3330\n",
      "Epoch 49/100\n",
      "7740/7740 [==============================] - 0s 28us/sample - loss: 0.3402 - val_loss: 0.3354\n",
      "Epoch 50/100\n",
      "7740/7740 [==============================] - 0s 27us/sample - loss: 0.3394 - val_loss: 0.3392\n",
      "Epoch 51/100\n",
      "7740/7740 [==============================] - 0s 27us/sample - loss: 0.3398 - val_loss: 0.3462\n",
      "Epoch 52/100\n",
      "7740/7740 [==============================] - 0s 27us/sample - loss: 0.3391 - val_loss: 0.3377\n",
      "Epoch 53/100\n",
      "7740/7740 [==============================] - 0s 27us/sample - loss: 0.3399 - val_loss: 0.3288\n",
      "Epoch 54/100\n",
      "7740/7740 [==============================] - 0s 27us/sample - loss: 0.3365 - val_loss: 0.3295\n",
      "Epoch 55/100\n",
      "7740/7740 [==============================] - 0s 28us/sample - loss: 0.3357 - val_loss: 0.3285\n",
      "Epoch 56/100\n",
      "7740/7740 [==============================] - 0s 27us/sample - loss: 0.3350 - val_loss: 0.3426\n",
      "Epoch 57/100\n",
      "7740/7740 [==============================] - 0s 27us/sample - loss: 0.3345 - val_loss: 0.3401\n",
      "Epoch 58/100\n",
      "7740/7740 [==============================] - 0s 27us/sample - loss: 0.3334 - val_loss: 0.3367\n",
      "Epoch 59/100\n",
      "7740/7740 [==============================] - 0s 27us/sample - loss: 0.3325 - val_loss: 0.3405\n",
      "Epoch 60/100\n",
      "7740/7740 [==============================] - 0s 27us/sample - loss: 0.3325 - val_loss: 0.3416\n",
      "Epoch 61/100\n",
      "7740/7740 [==============================] - 0s 26us/sample - loss: 0.3324 - val_loss: 0.3332\n",
      "Epoch 62/100\n",
      "7740/7740 [==============================] - 0s 27us/sample - loss: 0.3312 - val_loss: 0.3288\n",
      "Epoch 63/100\n",
      "7740/7740 [==============================] - 0s 27us/sample - loss: 0.3310 - val_loss: 0.3376\n",
      "Epoch 64/100\n",
      "7740/7740 [==============================] - 0s 27us/sample - loss: 0.3324 - val_loss: 0.3276\n",
      "Epoch 65/100\n"
     ]
    },
    {
     "name": "stdout",
     "output_type": "stream",
     "text": [
      "7740/7740 [==============================] - 0s 27us/sample - loss: 0.3296 - val_loss: 0.3324\n",
      "Epoch 66/100\n",
      "7740/7740 [==============================] - 0s 27us/sample - loss: 0.3301 - val_loss: 0.3277\n",
      "Epoch 67/100\n",
      "7740/7740 [==============================] - 0s 28us/sample - loss: 0.3309 - val_loss: 0.3234\n",
      "Epoch 68/100\n",
      "7740/7740 [==============================] - 0s 27us/sample - loss: 0.3282 - val_loss: 0.3283\n",
      "Epoch 69/100\n",
      "7740/7740 [==============================] - 0s 27us/sample - loss: 0.3277 - val_loss: 0.3399\n",
      "Epoch 70/100\n",
      "7740/7740 [==============================] - 0s 26us/sample - loss: 0.3274 - val_loss: 0.3398\n",
      "Epoch 71/100\n",
      "7740/7740 [==============================] - 0s 28us/sample - loss: 0.3266 - val_loss: 0.3237\n",
      "Epoch 72/100\n",
      "7740/7740 [==============================] - 0s 27us/sample - loss: 0.3255 - val_loss: 0.3231\n",
      "Epoch 73/100\n",
      "7740/7740 [==============================] - 0s 27us/sample - loss: 0.3252 - val_loss: 0.3212\n",
      "Epoch 74/100\n",
      "7740/7740 [==============================] - 0s 27us/sample - loss: 0.3256 - val_loss: 0.3302\n",
      "Epoch 75/100\n",
      "7740/7740 [==============================] - 0s 27us/sample - loss: 0.3246 - val_loss: 0.3312\n",
      "Epoch 76/100\n",
      "7740/7740 [==============================] - 0s 27us/sample - loss: 0.3238 - val_loss: 0.3267\n",
      "Epoch 77/100\n",
      "7740/7740 [==============================] - 0s 27us/sample - loss: 0.3233 - val_loss: 0.3201\n",
      "Epoch 78/100\n",
      "7740/7740 [==============================] - 0s 27us/sample - loss: 0.3227 - val_loss: 0.3199\n",
      "Epoch 79/100\n",
      "7740/7740 [==============================] - 0s 27us/sample - loss: 0.3245 - val_loss: 0.3241\n",
      "Epoch 80/100\n",
      "7740/7740 [==============================] - 0s 28us/sample - loss: 0.3227 - val_loss: 0.3360\n",
      "Epoch 81/100\n",
      "7740/7740 [==============================] - 0s 27us/sample - loss: 0.3218 - val_loss: 0.3251\n",
      "Epoch 82/100\n",
      "7740/7740 [==============================] - 0s 28us/sample - loss: 0.3232 - val_loss: 0.3230\n",
      "Epoch 83/100\n",
      "7740/7740 [==============================] - 0s 27us/sample - loss: 0.3214 - val_loss: 0.3319\n",
      "Epoch 84/100\n",
      "7740/7740 [==============================] - 0s 28us/sample - loss: 0.3214 - val_loss: 0.3599\n",
      "Epoch 85/100\n",
      "7740/7740 [==============================] - 0s 28us/sample - loss: 0.3458 - val_loss: 0.3237\n",
      "Epoch 86/100\n",
      "7740/7740 [==============================] - 0s 28us/sample - loss: 0.3240 - val_loss: 0.3193\n",
      "Epoch 87/100\n",
      "7740/7740 [==============================] - 0s 27us/sample - loss: 0.3211 - val_loss: 0.3324\n",
      "Epoch 88/100\n",
      "7740/7740 [==============================] - 0s 27us/sample - loss: 0.3204 - val_loss: 0.3253\n",
      "Epoch 89/100\n",
      "7740/7740 [==============================] - 0s 27us/sample - loss: 0.3196 - val_loss: 0.3348\n",
      "Epoch 90/100\n",
      "7740/7740 [==============================] - 0s 27us/sample - loss: 0.3187 - val_loss: 0.3182\n",
      "Epoch 91/100\n",
      "7740/7740 [==============================] - 0s 27us/sample - loss: 0.3185 - val_loss: 0.3357\n",
      "Epoch 92/100\n",
      "7740/7740 [==============================] - 0s 27us/sample - loss: 0.3194 - val_loss: 0.3150\n",
      "Epoch 93/100\n",
      "7740/7740 [==============================] - 0s 27us/sample - loss: 0.3186 - val_loss: 0.3207\n",
      "Epoch 94/100\n",
      "7740/7740 [==============================] - 0s 27us/sample - loss: 0.3210 - val_loss: 0.3237\n",
      "Epoch 95/100\n",
      "7740/7740 [==============================] - 0s 27us/sample - loss: 0.3190 - val_loss: 0.3240\n",
      "Epoch 96/100\n",
      "7740/7740 [==============================] - 0s 27us/sample - loss: 0.3173 - val_loss: 0.3302\n",
      "Epoch 97/100\n",
      "7740/7740 [==============================] - 0s 26us/sample - loss: 0.3171 - val_loss: 0.3152\n",
      "Epoch 98/100\n",
      "7740/7740 [==============================] - 0s 26us/sample - loss: 0.3161 - val_loss: 0.3264\n",
      "Epoch 99/100\n",
      "7740/7740 [==============================] - 0s 27us/sample - loss: 0.3178 - val_loss: 0.3192\n",
      "Epoch 100/100\n",
      "7740/7740 [==============================] - 0s 26us/sample - loss: 0.3159 - val_loss: 0.3243\n",
      "3870/3870 [==============================] - 0s 9us/sample - loss: 0.3503\n",
      "[CV]  learning_rate=0.006539330094363484, n_hidden=0, n_neurons=38, total=  21.2s\n",
      "[CV] learning_rate=0.006539330094363484, n_hidden=0, n_neurons=38 ....\n",
      "Train on 7740 samples, validate on 3870 samples\n",
      "Epoch 1/100\n",
      "7740/7740 [==============================] - 0s 37us/sample - loss: 1.0451 - val_loss: 1.1539\n",
      "Epoch 2/100\n",
      "7740/7740 [==============================] - 0s 27us/sample - loss: 0.5813 - val_loss: 1.1494\n",
      "Epoch 3/100\n",
      "7740/7740 [==============================] - 0s 30us/sample - loss: 0.4989 - val_loss: 1.4777\n",
      "Epoch 4/100\n",
      "7740/7740 [==============================] - 0s 27us/sample - loss: 0.4563 - val_loss: 1.0447\n",
      "Epoch 5/100\n",
      "7740/7740 [==============================] - 0s 27us/sample - loss: 0.4323 - val_loss: 0.7120\n",
      "Epoch 6/100\n",
      "7740/7740 [==============================] - 0s 27us/sample - loss: 0.4157 - val_loss: 0.5254\n",
      "Epoch 7/100\n",
      "7740/7740 [==============================] - 0s 28us/sample - loss: 0.4053 - val_loss: 0.3965\n",
      "Epoch 8/100\n",
      "7740/7740 [==============================] - 0s 29us/sample - loss: 0.3975 - val_loss: 0.3701\n",
      "Epoch 9/100\n",
      "7740/7740 [==============================] - 0s 29us/sample - loss: 0.3916 - val_loss: 0.3699\n",
      "Epoch 10/100\n",
      "7740/7740 [==============================] - 0s 27us/sample - loss: 0.3856 - val_loss: 0.4182\n",
      "Epoch 11/100\n",
      "7740/7740 [==============================] - 0s 27us/sample - loss: 0.3825 - val_loss: 0.3754\n",
      "Epoch 12/100\n",
      "7740/7740 [==============================] - 0s 27us/sample - loss: 0.3790 - val_loss: 0.4306\n",
      "Epoch 13/100\n",
      "7740/7740 [==============================] - 0s 27us/sample - loss: 0.3762 - val_loss: 0.4287\n",
      "Epoch 14/100\n",
      "7740/7740 [==============================] - 0s 27us/sample - loss: 0.3744 - val_loss: 0.4327\n",
      "Epoch 15/100\n",
      "7740/7740 [==============================] - 0s 28us/sample - loss: 0.3719 - val_loss: 0.4521\n",
      "Epoch 16/100\n",
      "7740/7740 [==============================] - 0s 28us/sample - loss: 0.3696 - val_loss: 0.4509\n",
      "Epoch 17/100\n",
      "7740/7740 [==============================] - 0s 27us/sample - loss: 0.3676 - val_loss: 0.5492\n",
      "Epoch 18/100\n",
      "7740/7740 [==============================] - 0s 28us/sample - loss: 0.3666 - val_loss: 0.4285\n",
      "Epoch 19/100\n",
      "7740/7740 [==============================] - 0s 27us/sample - loss: 0.3635 - val_loss: 0.4224\n",
      "3870/3870 [==============================] - 0s 9us/sample - loss: 0.3728\n",
      "[CV]  learning_rate=0.006539330094363484, n_hidden=0, n_neurons=38, total=   4.3s\n",
      "[CV] learning_rate=0.006539330094363484, n_hidden=0, n_neurons=38 ....\n",
      "Train on 7740 samples, validate on 3870 samples\n",
      "Epoch 1/100\n",
      "7740/7740 [==============================] - 0s 36us/sample - loss: 1.1098 - val_loss: 5.5517\n",
      "Epoch 2/100\n",
      "7740/7740 [==============================] - 0s 27us/sample - loss: 0.8901 - val_loss: 17.6540\n",
      "Epoch 3/100\n",
      "7740/7740 [==============================] - 0s 27us/sample - loss: 0.6892 - val_loss: 8.0729\n",
      "Epoch 4/100\n",
      "7740/7740 [==============================] - 0s 27us/sample - loss: 0.5663 - val_loss: 0.4471\n",
      "Epoch 5/100\n",
      "7740/7740 [==============================] - 0s 30us/sample - loss: 0.4521 - val_loss: 0.4161\n",
      "Epoch 6/100\n",
      "7740/7740 [==============================] - 0s 27us/sample - loss: 0.4339 - val_loss: 0.4002\n",
      "Epoch 7/100\n",
      "7740/7740 [==============================] - 0s 28us/sample - loss: 0.4225 - val_loss: 0.3898\n",
      "Epoch 8/100\n",
      "7740/7740 [==============================] - 0s 27us/sample - loss: 0.4154 - val_loss: 0.3878\n",
      "Epoch 9/100\n",
      "7740/7740 [==============================] - 0s 27us/sample - loss: 0.4105 - val_loss: 0.3844\n",
      "Epoch 10/100\n",
      "7740/7740 [==============================] - 0s 27us/sample - loss: 0.4057 - val_loss: 0.3858\n",
      "Epoch 11/100\n",
      "7740/7740 [==============================] - 0s 28us/sample - loss: 0.4031 - val_loss: 0.3917\n",
      "Epoch 12/100\n",
      "7740/7740 [==============================] - 0s 27us/sample - loss: 0.3982 - val_loss: 0.4004\n",
      "Epoch 13/100\n",
      "7740/7740 [==============================] - 0s 27us/sample - loss: 0.3949 - val_loss: 0.4004\n",
      "Epoch 14/100\n",
      "7740/7740 [==============================] - 0s 28us/sample - loss: 0.3932 - val_loss: 0.4098\n",
      "Epoch 15/100\n",
      "7740/7740 [==============================] - 0s 27us/sample - loss: 0.3901 - val_loss: 0.4097\n",
      "Epoch 16/100\n",
      "7740/7740 [==============================] - 0s 30us/sample - loss: 0.3875 - val_loss: 0.4173\n",
      "Epoch 17/100\n",
      "7740/7740 [==============================] - 0s 30us/sample - loss: 0.3855 - val_loss: 0.4078\n",
      "Epoch 18/100\n",
      "7740/7740 [==============================] - 0s 28us/sample - loss: 0.3823 - val_loss: 0.4052\n",
      "Epoch 19/100\n",
      "7740/7740 [==============================] - 0s 28us/sample - loss: 0.3816 - val_loss: 0.4078\n",
      "3870/3870 [==============================] - 0s 9us/sample - loss: 0.3751\n",
      "[CV]  learning_rate=0.006539330094363484, n_hidden=0, n_neurons=38, total=   4.3s\n",
      "[CV] learning_rate=0.011004556623399147, n_hidden=0, n_neurons=67 ....\n",
      "Train on 7740 samples, validate on 3870 samples\n",
      "Epoch 1/100\n",
      "7740/7740 [==============================] - 0s 37us/sample - loss: 0.8900 - val_loss: 18.6386\n",
      "Epoch 2/100\n",
      "7740/7740 [==============================] - 0s 28us/sample - loss: 0.7368 - val_loss: 0.6742\n",
      "Epoch 3/100\n",
      "7740/7740 [==============================] - 0s 28us/sample - loss: 0.4521 - val_loss: 0.4506\n",
      "Epoch 4/100\n",
      "7740/7740 [==============================] - 0s 29us/sample - loss: 0.4199 - val_loss: 0.4023\n",
      "Epoch 5/100\n",
      "7740/7740 [==============================] - 0s 28us/sample - loss: 0.4085 - val_loss: 0.3872\n",
      "Epoch 6/100\n",
      "7740/7740 [==============================] - 0s 28us/sample - loss: 0.4064 - val_loss: 0.3814\n",
      "Epoch 7/100\n",
      "7740/7740 [==============================] - 0s 31us/sample - loss: 0.3867 - val_loss: 0.4071\n",
      "Epoch 8/100\n",
      "7740/7740 [==============================] - 0s 29us/sample - loss: 0.3818 - val_loss: 0.3615\n",
      "Epoch 9/100\n",
      "7740/7740 [==============================] - 0s 28us/sample - loss: 0.3748 - val_loss: 0.3637\n",
      "Epoch 10/100\n",
      "7740/7740 [==============================] - 0s 28us/sample - loss: 0.3698 - val_loss: 0.3499\n",
      "Epoch 11/100\n",
      "7740/7740 [==============================] - 0s 27us/sample - loss: 0.3633 - val_loss: 0.3538\n",
      "Epoch 12/100\n",
      "7740/7740 [==============================] - 0s 27us/sample - loss: 0.3610 - val_loss: 0.3472\n",
      "Epoch 13/100\n",
      "7740/7740 [==============================] - 0s 28us/sample - loss: 0.3575 - val_loss: 0.3471\n",
      "Epoch 14/100\n",
      "7740/7740 [==============================] - 0s 29us/sample - loss: 0.3547 - val_loss: 0.3707\n",
      "Epoch 15/100\n",
      "7740/7740 [==============================] - 0s 27us/sample - loss: 0.3569 - val_loss: 0.3707\n",
      "Epoch 16/100\n",
      "7740/7740 [==============================] - 0s 28us/sample - loss: 0.3544 - val_loss: 0.3481\n",
      "Epoch 17/100\n",
      "7740/7740 [==============================] - 0s 28us/sample - loss: 0.3531 - val_loss: 0.3536\n",
      "Epoch 18/100\n",
      "7740/7740 [==============================] - 0s 27us/sample - loss: 0.3562 - val_loss: 0.3583\n",
      "Epoch 19/100\n",
      "7740/7740 [==============================] - 0s 28us/sample - loss: 0.3481 - val_loss: 0.3504\n",
      "Epoch 20/100\n",
      "7740/7740 [==============================] - 0s 29us/sample - loss: 0.3436 - val_loss: 0.3646\n",
      "Epoch 21/100\n",
      "7740/7740 [==============================] - 0s 27us/sample - loss: 0.3433 - val_loss: 0.3588\n",
      "Epoch 22/100\n",
      "7740/7740 [==============================] - 0s 28us/sample - loss: 0.3444 - val_loss: 0.3756\n",
      "Epoch 23/100\n",
      "7740/7740 [==============================] - 0s 28us/sample - loss: 0.3409 - val_loss: 0.3476\n",
      "3870/3870 [==============================] - 0s 10us/sample - loss: 0.3658\n",
      "[CV]  learning_rate=0.011004556623399147, n_hidden=0, n_neurons=67, total=   5.2s\n",
      "[CV] learning_rate=0.011004556623399147, n_hidden=0, n_neurons=67 ....\n",
      "Train on 7740 samples, validate on 3870 samples\n",
      "Epoch 1/100\n",
      "7740/7740 [==============================] - 0s 38us/sample - loss: 0.7995 - val_loss: 0.8869\n",
      "Epoch 2/100\n",
      "7740/7740 [==============================] - 0s 29us/sample - loss: 0.4680 - val_loss: 1.1294\n",
      "Epoch 3/100\n",
      "7740/7740 [==============================] - 0s 28us/sample - loss: 0.4275 - val_loss: 0.4445\n",
      "Epoch 4/100\n",
      "7740/7740 [==============================] - 0s 27us/sample - loss: 0.4052 - val_loss: 0.4567\n",
      "Epoch 5/100\n",
      "7740/7740 [==============================] - 0s 27us/sample - loss: 0.3960 - val_loss: 0.5388\n",
      "Epoch 6/100\n",
      "7740/7740 [==============================] - 0s 27us/sample - loss: 0.3882 - val_loss: 0.7543\n",
      "Epoch 7/100\n",
      "7740/7740 [==============================] - 0s 27us/sample - loss: 0.3800 - val_loss: 0.5730\n",
      "Epoch 8/100\n",
      "7740/7740 [==============================] - 0s 27us/sample - loss: 0.3774 - val_loss: 0.5578\n",
      "Epoch 9/100\n",
      "7740/7740 [==============================] - 0s 28us/sample - loss: 0.3701 - val_loss: 0.4710\n",
      "Epoch 10/100\n",
      "7740/7740 [==============================] - 0s 27us/sample - loss: 0.3679 - val_loss: 0.5438\n",
      "Epoch 11/100\n",
      "7740/7740 [==============================] - 0s 27us/sample - loss: 0.3648 - val_loss: 0.7125\n",
      "Epoch 12/100\n",
      "7740/7740 [==============================] - 0s 28us/sample - loss: 0.3624 - val_loss: 0.6046\n",
      "Epoch 13/100\n",
      "7740/7740 [==============================] - 0s 28us/sample - loss: 0.3595 - val_loss: 0.5149\n",
      "3870/3870 [==============================] - 0s 9us/sample - loss: 0.3713\n",
      "[CV]  learning_rate=0.011004556623399147, n_hidden=0, n_neurons=67, total=   3.0s\n",
      "[CV] learning_rate=0.011004556623399147, n_hidden=0, n_neurons=67 ....\n",
      "Train on 7740 samples, validate on 3870 samples\n",
      "Epoch 1/100\n",
      "7740/7740 [==============================] - 0s 37us/sample - loss: 0.7534 - val_loss: 2.4725\n",
      "Epoch 2/100\n",
      "7740/7740 [==============================] - 0s 27us/sample - loss: 0.5100 - val_loss: 24.4850\n",
      "Epoch 3/100\n",
      "7740/7740 [==============================] - 0s 27us/sample - loss: 0.9421 - val_loss: 0.4633\n",
      "Epoch 4/100\n",
      "7740/7740 [==============================] - 0s 27us/sample - loss: 0.4463 - val_loss: 0.4360\n",
      "Epoch 5/100\n",
      "7740/7740 [==============================] - 0s 28us/sample - loss: 0.5513 - val_loss: 197.0263\n",
      "Epoch 6/100\n",
      "7740/7740 [==============================] - 0s 28us/sample - loss: 0.6835 - val_loss: 16.1646\n",
      "Epoch 7/100\n",
      "7740/7740 [==============================] - 0s 27us/sample - loss: 0.6184 - val_loss: 0.3688\n",
      "Epoch 8/100\n",
      "7740/7740 [==============================] - 0s 28us/sample - loss: 0.3942 - val_loss: 0.3696\n",
      "Epoch 9/100\n",
      "7740/7740 [==============================] - 0s 29us/sample - loss: 0.3870 - val_loss: 0.4000\n",
      "Epoch 10/100\n",
      "7740/7740 [==============================] - 0s 28us/sample - loss: 0.3818 - val_loss: 0.4440\n",
      "Epoch 11/100\n",
      "7740/7740 [==============================] - 0s 27us/sample - loss: 0.3823 - val_loss: 0.4021\n",
      "Epoch 12/100\n",
      "7740/7740 [==============================] - 0s 27us/sample - loss: 0.3716 - val_loss: 0.4308\n",
      "Epoch 13/100\n",
      "7740/7740 [==============================] - 0s 27us/sample - loss: 0.4135 - val_loss: 0.3760\n",
      "Epoch 14/100\n",
      "7740/7740 [==============================] - 0s 28us/sample - loss: 0.3671 - val_loss: 0.4011\n",
      "Epoch 15/100\n",
      "7740/7740 [==============================] - 0s 28us/sample - loss: 0.3630 - val_loss: 0.3798\n",
      "Epoch 16/100\n",
      "7740/7740 [==============================] - 0s 27us/sample - loss: 0.3655 - val_loss: 0.4171\n",
      "Epoch 17/100\n",
      "7740/7740 [==============================] - 0s 27us/sample - loss: 0.3666 - val_loss: 0.3686\n",
      "Epoch 18/100\n",
      "7740/7740 [==============================] - 0s 28us/sample - loss: 0.3578 - val_loss: 0.3593\n",
      "Epoch 19/100\n",
      "7740/7740 [==============================] - 0s 28us/sample - loss: 0.3550 - val_loss: 0.3611\n",
      "Epoch 20/100\n",
      "7740/7740 [==============================] - 0s 27us/sample - loss: 0.3531 - val_loss: 0.3778\n",
      "Epoch 21/100\n",
      "7740/7740 [==============================] - 0s 27us/sample - loss: 0.3553 - val_loss: 0.3670\n",
      "Epoch 22/100\n",
      "7740/7740 [==============================] - 0s 26us/sample - loss: 0.3480 - val_loss: 0.3804\n",
      "Epoch 23/100\n",
      "7740/7740 [==============================] - 0s 27us/sample - loss: 0.3470 - val_loss: 0.3559\n",
      "Epoch 24/100\n",
      "7740/7740 [==============================] - 0s 28us/sample - loss: 0.3465 - val_loss: 0.3651\n",
      "Epoch 25/100\n",
      "7740/7740 [==============================] - 0s 27us/sample - loss: 0.3439 - val_loss: 0.3670\n",
      "Epoch 26/100\n",
      "7740/7740 [==============================] - 0s 28us/sample - loss: 0.3422 - val_loss: 0.3608\n",
      "Epoch 27/100\n",
      "7740/7740 [==============================] - 0s 28us/sample - loss: 0.3420 - val_loss: 0.3516\n",
      "Epoch 28/100\n",
      "7740/7740 [==============================] - 0s 27us/sample - loss: 0.3392 - val_loss: 0.3621\n",
      "Epoch 29/100\n",
      "7740/7740 [==============================] - 0s 28us/sample - loss: 0.3389 - val_loss: 0.3620\n",
      "Epoch 30/100\n",
      "7740/7740 [==============================] - 0s 27us/sample - loss: 0.3354 - val_loss: 0.3639\n",
      "Epoch 31/100\n"
     ]
    },
    {
     "name": "stdout",
     "output_type": "stream",
     "text": [
      "7740/7740 [==============================] - 0s 28us/sample - loss: 0.3355 - val_loss: 0.3398\n",
      "Epoch 32/100\n",
      "7740/7740 [==============================] - 0s 28us/sample - loss: 0.3338 - val_loss: 0.3403\n",
      "Epoch 33/100\n",
      "7740/7740 [==============================] - 0s 27us/sample - loss: 0.3327 - val_loss: 0.3617\n",
      "Epoch 34/100\n",
      "7740/7740 [==============================] - 0s 28us/sample - loss: 0.3330 - val_loss: 0.3556\n",
      "Epoch 35/100\n",
      "7740/7740 [==============================] - 0s 27us/sample - loss: 0.3331 - val_loss: 0.3684\n",
      "Epoch 36/100\n",
      "7740/7740 [==============================] - 0s 28us/sample - loss: 0.3420 - val_loss: 0.3383\n",
      "Epoch 37/100\n",
      "7740/7740 [==============================] - 0s 27us/sample - loss: 0.3293 - val_loss: 0.3427\n",
      "Epoch 38/100\n",
      "7740/7740 [==============================] - 0s 27us/sample - loss: 0.3274 - val_loss: 0.3252\n",
      "Epoch 39/100\n",
      "7740/7740 [==============================] - 0s 27us/sample - loss: 0.3258 - val_loss: 0.3309\n",
      "Epoch 40/100\n",
      "7740/7740 [==============================] - 0s 28us/sample - loss: 0.3259 - val_loss: 0.3281\n",
      "Epoch 41/100\n",
      "7740/7740 [==============================] - 0s 28us/sample - loss: 0.3266 - val_loss: 0.3397\n",
      "Epoch 42/100\n",
      "7740/7740 [==============================] - 0s 28us/sample - loss: 0.3348 - val_loss: 0.3293\n",
      "Epoch 43/100\n",
      "7740/7740 [==============================] - 0s 27us/sample - loss: 0.3238 - val_loss: 0.3198\n",
      "Epoch 44/100\n",
      "7740/7740 [==============================] - 0s 27us/sample - loss: 0.3232 - val_loss: 0.3508\n",
      "Epoch 45/100\n",
      "7740/7740 [==============================] - 0s 28us/sample - loss: 0.3264 - val_loss: 0.3488\n",
      "Epoch 46/100\n",
      "7740/7740 [==============================] - 0s 28us/sample - loss: 0.3212 - val_loss: 0.3421\n",
      "Epoch 47/100\n",
      "7740/7740 [==============================] - 0s 27us/sample - loss: 0.3203 - val_loss: 0.3549\n",
      "Epoch 48/100\n",
      "7740/7740 [==============================] - 0s 27us/sample - loss: 0.3225 - val_loss: 0.3105\n",
      "Epoch 49/100\n",
      "7740/7740 [==============================] - 0s 28us/sample - loss: 0.3200 - val_loss: 0.3384\n",
      "Epoch 50/100\n",
      "7740/7740 [==============================] - 0s 27us/sample - loss: 0.3182 - val_loss: 0.3364\n",
      "Epoch 51/100\n",
      "7740/7740 [==============================] - 0s 28us/sample - loss: 0.3168 - val_loss: 0.3347\n",
      "Epoch 52/100\n",
      "7740/7740 [==============================] - 0s 28us/sample - loss: 0.3157 - val_loss: 0.3334\n",
      "Epoch 53/100\n",
      "7740/7740 [==============================] - 0s 27us/sample - loss: 0.3165 - val_loss: 0.3341\n",
      "Epoch 54/100\n",
      "7740/7740 [==============================] - 0s 27us/sample - loss: 0.3141 - val_loss: 0.3524\n",
      "Epoch 55/100\n",
      "7740/7740 [==============================] - 0s 27us/sample - loss: 0.3213 - val_loss: 0.3093\n",
      "Epoch 56/100\n",
      "7740/7740 [==============================] - 0s 27us/sample - loss: 0.3180 - val_loss: 0.3190\n",
      "Epoch 57/100\n",
      "7740/7740 [==============================] - 0s 27us/sample - loss: 0.3144 - val_loss: 0.3317\n",
      "Epoch 58/100\n",
      "7740/7740 [==============================] - 0s 27us/sample - loss: 0.3173 - val_loss: 0.3133\n",
      "Epoch 59/100\n",
      "7740/7740 [==============================] - 0s 27us/sample - loss: 0.3150 - val_loss: 0.3160\n",
      "Epoch 60/100\n",
      "7740/7740 [==============================] - 0s 27us/sample - loss: 0.3138 - val_loss: 0.3190\n",
      "Epoch 61/100\n",
      "7740/7740 [==============================] - 0s 27us/sample - loss: 0.3146 - val_loss: 0.3531\n",
      "Epoch 62/100\n",
      "7740/7740 [==============================] - 0s 27us/sample - loss: 0.3113 - val_loss: 0.3158\n",
      "Epoch 63/100\n",
      "7740/7740 [==============================] - 0s 27us/sample - loss: 0.3136 - val_loss: 0.3275\n",
      "Epoch 64/100\n",
      "7740/7740 [==============================] - 0s 27us/sample - loss: 0.3130 - val_loss: 0.3264\n",
      "Epoch 65/100\n",
      "7740/7740 [==============================] - 0s 28us/sample - loss: 0.3088 - val_loss: 0.3086\n",
      "Epoch 66/100\n",
      "7740/7740 [==============================] - 0s 27us/sample - loss: 0.3097 - val_loss: 0.3255\n",
      "Epoch 67/100\n",
      "7740/7740 [==============================] - 0s 27us/sample - loss: 0.3082 - val_loss: 0.3299\n",
      "Epoch 68/100\n",
      "7740/7740 [==============================] - 0s 27us/sample - loss: 0.3118 - val_loss: 0.3333\n",
      "Epoch 69/100\n",
      "7740/7740 [==============================] - 0s 28us/sample - loss: 0.3104 - val_loss: 0.3127\n",
      "Epoch 70/100\n",
      "7740/7740 [==============================] - 0s 27us/sample - loss: 0.3081 - val_loss: 0.3212\n",
      "Epoch 71/100\n",
      "7740/7740 [==============================] - 0s 28us/sample - loss: 0.3063 - val_loss: 0.3155\n",
      "Epoch 72/100\n",
      "7740/7740 [==============================] - 0s 26us/sample - loss: 0.3126 - val_loss: 0.3287\n",
      "Epoch 73/100\n",
      "7740/7740 [==============================] - 0s 27us/sample - loss: 0.3069 - val_loss: 0.3166\n",
      "Epoch 74/100\n",
      "7740/7740 [==============================] - 0s 26us/sample - loss: 0.3102 - val_loss: 0.3104\n",
      "Epoch 75/100\n",
      "7740/7740 [==============================] - 0s 28us/sample - loss: 0.3113 - val_loss: 0.3992\n",
      "3870/3870 [==============================] - 0s 9us/sample - loss: 0.3158\n",
      "[CV]  learning_rate=0.011004556623399147, n_hidden=0, n_neurons=67, total=  16.2s\n",
      "[CV] learning_rate=0.00040257514452906034, n_hidden=1, n_neurons=78 ..\n",
      "Train on 7740 samples, validate on 3870 samples\n",
      "Epoch 1/100\n",
      "7740/7740 [==============================] - 1s 67us/sample - loss: 3.6393 - val_loss: 5.1992\n",
      "Epoch 2/100\n",
      "7740/7740 [==============================] - 0s 31us/sample - loss: 1.7828 - val_loss: 3.3249\n",
      "Epoch 3/100\n",
      "7740/7740 [==============================] - 0s 31us/sample - loss: 1.2019 - val_loss: 1.7219\n",
      "Epoch 4/100\n",
      "7740/7740 [==============================] - 0s 31us/sample - loss: 0.9445 - val_loss: 0.9119\n",
      "Epoch 5/100\n",
      "7740/7740 [==============================] - 0s 30us/sample - loss: 0.8165 - val_loss: 0.7504\n",
      "Epoch 6/100\n",
      "7740/7740 [==============================] - 0s 31us/sample - loss: 0.7502 - val_loss: 0.6970\n",
      "Epoch 7/100\n",
      "7740/7740 [==============================] - 0s 31us/sample - loss: 0.7105 - val_loss: 0.6885\n",
      "Epoch 8/100\n",
      "7740/7740 [==============================] - 0s 30us/sample - loss: 0.6838 - val_loss: 0.6883\n",
      "Epoch 9/100\n",
      "7740/7740 [==============================] - 0s 31us/sample - loss: 0.6640 - val_loss: 0.6397\n",
      "Epoch 10/100\n",
      "7740/7740 [==============================] - 0s 30us/sample - loss: 0.6470 - val_loss: 0.6266\n",
      "Epoch 11/100\n",
      "7740/7740 [==============================] - 0s 31us/sample - loss: 0.6322 - val_loss: 0.6196\n",
      "Epoch 12/100\n",
      "7740/7740 [==============================] - 0s 30us/sample - loss: 0.6194 - val_loss: 0.5867\n",
      "Epoch 13/100\n",
      "7740/7740 [==============================] - 0s 31us/sample - loss: 0.6066 - val_loss: 0.5764\n",
      "Epoch 14/100\n",
      "7740/7740 [==============================] - 0s 31us/sample - loss: 0.5951 - val_loss: 0.5546\n",
      "Epoch 15/100\n",
      "7740/7740 [==============================] - 0s 30us/sample - loss: 0.5839 - val_loss: 0.5512\n",
      "Epoch 16/100\n",
      "7740/7740 [==============================] - 0s 30us/sample - loss: 0.5735 - val_loss: 0.5347\n",
      "Epoch 17/100\n",
      "7740/7740 [==============================] - 0s 31us/sample - loss: 0.5635 - val_loss: 0.5264\n",
      "Epoch 18/100\n",
      "7740/7740 [==============================] - 0s 30us/sample - loss: 0.5541 - val_loss: 0.5160\n",
      "Epoch 19/100\n",
      "7740/7740 [==============================] - 0s 31us/sample - loss: 0.5451 - val_loss: 0.5060\n",
      "Epoch 20/100\n",
      "7740/7740 [==============================] - 0s 31us/sample - loss: 0.5364 - val_loss: 0.5004\n",
      "Epoch 21/100\n",
      "7740/7740 [==============================] - 0s 31us/sample - loss: 0.5283 - val_loss: 0.4914\n",
      "Epoch 22/100\n",
      "7740/7740 [==============================] - 0s 31us/sample - loss: 0.5205 - val_loss: 0.4836\n",
      "Epoch 23/100\n",
      "7740/7740 [==============================] - 0s 32us/sample - loss: 0.5131 - val_loss: 0.4771\n",
      "Epoch 24/100\n",
      "7740/7740 [==============================] - 0s 34us/sample - loss: 0.5060 - val_loss: 0.4720\n",
      "Epoch 25/100\n",
      "7740/7740 [==============================] - 0s 36us/sample - loss: 0.4991 - val_loss: 0.4656\n",
      "Epoch 26/100\n",
      "7740/7740 [==============================] - 0s 33us/sample - loss: 0.4929 - val_loss: 0.4595\n",
      "Epoch 27/100\n",
      "7740/7740 [==============================] - 0s 32us/sample - loss: 0.4868 - val_loss: 0.4538\n",
      "Epoch 28/100\n",
      "7740/7740 [==============================] - 0s 33us/sample - loss: 0.4811 - val_loss: 0.4493\n",
      "Epoch 29/100\n",
      "7740/7740 [==============================] - 0s 31us/sample - loss: 0.4756 - val_loss: 0.4442\n",
      "Epoch 30/100\n",
      "7740/7740 [==============================] - 0s 31us/sample - loss: 0.4707 - val_loss: 0.4399\n",
      "Epoch 31/100\n",
      "7740/7740 [==============================] - 0s 36us/sample - loss: 0.4658 - val_loss: 0.4367\n",
      "Epoch 32/100\n",
      "7740/7740 [==============================] - 0s 32us/sample - loss: 0.4613 - val_loss: 0.4321\n",
      "Epoch 33/100\n",
      "7740/7740 [==============================] - 0s 33us/sample - loss: 0.4569 - val_loss: 0.4294\n",
      "Epoch 34/100\n",
      "7740/7740 [==============================] - 0s 32us/sample - loss: 0.4529 - val_loss: 0.4252\n",
      "Epoch 35/100\n",
      "7740/7740 [==============================] - 0s 32us/sample - loss: 0.4490 - val_loss: 0.4249\n",
      "Epoch 36/100\n",
      "7740/7740 [==============================] - 0s 33us/sample - loss: 0.4455 - val_loss: 0.4221\n",
      "Epoch 37/100\n",
      "7740/7740 [==============================] - 0s 33us/sample - loss: 0.4420 - val_loss: 0.4197\n",
      "Epoch 38/100\n",
      "7740/7740 [==============================] - 0s 32us/sample - loss: 0.4389 - val_loss: 0.4161\n",
      "Epoch 39/100\n",
      "7740/7740 [==============================] - 0s 31us/sample - loss: 0.4358 - val_loss: 0.4177\n",
      "Epoch 40/100\n",
      "7740/7740 [==============================] - 0s 31us/sample - loss: 0.4329 - val_loss: 0.4166\n",
      "Epoch 41/100\n",
      "7740/7740 [==============================] - 0s 31us/sample - loss: 0.4302 - val_loss: 0.4114\n",
      "Epoch 42/100\n",
      "7740/7740 [==============================] - 0s 31us/sample - loss: 0.4275 - val_loss: 0.4073\n",
      "Epoch 43/100\n",
      "7740/7740 [==============================] - 0s 32us/sample - loss: 0.4250 - val_loss: 0.4058\n",
      "Epoch 44/100\n",
      "7740/7740 [==============================] - 0s 31us/sample - loss: 0.4227 - val_loss: 0.4047\n",
      "Epoch 45/100\n",
      "7740/7740 [==============================] - 0s 32us/sample - loss: 0.4205 - val_loss: 0.4043\n",
      "Epoch 46/100\n",
      "7740/7740 [==============================] - 0s 32us/sample - loss: 0.4182 - val_loss: 0.4005\n",
      "Epoch 47/100\n",
      "7740/7740 [==============================] - 0s 31us/sample - loss: 0.4162 - val_loss: 0.4012\n",
      "Epoch 48/100\n",
      "7740/7740 [==============================] - 0s 31us/sample - loss: 0.4143 - val_loss: 0.3984\n",
      "Epoch 49/100\n",
      "7740/7740 [==============================] - 0s 32us/sample - loss: 0.4123 - val_loss: 0.4026\n",
      "Epoch 50/100\n",
      "7740/7740 [==============================] - 0s 32us/sample - loss: 0.4106 - val_loss: 0.3981\n",
      "Epoch 51/100\n",
      "7740/7740 [==============================] - 0s 31us/sample - loss: 0.4087 - val_loss: 0.3977\n",
      "Epoch 52/100\n",
      "7740/7740 [==============================] - 0s 32us/sample - loss: 0.4070 - val_loss: 0.4046\n",
      "Epoch 53/100\n",
      "7740/7740 [==============================] - 0s 31us/sample - loss: 0.4055 - val_loss: 0.3896\n",
      "Epoch 54/100\n",
      "7740/7740 [==============================] - 0s 32us/sample - loss: 0.4039 - val_loss: 0.3898\n",
      "Epoch 55/100\n",
      "7740/7740 [==============================] - 0s 32us/sample - loss: 0.4024 - val_loss: 0.3921\n",
      "Epoch 56/100\n",
      "7740/7740 [==============================] - 0s 31us/sample - loss: 0.4010 - val_loss: 0.3877\n",
      "Epoch 57/100\n",
      "7740/7740 [==============================] - 0s 33us/sample - loss: 0.3997 - val_loss: 0.3952\n",
      "Epoch 58/100\n",
      "7740/7740 [==============================] - 0s 33us/sample - loss: 0.3983 - val_loss: 0.3990\n",
      "Epoch 59/100\n",
      "7740/7740 [==============================] - 0s 31us/sample - loss: 0.3971 - val_loss: 0.3992\n",
      "Epoch 60/100\n",
      "7740/7740 [==============================] - 0s 31us/sample - loss: 0.3958 - val_loss: 0.3850\n",
      "Epoch 61/100\n",
      "7740/7740 [==============================] - 0s 31us/sample - loss: 0.3946 - val_loss: 0.3871\n",
      "Epoch 62/100\n",
      "7740/7740 [==============================] - 0s 32us/sample - loss: 0.3934 - val_loss: 0.3985\n",
      "Epoch 63/100\n",
      "7740/7740 [==============================] - 0s 32us/sample - loss: 0.3923 - val_loss: 0.3857\n",
      "Epoch 64/100\n",
      "7740/7740 [==============================] - 0s 32us/sample - loss: 0.3913 - val_loss: 0.3849\n",
      "Epoch 65/100\n",
      "7740/7740 [==============================] - 0s 32us/sample - loss: 0.3901 - val_loss: 0.3974\n",
      "Epoch 66/100\n",
      "7740/7740 [==============================] - 0s 31us/sample - loss: 0.3892 - val_loss: 0.3861\n",
      "Epoch 67/100\n",
      "7740/7740 [==============================] - 0s 31us/sample - loss: 0.3882 - val_loss: 0.3952\n",
      "Epoch 68/100\n",
      "7740/7740 [==============================] - 0s 35us/sample - loss: 0.3873 - val_loss: 0.3949\n",
      "Epoch 69/100\n",
      "7740/7740 [==============================] - 0s 34us/sample - loss: 0.3861 - val_loss: 0.3745\n",
      "Epoch 70/100\n",
      "7740/7740 [==============================] - 0s 32us/sample - loss: 0.3853 - val_loss: 0.3965\n",
      "Epoch 71/100\n",
      "7740/7740 [==============================] - 0s 32us/sample - loss: 0.3846 - val_loss: 0.3900\n",
      "Epoch 72/100\n",
      "7740/7740 [==============================] - 0s 32us/sample - loss: 0.3837 - val_loss: 0.3932\n",
      "Epoch 73/100\n",
      "7740/7740 [==============================] - 0s 32us/sample - loss: 0.3829 - val_loss: 0.3966\n",
      "Epoch 74/100\n",
      "7740/7740 [==============================] - 0s 32us/sample - loss: 0.3820 - val_loss: 0.3931\n",
      "Epoch 75/100\n",
      "7740/7740 [==============================] - 0s 33us/sample - loss: 0.3813 - val_loss: 0.3924\n",
      "Epoch 76/100\n",
      "7740/7740 [==============================] - 0s 31us/sample - loss: 0.3805 - val_loss: 0.3793\n",
      "Epoch 77/100\n",
      "7740/7740 [==============================] - 0s 31us/sample - loss: 0.3797 - val_loss: 0.3954\n",
      "Epoch 78/100\n",
      "7740/7740 [==============================] - 0s 31us/sample - loss: 0.3790 - val_loss: 0.3945\n",
      "Epoch 79/100\n",
      "7740/7740 [==============================] - 0s 31us/sample - loss: 0.3782 - val_loss: 0.4144\n",
      "3870/3870 [==============================] - 0s 11us/sample - loss: 0.3927\n",
      "[CV]  learning_rate=0.00040257514452906034, n_hidden=1, n_neurons=78, total=  19.9s\n",
      "[CV] learning_rate=0.00040257514452906034, n_hidden=1, n_neurons=78 ..\n",
      "Train on 7740 samples, validate on 3870 samples\n",
      "Epoch 1/100\n",
      "7740/7740 [==============================] - 0s 42us/sample - loss: 3.6883 - val_loss: 4.6254\n",
      "Epoch 2/100\n",
      "7740/7740 [==============================] - 0s 31us/sample - loss: 1.4617 - val_loss: 8.1288\n",
      "Epoch 3/100\n",
      "7740/7740 [==============================] - 0s 32us/sample - loss: 0.9732 - val_loss: 8.0753\n",
      "Epoch 4/100\n",
      "7740/7740 [==============================] - 0s 32us/sample - loss: 0.8289 - val_loss: 6.6039\n",
      "Epoch 5/100\n",
      "7740/7740 [==============================] - 0s 31us/sample - loss: 0.7619 - val_loss: 5.1991\n",
      "Epoch 6/100\n",
      "7740/7740 [==============================] - 0s 31us/sample - loss: 0.7219 - val_loss: 4.0624\n",
      "Epoch 7/100\n",
      "7740/7740 [==============================] - 0s 31us/sample - loss: 0.6942 - val_loss: 3.0547\n",
      "Epoch 8/100\n",
      "7740/7740 [==============================] - 0s 31us/sample - loss: 0.6722 - val_loss: 2.2991\n",
      "Epoch 9/100\n",
      "7740/7740 [==============================] - 0s 31us/sample - loss: 0.6533 - val_loss: 1.7377\n",
      "Epoch 10/100\n",
      "7740/7740 [==============================] - 0s 32us/sample - loss: 0.6363 - val_loss: 1.2918\n",
      "Epoch 11/100\n",
      "7740/7740 [==============================] - 0s 32us/sample - loss: 0.6209 - val_loss: 0.9779\n",
      "Epoch 12/100\n",
      "7740/7740 [==============================] - 0s 34us/sample - loss: 0.6066 - val_loss: 0.7726\n",
      "Epoch 13/100\n",
      "7740/7740 [==============================] - 0s 32us/sample - loss: 0.5934 - val_loss: 0.6407\n",
      "Epoch 14/100\n",
      "7740/7740 [==============================] - 0s 31us/sample - loss: 0.5811 - val_loss: 0.5700\n",
      "Epoch 15/100\n",
      "7740/7740 [==============================] - 0s 31us/sample - loss: 0.5697 - val_loss: 0.5400\n",
      "Epoch 16/100\n",
      "7740/7740 [==============================] - 0s 31us/sample - loss: 0.5589 - val_loss: 0.5467\n",
      "Epoch 17/100\n",
      "7740/7740 [==============================] - 0s 31us/sample - loss: 0.5490 - val_loss: 0.5820\n",
      "Epoch 18/100\n",
      "7740/7740 [==============================] - 0s 31us/sample - loss: 0.5396 - val_loss: 0.6415\n",
      "Epoch 19/100\n",
      "7740/7740 [==============================] - 0s 32us/sample - loss: 0.5308 - val_loss: 0.7143\n",
      "Epoch 20/100\n",
      "7740/7740 [==============================] - 0s 33us/sample - loss: 0.5225 - val_loss: 0.7907\n",
      "Epoch 21/100\n",
      "7740/7740 [==============================] - 0s 31us/sample - loss: 0.5148 - val_loss: 0.8819\n",
      "Epoch 22/100\n",
      "7740/7740 [==============================] - 0s 32us/sample - loss: 0.5075 - val_loss: 0.9485\n",
      "Epoch 23/100\n",
      "7740/7740 [==============================] - 0s 32us/sample - loss: 0.5006 - val_loss: 1.0328\n",
      "Epoch 24/100\n",
      "7740/7740 [==============================] - 0s 32us/sample - loss: 0.4943 - val_loss: 1.0990\n",
      "Epoch 25/100\n"
     ]
    },
    {
     "name": "stdout",
     "output_type": "stream",
     "text": [
      "7740/7740 [==============================] - 0s 31us/sample - loss: 0.4883 - val_loss: 1.1425\n",
      "3870/3870 [==============================] - 0s 11us/sample - loss: 0.5169\n",
      "[CV]  learning_rate=0.00040257514452906034, n_hidden=1, n_neurons=78, total=   6.4s\n",
      "[CV] learning_rate=0.00040257514452906034, n_hidden=1, n_neurons=78 ..\n",
      "Train on 7740 samples, validate on 3870 samples\n",
      "Epoch 1/100\n",
      "7740/7740 [==============================] - 0s 48us/sample - loss: 3.3689 - val_loss: 5.1754\n",
      "Epoch 2/100\n",
      "7740/7740 [==============================] - 0s 39us/sample - loss: 1.5320 - val_loss: 2.6173\n",
      "Epoch 3/100\n",
      "7740/7740 [==============================] - 0s 38us/sample - loss: 0.9900 - val_loss: 1.1796\n",
      "Epoch 4/100\n",
      "7740/7740 [==============================] - 0s 35us/sample - loss: 0.8002 - val_loss: 0.7859\n",
      "Epoch 5/100\n",
      "7740/7740 [==============================] - 0s 32us/sample - loss: 0.7234 - val_loss: 0.6894\n",
      "Epoch 6/100\n",
      "7740/7740 [==============================] - 0s 32us/sample - loss: 0.6859 - val_loss: 0.6557\n",
      "Epoch 7/100\n",
      "7740/7740 [==============================] - 0s 32us/sample - loss: 0.6618 - val_loss: 0.6323\n",
      "Epoch 8/100\n",
      "7740/7740 [==============================] - 0s 32us/sample - loss: 0.6436 - val_loss: 0.6119\n",
      "Epoch 9/100\n",
      "7740/7740 [==============================] - 0s 31us/sample - loss: 0.6274 - val_loss: 0.5958\n",
      "Epoch 10/100\n",
      "7740/7740 [==============================] - 0s 31us/sample - loss: 0.6132 - val_loss: 0.5804\n",
      "Epoch 11/100\n",
      "7740/7740 [==============================] - 0s 32us/sample - loss: 0.5996 - val_loss: 0.5685\n",
      "Epoch 12/100\n",
      "7740/7740 [==============================] - 0s 33us/sample - loss: 0.5872 - val_loss: 0.5556\n",
      "Epoch 13/100\n",
      "7740/7740 [==============================] - 0s 32us/sample - loss: 0.5755 - val_loss: 0.5448\n",
      "Epoch 14/100\n",
      "7740/7740 [==============================] - 0s 31us/sample - loss: 0.5642 - val_loss: 0.5320\n",
      "Epoch 15/100\n",
      "7740/7740 [==============================] - 0s 36us/sample - loss: 0.5534 - val_loss: 0.5211\n",
      "Epoch 16/100\n",
      "7740/7740 [==============================] - 0s 32us/sample - loss: 0.5434 - val_loss: 0.5112\n",
      "Epoch 17/100\n",
      "7740/7740 [==============================] - 0s 31us/sample - loss: 0.5338 - val_loss: 0.5018\n",
      "Epoch 18/100\n",
      "7740/7740 [==============================] - 0s 31us/sample - loss: 0.5247 - val_loss: 0.4951\n",
      "Epoch 19/100\n",
      "7740/7740 [==============================] - 0s 33us/sample - loss: 0.5159 - val_loss: 0.4851\n",
      "Epoch 20/100\n",
      "7740/7740 [==============================] - 0s 32us/sample - loss: 0.5080 - val_loss: 0.4771\n",
      "Epoch 21/100\n",
      "7740/7740 [==============================] - 0s 33us/sample - loss: 0.5001 - val_loss: 0.4703\n",
      "Epoch 22/100\n",
      "7740/7740 [==============================] - 0s 31us/sample - loss: 0.4926 - val_loss: 0.4654\n",
      "Epoch 23/100\n",
      "7740/7740 [==============================] - 0s 31us/sample - loss: 0.4857 - val_loss: 0.4593\n",
      "Epoch 24/100\n",
      "7740/7740 [==============================] - 0s 32us/sample - loss: 0.4789 - val_loss: 0.4504\n",
      "Epoch 25/100\n",
      "7740/7740 [==============================] - 0s 32us/sample - loss: 0.4727 - val_loss: 0.4485\n",
      "Epoch 26/100\n",
      "7740/7740 [==============================] - 0s 32us/sample - loss: 0.4667 - val_loss: 0.4438\n",
      "Epoch 27/100\n",
      "7740/7740 [==============================] - 0s 31us/sample - loss: 0.4612 - val_loss: 0.4441\n",
      "Epoch 28/100\n",
      "7740/7740 [==============================] - 0s 32us/sample - loss: 0.4558 - val_loss: 0.4383\n",
      "Epoch 29/100\n",
      "7740/7740 [==============================] - 0s 32us/sample - loss: 0.4509 - val_loss: 0.4359\n",
      "Epoch 30/100\n",
      "7740/7740 [==============================] - 0s 31us/sample - loss: 0.4462 - val_loss: 0.4332\n",
      "Epoch 31/100\n",
      "7740/7740 [==============================] - 0s 31us/sample - loss: 0.4416 - val_loss: 0.4364\n",
      "Epoch 32/100\n",
      "7740/7740 [==============================] - 0s 30us/sample - loss: 0.4376 - val_loss: 0.4223\n",
      "Epoch 33/100\n",
      "7740/7740 [==============================] - 0s 32us/sample - loss: 0.4337 - val_loss: 0.4158\n",
      "Epoch 34/100\n",
      "7740/7740 [==============================] - 0s 31us/sample - loss: 0.4302 - val_loss: 0.4228\n",
      "Epoch 35/100\n",
      "7740/7740 [==============================] - 0s 32us/sample - loss: 0.4269 - val_loss: 0.4291\n",
      "Epoch 36/100\n",
      "7740/7740 [==============================] - 0s 32us/sample - loss: 0.4238 - val_loss: 0.4191\n",
      "Epoch 37/100\n",
      "7740/7740 [==============================] - 0s 35us/sample - loss: 0.4209 - val_loss: 0.4101\n",
      "Epoch 38/100\n",
      "7740/7740 [==============================] - 0s 32us/sample - loss: 0.4182 - val_loss: 0.4208\n",
      "Epoch 39/100\n",
      "7740/7740 [==============================] - 0s 32us/sample - loss: 0.4157 - val_loss: 0.4238\n",
      "Epoch 40/100\n",
      "7740/7740 [==============================] - 0s 31us/sample - loss: 0.4134 - val_loss: 0.4197\n",
      "Epoch 41/100\n",
      "7740/7740 [==============================] - 0s 31us/sample - loss: 0.4111 - val_loss: 0.4219\n",
      "Epoch 42/100\n",
      "7740/7740 [==============================] - 0s 31us/sample - loss: 0.4090 - val_loss: 0.4211\n",
      "Epoch 43/100\n",
      "7740/7740 [==============================] - 0s 32us/sample - loss: 0.4071 - val_loss: 0.4270\n",
      "Epoch 44/100\n",
      "7740/7740 [==============================] - 0s 33us/sample - loss: 0.4050 - val_loss: 0.4186\n",
      "Epoch 45/100\n",
      "7740/7740 [==============================] - 0s 31us/sample - loss: 0.4031 - val_loss: 0.4288\n",
      "Epoch 46/100\n",
      "7740/7740 [==============================] - 0s 32us/sample - loss: 0.4016 - val_loss: 0.4127\n",
      "Epoch 47/100\n",
      "7740/7740 [==============================] - 0s 32us/sample - loss: 0.4001 - val_loss: 0.4103\n",
      "3870/3870 [==============================] - 0s 11us/sample - loss: 0.3993\n",
      "[CV]  learning_rate=0.00040257514452906034, n_hidden=1, n_neurons=78, total=  12.1s\n",
      "[CV] learning_rate=0.0015267755614319788, n_hidden=1, n_neurons=16 ...\n",
      "Train on 7740 samples, validate on 3870 samples\n",
      "Epoch 1/100\n",
      "7740/7740 [==============================] - 0s 40us/sample - loss: 1.6747 - val_loss: 7.9881\n",
      "Epoch 2/100\n",
      "7740/7740 [==============================] - 0s 29us/sample - loss: 0.8576 - val_loss: 0.7136\n",
      "Epoch 3/100\n",
      "7740/7740 [==============================] - 0s 29us/sample - loss: 0.6546 - val_loss: 0.6765\n",
      "Epoch 4/100\n",
      "7740/7740 [==============================] - 0s 30us/sample - loss: 0.5928 - val_loss: 0.5836\n",
      "Epoch 5/100\n",
      "7740/7740 [==============================] - 0s 29us/sample - loss: 0.5504 - val_loss: 0.5207\n",
      "Epoch 6/100\n",
      "7740/7740 [==============================] - 0s 29us/sample - loss: 0.5182 - val_loss: 0.4772\n",
      "Epoch 7/100\n",
      "7740/7740 [==============================] - 0s 30us/sample - loss: 0.4917 - val_loss: 0.4522\n",
      "Epoch 8/100\n",
      "7740/7740 [==============================] - 0s 29us/sample - loss: 0.4716 - val_loss: 0.4285\n",
      "Epoch 9/100\n",
      "7740/7740 [==============================] - 0s 29us/sample - loss: 0.4556 - val_loss: 0.4153\n",
      "Epoch 10/100\n",
      "7740/7740 [==============================] - 0s 30us/sample - loss: 0.4439 - val_loss: 0.4034\n",
      "Epoch 11/100\n",
      "7740/7740 [==============================] - 0s 30us/sample - loss: 0.4346 - val_loss: 0.3972\n",
      "Epoch 12/100\n",
      "7740/7740 [==============================] - 0s 30us/sample - loss: 0.4275 - val_loss: 0.3951\n",
      "Epoch 13/100\n",
      "7740/7740 [==============================] - 0s 30us/sample - loss: 0.4220 - val_loss: 0.3946\n",
      "Epoch 14/100\n",
      "7740/7740 [==============================] - 0s 30us/sample - loss: 0.4177 - val_loss: 0.3897\n",
      "Epoch 15/100\n",
      "7740/7740 [==============================] - 0s 30us/sample - loss: 0.4140 - val_loss: 0.3890\n",
      "Epoch 16/100\n",
      "7740/7740 [==============================] - 0s 30us/sample - loss: 0.4110 - val_loss: 0.3905\n",
      "Epoch 17/100\n",
      "7740/7740 [==============================] - 0s 29us/sample - loss: 0.4082 - val_loss: 0.3901\n",
      "Epoch 18/100\n",
      "7740/7740 [==============================] - 0s 30us/sample - loss: 0.4052 - val_loss: 0.3919\n",
      "Epoch 19/100\n",
      "7740/7740 [==============================] - 0s 30us/sample - loss: 0.4037 - val_loss: 0.3934\n",
      "Epoch 20/100\n",
      "7740/7740 [==============================] - 0s 29us/sample - loss: 0.4016 - val_loss: 0.3963\n",
      "Epoch 21/100\n",
      "7740/7740 [==============================] - 0s 29us/sample - loss: 0.3995 - val_loss: 0.3988\n",
      "Epoch 22/100\n",
      "7740/7740 [==============================] - 0s 29us/sample - loss: 0.3981 - val_loss: 0.3973\n",
      "Epoch 23/100\n",
      "7740/7740 [==============================] - 0s 30us/sample - loss: 0.3963 - val_loss: 0.4026\n",
      "Epoch 24/100\n",
      "7740/7740 [==============================] - 0s 31us/sample - loss: 0.3947 - val_loss: 0.3993\n",
      "Epoch 25/100\n",
      "7740/7740 [==============================] - 0s 29us/sample - loss: 0.3935 - val_loss: 0.3961\n",
      "3870/3870 [==============================] - 0s 10us/sample - loss: 0.4046\n",
      "[CV]  learning_rate=0.0015267755614319788, n_hidden=1, n_neurons=16, total=   6.0s\n",
      "[CV] learning_rate=0.0015267755614319788, n_hidden=1, n_neurons=16 ...\n",
      "Train on 7740 samples, validate on 3870 samples\n",
      "Epoch 1/100\n",
      "7740/7740 [==============================] - 0s 41us/sample - loss: 1.4927 - val_loss: 15.6470\n",
      "Epoch 2/100\n",
      "7740/7740 [==============================] - 0s 29us/sample - loss: 0.8104 - val_loss: 4.6890\n",
      "Epoch 3/100\n",
      "7740/7740 [==============================] - 0s 29us/sample - loss: 0.7152 - val_loss: 0.9737\n",
      "Epoch 4/100\n",
      "7740/7740 [==============================] - 0s 29us/sample - loss: 0.6537 - val_loss: 0.6816\n",
      "Epoch 5/100\n",
      "7740/7740 [==============================] - 0s 30us/sample - loss: 0.6091 - val_loss: 1.2499\n",
      "Epoch 6/100\n",
      "7740/7740 [==============================] - 0s 29us/sample - loss: 0.5738 - val_loss: 1.6364\n",
      "Epoch 7/100\n",
      "7740/7740 [==============================] - 0s 28us/sample - loss: 0.5456 - val_loss: 1.9997\n",
      "Epoch 8/100\n",
      "7740/7740 [==============================] - 0s 29us/sample - loss: 0.5220 - val_loss: 2.3028\n",
      "Epoch 9/100\n",
      "7740/7740 [==============================] - 0s 29us/sample - loss: 0.5030 - val_loss: 2.4477\n",
      "Epoch 10/100\n",
      "7740/7740 [==============================] - 0s 32us/sample - loss: 0.4882 - val_loss: 2.4855\n",
      "Epoch 11/100\n",
      "7740/7740 [==============================] - 0s 30us/sample - loss: 0.4755 - val_loss: 2.5303\n",
      "Epoch 12/100\n",
      "7740/7740 [==============================] - 0s 29us/sample - loss: 0.4648 - val_loss: 2.3873\n",
      "Epoch 13/100\n",
      "7740/7740 [==============================] - 0s 29us/sample - loss: 0.4557 - val_loss: 2.2624\n",
      "Epoch 14/100\n",
      "7740/7740 [==============================] - 0s 29us/sample - loss: 0.4477 - val_loss: 1.9677\n",
      "3870/3870 [==============================] - 0s 10us/sample - loss: 0.5112\n",
      "[CV]  learning_rate=0.0015267755614319788, n_hidden=1, n_neurons=16, total=   3.5s\n",
      "[CV] learning_rate=0.0015267755614319788, n_hidden=1, n_neurons=16 ...\n",
      "Train on 7740 samples, validate on 3870 samples\n",
      "Epoch 1/100\n",
      "7740/7740 [==============================] - 0s 40us/sample - loss: 2.0099 - val_loss: 3.1381\n",
      "Epoch 2/100\n",
      "7740/7740 [==============================] - 0s 29us/sample - loss: 0.7141 - val_loss: 0.7456\n",
      "Epoch 3/100\n",
      "7740/7740 [==============================] - 0s 29us/sample - loss: 0.6022 - val_loss: 0.5597\n",
      "Epoch 4/100\n",
      "7740/7740 [==============================] - 0s 29us/sample - loss: 0.5525 - val_loss: 0.5136\n",
      "Epoch 5/100\n",
      "7740/7740 [==============================] - 0s 30us/sample - loss: 0.5206 - val_loss: 0.4849\n",
      "Epoch 6/100\n",
      "7740/7740 [==============================] - 0s 30us/sample - loss: 0.4966 - val_loss: 0.4640\n",
      "Epoch 7/100\n",
      "7740/7740 [==============================] - 0s 29us/sample - loss: 0.4791 - val_loss: 0.4479\n",
      "Epoch 8/100\n",
      "7740/7740 [==============================] - 0s 28us/sample - loss: 0.4654 - val_loss: 0.4353\n",
      "Epoch 9/100\n",
      "7740/7740 [==============================] - 0s 29us/sample - loss: 0.4546 - val_loss: 0.4299\n",
      "Epoch 10/100\n",
      "7740/7740 [==============================] - 0s 29us/sample - loss: 0.4459 - val_loss: 0.4249\n",
      "Epoch 11/100\n",
      "7740/7740 [==============================] - 0s 29us/sample - loss: 0.4392 - val_loss: 0.4220\n",
      "Epoch 12/100\n",
      "7740/7740 [==============================] - 0s 29us/sample - loss: 0.4347 - val_loss: 0.4222\n",
      "Epoch 13/100\n",
      "7740/7740 [==============================] - 0s 28us/sample - loss: 0.4301 - val_loss: 0.4216\n",
      "Epoch 14/100\n",
      "7740/7740 [==============================] - 0s 28us/sample - loss: 0.4267 - val_loss: 0.4213\n",
      "Epoch 15/100\n",
      "7740/7740 [==============================] - 0s 29us/sample - loss: 0.4234 - val_loss: 0.4409\n",
      "Epoch 16/100\n",
      "7740/7740 [==============================] - 0s 29us/sample - loss: 0.4207 - val_loss: 0.4400\n",
      "Epoch 17/100\n",
      "7740/7740 [==============================] - 0s 29us/sample - loss: 0.4183 - val_loss: 0.4204\n",
      "Epoch 18/100\n",
      "7740/7740 [==============================] - 0s 30us/sample - loss: 0.4161 - val_loss: 0.4053\n",
      "Epoch 19/100\n",
      "7740/7740 [==============================] - 0s 29us/sample - loss: 0.4140 - val_loss: 0.4112\n",
      "Epoch 20/100\n",
      "7740/7740 [==============================] - 0s 29us/sample - loss: 0.4116 - val_loss: 0.4097\n",
      "Epoch 21/100\n",
      "7740/7740 [==============================] - 0s 29us/sample - loss: 0.4105 - val_loss: 0.4068\n",
      "Epoch 22/100\n",
      "7740/7740 [==============================] - 0s 28us/sample - loss: 0.4085 - val_loss: 0.3977\n",
      "Epoch 23/100\n",
      "7740/7740 [==============================] - 0s 29us/sample - loss: 0.4068 - val_loss: 0.4101\n",
      "Epoch 24/100\n",
      "7740/7740 [==============================] - 0s 29us/sample - loss: 0.4052 - val_loss: 0.4171\n",
      "Epoch 25/100\n",
      "7740/7740 [==============================] - 0s 28us/sample - loss: 0.4037 - val_loss: 0.4060\n",
      "Epoch 26/100\n",
      "7740/7740 [==============================] - 0s 30us/sample - loss: 0.4016 - val_loss: 0.4035\n",
      "Epoch 27/100\n",
      "7740/7740 [==============================] - 0s 29us/sample - loss: 0.4007 - val_loss: 0.3932\n",
      "Epoch 28/100\n",
      "7740/7740 [==============================] - 0s 29us/sample - loss: 0.3988 - val_loss: 0.4063\n",
      "Epoch 29/100\n",
      "7740/7740 [==============================] - 0s 29us/sample - loss: 0.3975 - val_loss: 0.3990\n",
      "Epoch 30/100\n",
      "7740/7740 [==============================] - 0s 29us/sample - loss: 0.3961 - val_loss: 0.4013\n",
      "Epoch 31/100\n",
      "7740/7740 [==============================] - 0s 29us/sample - loss: 0.3948 - val_loss: 0.3990\n",
      "Epoch 32/100\n",
      "7740/7740 [==============================] - 0s 29us/sample - loss: 0.3937 - val_loss: 0.4056\n",
      "Epoch 33/100\n",
      "7740/7740 [==============================] - 0s 29us/sample - loss: 0.3922 - val_loss: 0.4028\n",
      "Epoch 34/100\n",
      "7740/7740 [==============================] - 0s 29us/sample - loss: 0.3910 - val_loss: 0.3971\n",
      "Epoch 35/100\n",
      "7740/7740 [==============================] - 0s 29us/sample - loss: 0.3894 - val_loss: 0.3938\n",
      "Epoch 36/100\n",
      "7740/7740 [==============================] - 0s 29us/sample - loss: 0.3888 - val_loss: 0.3960\n",
      "Epoch 37/100\n",
      "7740/7740 [==============================] - 0s 29us/sample - loss: 0.3873 - val_loss: 0.3935\n",
      "3870/3870 [==============================] - 0s 10us/sample - loss: 0.3850\n",
      "[CV]  learning_rate=0.0015267755614319788, n_hidden=1, n_neurons=16, total=   8.6s\n"
     ]
    },
    {
     "name": "stderr",
     "output_type": "stream",
     "text": [
      "[Parallel(n_jobs=1)]: Done  30 out of  30 | elapsed:  5.4min finished\n"
     ]
    },
    {
     "name": "stdout",
     "output_type": "stream",
     "text": [
      "Train on 11610 samples, validate on 3870 samples\n",
      "Epoch 1/100\n",
      "11610/11610 [==============================] - 0s 41us/sample - loss: 0.5925 - val_loss: 1.0424\n",
      "Epoch 2/100\n",
      "11610/11610 [==============================] - 0s 32us/sample - loss: 0.3825 - val_loss: 0.4793\n",
      "Epoch 3/100\n",
      "11610/11610 [==============================] - 0s 31us/sample - loss: 0.3620 - val_loss: 0.5787\n",
      "Epoch 4/100\n",
      "11610/11610 [==============================] - 0s 32us/sample - loss: 0.3508 - val_loss: 1.9250\n",
      "Epoch 5/100\n",
      "11610/11610 [==============================] - 0s 32us/sample - loss: 0.3460 - val_loss: 0.3215\n",
      "Epoch 6/100\n",
      "11610/11610 [==============================] - 0s 32us/sample - loss: 0.3296 - val_loss: 0.4382\n",
      "Epoch 7/100\n",
      "11610/11610 [==============================] - 0s 32us/sample - loss: 0.3219 - val_loss: 0.3328\n",
      "Epoch 8/100\n",
      "11610/11610 [==============================] - 0s 32us/sample - loss: 0.3173 - val_loss: 0.3238\n",
      "Epoch 9/100\n",
      "11610/11610 [==============================] - 0s 32us/sample - loss: 0.3108 - val_loss: 0.3538\n",
      "Epoch 10/100\n",
      "11610/11610 [==============================] - 0s 32us/sample - loss: 0.3070 - val_loss: 0.3458\n",
      "Epoch 11/100\n",
      "11610/11610 [==============================] - 0s 32us/sample - loss: 0.3014 - val_loss: 0.3273\n",
      "Epoch 12/100\n",
      "11610/11610 [==============================] - 0s 31us/sample - loss: 0.2978 - val_loss: 0.3322\n",
      "Epoch 13/100\n",
      "11610/11610 [==============================] - 0s 31us/sample - loss: 0.2951 - val_loss: 0.3241\n",
      "Epoch 14/100\n",
      "11610/11610 [==============================] - 0s 31us/sample - loss: 0.2923 - val_loss: 0.3207\n",
      "Epoch 15/100\n",
      "11610/11610 [==============================] - 0s 32us/sample - loss: 0.2884 - val_loss: 0.3223\n",
      "Epoch 16/100\n",
      "11610/11610 [==============================] - 0s 32us/sample - loss: 0.2876 - val_loss: 0.3412\n",
      "Epoch 17/100\n",
      "11610/11610 [==============================] - 0s 32us/sample - loss: 0.2880 - val_loss: 0.3261\n",
      "Epoch 18/100\n",
      "11610/11610 [==============================] - 0s 32us/sample - loss: 0.2831 - val_loss: 0.2982\n",
      "Epoch 19/100\n",
      "11610/11610 [==============================] - 0s 33us/sample - loss: 0.2795 - val_loss: 0.3185\n",
      "Epoch 20/100\n",
      "11610/11610 [==============================] - 0s 33us/sample - loss: 0.2787 - val_loss: 0.3239\n",
      "Epoch 21/100\n",
      "11610/11610 [==============================] - 0s 33us/sample - loss: 0.2780 - val_loss: 0.2936\n",
      "Epoch 22/100\n",
      "11610/11610 [==============================] - 0s 32us/sample - loss: 0.2760 - val_loss: 0.3361\n",
      "Epoch 23/100\n",
      "11610/11610 [==============================] - 0s 32us/sample - loss: 0.2744 - val_loss: 0.3021\n",
      "Epoch 24/100\n",
      "11610/11610 [==============================] - 0s 32us/sample - loss: 0.2696 - val_loss: 0.3097\n",
      "Epoch 25/100\n",
      "11610/11610 [==============================] - 0s 34us/sample - loss: 0.2716 - val_loss: 0.2647\n",
      "Epoch 26/100\n",
      "11610/11610 [==============================] - 0s 33us/sample - loss: 0.2687 - val_loss: 0.3726\n",
      "Epoch 27/100\n",
      "11610/11610 [==============================] - 0s 33us/sample - loss: 0.2763 - val_loss: 0.2877\n",
      "Epoch 28/100\n",
      "11610/11610 [==============================] - 0s 32us/sample - loss: 0.2701 - val_loss: 0.3556\n",
      "Epoch 29/100\n",
      "11610/11610 [==============================] - 0s 33us/sample - loss: 0.2684 - val_loss: 0.2757\n",
      "Epoch 30/100\n",
      "11610/11610 [==============================] - 0s 32us/sample - loss: 0.2640 - val_loss: 0.2779\n",
      "Epoch 31/100\n",
      "11610/11610 [==============================] - 0s 32us/sample - loss: 0.2635 - val_loss: 0.3022\n",
      "Epoch 32/100\n",
      "11610/11610 [==============================] - 0s 32us/sample - loss: 0.2609 - val_loss: 0.3339\n",
      "Epoch 33/100\n",
      "11610/11610 [==============================] - 0s 32us/sample - loss: 0.2616 - val_loss: 0.2807\n",
      "Epoch 34/100\n",
      "11610/11610 [==============================] - 0s 32us/sample - loss: 0.2611 - val_loss: 0.2945\n",
      "Epoch 35/100\n",
      "11610/11610 [==============================] - 0s 32us/sample - loss: 0.2597 - val_loss: 0.2821\n"
     ]
    },
    {
     "data": {
      "text/plain": [
       "RandomizedSearchCV(cv=3, error_score='raise-deprecating',\n",
       "                   estimator=<tensorflow.python.keras.wrappers.scikit_learn.KerasRegressor object at 0x7f42123b0908>,\n",
       "                   iid='warn', n_iter=10, n_jobs=None,\n",
       "                   param_distributions={'learning_rate': <scipy.stats._distn_infrastructure.rv_frozen object at 0x7f421209acc0>,\n",
       "                                        'n_hidden': [0, 1, 2, 3],\n",
       "                                        'n_neurons': array([ 1,  2,  3,  4,  5,  6,  7,  8,  9, 10,...\n",
       "       18, 19, 20, 21, 22, 23, 24, 25, 26, 27, 28, 29, 30, 31, 32, 33, 34,\n",
       "       35, 36, 37, 38, 39, 40, 41, 42, 43, 44, 45, 46, 47, 48, 49, 50, 51,\n",
       "       52, 53, 54, 55, 56, 57, 58, 59, 60, 61, 62, 63, 64, 65, 66, 67, 68,\n",
       "       69, 70, 71, 72, 73, 74, 75, 76, 77, 78, 79, 80, 81, 82, 83, 84, 85,\n",
       "       86, 87, 88, 89, 90, 91, 92, 93, 94, 95, 96, 97, 98, 99])},\n",
       "                   pre_dispatch='2*n_jobs', random_state=None, refit=True,\n",
       "                   return_train_score=False, scoring=None, verbose=2)"
      ]
     },
     "execution_count": 132,
     "metadata": {},
     "output_type": "execute_result"
    }
   ],
   "source": [
    "rnd_search_cv.fit(X_train_scaled, y_train, epochs=100,\n",
    "                  validation_data=(X_valid_scaled, y_valid),\n",
    "                  callbacks=[keras.callbacks.EarlyStopping(patience=10)])"
   ]
  },
  {
   "cell_type": "code",
   "execution_count": 133,
   "metadata": {},
   "outputs": [
    {
     "data": {
      "text/plain": [
       "{'learning_rate': 0.01598323325710045, 'n_hidden': 3, 'n_neurons': 69}"
      ]
     },
     "execution_count": 133,
     "metadata": {},
     "output_type": "execute_result"
    }
   ],
   "source": [
    "rnd_search_cv.best_params_"
   ]
  },
  {
   "cell_type": "code",
   "execution_count": 134,
   "metadata": {},
   "outputs": [
    {
     "data": {
      "text/plain": [
       "-0.3003794024773038"
      ]
     },
     "execution_count": 134,
     "metadata": {},
     "output_type": "execute_result"
    }
   ],
   "source": [
    "rnd_search_cv.best_score_"
   ]
  },
  {
   "cell_type": "code",
   "execution_count": 136,
   "metadata": {},
   "outputs": [
    {
     "data": {
      "text/plain": [
       "<tensorflow.python.keras.wrappers.scikit_learn.KerasRegressor at 0x7f421085eb70>"
      ]
     },
     "execution_count": 136,
     "metadata": {},
     "output_type": "execute_result"
    }
   ],
   "source": [
    "rnd_search_cv.best_estimator_"
   ]
  },
  {
   "cell_type": "code",
   "execution_count": 138,
   "metadata": {},
   "outputs": [
    {
     "data": {
      "text/html": [
       "<div>\n",
       "<style scoped>\n",
       "    .dataframe tbody tr th:only-of-type {\n",
       "        vertical-align: middle;\n",
       "    }\n",
       "\n",
       "    .dataframe tbody tr th {\n",
       "        vertical-align: top;\n",
       "    }\n",
       "\n",
       "    .dataframe thead th {\n",
       "        text-align: right;\n",
       "    }\n",
       "</style>\n",
       "<table border=\"1\" class=\"dataframe\">\n",
       "  <thead>\n",
       "    <tr style=\"text-align: right;\">\n",
       "      <th></th>\n",
       "      <th>mean_fit_time</th>\n",
       "      <th>std_fit_time</th>\n",
       "      <th>mean_score_time</th>\n",
       "      <th>std_score_time</th>\n",
       "      <th>param_learning_rate</th>\n",
       "      <th>param_n_hidden</th>\n",
       "      <th>param_n_neurons</th>\n",
       "      <th>params</th>\n",
       "      <th>split0_test_score</th>\n",
       "      <th>split1_test_score</th>\n",
       "      <th>split2_test_score</th>\n",
       "      <th>mean_test_score</th>\n",
       "      <th>std_test_score</th>\n",
       "      <th>rank_test_score</th>\n",
       "    </tr>\n",
       "  </thead>\n",
       "  <tbody>\n",
       "    <tr>\n",
       "      <th>0</th>\n",
       "      <td>13.949006</td>\n",
       "      <td>4.536095</td>\n",
       "      <td>0.050864</td>\n",
       "      <td>0.007241</td>\n",
       "      <td>0.000425819</td>\n",
       "      <td>1</td>\n",
       "      <td>66</td>\n",
       "      <td>{'learning_rate': 0.00042581884041882227, 'n_h...</td>\n",
       "      <td>-0.406112</td>\n",
       "      <td>-0.447966</td>\n",
       "      <td>-0.377156</td>\n",
       "      <td>-0.410411</td>\n",
       "      <td>0.029067</td>\n",
       "      <td>7</td>\n",
       "    </tr>\n",
       "    <tr>\n",
       "      <th>1</th>\n",
       "      <td>10.436013</td>\n",
       "      <td>1.815878</td>\n",
       "      <td>0.046164</td>\n",
       "      <td>0.001493</td>\n",
       "      <td>0.0159832</td>\n",
       "      <td>3</td>\n",
       "      <td>69</td>\n",
       "      <td>{'learning_rate': 0.01598323325710045, 'n_hidd...</td>\n",
       "      <td>-0.308132</td>\n",
       "      <td>-0.304943</td>\n",
       "      <td>-0.288063</td>\n",
       "      <td>-0.300379</td>\n",
       "      <td>0.008806</td>\n",
       "      <td>1</td>\n",
       "    </tr>\n",
       "    <tr>\n",
       "      <th>2</th>\n",
       "      <td>14.114502</td>\n",
       "      <td>6.567680</td>\n",
       "      <td>0.044076</td>\n",
       "      <td>0.001005</td>\n",
       "      <td>0.00549799</td>\n",
       "      <td>3</td>\n",
       "      <td>9</td>\n",
       "      <td>{'learning_rate': 0.00549798946057251, 'n_hidd...</td>\n",
       "      <td>-0.346643</td>\n",
       "      <td>-0.385310</td>\n",
       "      <td>-0.357252</td>\n",
       "      <td>-0.363069</td>\n",
       "      <td>0.016312</td>\n",
       "      <td>5</td>\n",
       "    </tr>\n",
       "    <tr>\n",
       "      <th>3</th>\n",
       "      <td>9.014595</td>\n",
       "      <td>4.923662</td>\n",
       "      <td>0.045919</td>\n",
       "      <td>0.005443</td>\n",
       "      <td>0.00268282</td>\n",
       "      <td>1</td>\n",
       "      <td>84</td>\n",
       "      <td>{'learning_rate': 0.002682820301643939, 'n_hid...</td>\n",
       "      <td>-0.365997</td>\n",
       "      <td>-0.373376</td>\n",
       "      <td>-0.322559</td>\n",
       "      <td>-0.353978</td>\n",
       "      <td>0.022419</td>\n",
       "      <td>4</td>\n",
       "    </tr>\n",
       "    <tr>\n",
       "      <th>4</th>\n",
       "      <td>7.085973</td>\n",
       "      <td>2.659615</td>\n",
       "      <td>0.044124</td>\n",
       "      <td>0.002303</td>\n",
       "      <td>0.0074255</td>\n",
       "      <td>2</td>\n",
       "      <td>61</td>\n",
       "      <td>{'learning_rate': 0.00742549569619473, 'n_hidd...</td>\n",
       "      <td>-0.328386</td>\n",
       "      <td>-0.357004</td>\n",
       "      <td>-0.311890</td>\n",
       "      <td>-0.332427</td>\n",
       "      <td>0.018638</td>\n",
       "      <td>2</td>\n",
       "    </tr>\n",
       "    <tr>\n",
       "      <th>5</th>\n",
       "      <td>16.027128</td>\n",
       "      <td>8.142243</td>\n",
       "      <td>0.035170</td>\n",
       "      <td>0.000683</td>\n",
       "      <td>0.000721554</td>\n",
       "      <td>0</td>\n",
       "      <td>36</td>\n",
       "      <td>{'learning_rate': 0.0007215540228653338, 'n_hi...</td>\n",
       "      <td>-0.391386</td>\n",
       "      <td>-0.522256</td>\n",
       "      <td>-0.393650</td>\n",
       "      <td>-0.435764</td>\n",
       "      <td>0.061166</td>\n",
       "      <td>9</td>\n",
       "    </tr>\n",
       "    <tr>\n",
       "      <th>6</th>\n",
       "      <td>9.917963</td>\n",
       "      <td>7.982446</td>\n",
       "      <td>0.036353</td>\n",
       "      <td>0.000395</td>\n",
       "      <td>0.00653933</td>\n",
       "      <td>0</td>\n",
       "      <td>38</td>\n",
       "      <td>{'learning_rate': 0.006539330094363484, 'n_hid...</td>\n",
       "      <td>-0.350325</td>\n",
       "      <td>-0.372767</td>\n",
       "      <td>-0.375131</td>\n",
       "      <td>-0.366074</td>\n",
       "      <td>0.011178</td>\n",
       "      <td>6</td>\n",
       "    </tr>\n",
       "    <tr>\n",
       "      <th>7</th>\n",
       "      <td>8.114430</td>\n",
       "      <td>5.750464</td>\n",
       "      <td>0.036842</td>\n",
       "      <td>0.001244</td>\n",
       "      <td>0.0110046</td>\n",
       "      <td>0</td>\n",
       "      <td>67</td>\n",
       "      <td>{'learning_rate': 0.011004556623399147, 'n_hid...</td>\n",
       "      <td>-0.365798</td>\n",
       "      <td>-0.371278</td>\n",
       "      <td>-0.315779</td>\n",
       "      <td>-0.350952</td>\n",
       "      <td>0.024972</td>\n",
       "      <td>3</td>\n",
       "    </tr>\n",
       "    <tr>\n",
       "      <th>8</th>\n",
       "      <td>12.781952</td>\n",
       "      <td>5.527271</td>\n",
       "      <td>0.044550</td>\n",
       "      <td>0.000730</td>\n",
       "      <td>0.000402575</td>\n",
       "      <td>1</td>\n",
       "      <td>78</td>\n",
       "      <td>{'learning_rate': 0.00040257514452906034, 'n_h...</td>\n",
       "      <td>-0.392737</td>\n",
       "      <td>-0.516950</td>\n",
       "      <td>-0.399296</td>\n",
       "      <td>-0.436328</td>\n",
       "      <td>0.057071</td>\n",
       "      <td>10</td>\n",
       "    </tr>\n",
       "    <tr>\n",
       "      <th>9</th>\n",
       "      <td>6.002672</td>\n",
       "      <td>2.094626</td>\n",
       "      <td>0.039490</td>\n",
       "      <td>0.000725</td>\n",
       "      <td>0.00152678</td>\n",
       "      <td>1</td>\n",
       "      <td>16</td>\n",
       "      <td>{'learning_rate': 0.0015267755614319788, 'n_hi...</td>\n",
       "      <td>-0.404579</td>\n",
       "      <td>-0.511233</td>\n",
       "      <td>-0.384972</td>\n",
       "      <td>-0.433595</td>\n",
       "      <td>0.055479</td>\n",
       "      <td>8</td>\n",
       "    </tr>\n",
       "  </tbody>\n",
       "</table>\n",
       "</div>"
      ],
      "text/plain": [
       "   mean_fit_time  std_fit_time  mean_score_time  std_score_time  \\\n",
       "0      13.949006      4.536095         0.050864        0.007241   \n",
       "1      10.436013      1.815878         0.046164        0.001493   \n",
       "2      14.114502      6.567680         0.044076        0.001005   \n",
       "3       9.014595      4.923662         0.045919        0.005443   \n",
       "4       7.085973      2.659615         0.044124        0.002303   \n",
       "5      16.027128      8.142243         0.035170        0.000683   \n",
       "6       9.917963      7.982446         0.036353        0.000395   \n",
       "7       8.114430      5.750464         0.036842        0.001244   \n",
       "8      12.781952      5.527271         0.044550        0.000730   \n",
       "9       6.002672      2.094626         0.039490        0.000725   \n",
       "\n",
       "  param_learning_rate param_n_hidden param_n_neurons  \\\n",
       "0         0.000425819              1              66   \n",
       "1           0.0159832              3              69   \n",
       "2          0.00549799              3               9   \n",
       "3          0.00268282              1              84   \n",
       "4           0.0074255              2              61   \n",
       "5         0.000721554              0              36   \n",
       "6          0.00653933              0              38   \n",
       "7           0.0110046              0              67   \n",
       "8         0.000402575              1              78   \n",
       "9          0.00152678              1              16   \n",
       "\n",
       "                                              params  split0_test_score  \\\n",
       "0  {'learning_rate': 0.00042581884041882227, 'n_h...          -0.406112   \n",
       "1  {'learning_rate': 0.01598323325710045, 'n_hidd...          -0.308132   \n",
       "2  {'learning_rate': 0.00549798946057251, 'n_hidd...          -0.346643   \n",
       "3  {'learning_rate': 0.002682820301643939, 'n_hid...          -0.365997   \n",
       "4  {'learning_rate': 0.00742549569619473, 'n_hidd...          -0.328386   \n",
       "5  {'learning_rate': 0.0007215540228653338, 'n_hi...          -0.391386   \n",
       "6  {'learning_rate': 0.006539330094363484, 'n_hid...          -0.350325   \n",
       "7  {'learning_rate': 0.011004556623399147, 'n_hid...          -0.365798   \n",
       "8  {'learning_rate': 0.00040257514452906034, 'n_h...          -0.392737   \n",
       "9  {'learning_rate': 0.0015267755614319788, 'n_hi...          -0.404579   \n",
       "\n",
       "   split1_test_score  split2_test_score  mean_test_score  std_test_score  \\\n",
       "0          -0.447966          -0.377156        -0.410411        0.029067   \n",
       "1          -0.304943          -0.288063        -0.300379        0.008806   \n",
       "2          -0.385310          -0.357252        -0.363069        0.016312   \n",
       "3          -0.373376          -0.322559        -0.353978        0.022419   \n",
       "4          -0.357004          -0.311890        -0.332427        0.018638   \n",
       "5          -0.522256          -0.393650        -0.435764        0.061166   \n",
       "6          -0.372767          -0.375131        -0.366074        0.011178   \n",
       "7          -0.371278          -0.315779        -0.350952        0.024972   \n",
       "8          -0.516950          -0.399296        -0.436328        0.057071   \n",
       "9          -0.511233          -0.384972        -0.433595        0.055479   \n",
       "\n",
       "   rank_test_score  \n",
       "0                7  \n",
       "1                1  \n",
       "2                5  \n",
       "3                4  \n",
       "4                2  \n",
       "5                9  \n",
       "6                6  \n",
       "7                3  \n",
       "8               10  \n",
       "9                8  "
      ]
     },
     "execution_count": 138,
     "metadata": {},
     "output_type": "execute_result"
    }
   ],
   "source": [
    "pd.DataFrame(rnd_search_cv.cv_results_)"
   ]
  },
  {
   "cell_type": "markdown",
   "metadata": {},
   "source": [
    "### 6.5)\n",
    "Evaluate the best model found on the test set. You can either use the best estimator's `score()` method, or get its underlying Keras model *via* its `model` attribute, and call this model's `evaluate()` method. Note that the estimator returns the negative mean square error (it's a score, not a loss, so higher is better)."
   ]
  },
  {
   "cell_type": "code",
   "execution_count": null,
   "metadata": {},
   "outputs": [],
   "source": []
  },
  {
   "cell_type": "code",
   "execution_count": 139,
   "metadata": {},
   "outputs": [
    {
     "name": "stdout",
     "output_type": "stream",
     "text": [
      "5160/5160 [==============================] - 0s 19us/sample - loss: 0.2802\n"
     ]
    },
    {
     "data": {
      "text/plain": [
       "-0.28016440521839053"
      ]
     },
     "execution_count": 139,
     "metadata": {},
     "output_type": "execute_result"
    }
   ],
   "source": [
    "rnd_search_cv.score(X_test_scaled, y_test)"
   ]
  },
  {
   "cell_type": "code",
   "execution_count": 140,
   "metadata": {},
   "outputs": [
    {
     "name": "stdout",
     "output_type": "stream",
     "text": [
      "5160/5160 [==============================] - 0s 14us/sample - loss: 0.2802\n"
     ]
    },
    {
     "data": {
      "text/plain": [
       "0.28016440521839053"
      ]
     },
     "execution_count": 140,
     "metadata": {},
     "output_type": "execute_result"
    }
   ],
   "source": [
    "model = rnd_search_cv.best_estimator_.model\n",
    "model.evaluate(X_test_scaled, y_test)"
   ]
  },
  {
   "cell_type": "markdown",
   "metadata": {},
   "source": [
    "### 6.6)\n",
    "Finally, save the best Keras model found. **Tip**: it is available via the best estimator's `model` attribute, and just need to call its `save()` method."
   ]
  },
  {
   "cell_type": "code",
   "execution_count": 143,
   "metadata": {},
   "outputs": [],
   "source": [
    "model.save(\"my_fine_tuned_housing_model.h5\")"
   ]
  },
  {
   "cell_type": "markdown",
   "metadata": {},
   "source": [
    "![Exercise](https://c1.staticflickr.com/9/8101/8553474140_c50cf08708_b.jpg)"
   ]
  },
  {
   "cell_type": "markdown",
   "metadata": {},
   "source": [
    "## Exercise 7 – The functional API"
   ]
  },
  {
   "cell_type": "markdown",
   "metadata": {},
   "source": [
    "Not all neural network models are simply sequential. Some may have complex topologies. Some may have multiple inputs and/or multiple outputs. For example, a Wide & Deep neural network (see [paper](https://ai.google/research/pubs/pub45413)) connects all or part of the inputs directly to the output layer, as shown on the following diagram:"
   ]
  },
  {
   "cell_type": "markdown",
   "metadata": {},
   "source": [
    "<img src=\"images/wide_and_deep_net.png\" title=\"Wide and deep net\" width=300 />"
   ]
  },
  {
   "cell_type": "markdown",
   "metadata": {},
   "source": [
    "### 7.1)\n",
    "Use Keras' functional API to implement a Wide & Deep network to tackle the California housing problem.\n",
    "\n",
    "**Tips**:\n",
    "* You need to create a `keras.layers.Input` layer to represent the inputs. Don't forget to specify the input `shape`.\n",
    "* Create the `Dense` layers, and connect them by using them like functions. For example, `hidden1 = keras.layers.Dense(30, activation=\"relu\")(input)` and `hidden2 = keras.layers.Dense(30, activation=\"relu\")(hidden1)`\n",
    "* Use the `keras.layers.concatenate()` function to concatenate the input layer and the second hidden layer's output.\n",
    "* Create a `keras.models.Model` and specify its `inputs` and `outputs` (e.g., `inputs=[input]`).\n",
    "* Then use this model just like a `Sequential` model: you need to compile it, display its summary, train it, evaluate it and use it to make predictions."
   ]
  },
  {
   "cell_type": "code",
   "execution_count": null,
   "metadata": {},
   "outputs": [],
   "source": []
  },
  {
   "cell_type": "code",
   "execution_count": null,
   "metadata": {},
   "outputs": [],
   "source": []
  },
  {
   "cell_type": "code",
   "execution_count": null,
   "metadata": {},
   "outputs": [],
   "source": []
  },
  {
   "cell_type": "markdown",
   "metadata": {},
   "source": [
    "### 7.2)\n",
    "After the Sequential API and the Functional API, let's try the Subclassing API:\n",
    "* Create a subclass of the `keras.models.Model` class.\n",
    "* Create all the layers you need in the constructor (e.g., `self.hidden1 = keras.layers.Dense(...)`).\n",
    "* Use the layers to process the `input` in the `call()` method, and return the output.\n",
    "* Note that you do not need to create a `keras.layers.Input` in this case.\n",
    "* Also note that `self.output` is used by Keras, so you should use another name for the output layer (e.g., `self.output_layer`).\n",
    "\n",
    "**When should you use the Subclassing API?**\n",
    "* Both the Sequential API and the Functional API are declarative: you first declare the list of layers you need and how they are connected, and only then can you feed your model with actual data. The models that these APIs build are just static graphs of layers. This has many advantages (easy inspection, debugging, saving, loading, sharing, etc.), and they cover the vast majority of use cases, but if you need to build a very dynamic model (e.g., with loops or conditional branching), or if you want to experiment with new ideas using an imperative programming style, then the Subclassing API is for you. You can pretty much do any computation you want in the `call()` method, possibly with loops and conditions, using Keras layers of even low-level TensorFlow operations.\n",
    "* However, this extra flexibility comes at the cost of less transparency. Since the model is defined within the `call()` method, Keras cannot fully inspect it. All it sees is the list of model attributes (which include the layers you define in the constructor), so when you display the model summary you just see a list of unconnected layers. Consequently, you cannot save or load the model without writing extra code. So this API is best used only when you really need the extra flexibility."
   ]
  },
  {
   "cell_type": "code",
   "execution_count": null,
   "metadata": {},
   "outputs": [],
   "source": [
    "class MyModel(keras.models.Model):\n",
    "    def __init__(self):\n",
    "        super(MyModel, self).__init__()\n",
    "        # create layers here\n",
    "\n",
    "    def call(self, input):\n",
    "        # write any code here, using layers or even low-level TF code\n",
    "        return output\n",
    "\n",
    "model = MyModel()"
   ]
  },
  {
   "cell_type": "code",
   "execution_count": null,
   "metadata": {},
   "outputs": [],
   "source": []
  },
  {
   "cell_type": "code",
   "execution_count": null,
   "metadata": {},
   "outputs": [],
   "source": []
  },
  {
   "cell_type": "code",
   "execution_count": null,
   "metadata": {},
   "outputs": [],
   "source": []
  },
  {
   "cell_type": "markdown",
   "metadata": {},
   "source": [
    "### 7.3)\n",
    "Now suppose you want to send only features 0 to 4 directly to the output, and only features 2 to 7 through the hidden layers, as shown on the following diagram. Use the functional API to build, train and evaluate this model.\n",
    "\n",
    "**Tips**:\n",
    "* You need to create two `keras.layers.Input` (`input_A` and `input_B`)\n",
    "* Build the model using the functional API, as above, but when you build the `keras.models.Model`, remember to set `inputs=[input_A, input_B]`\n",
    "* When calling `fit()`, `evaluate()` and  `predict()`, instead of passing `X_train_scaled`, pass `(X_train_scaled_A, X_train_scaled_B)` (two NumPy arrays containing only the appropriate features copied from `X_train_scaled`)."
   ]
  },
  {
   "cell_type": "markdown",
   "metadata": {},
   "source": [
    "<img src=\"images/multiple_inputs.png\" title=\"Multiple inputs\" width=300 />"
   ]
  },
  {
   "cell_type": "code",
   "execution_count": null,
   "metadata": {},
   "outputs": [],
   "source": []
  },
  {
   "cell_type": "code",
   "execution_count": null,
   "metadata": {},
   "outputs": [],
   "source": []
  },
  {
   "cell_type": "code",
   "execution_count": null,
   "metadata": {},
   "outputs": [],
   "source": []
  },
  {
   "cell_type": "markdown",
   "metadata": {},
   "source": [
    "### 7.4)\n",
    "Build the multi-input and multi-output neural net represented in the following diagram.\n",
    "\n",
    "<img src=\"images/multiple_inputs_and_outputs.png\" title=\"Multiple inputs and outputs\" width=400 />\n",
    "\n",
    "**Why?**\n",
    "\n",
    "There are many use cases in which having multiple outputs can be useful:\n",
    "* Your task may require multiple outputs, for example, you may want to locate and classify the main object in a picture. This is both a regression task (finding the coordinates of the object's center, as well as its width and height) and a classification task.\n",
    "* Similarly, you may have multiple independent tasks to perform based on the same data. Sure, you could train one neural network per task, but in many cases you will get better results on all tasks by training a single neural network with one output per task. This is because the neural network can learn features in the data that are useful across tasks.\n",
    "* Another use case is as a regularization technique (i.e., a training constraint whose objective is to reduce overfitting and thus improve the model's ability to generalize). For example, you may want to add some auxiliary outputs in a neural network architecture (as shown in the diagram) to ensure that that the underlying part of the network learns something useful on its own, without relying on the rest of the network.\n",
    "\n",
    "**Tips**:\n",
    "* Building the model is pretty straightforward using the functional API. Just make sure you specify both outputs when creating the `keras.models.Model`, for example `outputs=[output, aux_output]`.\n",
    "* Each output has its own loss function. In this scenario, they will be identical, so you can either specify `loss=\"mse\"` (this loss will apply to both outputs) or `loss=[\"mse\", \"mse\"]`, which does the same thing.\n",
    "* The final loss used to train the whole network is just a weighted sum of all loss functions. In this scenario, you want most to give a much smaller weight to the auxiliary output, so when compiling the model, you must specify `loss_weights=[0.9, 0.1]`.\n",
    "* When calling `fit()` or `evaluate()`, you need to pass the labels for all outputs. In this scenario the labels will be the same for the main output and for the auxiliary output, so make sure to pass `(y_train, y_train)` instead of `y_train`.\n",
    "* The `predict()` method will return both the main output and the auxiliary output."
   ]
  },
  {
   "cell_type": "code",
   "execution_count": null,
   "metadata": {},
   "outputs": [],
   "source": []
  },
  {
   "cell_type": "code",
   "execution_count": null,
   "metadata": {},
   "outputs": [],
   "source": []
  },
  {
   "cell_type": "code",
   "execution_count": null,
   "metadata": {},
   "outputs": [],
   "source": []
  },
  {
   "cell_type": "markdown",
   "metadata": {},
   "source": [
    "![Exercise solution](https://camo.githubusercontent.com/250388fde3fac9135ead9471733ee28e049f7a37/68747470733a2f2f75706c6f61642e77696b696d656469612e6f72672f77696b6970656469612f636f6d6d6f6e732f302f30362f46696c6f735f736567756e646f5f6c6f676f5f253238666c69707065642532392e6a7067)"
   ]
  },
  {
   "cell_type": "markdown",
   "metadata": {},
   "source": [
    "## Exercise 7 – Solution"
   ]
  },
  {
   "cell_type": "markdown",
   "metadata": {},
   "source": [
    "### 7.1)\n",
    "Use Keras' functional API to implement a Wide & Deep network to tackle the California housing problem."
   ]
  },
  {
   "cell_type": "code",
   "execution_count": 144,
   "metadata": {},
   "outputs": [],
   "source": [
    "input = keras.layers.Input(shape=X_train.shape[1:])\n",
    "hidden1 = keras.layers.Dense(30, activation=\"relu\")(input)\n",
    "hidden2 = keras.layers.Dense(30, activation=\"relu\")(hidden1)\n",
    "concat = keras.layers.concatenate([input, hidden2])\n",
    "output = keras.layers.Dense(1)(concat)"
   ]
  },
  {
   "cell_type": "code",
   "execution_count": 145,
   "metadata": {},
   "outputs": [],
   "source": [
    "model = keras.models.Model(inputs=[input], outputs=[output])"
   ]
  },
  {
   "cell_type": "code",
   "execution_count": 146,
   "metadata": {},
   "outputs": [],
   "source": [
    "model.compile(loss=\"mean_squared_error\", optimizer=keras.optimizers.SGD(1e-3))"
   ]
  },
  {
   "cell_type": "code",
   "execution_count": 147,
   "metadata": {},
   "outputs": [
    {
     "name": "stdout",
     "output_type": "stream",
     "text": [
      "Model: \"model\"\n",
      "__________________________________________________________________________________________________\n",
      "Layer (type)                    Output Shape         Param #     Connected to                     \n",
      "==================================================================================================\n",
      "input_1 (InputLayer)            [(None, 8)]          0                                            \n",
      "__________________________________________________________________________________________________\n",
      "dense_140 (Dense)               (None, 30)           270         input_1[0][0]                    \n",
      "__________________________________________________________________________________________________\n",
      "dense_141 (Dense)               (None, 30)           930         dense_140[0][0]                  \n",
      "__________________________________________________________________________________________________\n",
      "concatenate (Concatenate)       (None, 38)           0           input_1[0][0]                    \n",
      "                                                                 dense_141[0][0]                  \n",
      "__________________________________________________________________________________________________\n",
      "dense_142 (Dense)               (None, 1)            39          concatenate[0][0]                \n",
      "==================================================================================================\n",
      "Total params: 1,239\n",
      "Trainable params: 1,239\n",
      "Non-trainable params: 0\n",
      "__________________________________________________________________________________________________\n"
     ]
    }
   ],
   "source": [
    "model.summary()"
   ]
  },
  {
   "cell_type": "code",
   "execution_count": 148,
   "metadata": {},
   "outputs": [
    {
     "name": "stdout",
     "output_type": "stream",
     "text": [
      "Train on 11610 samples, validate on 3870 samples\n",
      "Epoch 1/10\n",
      "11610/11610 [==============================] - 0s 36us/sample - loss: 1.9821 - val_loss: 0.8489\n",
      "Epoch 2/10\n",
      "11610/11610 [==============================] - 0s 28us/sample - loss: 0.6627 - val_loss: 0.6167\n",
      "Epoch 3/10\n",
      "11610/11610 [==============================] - 0s 28us/sample - loss: 0.5983 - val_loss: 0.5560\n",
      "Epoch 4/10\n",
      "11610/11610 [==============================] - 0s 28us/sample - loss: 0.5646 - val_loss: 0.6290\n",
      "Epoch 5/10\n",
      "11610/11610 [==============================] - 0s 28us/sample - loss: 0.5417 - val_loss: 0.5091\n",
      "Epoch 6/10\n",
      "11610/11610 [==============================] - 0s 28us/sample - loss: 0.5205 - val_loss: 0.5081\n",
      "Epoch 7/10\n",
      "11610/11610 [==============================] - 0s 27us/sample - loss: 0.5031 - val_loss: 0.4671\n",
      "Epoch 8/10\n",
      "11610/11610 [==============================] - 0s 28us/sample - loss: 0.4890 - val_loss: 0.4577\n",
      "Epoch 9/10\n",
      "11610/11610 [==============================] - 0s 29us/sample - loss: 0.4770 - val_loss: 0.4453\n",
      "Epoch 10/10\n",
      "11610/11610 [==============================] - 0s 29us/sample - loss: 0.4670 - val_loss: 0.4339\n"
     ]
    }
   ],
   "source": [
    "history = model.fit(X_train_scaled, y_train, epochs=10,\n",
    "                    validation_data=(X_valid_scaled, y_valid))"
   ]
  },
  {
   "cell_type": "code",
   "execution_count": 149,
   "metadata": {},
   "outputs": [
    {
     "name": "stdout",
     "output_type": "stream",
     "text": [
      "5160/5160 [==============================] - 0s 15us/sample - loss: 0.4561\n"
     ]
    },
    {
     "data": {
      "text/plain": [
       "0.45609413496283596"
      ]
     },
     "execution_count": 149,
     "metadata": {},
     "output_type": "execute_result"
    }
   ],
   "source": [
    "model.evaluate(X_test_scaled, y_test)"
   ]
  },
  {
   "cell_type": "code",
   "execution_count": 150,
   "metadata": {},
   "outputs": [
    {
     "data": {
      "text/plain": [
       "array([[0.61378306],\n",
       "       [1.4851139 ],\n",
       "       [3.2046404 ],\n",
       "       ...,\n",
       "       [1.325384  ],\n",
       "       [2.5853205 ],\n",
       "       [3.5058508 ]], dtype=float32)"
      ]
     },
     "execution_count": 150,
     "metadata": {},
     "output_type": "execute_result"
    }
   ],
   "source": [
    "model.predict(X_test_scaled)"
   ]
  },
  {
   "cell_type": "markdown",
   "metadata": {},
   "source": [
    "### 7.2)\n",
    "After the Sequential API and the Functional API, let's try the Subclassing API:\n",
    "* Create a subclass of the `keras.models.Model` class.\n",
    "* Create all the layers you need in the constructor (e.g., `self.hidden1 = keras.layers.Dense(...)`).\n",
    "* Use the layers to process the `input` in the `call()` method, and return the output.\n",
    "* Note that you do not need to create a `keras.layers.Input` in this case.\n",
    "* Also note that `self.output` is used by Keras, so you should use another name for the output layer (e.g., `self.output_layer`)."
   ]
  },
  {
   "cell_type": "code",
   "execution_count": 151,
   "metadata": {},
   "outputs": [],
   "source": [
    "class MyModel(keras.models.Model):\n",
    "    def __init__(self):\n",
    "        super(MyModel, self).__init__()\n",
    "        self.hidden1 = keras.layers.Dense(30, activation=\"relu\")\n",
    "        self.hidden2 = keras.layers.Dense(30, activation=\"relu\")\n",
    "        self.output_ = keras.layers.Dense(1)\n",
    "\n",
    "    def call(self, input):\n",
    "        hidden1 = self.hidden1(input)\n",
    "        hidden2 = self.hidden2(hidden1)\n",
    "        concat = keras.layers.concatenate([input, hidden2])\n",
    "        output = self.output_(concat)\n",
    "        return output\n",
    "\n",
    "model = MyModel()"
   ]
  },
  {
   "cell_type": "code",
   "execution_count": 152,
   "metadata": {},
   "outputs": [],
   "source": [
    "model.compile(loss=\"mse\", optimizer=keras.optimizers.SGD(1e-3))"
   ]
  },
  {
   "cell_type": "code",
   "execution_count": 153,
   "metadata": {},
   "outputs": [
    {
     "name": "stdout",
     "output_type": "stream",
     "text": [
      "Train on 11610 samples, validate on 3870 samples\n",
      "Epoch 1/10\n",
      "11610/11610 [==============================] - 0s 36us/sample - loss: 2.4264 - val_loss: 1.6911\n",
      "Epoch 2/10\n",
      "11610/11610 [==============================] - 0s 27us/sample - loss: 0.6783 - val_loss: 0.6967\n",
      "Epoch 3/10\n",
      "11610/11610 [==============================] - 0s 27us/sample - loss: 0.6027 - val_loss: 0.5597\n",
      "Epoch 4/10\n",
      "11610/11610 [==============================] - 0s 27us/sample - loss: 0.5662 - val_loss: 0.5269\n",
      "Epoch 5/10\n",
      "11610/11610 [==============================] - 0s 28us/sample - loss: 0.5390 - val_loss: 0.5208\n",
      "Epoch 6/10\n",
      "11610/11610 [==============================] - 0s 27us/sample - loss: 0.5164 - val_loss: 0.4961\n",
      "Epoch 7/10\n",
      "11610/11610 [==============================] - 0s 27us/sample - loss: 0.4982 - val_loss: 0.4707\n",
      "Epoch 8/10\n",
      "11610/11610 [==============================] - 0s 27us/sample - loss: 0.4822 - val_loss: 0.4759\n",
      "Epoch 9/10\n",
      "11610/11610 [==============================] - 0s 29us/sample - loss: 0.4683 - val_loss: 0.4389\n",
      "Epoch 10/10\n",
      "11610/11610 [==============================] - 0s 29us/sample - loss: 0.4575 - val_loss: 0.4300\n"
     ]
    }
   ],
   "source": [
    "history = model.fit(X_train_scaled, y_train, epochs=10,\n",
    "                    validation_data=(X_valid_scaled, y_valid))"
   ]
  },
  {
   "cell_type": "code",
   "execution_count": 154,
   "metadata": {},
   "outputs": [
    {
     "name": "stdout",
     "output_type": "stream",
     "text": [
      "Model: \"my_model\"\n",
      "_________________________________________________________________\n",
      "Layer (type)                 Output Shape              Param #   \n",
      "=================================================================\n",
      "dense_143 (Dense)            multiple                  270       \n",
      "_________________________________________________________________\n",
      "dense_144 (Dense)            multiple                  930       \n",
      "_________________________________________________________________\n",
      "dense_145 (Dense)            multiple                  39        \n",
      "=================================================================\n",
      "Total params: 1,239\n",
      "Trainable params: 1,239\n",
      "Non-trainable params: 0\n",
      "_________________________________________________________________\n"
     ]
    }
   ],
   "source": [
    "model.summary()"
   ]
  },
  {
   "cell_type": "code",
   "execution_count": 155,
   "metadata": {},
   "outputs": [
    {
     "name": "stdout",
     "output_type": "stream",
     "text": [
      "5160/5160 [==============================] - 0s 14us/sample - loss: 0.4416\n"
     ]
    },
    {
     "data": {
      "text/plain": [
       "0.4415814147439114"
      ]
     },
     "execution_count": 155,
     "metadata": {},
     "output_type": "execute_result"
    }
   ],
   "source": [
    "model.evaluate(X_test_scaled, y_test)"
   ]
  },
  {
   "cell_type": "code",
   "execution_count": 156,
   "metadata": {},
   "outputs": [
    {
     "data": {
      "text/plain": [
       "array([[0.6992489],\n",
       "       [1.5901222],\n",
       "       [3.1621583],\n",
       "       ...,\n",
       "       [1.3721452],\n",
       "       [2.6269217],\n",
       "       [3.4624581]], dtype=float32)"
      ]
     },
     "execution_count": 156,
     "metadata": {},
     "output_type": "execute_result"
    }
   ],
   "source": [
    "model.predict(X_test_scaled)"
   ]
  },
  {
   "cell_type": "markdown",
   "metadata": {},
   "source": [
    "### 7.3)\n",
    "Now suppose you want to send only features 0 to 4 directly to the output, and only features 2 to 7 through the hidden layers, as shown on the diagram. Use the functional API to build, train and evaluate this model."
   ]
  },
  {
   "cell_type": "code",
   "execution_count": 157,
   "metadata": {},
   "outputs": [],
   "source": [
    "input_A = keras.layers.Input(shape=[5])\n",
    "input_B = keras.layers.Input(shape=[6])"
   ]
  },
  {
   "cell_type": "code",
   "execution_count": 158,
   "metadata": {},
   "outputs": [],
   "source": [
    "hidden1 = keras.layers.Dense(30, activation=\"relu\")(input_B)\n",
    "hidden2 = keras.layers.Dense(30, activation=\"relu\")(hidden1)\n",
    "concat = keras.layers.concatenate([input_A, hidden2])\n",
    "output = keras.layers.Dense(1)(concat)"
   ]
  },
  {
   "cell_type": "code",
   "execution_count": 159,
   "metadata": {},
   "outputs": [],
   "source": [
    "model = keras.models.Model(inputs=[input_A, input_B], outputs=[output])"
   ]
  },
  {
   "cell_type": "code",
   "execution_count": 160,
   "metadata": {},
   "outputs": [],
   "source": [
    "model.compile(loss=\"mean_squared_error\", optimizer=keras.optimizers.SGD(1e-3))"
   ]
  },
  {
   "cell_type": "code",
   "execution_count": 161,
   "metadata": {},
   "outputs": [
    {
     "name": "stdout",
     "output_type": "stream",
     "text": [
      "Model: \"model_1\"\n",
      "__________________________________________________________________________________________________\n",
      "Layer (type)                    Output Shape         Param #     Connected to                     \n",
      "==================================================================================================\n",
      "input_3 (InputLayer)            [(None, 6)]          0                                            \n",
      "__________________________________________________________________________________________________\n",
      "dense_146 (Dense)               (None, 30)           210         input_3[0][0]                    \n",
      "__________________________________________________________________________________________________\n",
      "input_2 (InputLayer)            [(None, 5)]          0                                            \n",
      "__________________________________________________________________________________________________\n",
      "dense_147 (Dense)               (None, 30)           930         dense_146[0][0]                  \n",
      "__________________________________________________________________________________________________\n",
      "concatenate_1 (Concatenate)     (None, 35)           0           input_2[0][0]                    \n",
      "                                                                 dense_147[0][0]                  \n",
      "__________________________________________________________________________________________________\n",
      "dense_148 (Dense)               (None, 1)            36          concatenate_1[0][0]              \n",
      "==================================================================================================\n",
      "Total params: 1,176\n",
      "Trainable params: 1,176\n",
      "Non-trainable params: 0\n",
      "__________________________________________________________________________________________________\n"
     ]
    }
   ],
   "source": [
    "model.summary()"
   ]
  },
  {
   "cell_type": "code",
   "execution_count": 162,
   "metadata": {},
   "outputs": [],
   "source": [
    "X_train_scaled_A = X_train_scaled[:, :5]\n",
    "X_train_scaled_B = X_train_scaled[:, 2:]\n",
    "X_valid_scaled_A = X_valid_scaled[:, :5]\n",
    "X_valid_scaled_B = X_valid_scaled[:, 2:]\n",
    "X_test_scaled_A = X_test_scaled[:, :5]\n",
    "X_test_scaled_B = X_test_scaled[:, 2:]"
   ]
  },
  {
   "cell_type": "code",
   "execution_count": 163,
   "metadata": {},
   "outputs": [
    {
     "name": "stdout",
     "output_type": "stream",
     "text": [
      "Train on 11610 samples, validate on 3870 samples\n",
      "Epoch 1/10\n",
      "11610/11610 [==============================] - 0s 36us/sample - loss: 2.6337 - val_loss: 1.2723\n",
      "Epoch 2/10\n",
      "11610/11610 [==============================] - 0s 29us/sample - loss: 0.8020 - val_loss: 0.7134\n",
      "Epoch 3/10\n",
      "11610/11610 [==============================] - 0s 29us/sample - loss: 0.6420 - val_loss: 0.6406\n",
      "Epoch 4/10\n",
      "11610/11610 [==============================] - 0s 30us/sample - loss: 0.5784 - val_loss: 0.5605\n",
      "Epoch 5/10\n",
      "11610/11610 [==============================] - 0s 28us/sample - loss: 0.5403 - val_loss: 0.4962\n",
      "Epoch 6/10\n",
      "11610/11610 [==============================] - 0s 28us/sample - loss: 0.5124 - val_loss: 0.4925\n",
      "Epoch 7/10\n",
      "11610/11610 [==============================] - 0s 29us/sample - loss: 0.4924 - val_loss: 0.4581\n",
      "Epoch 8/10\n",
      "11610/11610 [==============================] - 0s 30us/sample - loss: 0.4761 - val_loss: 0.4630\n",
      "Epoch 9/10\n",
      "11610/11610 [==============================] - 0s 30us/sample - loss: 0.4647 - val_loss: 0.4401\n",
      "Epoch 10/10\n",
      "11610/11610 [==============================] - 0s 29us/sample - loss: 0.4560 - val_loss: 0.4204\n"
     ]
    }
   ],
   "source": [
    "history = model.fit([X_train_scaled_A, X_train_scaled_B], y_train, epochs=10,\n",
    "                    validation_data=([X_valid_scaled_A, X_valid_scaled_B], y_valid))"
   ]
  },
  {
   "cell_type": "code",
   "execution_count": 164,
   "metadata": {},
   "outputs": [
    {
     "name": "stdout",
     "output_type": "stream",
     "text": [
      "5160/5160 [==============================] - 0s 14us/sample - loss: 0.4399\n"
     ]
    },
    {
     "data": {
      "text/plain": [
       "0.43988039613694185"
      ]
     },
     "execution_count": 164,
     "metadata": {},
     "output_type": "execute_result"
    }
   ],
   "source": [
    "model.evaluate([X_test_scaled_A, X_test_scaled_B], y_test)"
   ]
  },
  {
   "cell_type": "code",
   "execution_count": 165,
   "metadata": {},
   "outputs": [
    {
     "data": {
      "text/plain": [
       "array([[0.5739323],\n",
       "       [1.7475454],\n",
       "       [3.0108223],\n",
       "       ...,\n",
       "       [1.2615273],\n",
       "       [2.7169118],\n",
       "       [3.5763674]], dtype=float32)"
      ]
     },
     "execution_count": 165,
     "metadata": {},
     "output_type": "execute_result"
    }
   ],
   "source": [
    "model.predict([X_test_scaled_A, X_test_scaled_B])"
   ]
  },
  {
   "cell_type": "markdown",
   "metadata": {},
   "source": [
    "### 7.4)\n",
    "Build the multi-input and multi-output neural net represented in the diagram."
   ]
  },
  {
   "cell_type": "code",
   "execution_count": 166,
   "metadata": {},
   "outputs": [],
   "source": [
    "input_A = keras.layers.Input(shape=X_train_scaled_A.shape[1:])\n",
    "input_B = keras.layers.Input(shape=X_train_scaled_B.shape[1:])\n",
    "hidden1 = keras.layers.Dense(30, activation=\"relu\")(input_B)\n",
    "hidden2 = keras.layers.Dense(30, activation=\"relu\")(hidden1)\n",
    "concat = keras.layers.concatenate([input_A, hidden2])\n",
    "output = keras.layers.Dense(1)(concat)\n",
    "aux_output = keras.layers.Dense(1)(hidden2)"
   ]
  },
  {
   "cell_type": "code",
   "execution_count": 167,
   "metadata": {},
   "outputs": [],
   "source": [
    "model = keras.models.Model(inputs=[input_A, input_B],\n",
    "                           outputs=[output, aux_output])"
   ]
  },
  {
   "cell_type": "code",
   "execution_count": 168,
   "metadata": {},
   "outputs": [],
   "source": [
    "model.compile(loss=\"mean_squared_error\", loss_weights=[0.9, 0.1],\n",
    "              optimizer=keras.optimizers.SGD(1e-3))"
   ]
  },
  {
   "cell_type": "code",
   "execution_count": 169,
   "metadata": {},
   "outputs": [
    {
     "name": "stdout",
     "output_type": "stream",
     "text": [
      "Model: \"model_2\"\n",
      "__________________________________________________________________________________________________\n",
      "Layer (type)                    Output Shape         Param #     Connected to                     \n",
      "==================================================================================================\n",
      "input_5 (InputLayer)            [(None, 6)]          0                                            \n",
      "__________________________________________________________________________________________________\n",
      "dense_149 (Dense)               (None, 30)           210         input_5[0][0]                    \n",
      "__________________________________________________________________________________________________\n",
      "input_4 (InputLayer)            [(None, 5)]          0                                            \n",
      "__________________________________________________________________________________________________\n",
      "dense_150 (Dense)               (None, 30)           930         dense_149[0][0]                  \n",
      "__________________________________________________________________________________________________\n",
      "concatenate_2 (Concatenate)     (None, 35)           0           input_4[0][0]                    \n",
      "                                                                 dense_150[0][0]                  \n",
      "__________________________________________________________________________________________________\n",
      "dense_151 (Dense)               (None, 1)            36          concatenate_2[0][0]              \n",
      "__________________________________________________________________________________________________\n",
      "dense_152 (Dense)               (None, 1)            31          dense_150[0][0]                  \n",
      "==================================================================================================\n",
      "Total params: 1,207\n",
      "Trainable params: 1,207\n",
      "Non-trainable params: 0\n",
      "__________________________________________________________________________________________________\n"
     ]
    }
   ],
   "source": [
    "model.summary()"
   ]
  },
  {
   "cell_type": "code",
   "execution_count": 170,
   "metadata": {},
   "outputs": [
    {
     "name": "stdout",
     "output_type": "stream",
     "text": [
      "Train on 11610 samples, validate on 3870 samples\n",
      "Epoch 1/10\n",
      "11610/11610 [==============================] - 1s 45us/sample - loss: 2.7503 - dense_151_loss: 2.4960 - dense_152_loss: 5.0299 - val_loss: 1.2045 - val_dense_151_loss: 0.8786 - val_dense_152_loss: 4.1352\n",
      "Epoch 2/10\n",
      "11610/11610 [==============================] - 0s 32us/sample - loss: 1.0121 - dense_151_loss: 0.7355 - dense_152_loss: 3.5006 - val_loss: 0.9107 - val_dense_151_loss: 0.6624 - val_dense_152_loss: 3.1436\n",
      "Epoch 3/10\n",
      "11610/11610 [==============================] - 0s 35us/sample - loss: 0.8090 - dense_151_loss: 0.6313 - dense_152_loss: 2.4068 - val_loss: 0.8379 - val_dense_151_loss: 0.5811 - val_dense_152_loss: 3.1469\n",
      "Epoch 4/10\n",
      "11610/11610 [==============================] - 0s 33us/sample - loss: 0.7142 - dense_151_loss: 0.5866 - dense_152_loss: 1.8632 - val_loss: 0.8100 - val_dense_151_loss: 0.5691 - val_dense_152_loss: 2.9752\n",
      "Epoch 5/10\n",
      "11610/11610 [==============================] - 0s 33us/sample - loss: 0.6592 - dense_151_loss: 0.5560 - dense_152_loss: 1.5899 - val_loss: 0.7570 - val_dense_151_loss: 0.5174 - val_dense_152_loss: 2.9124\n",
      "Epoch 6/10\n",
      "11610/11610 [==============================] - 0s 36us/sample - loss: 0.6229 - dense_151_loss: 0.5319 - dense_152_loss: 1.4400 - val_loss: 0.7167 - val_dense_151_loss: 0.5282 - val_dense_152_loss: 2.4115\n",
      "Epoch 7/10\n",
      "11610/11610 [==============================] - 0s 33us/sample - loss: 0.5967 - dense_151_loss: 0.5135 - dense_152_loss: 1.3458 - val_loss: 0.6636 - val_dense_151_loss: 0.5057 - val_dense_152_loss: 2.0823\n",
      "Epoch 8/10\n",
      "11610/11610 [==============================] - 0s 32us/sample - loss: 0.5767 - dense_151_loss: 0.4985 - dense_152_loss: 1.2810 - val_loss: 0.6380 - val_dense_151_loss: 0.5153 - val_dense_152_loss: 1.7419\n",
      "Epoch 9/10\n",
      "11610/11610 [==============================] - 0s 33us/sample - loss: 0.5615 - dense_151_loss: 0.4875 - dense_152_loss: 1.2295 - val_loss: 0.5730 - val_dense_151_loss: 0.4575 - val_dense_152_loss: 1.6128\n",
      "Epoch 10/10\n",
      "11610/11610 [==============================] - 0s 33us/sample - loss: 0.5486 - dense_151_loss: 0.4772 - dense_152_loss: 1.1895 - val_loss: 0.5455 - val_dense_151_loss: 0.4479 - val_dense_152_loss: 1.4234\n"
     ]
    }
   ],
   "source": [
    "history = model.fit([X_train_scaled_A, X_train_scaled_B], [y_train, y_train], epochs=10,\n",
    "                    validation_data=([X_valid_scaled_A, X_valid_scaled_B], [y_valid, y_valid]))"
   ]
  },
  {
   "cell_type": "code",
   "execution_count": 171,
   "metadata": {},
   "outputs": [
    {
     "name": "stdout",
     "output_type": "stream",
     "text": [
      "5160/5160 [==============================] - 0s 21us/sample - loss: 0.5368 - dense_151_loss: 0.4686 - dense_152_loss: 1.1616\n"
     ]
    },
    {
     "data": {
      "text/plain": [
       "[0.536818421071814, 0.4686052, 1.1615832]"
      ]
     },
     "execution_count": 171,
     "metadata": {},
     "output_type": "execute_result"
    }
   ],
   "source": [
    "model.evaluate([X_test_scaled_A, X_test_scaled_B], [y_test, y_test])"
   ]
  },
  {
   "cell_type": "code",
   "execution_count": 172,
   "metadata": {},
   "outputs": [],
   "source": [
    "y_pred, y_pred_aux = model.predict([X_test_scaled_A, X_test_scaled_B])"
   ]
  },
  {
   "cell_type": "code",
   "execution_count": 173,
   "metadata": {},
   "outputs": [
    {
     "data": {
      "text/plain": [
       "array([[0.44112694],\n",
       "       [1.6795588 ],\n",
       "       [3.097958  ],\n",
       "       ...,\n",
       "       [1.4666784 ],\n",
       "       [2.57908   ],\n",
       "       [3.4613328 ]], dtype=float32)"
      ]
     },
     "execution_count": 173,
     "metadata": {},
     "output_type": "execute_result"
    }
   ],
   "source": [
    "y_pred"
   ]
  },
  {
   "cell_type": "code",
   "execution_count": 174,
   "metadata": {
    "scrolled": true
   },
   "outputs": [
    {
     "data": {
      "text/plain": [
       "array([[1.2651714],\n",
       "       [1.5779603],\n",
       "       [2.1875467],\n",
       "       ...,\n",
       "       [1.5485897],\n",
       "       [1.7406982],\n",
       "       [2.09869  ]], dtype=float32)"
      ]
     },
     "execution_count": 174,
     "metadata": {},
     "output_type": "execute_result"
    }
   ],
   "source": [
    "y_pred_aux"
   ]
  },
  {
   "cell_type": "markdown",
   "metadata": {},
   "source": [
    "![Exercise](https://c1.staticflickr.com/9/8101/8553474140_c50cf08708_b.jpg)"
   ]
  },
  {
   "cell_type": "markdown",
   "metadata": {},
   "source": [
    "## Exercise 8 – Deep Nets"
   ]
  },
  {
   "cell_type": "markdown",
   "metadata": {},
   "source": [
    "Let's go back to Fashion MNIST and build deep nets to tackle it. We need to load it, split it and scale it."
   ]
  },
  {
   "cell_type": "code",
   "execution_count": 175,
   "metadata": {},
   "outputs": [],
   "source": [
    "fashion_mnist = keras.datasets.fashion_mnist\n",
    "(X_train_full, y_train_full), (X_test, y_test) = fashion_mnist.load_data()\n",
    "X_valid, X_train = X_train_full[:5000], X_train_full[5000:]\n",
    "y_valid, y_train = y_train_full[:5000], y_train_full[5000:]"
   ]
  },
  {
   "cell_type": "code",
   "execution_count": 176,
   "metadata": {},
   "outputs": [],
   "source": [
    "from sklearn.preprocessing import StandardScaler\n",
    "\n",
    "scaler = StandardScaler()\n",
    "X_train_scaled = scaler.fit_transform(X_train.astype(np.float32).reshape(-1, 28 * 28)).reshape(-1, 28, 28)\n",
    "X_valid_scaled = scaler.transform(X_valid.astype(np.float32).reshape(-1, 28 * 28)).reshape(-1, 28, 28)\n",
    "X_test_scaled = scaler.transform(X_test.astype(np.float32).reshape(-1, 28 * 28)).reshape(-1, 28, 28)"
   ]
  },
  {
   "cell_type": "markdown",
   "metadata": {},
   "source": [
    "### 8.1)\n",
    "Build a sequential model with 20 hidden dense layers, with 100 neurons each, using the ReLU activation function, plus the output layer (10 neurons, softmax activation function). Try to train it for 10 epochs on Fashion MNIST and plot the learning curves. Notice that progress is very slow."
   ]
  },
  {
   "cell_type": "code",
   "execution_count": null,
   "metadata": {},
   "outputs": [],
   "source": []
  },
  {
   "cell_type": "code",
   "execution_count": null,
   "metadata": {},
   "outputs": [],
   "source": []
  },
  {
   "cell_type": "code",
   "execution_count": null,
   "metadata": {},
   "outputs": [],
   "source": []
  },
  {
   "cell_type": "markdown",
   "metadata": {},
   "source": [
    "### 8.2)\n",
    "Update the model to add a `BatchNormalization` layer after every hidden layer. Notice that performance progresses much faster per epoch, although computations are much more intensive. Display the model summary and notice all the non-trainable parameters (the scale $\\gamma$ and offset $\\beta$ parameters)."
   ]
  },
  {
   "cell_type": "code",
   "execution_count": null,
   "metadata": {},
   "outputs": [],
   "source": []
  },
  {
   "cell_type": "code",
   "execution_count": null,
   "metadata": {},
   "outputs": [],
   "source": []
  },
  {
   "cell_type": "code",
   "execution_count": null,
   "metadata": {},
   "outputs": [],
   "source": []
  },
  {
   "cell_type": "markdown",
   "metadata": {},
   "source": [
    "### 8.3)\n",
    "Try moving the BN layers before the hidden layers' activation functions. Does this affect the model's performance?"
   ]
  },
  {
   "cell_type": "code",
   "execution_count": null,
   "metadata": {},
   "outputs": [],
   "source": []
  },
  {
   "cell_type": "code",
   "execution_count": null,
   "metadata": {},
   "outputs": [],
   "source": []
  },
  {
   "cell_type": "code",
   "execution_count": null,
   "metadata": {},
   "outputs": [],
   "source": []
  },
  {
   "cell_type": "markdown",
   "metadata": {},
   "source": [
    "### 8.4)\n",
    "Remove all the BN layers, and just use the SELU activation function instead (always use SELU with LeCun Normal weight initialization). Notice that you get better performance than with BN but training is much faster. Isn't it marvelous? :-)"
   ]
  },
  {
   "cell_type": "code",
   "execution_count": null,
   "metadata": {},
   "outputs": [],
   "source": []
  },
  {
   "cell_type": "code",
   "execution_count": null,
   "metadata": {},
   "outputs": [],
   "source": []
  },
  {
   "cell_type": "code",
   "execution_count": null,
   "metadata": {},
   "outputs": [],
   "source": []
  },
  {
   "cell_type": "markdown",
   "metadata": {},
   "source": [
    "### 8.5)\n",
    "Try training for 10 additional epochs, and notice that the model starts overfitting. Try adding a Dropout layer (with a 50% dropout rate) just before the output layer. Does it reduce overfitting? What about the final validation accuracy?\n",
    "\n",
    "**Warning**: you should not use regular Dropout, as it breaks the self-normalizing property of the SELU activation function. Instead, use AlphaDropout, which is designed to work with SELU."
   ]
  },
  {
   "cell_type": "code",
   "execution_count": null,
   "metadata": {},
   "outputs": [],
   "source": []
  },
  {
   "cell_type": "code",
   "execution_count": null,
   "metadata": {},
   "outputs": [],
   "source": []
  },
  {
   "cell_type": "code",
   "execution_count": null,
   "metadata": {},
   "outputs": [],
   "source": []
  },
  {
   "cell_type": "markdown",
   "metadata": {},
   "source": [
    "![Exercise solution](https://camo.githubusercontent.com/250388fde3fac9135ead9471733ee28e049f7a37/68747470733a2f2f75706c6f61642e77696b696d656469612e6f72672f77696b6970656469612f636f6d6d6f6e732f302f30362f46696c6f735f736567756e646f5f6c6f676f5f253238666c69707065642532392e6a7067)"
   ]
  },
  {
   "cell_type": "markdown",
   "metadata": {},
   "source": [
    "## Exercise 8 – Solution"
   ]
  },
  {
   "cell_type": "markdown",
   "metadata": {},
   "source": [
    "### 8.1)\n",
    "Build a sequential model with 20 hidden dense layers, with 100 neurons each, using the ReLU activation function, plus the output layer (10 neurons, softmax activation function). Try to train it for 10 epochs on Fashion MNIST and plot the learning curves. Notice that progress is very slow."
   ]
  },
  {
   "cell_type": "code",
   "execution_count": 177,
   "metadata": {},
   "outputs": [
    {
     "name": "stdout",
     "output_type": "stream",
     "text": [
      "Train on 55000 samples, validate on 5000 samples\n",
      "Epoch 1/10\n",
      "55000/55000 [==============================] - 5s 99us/sample - loss: 2.3022 - accuracy: 0.1239 - val_loss: 2.3019 - val_accuracy: 0.1312\n",
      "Epoch 2/10\n",
      "55000/55000 [==============================] - 5s 95us/sample - loss: 2.3013 - accuracy: 0.1641 - val_loss: 2.3004 - val_accuracy: 0.1496\n",
      "Epoch 3/10\n",
      "55000/55000 [==============================] - 5s 95us/sample - loss: 2.2987 - accuracy: 0.1699 - val_loss: 2.2964 - val_accuracy: 0.1590\n",
      "Epoch 4/10\n",
      "55000/55000 [==============================] - 5s 95us/sample - loss: 2.2918 - accuracy: 0.1926 - val_loss: 2.2849 - val_accuracy: 0.2160\n",
      "Epoch 5/10\n",
      "55000/55000 [==============================] - 5s 96us/sample - loss: 2.2714 - accuracy: 0.2265 - val_loss: 2.2511 - val_accuracy: 0.2228\n",
      "Epoch 6/10\n",
      "55000/55000 [==============================] - 5s 95us/sample - loss: 2.2133 - accuracy: 0.2086 - val_loss: 2.1569 - val_accuracy: 0.2178\n",
      "Epoch 7/10\n",
      "55000/55000 [==============================] - 5s 95us/sample - loss: 2.0490 - accuracy: 0.2033 - val_loss: 1.8934 - val_accuracy: 0.2172\n",
      "Epoch 8/10\n",
      "55000/55000 [==============================] - 5s 96us/sample - loss: 1.7178 - accuracy: 0.2476 - val_loss: 1.5269 - val_accuracy: 0.3666\n",
      "Epoch 9/10\n",
      "55000/55000 [==============================] - 5s 95us/sample - loss: 1.1725 - accuracy: 0.5042 - val_loss: 1.0689 - val_accuracy: 0.5554\n",
      "Epoch 10/10\n",
      "55000/55000 [==============================] - 5s 95us/sample - loss: 0.9174 - accuracy: 0.6318 - val_loss: 0.8535 - val_accuracy: 0.6464\n"
     ]
    },
    {
     "data": {
      "image/png": "[encoded data removed]",
      "text/plain": [
       "<Figure size 576x360 with 1 Axes>"
      ]
     },
     "metadata": {
      "needs_background": "light"
     },
     "output_type": "display_data"
    }
   ],
   "source": [
    "model = keras.models.Sequential()\n",
    "model.add(keras.layers.Flatten(input_shape=[28, 28]))\n",
    "for _ in range(20):\n",
    "    model.add(keras.layers.Dense(100, activation=\"relu\"))\n",
    "model.add(keras.layers.Dense(10, activation=\"softmax\"))\n",
    "model.compile(loss=\"sparse_categorical_crossentropy\", optimizer=keras.optimizers.SGD(1e-3),\n",
    "              metrics=[\"accuracy\"])\n",
    "history = model.fit(X_train_scaled, y_train, epochs=10,\n",
    "                    validation_data=(X_valid_scaled, y_valid))\n",
    "plot_learning_curves(history)"
   ]
  },
  {
   "cell_type": "markdown",
   "metadata": {},
   "source": [
    "### 8.2)\n",
    "Update the model to add a `BatchNormalization` layer after every hidden layer. Notice that performance progresses much faster per epoch, although computations are much more intensive. Display the model summary and notice all the non-trainable parameters (the scale $\\gamma$ and offset $\\beta$ parameters)."
   ]
  },
  {
   "cell_type": "code",
   "execution_count": 178,
   "metadata": {},
   "outputs": [
    {
     "name": "stdout",
     "output_type": "stream",
     "text": [
      "Train on 55000 samples, validate on 5000 samples\n",
      "Epoch 1/10\n",
      "55000/55000 [==============================] - 15s 266us/sample - loss: 1.9325 - accuracy: 0.3614 - val_loss: 1.0351 - val_accuracy: 0.6484\n",
      "Epoch 2/10\n",
      "55000/55000 [==============================] - 10s 185us/sample - loss: 1.0899 - accuracy: 0.6248 - val_loss: 0.7781 - val_accuracy: 0.7244\n",
      "Epoch 3/10\n",
      "55000/55000 [==============================] - 10s 176us/sample - loss: 0.9244 - accuracy: 0.6746 - val_loss: 0.6834 - val_accuracy: 0.7566\n",
      "Epoch 4/10\n",
      "55000/55000 [==============================] - 10s 177us/sample - loss: 0.8558 - accuracy: 0.6983 - val_loss: 0.6301 - val_accuracy: 0.7722\n",
      "Epoch 5/10\n",
      "55000/55000 [==============================] - 10s 183us/sample - loss: 0.8078 - accuracy: 0.7134 - val_loss: 0.6000 - val_accuracy: 0.7834\n",
      "Epoch 6/10\n",
      "55000/55000 [==============================] - 11s 192us/sample - loss: 0.7685 - accuracy: 0.7282 - val_loss: 0.5707 - val_accuracy: 0.7922\n",
      "Epoch 7/10\n",
      "55000/55000 [==============================] - 11s 193us/sample - loss: 0.7362 - accuracy: 0.7377 - val_loss: 0.5453 - val_accuracy: 0.7998\n",
      "Epoch 8/10\n",
      "55000/55000 [==============================] - 11s 193us/sample - loss: 0.7073 - accuracy: 0.7474 - val_loss: 0.5227 - val_accuracy: 0.8114\n",
      "Epoch 9/10\n",
      "55000/55000 [==============================] - 11s 193us/sample - loss: 0.6868 - accuracy: 0.7570 - val_loss: 0.5136 - val_accuracy: 0.8102\n",
      "Epoch 10/10\n",
      "55000/55000 [==============================] - 11s 192us/sample - loss: 0.6637 - accuracy: 0.7653 - val_loss: 0.4958 - val_accuracy: 0.8222\n"
     ]
    },
    {
     "data": {
      "image/png": "[encoded data removed]",
      "text/plain": [
       "<Figure size 576x360 with 1 Axes>"
      ]
     },
     "metadata": {
      "needs_background": "light"
     },
     "output_type": "display_data"
    }
   ],
   "source": [
    "model = keras.models.Sequential()\n",
    "model.add(keras.layers.Flatten(input_shape=[28, 28]))\n",
    "for _ in range(20):\n",
    "    model.add(keras.layers.Dense(100, activation=\"relu\"))\n",
    "    model.add(keras.layers.BatchNormalization())\n",
    "model.add(keras.layers.Dense(10, activation=\"softmax\"))\n",
    "model.compile(loss=\"sparse_categorical_crossentropy\", optimizer=keras.optimizers.SGD(1e-3),\n",
    "              metrics=[\"accuracy\"])\n",
    "history = model.fit(X_train_scaled, y_train, epochs=10,\n",
    "                    validation_data=(X_valid_scaled, y_valid))\n",
    "plot_learning_curves(history)"
   ]
  },
  {
   "cell_type": "code",
   "execution_count": 179,
   "metadata": {},
   "outputs": [
    {
     "name": "stdout",
     "output_type": "stream",
     "text": [
      "Model: \"sequential_46\"\n",
      "_________________________________________________________________\n",
      "Layer (type)                 Output Shape              Param #   \n",
      "=================================================================\n",
      "flatten_10 (Flatten)         (None, 784)               0         \n",
      "_________________________________________________________________\n",
      "dense_174 (Dense)            (None, 100)               78500     \n",
      "_________________________________________________________________\n",
      "batch_normalization (BatchNo (None, 100)               400       \n",
      "_________________________________________________________________\n",
      "dense_175 (Dense)            (None, 100)               10100     \n",
      "_________________________________________________________________\n",
      "batch_normalization_1 (Batch (None, 100)               400       \n",
      "_________________________________________________________________\n",
      "dense_176 (Dense)            (None, 100)               10100     \n",
      "_________________________________________________________________\n",
      "batch_normalization_2 (Batch (None, 100)               400       \n",
      "_________________________________________________________________\n",
      "dense_177 (Dense)            (None, 100)               10100     \n",
      "_________________________________________________________________\n",
      "batch_normalization_3 (Batch (None, 100)               400       \n",
      "_________________________________________________________________\n",
      "dense_178 (Dense)            (None, 100)               10100     \n",
      "_________________________________________________________________\n",
      "batch_normalization_4 (Batch (None, 100)               400       \n",
      "_________________________________________________________________\n",
      "dense_179 (Dense)            (None, 100)               10100     \n",
      "_________________________________________________________________\n",
      "batch_normalization_5 (Batch (None, 100)               400       \n",
      "_________________________________________________________________\n",
      "dense_180 (Dense)            (None, 100)               10100     \n",
      "_________________________________________________________________\n",
      "batch_normalization_6 (Batch (None, 100)               400       \n",
      "_________________________________________________________________\n",
      "dense_181 (Dense)            (None, 100)               10100     \n",
      "_________________________________________________________________\n",
      "batch_normalization_7 (Batch (None, 100)               400       \n",
      "_________________________________________________________________\n",
      "dense_182 (Dense)            (None, 100)               10100     \n",
      "_________________________________________________________________\n",
      "batch_normalization_8 (Batch (None, 100)               400       \n",
      "_________________________________________________________________\n",
      "dense_183 (Dense)            (None, 100)               10100     \n",
      "_________________________________________________________________\n",
      "batch_normalization_9 (Batch (None, 100)               400       \n",
      "_________________________________________________________________\n",
      "dense_184 (Dense)            (None, 100)               10100     \n",
      "_________________________________________________________________\n",
      "batch_normalization_10 (Batc (None, 100)               400       \n",
      "_________________________________________________________________\n",
      "dense_185 (Dense)            (None, 100)               10100     \n",
      "_________________________________________________________________\n",
      "batch_normalization_11 (Batc (None, 100)               400       \n",
      "_________________________________________________________________\n",
      "dense_186 (Dense)            (None, 100)               10100     \n",
      "_________________________________________________________________\n",
      "batch_normalization_12 (Batc (None, 100)               400       \n",
      "_________________________________________________________________\n",
      "dense_187 (Dense)            (None, 100)               10100     \n",
      "_________________________________________________________________\n",
      "batch_normalization_13 (Batc (None, 100)               400       \n",
      "_________________________________________________________________\n",
      "dense_188 (Dense)            (None, 100)               10100     \n",
      "_________________________________________________________________\n",
      "batch_normalization_14 (Batc (None, 100)               400       \n",
      "_________________________________________________________________\n",
      "dense_189 (Dense)            (None, 100)               10100     \n",
      "_________________________________________________________________\n",
      "batch_normalization_15 (Batc (None, 100)               400       \n",
      "_________________________________________________________________\n",
      "dense_190 (Dense)            (None, 100)               10100     \n",
      "_________________________________________________________________\n",
      "batch_normalization_16 (Batc (None, 100)               400       \n",
      "_________________________________________________________________\n",
      "dense_191 (Dense)            (None, 100)               10100     \n",
      "_________________________________________________________________\n",
      "batch_normalization_17 (Batc (None, 100)               400       \n",
      "_________________________________________________________________\n",
      "dense_192 (Dense)            (None, 100)               10100     \n",
      "_________________________________________________________________\n",
      "batch_normalization_18 (Batc (None, 100)               400       \n",
      "_________________________________________________________________\n",
      "dense_193 (Dense)            (None, 100)               10100     \n",
      "_________________________________________________________________\n",
      "batch_normalization_19 (Batc (None, 100)               400       \n",
      "_________________________________________________________________\n",
      "dense_194 (Dense)            (None, 10)                1010      \n",
      "=================================================================\n",
      "Total params: 279,410\n",
      "Trainable params: 275,410\n",
      "Non-trainable params: 4,000\n",
      "_________________________________________________________________\n"
     ]
    }
   ],
   "source": [
    "model.summary()"
   ]
  },
  {
   "cell_type": "markdown",
   "metadata": {},
   "source": [
    "### 8.3)\n",
    "Try moving the BN layers before the hidden layers' activation functions. Does this affect the model's performance?"
   ]
  },
  {
   "cell_type": "code",
   "execution_count": 180,
   "metadata": {},
   "outputs": [
    {
     "name": "stdout",
     "output_type": "stream",
     "text": [
      "Train on 55000 samples, validate on 5000 samples\n",
      "Epoch 1/10\n",
      "55000/55000 [==============================] - 14s 259us/sample - loss: 1.9844 - accuracy: 0.3062 - val_loss: 1.2572 - val_accuracy: 0.5876\n",
      "Epoch 2/10\n",
      "55000/55000 [==============================] - 11s 193us/sample - loss: 1.1700 - accuracy: 0.6105 - val_loss: 0.7946 - val_accuracy: 0.7264\n",
      "Epoch 3/10\n",
      "55000/55000 [==============================] - 11s 193us/sample - loss: 0.9478 - accuracy: 0.6802 - val_loss: 0.6849 - val_accuracy: 0.7614\n",
      "Epoch 4/10\n",
      "55000/55000 [==============================] - 11s 197us/sample - loss: 0.8552 - accuracy: 0.7084 - val_loss: 0.6376 - val_accuracy: 0.7766\n",
      "Epoch 5/10\n",
      "55000/55000 [==============================] - 11s 195us/sample - loss: 0.7986 - accuracy: 0.7268 - val_loss: 0.5947 - val_accuracy: 0.7898\n",
      "Epoch 6/10\n",
      "55000/55000 [==============================] - 11s 196us/sample - loss: 0.7497 - accuracy: 0.7415 - val_loss: 0.5630 - val_accuracy: 0.8016\n",
      "Epoch 7/10\n",
      "55000/55000 [==============================] - 11s 195us/sample - loss: 0.7184 - accuracy: 0.7533 - val_loss: 0.5401 - val_accuracy: 0.8084\n",
      "Epoch 8/10\n",
      "55000/55000 [==============================] - 11s 196us/sample - loss: 0.6878 - accuracy: 0.7660 - val_loss: 0.5245 - val_accuracy: 0.8122\n",
      "Epoch 9/10\n",
      "55000/55000 [==============================] - 11s 201us/sample - loss: 0.6624 - accuracy: 0.7722 - val_loss: 0.5043 - val_accuracy: 0.8210\n",
      "Epoch 10/10\n",
      "55000/55000 [==============================] - 11s 206us/sample - loss: 0.6400 - accuracy: 0.7805 - val_loss: 0.4857 - val_accuracy: 0.8236\n"
     ]
    },
    {
     "data": {
      "image/png": "[encoded data removed]",
      "text/plain": [
       "<Figure size 576x360 with 1 Axes>"
      ]
     },
     "metadata": {
      "needs_background": "light"
     },
     "output_type": "display_data"
    }
   ],
   "source": [
    "model = keras.models.Sequential()\n",
    "model.add(keras.layers.Flatten(input_shape=[28, 28]))\n",
    "for _ in range(20):\n",
    "    model.add(keras.layers.Dense(100))\n",
    "    model.add(keras.layers.BatchNormalization())\n",
    "    model.add(keras.layers.Activation(\"relu\"))\n",
    "model.add(keras.layers.Dense(10, activation=\"softmax\"))\n",
    "model.compile(loss=\"sparse_categorical_crossentropy\", optimizer=keras.optimizers.SGD(1e-3),\n",
    "              metrics=[\"accuracy\"])\n",
    "history = model.fit(X_train_scaled, y_train, epochs=10,\n",
    "                    validation_data=(X_valid_scaled, y_valid))\n",
    "plot_learning_curves(history)"
   ]
  },
  {
   "cell_type": "markdown",
   "metadata": {},
   "source": [
    "### 8.4)\n",
    "Remove all the BN layers, and just use the SELU activation function instead (always use SELU with LeCun Normal weight initialization). Notice that you get better performance than with BN but training is much faster. Isn't it marvelous? :-)"
   ]
  },
  {
   "cell_type": "code",
   "execution_count": 181,
   "metadata": {},
   "outputs": [
    {
     "name": "stdout",
     "output_type": "stream",
     "text": [
      "Train on 55000 samples, validate on 5000 samples\n",
      "Epoch 1/10\n",
      "55000/55000 [==============================] - 8s 139us/sample - loss: 0.6612 - accuracy: 0.7679 - val_loss: 0.4876 - val_accuracy: 0.8294\n",
      "Epoch 2/10\n",
      "55000/55000 [==============================] - 7s 128us/sample - loss: 0.4510 - accuracy: 0.8377 - val_loss: 0.4405 - val_accuracy: 0.8426\n",
      "Epoch 3/10\n",
      "55000/55000 [==============================] - 7s 128us/sample - loss: 0.3993 - accuracy: 0.8564 - val_loss: 0.3992 - val_accuracy: 0.8572\n",
      "Epoch 4/10\n",
      "55000/55000 [==============================] - 7s 128us/sample - loss: 0.3689 - accuracy: 0.8658 - val_loss: 0.3896 - val_accuracy: 0.8612\n",
      "Epoch 5/10\n",
      "55000/55000 [==============================] - 7s 128us/sample - loss: 0.3456 - accuracy: 0.8748 - val_loss: 0.3794 - val_accuracy: 0.8660\n",
      "Epoch 6/10\n",
      "55000/55000 [==============================] - 7s 128us/sample - loss: 0.3289 - accuracy: 0.8803 - val_loss: 0.3767 - val_accuracy: 0.8678\n",
      "Epoch 7/10\n",
      "55000/55000 [==============================] - 7s 128us/sample - loss: 0.3141 - accuracy: 0.8860 - val_loss: 0.3616 - val_accuracy: 0.8762\n",
      "Epoch 8/10\n",
      "55000/55000 [==============================] - 7s 128us/sample - loss: 0.3016 - accuracy: 0.8898 - val_loss: 0.3607 - val_accuracy: 0.8732\n",
      "Epoch 9/10\n",
      "55000/55000 [==============================] - 7s 131us/sample - loss: 0.2900 - accuracy: 0.8943 - val_loss: 0.3547 - val_accuracy: 0.8760\n",
      "Epoch 10/10\n",
      "55000/55000 [==============================] - 7s 129us/sample - loss: 0.2790 - accuracy: 0.8974 - val_loss: 0.3570 - val_accuracy: 0.8776\n"
     ]
    },
    {
     "data": {
      "image/png": "[encoded data removed]",
      "text/plain": [
       "<Figure size 576x360 with 1 Axes>"
      ]
     },
     "metadata": {
      "needs_background": "light"
     },
     "output_type": "display_data"
    }
   ],
   "source": [
    "model = keras.models.Sequential()\n",
    "model.add(keras.layers.Flatten(input_shape=[28, 28]))\n",
    "for _ in range(20):\n",
    "    model.add(keras.layers.Dense(100, activation=\"selu\",\n",
    "                                 kernel_initializer=\"lecun_normal\"))\n",
    "model.add(keras.layers.Dense(10, activation=\"softmax\"))\n",
    "model.compile(loss=\"sparse_categorical_crossentropy\", optimizer=keras.optimizers.SGD(1e-3),\n",
    "              metrics=[\"accuracy\"])\n",
    "history = model.fit(X_train_scaled, y_train, epochs=10,\n",
    "                    validation_data=(X_valid_scaled, y_valid))\n",
    "plot_learning_curves(history)"
   ]
  },
  {
   "cell_type": "markdown",
   "metadata": {},
   "source": [
    "### 8.5)\n",
    "Try training for 10 additional epochs, and notice that the model starts overfitting. Try adding a Dropout layer (with a 50% dropout rate) just before the output layer. Does it reduce overfitting? What about the final validation accuracy?"
   ]
  },
  {
   "cell_type": "code",
   "execution_count": 182,
   "metadata": {},
   "outputs": [
    {
     "name": "stdout",
     "output_type": "stream",
     "text": [
      "Train on 55000 samples, validate on 5000 samples\n",
      "Epoch 1/10\n",
      "55000/55000 [==============================] - 7s 129us/sample - loss: 0.2697 - accuracy: 0.9009 - val_loss: 0.3601 - val_accuracy: 0.8742\n",
      "Epoch 2/10\n",
      "55000/55000 [==============================] - 7s 129us/sample - loss: 0.2602 - accuracy: 0.9048 - val_loss: 0.3526 - val_accuracy: 0.8782\n",
      "Epoch 3/10\n",
      "55000/55000 [==============================] - 7s 130us/sample - loss: 0.2526 - accuracy: 0.9074 - val_loss: 0.3537 - val_accuracy: 0.8776\n",
      "Epoch 4/10\n",
      "55000/55000 [==============================] - 7s 130us/sample - loss: 0.2447 - accuracy: 0.9098 - val_loss: 0.3509 - val_accuracy: 0.8810\n",
      "Epoch 5/10\n",
      "55000/55000 [==============================] - 7s 130us/sample - loss: 0.2373 - accuracy: 0.9136 - val_loss: 0.3511 - val_accuracy: 0.8792\n",
      "Epoch 6/10\n",
      "55000/55000 [==============================] - 7s 128us/sample - loss: 0.2298 - accuracy: 0.9163 - val_loss: 0.3586 - val_accuracy: 0.8756\n",
      "Epoch 7/10\n",
      "55000/55000 [==============================] - 7s 131us/sample - loss: 0.2230 - accuracy: 0.9190 - val_loss: 0.3474 - val_accuracy: 0.8858\n",
      "Epoch 8/10\n",
      "55000/55000 [==============================] - 7s 132us/sample - loss: 0.2167 - accuracy: 0.9208 - val_loss: 0.3553 - val_accuracy: 0.8806\n",
      "Epoch 9/10\n",
      "55000/55000 [==============================] - 7s 128us/sample - loss: 0.2104 - accuracy: 0.9233 - val_loss: 0.3494 - val_accuracy: 0.8826\n",
      "Epoch 10/10\n",
      "55000/55000 [==============================] - 7s 128us/sample - loss: 0.2047 - accuracy: 0.9250 - val_loss: 0.3672 - val_accuracy: 0.8736\n"
     ]
    },
    {
     "data": {
      "image/png": "[encoded data removed]",
      "text/plain": [
       "<Figure size 576x360 with 1 Axes>"
      ]
     },
     "metadata": {
      "needs_background": "light"
     },
     "output_type": "display_data"
    }
   ],
   "source": [
    "history = model.fit(X_train_scaled, y_train, epochs=10,\n",
    "                    validation_data=(X_valid_scaled, y_valid))\n",
    "plot_learning_curves(history)"
   ]
  },
  {
   "cell_type": "code",
   "execution_count": 183,
   "metadata": {},
   "outputs": [
    {
     "name": "stdout",
     "output_type": "stream",
     "text": [
      "Train on 55000 samples, validate on 5000 samples\n",
      "Epoch 1/20\n",
      "55000/55000 [==============================] - 9s 159us/sample - loss: 1.1577 - accuracy: 0.6067 - val_loss: 0.7085 - val_accuracy: 0.8134\n",
      "Epoch 2/20\n",
      "55000/55000 [==============================] - 8s 138us/sample - loss: 0.6555 - accuracy: 0.7847 - val_loss: 0.6467 - val_accuracy: 0.8386\n",
      "Epoch 3/20\n",
      "55000/55000 [==============================] - 7s 134us/sample - loss: 0.5434 - accuracy: 0.8221 - val_loss: 0.6350 - val_accuracy: 0.8482\n",
      "Epoch 4/20\n",
      "55000/55000 [==============================] - 7s 134us/sample - loss: 0.4936 - accuracy: 0.8391 - val_loss: 0.6058 - val_accuracy: 0.8638\n",
      "Epoch 5/20\n",
      "55000/55000 [==============================] - 7s 131us/sample - loss: 0.4517 - accuracy: 0.8512 - val_loss: 0.5928 - val_accuracy: 0.8664\n",
      "Epoch 6/20\n",
      "55000/55000 [==============================] - 7s 121us/sample - loss: 0.4277 - accuracy: 0.8597 - val_loss: 0.5626 - val_accuracy: 0.8720\n",
      "Epoch 7/20\n",
      "55000/55000 [==============================] - 7s 130us/sample - loss: 0.4042 - accuracy: 0.8665 - val_loss: 0.5649 - val_accuracy: 0.8742\n",
      "Epoch 8/20\n",
      "55000/55000 [==============================] - 8s 139us/sample - loss: 0.3864 - accuracy: 0.8717 - val_loss: 0.5922 - val_accuracy: 0.8710\n",
      "Epoch 9/20\n",
      "55000/55000 [==============================] - 8s 138us/sample - loss: 0.3709 - accuracy: 0.8757 - val_loss: 0.5749 - val_accuracy: 0.8742\n",
      "Epoch 10/20\n",
      "55000/55000 [==============================] - 7s 135us/sample - loss: 0.3551 - accuracy: 0.8813 - val_loss: 0.5840 - val_accuracy: 0.8738\n",
      "Epoch 11/20\n",
      "55000/55000 [==============================] - 7s 136us/sample - loss: 0.3479 - accuracy: 0.8837 - val_loss: 0.5873 - val_accuracy: 0.8742\n",
      "Epoch 12/20\n",
      "55000/55000 [==============================] - 7s 134us/sample - loss: 0.3348 - accuracy: 0.8869 - val_loss: 0.5496 - val_accuracy: 0.8778\n",
      "Epoch 13/20\n",
      "55000/55000 [==============================] - 7s 136us/sample - loss: 0.3225 - accuracy: 0.8897 - val_loss: 0.5626 - val_accuracy: 0.8786\n",
      "Epoch 14/20\n",
      "55000/55000 [==============================] - 7s 135us/sample - loss: 0.3149 - accuracy: 0.8932 - val_loss: 0.5671 - val_accuracy: 0.8748\n",
      "Epoch 15/20\n",
      "55000/55000 [==============================] - 7s 134us/sample - loss: 0.3077 - accuracy: 0.8962 - val_loss: 0.5607 - val_accuracy: 0.8782\n",
      "Epoch 16/20\n",
      "55000/55000 [==============================] - 7s 136us/sample - loss: 0.2991 - accuracy: 0.8989 - val_loss: 0.5679 - val_accuracy: 0.8804\n",
      "Epoch 17/20\n",
      "55000/55000 [==============================] - 7s 134us/sample - loss: 0.2899 - accuracy: 0.9010 - val_loss: 0.6034 - val_accuracy: 0.8756\n",
      "Epoch 18/20\n",
      "55000/55000 [==============================] - 8s 137us/sample - loss: 0.2836 - accuracy: 0.9041 - val_loss: 0.5946 - val_accuracy: 0.8798\n",
      "Epoch 19/20\n",
      "55000/55000 [==============================] - 8s 137us/sample - loss: 0.2756 - accuracy: 0.9052 - val_loss: 0.6112 - val_accuracy: 0.8798\n",
      "Epoch 20/20\n",
      "55000/55000 [==============================] - 8s 138us/sample - loss: 0.2722 - accuracy: 0.9077 - val_loss: 0.6716 - val_accuracy: 0.8722\n"
     ]
    },
    {
     "data": {
      "image/png": "[encoded data removed]",
      "text/plain": [
       "<Figure size 576x360 with 1 Axes>"
      ]
     },
     "metadata": {
      "needs_background": "light"
     },
     "output_type": "display_data"
    }
   ],
   "source": [
    "model = keras.models.Sequential()\n",
    "model.add(keras.layers.Flatten(input_shape=[28, 28]))\n",
    "for _ in range(20):\n",
    "    model.add(keras.layers.Dense(100, activation=\"selu\",\n",
    "                                 kernel_initializer=\"lecun_normal\"))\n",
    "model.add(keras.layers.AlphaDropout(rate=0.5))\n",
    "model.add(keras.layers.Dense(10, activation=\"softmax\"))\n",
    "model.compile(loss=\"sparse_categorical_crossentropy\", optimizer=keras.optimizers.SGD(1e-3),\n",
    "              metrics=[\"accuracy\"])\n",
    "history = model.fit(X_train_scaled, y_train, epochs=20,\n",
    "                    validation_data=(X_valid_scaled, y_valid))\n",
    "plot_learning_curves(history)"
   ]
  },
  {
   "cell_type": "code",
   "execution_count": null,
   "metadata": {},
   "outputs": [],
   "source": []
  }
 ],
 "metadata": {
  "kernelspec": {
   "display_name": "Python 3",
   "language": "python",
   "name": "python3"
  },
  "language_info": {
   "codemirror_mode": {
    "name": "ipython",
    "version": 3
   },
   "file_extension": ".py",
   "mimetype": "text/x-python",
   "name": "python",
   "nbconvert_exporter": "python",
   "pygments_lexer": "ipython3",
   "version": "3.6.8"
  }
 },
 "nbformat": 4,
 "nbformat_minor": 2
}
